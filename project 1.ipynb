{
 "cells": [
  {
   "cell_type": "markdown",
   "id": "9f9e01e5",
   "metadata": {},
   "source": [
    "# Airbnb Seattle Project\n",
    "\n",
    "Airbnb is a popular online platform that enables homeowners and apartment owners to offer their properties for short-term stays to travelers. Its user-friendly interface and flexible options have made it a preferred choice among tourists.\n",
    "\n",
    "<b>My goal in this project is to analyze the Airbnb Seattle dataset and address three key business questions:</b>\n",
    "\n",
    ">- What are the review score ratings based on property type  ? \n",
    ">- Which neighbourhoods have the highest average listings prices per night?\n",
    ">- Who are the top hosts in terms of total listings count ? What types of listings they own?\n",
    "\n",
    "<b>Features needed to answer the 3 stated questions:</b>\n",
    ">- id\n",
    ">- name\n",
    ">- host_id \n",
    ">- calculated_host_listings_count  \n",
    ">- neighbourhood_group_cleansed\n",
    ">- neighbourhood_cleansed\n",
    ">- property_type \n",
    ">- price: daily price in local currency\n",
    ">- review_scores_rating: rating of the Overall experience.\n",
    "\n",
    "<b>A detailed description of the features is provided <a href=\"https://docs.google.com/spreadsheets/d/1iWCNJcSutYqpULSQHlNyGInUvHg2BoUGoNRIGa6Szc4/edit#gid=1322284596\"> HERE </a></b>\n",
    "\n",
    "<b>Types of star ratings in Airbnb: </b>\n",
    "> Reference https://www.airbnb.com/help/article/1257\n",
    ">- Overall experience. How was it?\n",
    ">- Cleanliness. Did the place meet our standards?\n",
    ">- Accuracy. Was it accurately represented with up-to-date photos and info?\n",
    ">- Check-in. Should be easy.\n",
    ">- Communication. Did the Host respond to messages promptly?\n",
    ">- Location. Was the guest made aware of safety, transportation, points of interest and special considerations like noise or other situations that might affect their stay?\n",
    ">- Value. Was it worth the price?\n",
    ">- Amenities. Was everything promised in the listing available and in good, working condition?"
   ]
  },
  {
   "cell_type": "code",
   "execution_count": 1,
   "id": "23a09546",
   "metadata": {},
   "outputs": [
    {
     "data": {
      "text/html": [
       "        <script type=\"text/javascript\">\n",
       "        window.PlotlyConfig = {MathJaxConfig: 'local'};\n",
       "        if (window.MathJax && window.MathJax.Hub && window.MathJax.Hub.Config) {window.MathJax.Hub.Config({SVG: {font: \"STIX-Web\"}});}\n",
       "        if (typeof require !== 'undefined') {\n",
       "        require.undef(\"plotly\");\n",
       "        requirejs.config({\n",
       "            paths: {\n",
       "                'plotly': ['https://cdn.plot.ly/plotly-2.12.1.min']\n",
       "            }\n",
       "        });\n",
       "        require(['plotly'], function(Plotly) {\n",
       "            window._Plotly = Plotly;\n",
       "        });\n",
       "        }\n",
       "        </script>\n",
       "        "
      ]
     },
     "metadata": {},
     "output_type": "display_data"
    }
   ],
   "source": [
    "import pandas as pd\n",
    "import numpy as np\n",
    "import plotly.express as px\n",
    "import plotly.offline as py\n",
    "py.init_notebook_mode(connected=True)"
   ]
  },
  {
   "cell_type": "code",
   "execution_count": 2,
   "id": "f8fed83a",
   "metadata": {},
   "outputs": [
    {
     "data": {
      "text/html": [
       "<div>\n",
       "<style scoped>\n",
       "    .dataframe tbody tr th:only-of-type {\n",
       "        vertical-align: middle;\n",
       "    }\n",
       "\n",
       "    .dataframe tbody tr th {\n",
       "        vertical-align: top;\n",
       "    }\n",
       "\n",
       "    .dataframe thead th {\n",
       "        text-align: right;\n",
       "    }\n",
       "</style>\n",
       "<table border=\"1\" class=\"dataframe\">\n",
       "  <thead>\n",
       "    <tr style=\"text-align: right;\">\n",
       "      <th></th>\n",
       "      <th>id</th>\n",
       "      <th>listing_url</th>\n",
       "      <th>scrape_id</th>\n",
       "      <th>last_scraped</th>\n",
       "      <th>name</th>\n",
       "      <th>summary</th>\n",
       "      <th>space</th>\n",
       "      <th>description</th>\n",
       "      <th>experiences_offered</th>\n",
       "      <th>neighborhood_overview</th>\n",
       "      <th>...</th>\n",
       "      <th>review_scores_value</th>\n",
       "      <th>requires_license</th>\n",
       "      <th>license</th>\n",
       "      <th>jurisdiction_names</th>\n",
       "      <th>instant_bookable</th>\n",
       "      <th>cancellation_policy</th>\n",
       "      <th>require_guest_profile_picture</th>\n",
       "      <th>require_guest_phone_verification</th>\n",
       "      <th>calculated_host_listings_count</th>\n",
       "      <th>reviews_per_month</th>\n",
       "    </tr>\n",
       "  </thead>\n",
       "  <tbody>\n",
       "    <tr>\n",
       "      <th>0</th>\n",
       "      <td>241032</td>\n",
       "      <td>https://www.airbnb.com/rooms/241032</td>\n",
       "      <td>20160104002432</td>\n",
       "      <td>2016-01-04</td>\n",
       "      <td>Stylish Queen Anne Apartment</td>\n",
       "      <td>NaN</td>\n",
       "      <td>Make your self at home in this charming one-be...</td>\n",
       "      <td>Make your self at home in this charming one-be...</td>\n",
       "      <td>none</td>\n",
       "      <td>NaN</td>\n",
       "      <td>...</td>\n",
       "      <td>10.0</td>\n",
       "      <td>f</td>\n",
       "      <td>NaN</td>\n",
       "      <td>WASHINGTON</td>\n",
       "      <td>f</td>\n",
       "      <td>moderate</td>\n",
       "      <td>f</td>\n",
       "      <td>f</td>\n",
       "      <td>2</td>\n",
       "      <td>4.07</td>\n",
       "    </tr>\n",
       "    <tr>\n",
       "      <th>1</th>\n",
       "      <td>953595</td>\n",
       "      <td>https://www.airbnb.com/rooms/953595</td>\n",
       "      <td>20160104002432</td>\n",
       "      <td>2016-01-04</td>\n",
       "      <td>Bright &amp; Airy Queen Anne Apartment</td>\n",
       "      <td>Chemically sensitive? We've removed the irrita...</td>\n",
       "      <td>Beautiful, hypoallergenic apartment in an extr...</td>\n",
       "      <td>Chemically sensitive? We've removed the irrita...</td>\n",
       "      <td>none</td>\n",
       "      <td>Queen Anne is a wonderful, truly functional vi...</td>\n",
       "      <td>...</td>\n",
       "      <td>10.0</td>\n",
       "      <td>f</td>\n",
       "      <td>NaN</td>\n",
       "      <td>WASHINGTON</td>\n",
       "      <td>f</td>\n",
       "      <td>strict</td>\n",
       "      <td>t</td>\n",
       "      <td>t</td>\n",
       "      <td>6</td>\n",
       "      <td>1.48</td>\n",
       "    </tr>\n",
       "    <tr>\n",
       "      <th>2</th>\n",
       "      <td>3308979</td>\n",
       "      <td>https://www.airbnb.com/rooms/3308979</td>\n",
       "      <td>20160104002432</td>\n",
       "      <td>2016-01-04</td>\n",
       "      <td>New Modern House-Amazing water view</td>\n",
       "      <td>New modern house built in 2013.  Spectacular s...</td>\n",
       "      <td>Our house is modern, light and fresh with a wa...</td>\n",
       "      <td>New modern house built in 2013.  Spectacular s...</td>\n",
       "      <td>none</td>\n",
       "      <td>Upper Queen Anne is a charming neighborhood fu...</td>\n",
       "      <td>...</td>\n",
       "      <td>10.0</td>\n",
       "      <td>f</td>\n",
       "      <td>NaN</td>\n",
       "      <td>WASHINGTON</td>\n",
       "      <td>f</td>\n",
       "      <td>strict</td>\n",
       "      <td>f</td>\n",
       "      <td>f</td>\n",
       "      <td>2</td>\n",
       "      <td>1.15</td>\n",
       "    </tr>\n",
       "    <tr>\n",
       "      <th>3</th>\n",
       "      <td>7421966</td>\n",
       "      <td>https://www.airbnb.com/rooms/7421966</td>\n",
       "      <td>20160104002432</td>\n",
       "      <td>2016-01-04</td>\n",
       "      <td>Queen Anne Chateau</td>\n",
       "      <td>A charming apartment that sits atop Queen Anne...</td>\n",
       "      <td>NaN</td>\n",
       "      <td>A charming apartment that sits atop Queen Anne...</td>\n",
       "      <td>none</td>\n",
       "      <td>NaN</td>\n",
       "      <td>...</td>\n",
       "      <td>NaN</td>\n",
       "      <td>f</td>\n",
       "      <td>NaN</td>\n",
       "      <td>WASHINGTON</td>\n",
       "      <td>f</td>\n",
       "      <td>flexible</td>\n",
       "      <td>f</td>\n",
       "      <td>f</td>\n",
       "      <td>1</td>\n",
       "      <td>NaN</td>\n",
       "    </tr>\n",
       "    <tr>\n",
       "      <th>4</th>\n",
       "      <td>278830</td>\n",
       "      <td>https://www.airbnb.com/rooms/278830</td>\n",
       "      <td>20160104002432</td>\n",
       "      <td>2016-01-04</td>\n",
       "      <td>Charming craftsman 3 bdm house</td>\n",
       "      <td>Cozy family craftman house in beautiful neighb...</td>\n",
       "      <td>Cozy family craftman house in beautiful neighb...</td>\n",
       "      <td>Cozy family craftman house in beautiful neighb...</td>\n",
       "      <td>none</td>\n",
       "      <td>We are in the beautiful neighborhood of Queen ...</td>\n",
       "      <td>...</td>\n",
       "      <td>9.0</td>\n",
       "      <td>f</td>\n",
       "      <td>NaN</td>\n",
       "      <td>WASHINGTON</td>\n",
       "      <td>f</td>\n",
       "      <td>strict</td>\n",
       "      <td>f</td>\n",
       "      <td>f</td>\n",
       "      <td>1</td>\n",
       "      <td>0.89</td>\n",
       "    </tr>\n",
       "  </tbody>\n",
       "</table>\n",
       "<p>5 rows × 92 columns</p>\n",
       "</div>"
      ],
      "text/plain": [
       "        id                           listing_url       scrape_id last_scraped  \\\n",
       "0   241032   https://www.airbnb.com/rooms/241032  20160104002432   2016-01-04   \n",
       "1   953595   https://www.airbnb.com/rooms/953595  20160104002432   2016-01-04   \n",
       "2  3308979  https://www.airbnb.com/rooms/3308979  20160104002432   2016-01-04   \n",
       "3  7421966  https://www.airbnb.com/rooms/7421966  20160104002432   2016-01-04   \n",
       "4   278830   https://www.airbnb.com/rooms/278830  20160104002432   2016-01-04   \n",
       "\n",
       "                                  name  \\\n",
       "0         Stylish Queen Anne Apartment   \n",
       "1   Bright & Airy Queen Anne Apartment   \n",
       "2  New Modern House-Amazing water view   \n",
       "3                   Queen Anne Chateau   \n",
       "4       Charming craftsman 3 bdm house   \n",
       "\n",
       "                                             summary  \\\n",
       "0                                                NaN   \n",
       "1  Chemically sensitive? We've removed the irrita...   \n",
       "2  New modern house built in 2013.  Spectacular s...   \n",
       "3  A charming apartment that sits atop Queen Anne...   \n",
       "4  Cozy family craftman house in beautiful neighb...   \n",
       "\n",
       "                                               space  \\\n",
       "0  Make your self at home in this charming one-be...   \n",
       "1  Beautiful, hypoallergenic apartment in an extr...   \n",
       "2  Our house is modern, light and fresh with a wa...   \n",
       "3                                                NaN   \n",
       "4  Cozy family craftman house in beautiful neighb...   \n",
       "\n",
       "                                         description experiences_offered  \\\n",
       "0  Make your self at home in this charming one-be...                none   \n",
       "1  Chemically sensitive? We've removed the irrita...                none   \n",
       "2  New modern house built in 2013.  Spectacular s...                none   \n",
       "3  A charming apartment that sits atop Queen Anne...                none   \n",
       "4  Cozy family craftman house in beautiful neighb...                none   \n",
       "\n",
       "                               neighborhood_overview  ... review_scores_value  \\\n",
       "0                                                NaN  ...                10.0   \n",
       "1  Queen Anne is a wonderful, truly functional vi...  ...                10.0   \n",
       "2  Upper Queen Anne is a charming neighborhood fu...  ...                10.0   \n",
       "3                                                NaN  ...                 NaN   \n",
       "4  We are in the beautiful neighborhood of Queen ...  ...                 9.0   \n",
       "\n",
       "  requires_license license jurisdiction_names instant_bookable  \\\n",
       "0                f     NaN         WASHINGTON                f   \n",
       "1                f     NaN         WASHINGTON                f   \n",
       "2                f     NaN         WASHINGTON                f   \n",
       "3                f     NaN         WASHINGTON                f   \n",
       "4                f     NaN         WASHINGTON                f   \n",
       "\n",
       "  cancellation_policy  require_guest_profile_picture  \\\n",
       "0            moderate                              f   \n",
       "1              strict                              t   \n",
       "2              strict                              f   \n",
       "3            flexible                              f   \n",
       "4              strict                              f   \n",
       "\n",
       "  require_guest_phone_verification calculated_host_listings_count  \\\n",
       "0                                f                              2   \n",
       "1                                t                              6   \n",
       "2                                f                              2   \n",
       "3                                f                              1   \n",
       "4                                f                              1   \n",
       "\n",
       "  reviews_per_month  \n",
       "0              4.07  \n",
       "1              1.48  \n",
       "2              1.15  \n",
       "3               NaN  \n",
       "4              0.89  \n",
       "\n",
       "[5 rows x 92 columns]"
      ]
     },
     "execution_count": 2,
     "metadata": {},
     "output_type": "execute_result"
    }
   ],
   "source": [
    "df = pd.read_csv(\"listings.csv\")\n",
    "df.head()"
   ]
  },
  {
   "cell_type": "markdown",
   "id": "0a73ec12",
   "metadata": {},
   "source": [
    "## EDA"
   ]
  },
  {
   "cell_type": "code",
   "execution_count": 3,
   "id": "b9eca3ef",
   "metadata": {},
   "outputs": [
    {
     "name": "stdout",
     "output_type": "stream",
     "text": [
      "<class 'pandas.core.frame.DataFrame'>\n",
      "RangeIndex: 3818 entries, 0 to 3817\n",
      "Data columns (total 92 columns):\n",
      " #   Column                            Non-Null Count  Dtype  \n",
      "---  ------                            --------------  -----  \n",
      " 0   id                                3818 non-null   int64  \n",
      " 1   listing_url                       3818 non-null   object \n",
      " 2   scrape_id                         3818 non-null   int64  \n",
      " 3   last_scraped                      3818 non-null   object \n",
      " 4   name                              3818 non-null   object \n",
      " 5   summary                           3641 non-null   object \n",
      " 6   space                             3249 non-null   object \n",
      " 7   description                       3818 non-null   object \n",
      " 8   experiences_offered               3818 non-null   object \n",
      " 9   neighborhood_overview             2786 non-null   object \n",
      " 10  notes                             2212 non-null   object \n",
      " 11  transit                           2884 non-null   object \n",
      " 12  thumbnail_url                     3498 non-null   object \n",
      " 13  medium_url                        3498 non-null   object \n",
      " 14  picture_url                       3818 non-null   object \n",
      " 15  xl_picture_url                    3498 non-null   object \n",
      " 16  host_id                           3818 non-null   int64  \n",
      " 17  host_url                          3818 non-null   object \n",
      " 18  host_name                         3816 non-null   object \n",
      " 19  host_since                        3816 non-null   object \n",
      " 20  host_location                     3810 non-null   object \n",
      " 21  host_about                        2959 non-null   object \n",
      " 22  host_response_time                3295 non-null   object \n",
      " 23  host_response_rate                3295 non-null   object \n",
      " 24  host_acceptance_rate              3045 non-null   object \n",
      " 25  host_is_superhost                 3816 non-null   object \n",
      " 26  host_thumbnail_url                3816 non-null   object \n",
      " 27  host_picture_url                  3816 non-null   object \n",
      " 28  host_neighbourhood                3518 non-null   object \n",
      " 29  host_listings_count               3816 non-null   float64\n",
      " 30  host_total_listings_count         3816 non-null   float64\n",
      " 31  host_verifications                3818 non-null   object \n",
      " 32  host_has_profile_pic              3816 non-null   object \n",
      " 33  host_identity_verified            3816 non-null   object \n",
      " 34  street                            3818 non-null   object \n",
      " 35  neighbourhood                     3402 non-null   object \n",
      " 36  neighbourhood_cleansed            3818 non-null   object \n",
      " 37  neighbourhood_group_cleansed      3818 non-null   object \n",
      " 38  city                              3818 non-null   object \n",
      " 39  state                             3818 non-null   object \n",
      " 40  zipcode                           3811 non-null   object \n",
      " 41  market                            3818 non-null   object \n",
      " 42  smart_location                    3818 non-null   object \n",
      " 43  country_code                      3818 non-null   object \n",
      " 44  country                           3818 non-null   object \n",
      " 45  latitude                          3818 non-null   float64\n",
      " 46  longitude                         3818 non-null   float64\n",
      " 47  is_location_exact                 3818 non-null   object \n",
      " 48  property_type                     3817 non-null   object \n",
      " 49  room_type                         3818 non-null   object \n",
      " 50  accommodates                      3818 non-null   int64  \n",
      " 51  bathrooms                         3802 non-null   float64\n",
      " 52  bedrooms                          3812 non-null   float64\n",
      " 53  beds                              3817 non-null   float64\n",
      " 54  bed_type                          3818 non-null   object \n",
      " 55  amenities                         3818 non-null   object \n",
      " 56  square_feet                       97 non-null     float64\n",
      " 57  price                             3818 non-null   object \n",
      " 58  weekly_price                      2009 non-null   object \n",
      " 59  monthly_price                     1517 non-null   object \n",
      " 60  security_deposit                  1866 non-null   object \n",
      " 61  cleaning_fee                      2788 non-null   object \n",
      " 62  guests_included                   3818 non-null   int64  \n",
      " 63  extra_people                      3818 non-null   object \n",
      " 64  minimum_nights                    3818 non-null   int64  \n",
      " 65  maximum_nights                    3818 non-null   int64  \n",
      " 66  calendar_updated                  3818 non-null   object \n",
      " 67  has_availability                  3818 non-null   object \n",
      " 68  availability_30                   3818 non-null   int64  \n",
      " 69  availability_60                   3818 non-null   int64  \n",
      " 70  availability_90                   3818 non-null   int64  \n",
      " 71  availability_365                  3818 non-null   int64  \n",
      " 72  calendar_last_scraped             3818 non-null   object \n",
      " 73  number_of_reviews                 3818 non-null   int64  \n",
      " 74  first_review                      3191 non-null   object \n",
      " 75  last_review                       3191 non-null   object \n",
      " 76  review_scores_rating              3171 non-null   float64\n",
      " 77  review_scores_accuracy            3160 non-null   float64\n",
      " 78  review_scores_cleanliness         3165 non-null   float64\n",
      " 79  review_scores_checkin             3160 non-null   float64\n",
      " 80  review_scores_communication       3167 non-null   float64\n",
      " 81  review_scores_location            3163 non-null   float64\n",
      " 82  review_scores_value               3162 non-null   float64\n",
      " 83  requires_license                  3818 non-null   object \n",
      " 84  license                           0 non-null      float64\n",
      " 85  jurisdiction_names                3818 non-null   object \n",
      " 86  instant_bookable                  3818 non-null   object \n",
      " 87  cancellation_policy               3818 non-null   object \n",
      " 88  require_guest_profile_picture     3818 non-null   object \n",
      " 89  require_guest_phone_verification  3818 non-null   object \n",
      " 90  calculated_host_listings_count    3818 non-null   int64  \n",
      " 91  reviews_per_month                 3191 non-null   float64\n",
      "dtypes: float64(17), int64(13), object(62)\n",
      "memory usage: 2.7+ MB\n"
     ]
    }
   ],
   "source": [
    "df.info()"
   ]
  },
  {
   "cell_type": "code",
   "execution_count": 4,
   "id": "2eafe45a",
   "metadata": {},
   "outputs": [
    {
     "name": "stdout",
     "output_type": "stream",
     "text": [
      "##### id :\n",
      "[  241032   953595  3308979 ... 10267360  9604740 10208623]\n",
      "3818\n",
      "##### listing_url :\n",
      "['https://www.airbnb.com/rooms/241032'\n",
      " 'https://www.airbnb.com/rooms/953595'\n",
      " 'https://www.airbnb.com/rooms/3308979' ...\n",
      " 'https://www.airbnb.com/rooms/10267360'\n",
      " 'https://www.airbnb.com/rooms/9604740'\n",
      " 'https://www.airbnb.com/rooms/10208623']\n",
      "3818\n",
      "##### scrape_id :\n",
      "[20160104002432]\n",
      "1\n",
      "##### last_scraped :\n",
      "['2016-01-04']\n",
      "1\n",
      "##### name :\n",
      "['Stylish Queen Anne Apartment' 'Bright & Airy Queen Anne Apartment'\n",
      " 'New Modern House-Amazing water view' ...\n",
      " 'Private apartment view of Lake WA' 'Amazing View with Modern Comfort!'\n",
      " 'Large Lakefront Apartment']\n",
      "3792\n",
      "##### summary :\n",
      "[nan\n",
      " \"Chemically sensitive? We've removed the irritants triggering allergy or asthma attacks, like carpeting, forced air & used pillows, all culprits that harbor fungus, mold & bacteria.  No smoking, no pets.  Designed for healthy living, so breathe easy.\"\n",
      " 'New modern house built in 2013.  Spectacular sunset/water views and light, rooftop deck and lounge area, hot tub, 5 bedrooms, gourmet kitchen.  Perfect for 2-3 families, walk to downtown.  Located in highly desirable Queen Anne neighborhood.'\n",
      " ...\n",
      " 'Very comfortable lower unit. Quiet, charming mid-century neighborhood with amazing views of Lake Washington. Easy access to Seatac airport, downtown or Bellevue.'\n",
      " 'Cozy studio condo in the heart on Madison Park on Lake WA! Just steps away from shopping, restaurants, and minutes away from downtown Seattle. Come relax on the balcony and enjoy the stunning views of Lake WA along with the convenience of tons of amenities just steps away!'\n",
      " 'All hardwood floors, fireplace, 65\" TV with Xbox One, elevator opens to the apartment (takes a key). A porch with a charcoal grill, king size bed, parking. 10 minutes walking from Fremont, 10 minutes walking from Queen Anne.']\n",
      "3479\n",
      "##### space :\n",
      "[\"Make your self at home in this charming one-bedroom apartment, centrally-located on the west side of Queen Anne hill.   This elegantly-decorated, completely private apartment (bottom unit of a duplex) has an open floor plan, bamboo floors, a fully equipped kitchen, a TV,  DVD player, basic cable, and a very cozy bedroom with a queen-size bed. The unit sleeps up to four (two in the bedroom and two on the very comfortable fold out couch, linens included) and includes free WiFi and laundry. The apartment opens onto a private deck, complete with it's own BBQ, overlooking a garden and a forest of black bamboo.    The Apartment is perfectly-located just one block from the bus lines where you can catch a bus and be downtown Seattle in fifteen minutes or historic Ballard in ten or a quick five-minute walk will bring you to Whole Foods and Peet's Coffee or take a fifteen minute walk to the top of Queen Anne Hill where you will find a variety of eclectic shops, bars, and restaurants. There is no\"\n",
      " \"Beautiful, hypoallergenic apartment in an extremely safe, quiet and pedestrian-friendly section of Queen Anne.  A leafy-green location that puts the best of Seattle at your doorstep. Free WiFi, free parking, ...even free pillows!  What's special about this place? Hypo-allergenic bedding, mattresses/covers and new pillows with each rental. (So feel free to take your new pillows with you!)  A beautiful restoration mixing period details & modern sensibilities: Hardwood floors throughout, white subway tile, low/no VOCs & non-toxic paints keep this home-away-from-home clean, smart and healthy. Radiant heat and oil radiators mean no blowing hot air or dust.  Great Amenities: Free WiFi & internet TV (LED flatscreen). Fully-equipped kitchen with stainless-steel appliances, sink & disposal. Large washer & dryer.  Iron/ironing board. Hairdryer. Plenty of storage. Convenient parking, both on- and off-street. The Best Location: Enjoy Seattle's celebrated Macrina bakery, neighborhood cafes, boutiqu\"\n",
      " 'Our house is modern, light and fresh with a warm simple palette accented with barnwood, steel and concrete.  Open living spaces for entertaining, gourmet kitchen, deck off the kitchen, reading nook, half bath and smaller tv room off kitchen.  Fireplace with sofa and sitting area. Basement room is great for kids...this room has patio access and a garage door that opens into the space with basketball hoop right outside.  A queen bedroom and full bath are in the basement with concrete heated floors.  A queen sleeper sofa is in the tv area in the basement.  This room has a door if privacy is needed.  Great for a second family with kids.  The 2nd floor has 4 bedrooms (one queen in master, one twin bedroom, another bedroom has twin bunk beds and the last bedroom has a queen bed. Their are 2 full baths, both with double sinks on this floor(one in the master).  The 3rd floor is a very large deck, hot tub, kitchen prep area with fridge, lounge space for movies and 3/4 bath (rain head shower).  '\n",
      " ...\n",
      " \"Our 3BR/2BA house bright, stylish, and wheelchair accessible. With breathtaking views of Salmon Bay and the Olympic Mountains beyond, it's the perfect perch for your Seattle visit. Great dining, shopping, and attractions are just steps away!  INSIDE THE HOUSE The main living and dining space, furnished in attractive Danish Modern style, enjoys a panoramic view of Salmon Bay and the Olympic Mountains. Relax over coffee in the living room, with a decorative original mid-century fireplace. Fantastic views continue into the dining room, which accommodates up to 8.  As for cooking, you'll find everything you need in the fully equipped kitchen, complete with stainless steel appliances, lots of counter space, and a kitchen bar that seats 2. Venture downstairs for the entertainment area, complete 50 inch flat screen Smart TV, DVD player, and cable, plus a cozy reading corner. Our house sleeps 6 guests between 3 sunlit bedrooms. You'll find queen-sized beds in the master and 3rd bedroom. The 2n\"\n",
      " \"This space has a great view of Portage Bay with all of its marine activity.  Located just 5 minutes from the University of Washington, and just 10 minutes to the Amazon campus and downtown Seattle.  The Burke Gillman trail is  very close, and it's a 20 minute walk to Husky Stadium.\"\n",
      " 'Fully furnished unit to accommodate most needs. We have made every effort to make sure your stay is comfortable as can be.  Absolutely no smoking and no pets.  Space Features: Complimentary wireless internet. Cable w/Xbox one blue ray player. Modern bathroom with spa like shower. Fully equipped kitchen w/toaster, microwave, stove oven, fridge, kurig coffee maker. Pots, pans, silverware, cups, glasses, dishes, prep tools, wine and can opener. Cleaning supplies, sponge.  Balcony with table and chairs overlooking Lake WA.  On main level of entrance . Eating bar space. Hotel like queen size bed with comfortable linens. Own parking space.  Tall dresser Closet']\n",
      "3120\n",
      "##### description :\n",
      "[\"Make your self at home in this charming one-bedroom apartment, centrally-located on the west side of Queen Anne hill.   This elegantly-decorated, completely private apartment (bottom unit of a duplex) has an open floor plan, bamboo floors, a fully equipped kitchen, a TV,  DVD player, basic cable, and a very cozy bedroom with a queen-size bed. The unit sleeps up to four (two in the bedroom and two on the very comfortable fold out couch, linens included) and includes free WiFi and laundry. The apartment opens onto a private deck, complete with it's own BBQ, overlooking a garden and a forest of black bamboo.    The Apartment is perfectly-located just one block from the bus lines where you can catch a bus and be downtown Seattle in fifteen minutes or historic Ballard in ten or a quick five-minute walk will bring you to Whole Foods and Peet's Coffee or take a fifteen minute walk to the top of Queen Anne Hill where you will find a variety of eclectic shops, bars, and restaurants. There is no\"\n",
      " \"Chemically sensitive? We've removed the irritants triggering allergy or asthma attacks, like carpeting, forced air & used pillows, all culprits that harbor fungus, mold & bacteria.  No smoking, no pets.  Designed for healthy living, so breathe easy. Beautiful, hypoallergenic apartment in an extremely safe, quiet and pedestrian-friendly section of Queen Anne.  A leafy-green location that puts the best of Seattle at your doorstep. Free WiFi, free parking, ...even free pillows!  What's special about this place? Hypo-allergenic bedding, mattresses/covers and new pillows with each rental. (So feel free to take your new pillows with you!)  A beautiful restoration mixing period details & modern sensibilities: Hardwood floors throughout, white subway tile, low/no VOCs & non-toxic paints keep this home-away-from-home clean, smart and healthy. Radiant heat and oil radiators mean no blowing hot air or dust.  Great Amenities: Free WiFi & internet TV (LED flatscreen). Fully-equipped kitchen with st\"\n",
      " 'New modern house built in 2013.  Spectacular sunset/water views and light, rooftop deck and lounge area, hot tub, 5 bedrooms, gourmet kitchen.  Perfect for 2-3 families, walk to downtown.  Located in highly desirable Queen Anne neighborhood. Our house is modern, light and fresh with a warm simple palette accented with barnwood, steel and concrete.  Open living spaces for entertaining, gourmet kitchen, deck off the kitchen, reading nook, half bath and smaller tv room off kitchen.  Fireplace with sofa and sitting area. Basement room is great for kids...this room has patio access and a garage door that opens into the space with basketball hoop right outside.  A queen bedroom and full bath are in the basement with concrete heated floors.  A queen sleeper sofa is in the tv area in the basement.  This room has a door if privacy is needed.  Great for a second family with kids.  The 2nd floor has 4 bedrooms (one queen in master, one twin bedroom, another bedroom has twin bunk beds and the last'\n",
      " ...\n",
      " 'Very comfortable lower unit. Quiet, charming mid-century neighborhood with amazing views of Lake Washington. Easy access to Seatac airport, downtown or Bellevue.'\n",
      " 'Cozy studio condo in the heart on Madison Park on Lake WA! Just steps away from shopping, restaurants, and minutes away from downtown Seattle. Come relax on the balcony and enjoy the stunning views of Lake WA along with the convenience of tons of amenities just steps away! Fully furnished unit to accommodate most needs. We have made every effort to make sure your stay is comfortable as can be.  Absolutely no smoking and no pets.  Space Features: Complimentary wireless internet. Cable w/Xbox one blue ray player. Modern bathroom with spa like shower. Fully equipped kitchen w/toaster, microwave, stove oven, fridge, kurig coffee maker. Pots, pans, silverware, cups, glasses, dishes, prep tools, wine and can opener. Cleaning supplies, sponge.  Balcony with table and chairs overlooking Lake WA.  On main level of entrance . Eating bar space. Hotel like queen size bed with comfortable linens. Own parking space.  Tall dresser Closet Lock box located on the railing to the right of the building. C'\n",
      " 'All hardwood floors, fireplace, 65\" TV with Xbox One, elevator opens to the apartment (takes a key). A porch with a charcoal grill, king size bed, parking. 10 minutes walking from Fremont, 10 minutes walking from Queen Anne. While we are away, our family will be around to help. Also our puppy will be boarded away.']\n",
      "3742\n",
      "##### experiences_offered :\n",
      "['none']\n",
      "1\n",
      "##### neighborhood_overview :\n",
      "[nan\n",
      " 'Queen Anne is a wonderful, truly functional village.  You can walk everywhere... for coffee, for groceries, for a night out, for breathtaking views of the Puget Sound.'\n",
      " 'Upper Queen Anne is a charming neighborhood full of a mix of beautifully maintained, turn-of-the-century craftsman homes, tudors and modern homes.  The \"main drag\" is Queen Anne Ave. with a great selection of boutiques, restaurants, coffee shops and bars.  Upper Queen Anne is just 1.5 miles from downtown Seattle, and situated on a hilltop with stunning panoramic views in every direction -- downtown Seattle, the Space Needle and Mt. Rainier to the southeast, Elliott Bay to the southwest, the Olympic Mountains to the west and the Cascade Mountains to the east. If you\\'re a walker, you\\'ll love the 4-mile \"Crown of Queen Anne\" loop which takes in all of these views!'\n",
      " ...\n",
      " \"We're located near lots of family fun. Woodland Park Zoo is 6 block walk away (say hello to its new tigers!). For prospective students and their families, the University of Washington is only 2.5 miles from our door. And be sure to stop by the Ballard Sunday Farmers Market for fresh cut flowers, fruits and vegetables to enjoy at home! When you're ready to explore downtown Seattle, the bus is only 4 blocks away.\"\n",
      " 'The neighborhood is a quiet oasis that is close to all the activities in Seattle.'\n",
      " 'Madison Park offers a peaceful slow pace upscale Seattle vibe. You can walk to 12 different eating and drinking establishments which most include outdoor seating.  Just steps away from the newly expanded North Beach. Madison Park is centrally located, it is approximately 4 miles East of Downtown Seattle.']\n",
      "2507\n",
      "##### notes :\n",
      "[nan\n",
      " \"What's up with the free pillows?  Our home was renovated and restored with health & safety in mind, especially the elimination/reduction of indoor allergens, toxins & other pollutants.  (For this reason, we have no carpets, just hardwood & slate floors, with radiant heat.)  Pillows tend to house a LOT of allergens over time, even when just used by a single owner.  The statistics make many people feel pretty queasy but, essentially, pillows become great breeding grounds for bacteria and dust mites, not to mention drool, hair oils and perspiration. Since most people sweat more than a pint a night, the pillow can also easily trap mildew and mold. We use dust mite protectors for mattresses and duvets, but haven't found any that work well for pillows that maintain comfort/elasticity without the use of outgassing materials.  So, I let the guests take their pillows but ask that they leave the pillowcases. And if you leave the pillows behind, they'll be donated to a local women's shelter that \"\n",
      " 'Our house is located just 5 short blocks to Top Pot Doughnuts, Tribunali pizza, Caffe Fiore, Trader Joes and Molly Moons.  Just 8 blocks to Queen Anne Ave.'\n",
      " ...\n",
      " \"There is NO television. We do have good WI-FI. The ceiling lacks modern soundproofing so you can hear footfalls etc. from the Airbnb apartment above. To reduce noise, apartment 3905 is limited to 2 guests, we request they not wear shoes, and we've added rugs. If you hear a funny thump, thump, thump like Christopher Robin dragging Pooh Bear down the stairs, it's actually cars hitting the road seams on 2nd Ave NW. If you are a light sleeper, this may be bothersome early morning and late evening. The extra person fee applies to all guests including little ones. We just finished remodeling the last of the 5 apartments and are happily turning our sights to landscaping. We know it's unsightly (especially on the north side, and can't wait to make it beautiful. Thank you for your forbearance!\"\n",
      " \"This is a basement apartment in a newer residential home that is very private, but my wife and I live above and there will be some noise. It's a three level home and our bedroom is on the top floor so there will little noise after 10:00pm.\"\n",
      " 'Also our puppy will be boarded away.']\n",
      "2000\n",
      "##### transit :\n",
      "[nan\n",
      " \"Convenient bus stops are just down the block, if you're headed downtown or further afield to explore.  Zip cars are also strategically located on Queen Anne hill.\"\n",
      " 'A bus stop is just 2 blocks away.   Easy bus access to all the sites: Lower Queen Anne, Seattle Center, The Space Needle, Experience Music Project, Chihuly Glass Museum, Pacific Science Center and more.'\n",
      " ...\n",
      " 'How to Get to: UW/Husky Stadium):  10 minute drive or three block walk to catch the 31/32 bus.  Can walk to the Stadium in 30 minutes. Downtown:  Multiple bus routes within 5 blocks walking will take you to the downtown core.  Uber is $10 or so.  10 Minute drive in no traffic. Greenlake:  10 Minute walk to Upper Woodland park and 20 minutes to the beach house area.'\n",
      " \"The apartment is easily accessed from I-5 North & South, as well as Hwy. 99. There are 4 first-come-first-serve parking spots in the apartment's lot. Street parking isn't too bad and should be available within a block. Please note that 2nd Ave NW that fronts the building is steep. The closest bus stops are 2 blocks away (Routes 28 & 40), The Burke Gilman trail for cycling, walking etc. is a block and a half away. Walk Score walking rating is 86. Biking 88. Public transport 59.\"\n",
      " 'Uber and Car2go are good options in Seattle. There is a bus stop 2 blocks away that will get you to downtown in 10-15 minutes.  There is a Seattle Bike Share station 2 blocks away.']\n",
      "2575\n",
      "##### thumbnail_url :\n",
      "[nan\n",
      " 'https://a0.muscache.com/ac/pictures/14409893/f8e3ed8d_original.jpg?interpolation=lanczos-none&size=small&output-format=jpg&output-quality=70'\n",
      " 'https://a2.muscache.com/ac/pictures/84791950/f83d59ea_original.jpg?interpolation=lanczos-none&size=small&output-format=jpg&output-quality=70'\n",
      " ...\n",
      " 'https://a2.muscache.com/ac/pictures/a5974f04-2fad-42fe-b6a6-9cd33db16d8b.jpg?interpolation=lanczos-none&size=small&output-format=jpg&output-quality=70'\n",
      " 'https://a2.muscache.com/ac/pictures/202e4ad6-bbb4-44a1-85c6-f141fb672bd1.jpg?interpolation=lanczos-none&size=small&output-format=jpg&output-quality=70'\n",
      " 'https://a2.muscache.com/ac/pictures/596705b3-0354-4cb0-81d1-81c641d3923d.jpg?interpolation=lanczos-none&size=small&output-format=jpg&output-quality=70']\n",
      "3499\n",
      "##### medium_url :\n",
      "[nan\n",
      " 'https://a0.muscache.com/im/pictures/14409893/f8e3ed8d_original.jpg?aki_policy=medium'\n",
      " 'https://a2.muscache.com/im/pictures/84791950/f83d59ea_original.jpg?aki_policy=medium'\n",
      " ...\n",
      " 'https://a2.muscache.com/im/pictures/a5974f04-2fad-42fe-b6a6-9cd33db16d8b.jpg?aki_policy=medium'\n",
      " 'https://a2.muscache.com/im/pictures/202e4ad6-bbb4-44a1-85c6-f141fb672bd1.jpg?aki_policy=medium'\n",
      " 'https://a2.muscache.com/im/pictures/596705b3-0354-4cb0-81d1-81c641d3923d.jpg?aki_policy=medium']\n",
      "3499\n",
      "##### picture_url :\n",
      "['https://a1.muscache.com/ac/pictures/67560560/cfe47d69_original.jpg?interpolation=lanczos-none&size=large_cover&output-format=jpg&output-quality=70'\n",
      " 'https://a0.muscache.com/ac/pictures/14409893/f8e3ed8d_original.jpg?interpolation=lanczos-none&size=large_cover&output-format=jpg&output-quality=70'\n",
      " 'https://a2.muscache.com/ac/pictures/b4324e0f-a41b-4614-85a5-0e58c1983b99.jpg?interpolation=lanczos-none&size=large_cover&output-format=jpg&output-quality=70'\n",
      " ...\n",
      " 'https://a2.muscache.com/ac/pictures/a5974f04-2fad-42fe-b6a6-9cd33db16d8b.jpg?interpolation=lanczos-none&size=large_cover&output-format=jpg&output-quality=70'\n",
      " 'https://a2.muscache.com/ac/pictures/202e4ad6-bbb4-44a1-85c6-f141fb672bd1.jpg?interpolation=lanczos-none&size=large_cover&output-format=jpg&output-quality=70'\n",
      " 'https://a2.muscache.com/ac/pictures/596705b3-0354-4cb0-81d1-81c641d3923d.jpg?interpolation=lanczos-none&size=large_cover&output-format=jpg&output-quality=70']\n",
      "3818\n",
      "##### xl_picture_url :\n",
      "[nan\n",
      " 'https://a0.muscache.com/ac/pictures/14409893/f8e3ed8d_original.jpg?interpolation=lanczos-none&size=x_large_cover&output-format=jpg&output-quality=70'\n",
      " 'https://a2.muscache.com/ac/pictures/84791950/f83d59ea_original.jpg?interpolation=lanczos-none&size=x_large_cover&output-format=jpg&output-quality=70'\n",
      " ...\n",
      " 'https://a2.muscache.com/ac/pictures/a5974f04-2fad-42fe-b6a6-9cd33db16d8b.jpg?interpolation=lanczos-none&size=x_large_cover&output-format=jpg&output-quality=70'\n",
      " 'https://a2.muscache.com/ac/pictures/202e4ad6-bbb4-44a1-85c6-f141fb672bd1.jpg?interpolation=lanczos-none&size=x_large_cover&output-format=jpg&output-quality=70'\n",
      " 'https://a2.muscache.com/ac/pictures/596705b3-0354-4cb0-81d1-81c641d3923d.jpg?interpolation=lanczos-none&size=x_large_cover&output-format=jpg&output-quality=70']\n",
      "3499\n",
      "##### host_id :\n",
      "[  956883  5177328 16708587 ... 52791370 25522052 14703116]\n",
      "2751\n",
      "##### host_url :\n",
      "['https://www.airbnb.com/users/show/956883'\n",
      " 'https://www.airbnb.com/users/show/5177328'\n",
      " 'https://www.airbnb.com/users/show/16708587' ...\n",
      " 'https://www.airbnb.com/users/show/52791370'\n",
      " 'https://www.airbnb.com/users/show/25522052'\n",
      " 'https://www.airbnb.com/users/show/14703116']\n",
      "2751\n",
      "##### host_name :\n",
      "['Maija' 'Andrea' 'Jill' ... 'Flora' 'Eve' 'Virginia']\n",
      "1467\n",
      "##### host_since :\n",
      "['2011-08-11' '2013-02-21' '2014-06-12' ... '2011-03-27' '2015-12-30'\n",
      " '2014-04-25']\n",
      "1381\n",
      "##### host_location :\n",
      "['Seattle, Washington, United States'\n",
      " 'Kirkland, Washington, United States'\n",
      " 'Quilcene, Washington, United States' 'US' nan\n",
      " 'Lowell, Massachusetts, United States'\n",
      " 'Sammamish, Washington, United States'\n",
      " 'Los Angeles, California, United States'\n",
      " 'Shoreline, Washington, United States' 'Portland, Oregon, United States'\n",
      " 'San Francisco, California, United States'\n",
      " 'Berkeley, California, United States'\n",
      " 'Greenwood Village, Colorado, United States'\n",
      " 'Ciudad Obregón, Sonora, Mexico'\n",
      " 'Mercer Island, Washington, United States'\n",
      " 'Prescott Valley, Arizona, United States'\n",
      " 'Long Beach, California, United States'\n",
      " 'San Diego, California, United States' 'SG'\n",
      " 'Breckenridge, Colorado, United States' 'Massachusetts, United States'\n",
      " 'Addison, Texas, United States' 'Kent, Washington, United States'\n",
      " 'Newcastle, Washington, United States' 'Tucson, Arizona, United States'\n",
      " 'Seattle WA and Portland OR' 'Castle Rock, Washington, United States'\n",
      " 'Kenilworth, Illinois, United States' 'Burien, Washington, United States'\n",
      " 'Gosnold, Massachusetts, United States'\n",
      " 'Bellevue, Washington, United States' 'Beijing, Beijing, China'\n",
      " 'Gig Harbor, Washington, United States' 'Seattle WA' 'FR'\n",
      " 'Rome, Lazio, Italy' 'Snoqualmie, Washington, United States'\n",
      " 'Seattle, Washington and London, England'\n",
      " 'Santa Fe, New Mexico, United States' 'Renton, Washington, United States'\n",
      " 'Austin, Texas, United States' 'Spokane, Washington, United States'\n",
      " 'New York, New York, United States' 'Houston, Texas, United States'\n",
      " 'Palo Alto, California, United States' 'Seattle/San Fransisco/Taipei'\n",
      " 'Seattle' 'Bloomington, Indiana, United States'\n",
      " 'Las Vegas, Nevada, United States'\n",
      " 'Port Orchard, Washington, United States'\n",
      " 'Mount Vernon, Washington, United States'\n",
      " 'Oakland, California, United States' 'Bothell, Washington, United States'\n",
      " 'Kenmore, Washington, United States' 'Toronto, Ontario, Canada'\n",
      " 'Tacoma, Washington, United States'\n",
      " 'Palm Springs, California, United States' 'California'\n",
      " 'Sydney, New South Wales, Australia'\n",
      " 'West Hollywood, California, United States'\n",
      " 'Vancouver, Washington, United States' 'Phoenix, Arizona, United States'\n",
      " 'Blaine, Washington, United States' 'United States'\n",
      " 'Vashon, Washington, United States'\n",
      " 'Winston-Salem, North Carolina, United States'\n",
      " 'Issaquah, Washington, United States'\n",
      " 'We live in the upper portion of the home'\n",
      " 'West New York, New Jersey, United States'\n",
      " 'I live between Princeville Kauai and Seattle Wa, homes both places'\n",
      " 'Edmonds, Washington, United States'\n",
      " 'We live in the house upstairs from the rental flat'\n",
      " 'West Seattle, Washington' 'Vashon Island, Seattle, WA'\n",
      " 'San Jose, California, United States' 'Ballard, Seattle, WA'\n",
      " 'Montezuma,Costas Rica  and Seattle Wasington, United States'\n",
      " 'Washington State, United States' 'Oregon'\n",
      " 'Surprise, Arizona, United States' 'Washington State'\n",
      " 'Seattle, WA, United States' 'Seattle, Washington' 'DZ' 'Luxembourg'\n",
      " 'Dallas, Texas, United States' 'Seattle, WA'\n",
      " 'Salt Lake City, Utah, United States' 'Alamosa, Colorado, United States'\n",
      " 'Seattle and Bellingham, Washington, United States'\n",
      " 'Lynnwood, Washington, United States' 'Bangkok, Thailand'\n",
      " 'Minneapolis, Minnesota, United States'\n",
      " 'Lafayette, California, United States'\n",
      " 'Cambridge, Massachusetts, United States'\n",
      " 'Boston, Massachusetts, United States'\n",
      " 'Snohomish, Washington, United States' 'Lincoln, Vermont, United States'\n",
      " 'New Orleans, Louisiana, United States'\n",
      " 'Greenbank, Washington, United States' 'Calgary, Alberta, Canada'\n",
      " 'Grand Rapids, Michigan, United States'\n",
      " 'Port Townsend, Washington, United States'\n",
      " 'Bellingham, Washington, United States' 'Next door to cottage'\n",
      " 'Vancouver, British Columbia, Canada'\n",
      " 'California, Maryland, United States'\n",
      " 'Santa Monica, California, United States'\n",
      " 'Grosse Pointe Farms, Michigan, United States'\n",
      " 'USA (Seattle)/Germany (Lake Constance)' 'Hilo, Hawaii, United States'\n",
      " 'Chelan, Washington, United States' 'Redmond, Washington, United States'\n",
      " 'Ault, Colorado, United States' 'Woodinville, Washington, United States'\n",
      " 'San Francisco, California' 'White Pine, Tennessee, United States'\n",
      " 'Accra, Greater Accra, Ghana' 'Camano Island'\n",
      " \"All over the Planet. I'm having a Maui Moment.\"\n",
      " 'Arlington, Massachusetts, United States']\n",
      "121\n",
      "##### host_about :\n",
      "[\"I am an artist, interior designer, and run a small landscape business. My life revolves around beauty wherever I find it or create it. I grew up in Seattle and love this city for the people, it's natural beauty and don't know anywhere else I would rather call home. I love to travel and try to do so as much as possible and am excited to be a part of the airbnb community!\"\n",
      " \"Living east coast/left coast/overseas.  Time is short & it's a big world. \"\n",
      " 'i love living in Seattle.  i grew up in the mid-west but the Pacific North West has always felt like home.  i am a mom to 3 beautiful kids, love playing tennis, cooking, reading and being with friends and family.  i manage a few long-term rental properties as well as consult and manage AirBnB properties for those living in the Seattle area. '\n",
      " ...\n",
      " 'Until last year, I lived in the Boston area, but moved to Seattle at the end of 2013. I love it here!!! The beauty of the Pacific Northwest is without equal. I look forward to hosting you in my beautiful little home!'\n",
      " \"We are a professional family with 2 high energy daughters and 2 cats. We love adventures, whether out in the mountains and surf or exploring our terraced backyard, with its peek-a-boo Mt Rainier view. We've just spent the summer exploring 37 states across the US in our beloved Vanagon, and love meeting new people at home and abroad. \"\n",
      " 'I am a 58 year old male that is married to Maggie.  We have both lived in the Seattle area our entire life.  I am a part owner of a small company that sells primarily on the internet: (website hidden).  Maggie is a sales rep for a company that sells high end glass and dinner ware.  I am a avid golfer and we both love to travel and spend time with our children and friends ']\n",
      "2012\n",
      "##### host_response_time :\n",
      "['within a few hours' 'within an hour' nan 'within a day'\n",
      " 'a few days or more']\n",
      "5\n",
      "##### host_response_rate :\n",
      "['96%' '98%' '67%' nan '100%' '71%' '97%' '60%' '50%' '31%' '90%' '70%'\n",
      " '88%' '80%' '63%' '33%' '99%' '75%' '83%' '94%' '58%' '43%' '93%' '92%'\n",
      " '40%' '57%' '89%' '95%' '78%' '81%' '91%' '38%' '86%' '30%' '56%' '76%'\n",
      " '64%' '82%' '17%' '87%' '25%' '69%' '53%' '65%' '68%' '55%']\n",
      "46\n",
      "##### host_acceptance_rate :\n",
      "['100%' nan '0%']\n",
      "3\n",
      "##### host_is_superhost :\n",
      "['f' 't' nan]\n",
      "3\n",
      "##### host_thumbnail_url :\n",
      "['https://a0.muscache.com/ac/users/956883/profile_pic/1318103129/original.jpg?interpolation=lanczos-none&crop=w:w;*,*&crop=h:h;*,*&resize=50:*&output-format=jpg&output-quality=70'\n",
      " 'https://a0.muscache.com/ac/users/5177328/profile_pic/1361540767/original.jpg?interpolation=lanczos-none&crop=w:w;*,*&crop=h:h;*,*&resize=50:*&output-format=jpg&output-quality=70'\n",
      " 'https://a1.muscache.com/ac/users/16708587/profile_pic/1428941043/original.jpg?interpolation=lanczos-none&crop=w:w;*,*&crop=h:h;*,*&resize=50:*&output-format=jpg&output-quality=70'\n",
      " ...\n",
      " 'https://a2.muscache.com/ac/pictures/efc75826-1025-42dd-9fc3-56f05a1e43f8.jpg?interpolation=lanczos-none&crop=w:w;*,*&crop=h:h;*,*&resize=50:*&output-format=jpg&output-quality=70'\n",
      " 'https://a0.muscache.com/ac/users/25522052/profile_pic/1420263155/original.jpg?interpolation=lanczos-none&crop=w:w;*,*&crop=h:h;*,*&resize=50:*&output-format=jpg&output-quality=70'\n",
      " 'https://a2.muscache.com/ac/pictures/8864f979-b3eb-44d7-88d1-210a2a691309.jpg?interpolation=lanczos-none&crop=w:w;*,*&crop=h:h;*,*&resize=50:*&output-format=jpg&output-quality=70']\n",
      "2744\n",
      "##### host_picture_url :\n",
      "['https://a0.muscache.com/ac/users/956883/profile_pic/1318103129/original.jpg?interpolation=lanczos-none&crop=w:w;*,*&crop=h:h;*,*&resize=225:*&output-format=jpg&output-quality=70'\n",
      " 'https://a0.muscache.com/ac/users/5177328/profile_pic/1361540767/original.jpg?interpolation=lanczos-none&crop=w:w;*,*&crop=h:h;*,*&resize=225:*&output-format=jpg&output-quality=70'\n",
      " 'https://a1.muscache.com/ac/users/16708587/profile_pic/1428941043/original.jpg?interpolation=lanczos-none&crop=w:w;*,*&crop=h:h;*,*&resize=225:*&output-format=jpg&output-quality=70'\n",
      " ...\n",
      " 'https://a2.muscache.com/ac/pictures/efc75826-1025-42dd-9fc3-56f05a1e43f8.jpg?interpolation=lanczos-none&crop=w:w;*,*&crop=h:h;*,*&resize=225:*&output-format=jpg&output-quality=70'\n",
      " 'https://a0.muscache.com/ac/users/25522052/profile_pic/1420263155/original.jpg?interpolation=lanczos-none&crop=w:w;*,*&crop=h:h;*,*&resize=225:*&output-format=jpg&output-quality=70'\n",
      " 'https://a2.muscache.com/ac/pictures/8864f979-b3eb-44d7-88d1-210a2a691309.jpg?interpolation=lanczos-none&crop=w:w;*,*&crop=h:h;*,*&resize=225:*&output-format=jpg&output-quality=70']\n",
      "2744\n",
      "##### host_neighbourhood :\n",
      "['Queen Anne' nan 'Ballard' 'Belltown' 'Phinney Ridge' 'Alki' 'Fremont'\n",
      " 'Holly' 'Lower Queen Anne' 'Green Lake' 'Eastlake' 'Ravenna' 'Westlake'\n",
      " 'Columbia City' 'South Park' 'Kaanapali' 'Wallingford' 'Capitol Hill'\n",
      " 'Long Beach' 'Northwest District' 'Waianae Coast' 'Minor' 'Magnolia'\n",
      " 'Madrona' 'Harrison/Denny-Blaine' 'Leschi' 'University District'\n",
      " 'Roosevelt' 'Mission District' 'Madison Park' 'Stevens'\n",
      " 'Central San Pedro' 'Atlantic' 'North Beacon Hill'\n",
      " 'Central Business District' 'Pike Place Market' 'Portage Bay'\n",
      " 'South Lake Union' 'Fenway/Kenmore' 'East Village' 'Clairemont Mesa East'\n",
      " 'Forestland' 'Hollywood' 'Manhattan Beach' 'Downtown Toronto'\n",
      " 'International District' 'Yesler Terrace' 'First Hill' 'Anaheim'\n",
      " 'Maple Leaf' 'Seward Park' 'Pioneer Square' 'Gatewood' 'The Junction'\n",
      " 'North Admiral' 'Arbor Heights' 'North Hollywood' 'Kauaʻi' 'Genesee'\n",
      " 'Crown Hill' 'Interbay' 'Industrial District' 'Holly Park' 'Georgetown'\n",
      " 'South Beacon Hill' 'Greenwood' 'Bitter Lake' 'Beverly Hills'\n",
      " 'Fauntleroy' 'South Delridge' 'Mount Baker' 'Brighton' 'Highland Park'\n",
      " 'High Point' 'View Ridge' 'Windermere' 'Dunlap' 'Rainier Beach'\n",
      " 'Baldwin Hills' 'North Delridge' 'Bryant' 'Wedgewood' 'Riverview'\n",
      " 'Montlake' 'Broadway' \"Hell's Kitchen\" 'Jamaica Plain' 'Victory Heights'\n",
      " 'Mathews Beach' 'Meadowbrook' 'Olympic Hills' 'Huntington Beach'\n",
      " 'North Beach/Blue Ridge' 'Cedar Park' 'Haller Lake' 'Pinehurst'\n",
      " 'Licton Springs' 'North College Park' 'Santa Monica' 'Laurelhurst'\n",
      " 'Seaview' 'Roxhill' 'Broadview']\n",
      "103\n",
      "##### host_listings_count :\n",
      "[  3.   6.   2.   1.   5.   9.   4.  36. 354.   8.  37.   7.  34.  10.\n",
      "  13.  21.  11. 169.  48. 502.  12.  nan  18.  19.  15.  84. 163.  17.]\n",
      "28\n",
      "##### host_total_listings_count :\n",
      "[  3.   6.   2.   1.   5.   9.   4.  36. 354.   8.  37.   7.  34.  10.\n",
      "  13.  21.  11. 169.  48. 502.  12.  nan  18.  19.  15.  84. 163.  17.]\n",
      "28\n",
      "##### host_verifications :\n",
      "[\"['email', 'phone', 'reviews', 'kba']\"\n",
      " \"['email', 'phone', 'facebook', 'linkedin', 'reviews', 'jumio']\"\n",
      " \"['email', 'phone', 'google', 'reviews', 'jumio']\"\n",
      " \"['email', 'phone', 'facebook', 'reviews', 'jumio']\"\n",
      " \"['email', 'phone', 'facebook', 'reviews', 'kba']\"\n",
      " \"['email', 'phone', 'facebook', 'google', 'linkedin', 'reviews', 'jumio']\"\n",
      " \"['email', 'phone', 'facebook', 'linkedin', 'reviews', 'kba']\"\n",
      " \"['email', 'phone', 'linkedin', 'reviews', 'jumio']\"\n",
      " \"['email', 'reviews', 'kba']\"\n",
      " \"['email', 'phone', 'linkedin', 'reviews', 'kba']\"\n",
      " \"['email', 'phone', 'facebook', 'reviews']\" \"['phone', 'reviews']\"\n",
      " \"['phone']\" \"['email', 'phone', 'reviews']\"\n",
      " \"['email', 'phone', 'reviews', 'jumio', 'kba']\"\n",
      " \"['email', 'phone', 'facebook', 'google', 'reviews', 'jumio']\"\n",
      " \"['email', 'phone', 'facebook', 'google', 'linkedin', 'reviews', 'kba']\"\n",
      " \"['email', 'phone', 'reviews', 'jumio']\"\n",
      " \"['email', 'phone', 'google', 'linkedin', 'reviews', 'manual_offline', 'jumio']\"\n",
      " \"['email', 'phone', 'google', 'kba']\" \"['email', 'phone', 'facebook']\"\n",
      " \"['email', 'phone']\"\n",
      " \"['email', 'phone', 'facebook', 'google', 'linkedin', 'reviews', 'jumio', 'kba']\"\n",
      " \"['email', 'phone', 'google', 'reviews', 'kba']\"\n",
      " \"['email', 'phone', 'linkedin', 'reviews', 'jumio', 'kba']\"\n",
      " \"['email', 'phone', 'facebook', 'google', 'reviews', 'kba']\"\n",
      " \"['email', 'phone', 'facebook', 'google', 'linkedin', 'amex', 'reviews', 'kba']\"\n",
      " \"['email', 'phone', 'facebook', 'reviews', 'jumio', 'kba']\"\n",
      " \"['email', 'phone', 'google']\"\n",
      " \"['email', 'phone', 'google', 'linkedin', 'reviews', 'kba']\"\n",
      " \"['email', 'phone', 'google', 'linkedin', 'reviews', 'jumio']\"\n",
      " \"['phone', 'reviews', 'kba']\"\n",
      " \"['email', 'phone', 'facebook', 'linkedin', 'jumio']\"\n",
      " \"['email', 'phone', 'reviews', 'manual_offline', 'jumio', 'kba']\"\n",
      " \"['email', 'phone', 'linkedin', 'reviews']\"\n",
      " \"['email', 'phone', 'manual_online', 'reviews', 'jumio']\"\n",
      " \"['email', 'phone', 'facebook', 'reviews', 'manual_offline', 'jumio', 'kba']\"\n",
      " \"['email', 'phone', 'google', 'reviews', 'jumio', 'kba']\"\n",
      " \"['email', 'phone', 'facebook', 'jumio']\"\n",
      " \"['email', 'phone', 'facebook', 'google', 'reviews']\"\n",
      " \"['email', 'phone', 'linkedin', 'reviews', 'manual_offline', 'sent_id', 'kba']\"\n",
      " \"['email', 'phone', 'facebook', 'linkedin', 'reviews']\"\n",
      " \"['email', 'phone', 'facebook', 'google', 'linkedin', 'amex', 'reviews', 'jumio']\"\n",
      " \"['email', 'phone', 'facebook', 'linkedin', 'reviews', 'jumio', 'kba']\"\n",
      " \"['email', 'facebook', 'reviews']\"\n",
      " \"['email', 'phone', 'linkedin', 'jumio', 'kba']\"\n",
      " \"['email', 'phone', 'linkedin', 'kba']\"\n",
      " \"['phone', 'linkedin', 'reviews', 'kba']\"\n",
      " \"['phone', 'facebook', 'reviews']\" \"['phone', 'facebook']\"\n",
      " \"['email', 'phone', 'facebook', 'google', 'linkedin', 'kba']\"\n",
      " \"['email', 'phone', 'google', 'jumio']\"\n",
      " \"['email', 'phone', 'reviews', 'manual_offline', 'kba']\"\n",
      " \"['email', 'phone', 'facebook', 'google', 'reviews', 'jumio', 'kba']\"\n",
      " \"['email', 'facebook', 'reviews', 'jumio']\"\n",
      " \"['email', 'phone', 'manual_online', 'reviews', 'manual_offline', 'kba']\"\n",
      " \"['email', 'phone', 'jumio']\"\n",
      " \"['email', 'phone', 'facebook', 'amex', 'reviews', 'jumio']\"\n",
      " \"['email', 'phone', 'facebook', 'google']\"\n",
      " \"['phone', 'facebook', 'reviews', 'jumio']\"\n",
      " \"['email', 'phone', 'facebook', 'amex', 'reviews', 'kba']\"\n",
      " \"['email', 'phone', 'facebook', 'google', 'linkedin', 'reviews', 'kba', 'photographer']\"\n",
      " \"['email', 'phone', 'facebook', 'google', 'amex', 'reviews', 'jumio']\"\n",
      " \"['email', 'phone', 'linkedin', 'jumio']\"\n",
      " \"['phone', 'facebook', 'reviews', 'kba']\"\n",
      " \"['email', 'phone', 'google', 'linkedin', 'amex', 'reviews', 'kba']\"\n",
      " \"['email', 'facebook', 'google', 'linkedin', 'reviews', 'kba']\"\n",
      " \"['email', 'phone', 'reviews', 'manual_offline', 'jumio']\" '[]'\n",
      " \"['email', 'phone', 'facebook', 'jumio', 'kba']\"\n",
      " \"['email', 'phone', 'google', 'reviews']\"\n",
      " \"['email', 'phone', 'reviews', 'sent_id']\"\n",
      " \"['email', 'phone', 'linkedin', 'amex', 'jumio']\"\n",
      " \"['email', 'phone', 'reviews', 'sent_id', 'kba']\"\n",
      " \"['email', 'phone', 'facebook', 'reviews', 'manual_offline', 'jumio']\"\n",
      " \"['email', 'phone', 'kba']\"\n",
      " \"['phone', 'facebook', 'google', 'linkedin', 'reviews', 'jumio']\"\n",
      " \"['email', 'linkedin', 'reviews', 'jumio']\"\n",
      " \"['email', 'phone', 'facebook', 'linkedin', 'amex', 'reviews', 'kba']\"\n",
      " \"['email', 'phone', 'facebook', 'kba']\" 'None'\n",
      " \"['email', 'phone', 'manual_online', 'reviews', 'manual_offline', 'sent_id']\"\n",
      " \"['email', 'phone', 'facebook', 'linkedin', 'amex', 'reviews', 'jumio', 'kba']\"\n",
      " \"['email', 'phone', 'facebook', 'reviews', 'manual_offline']\"\n",
      " \"['email', 'reviews', 'jumio']\" \"['phone', 'reviews', 'jumio']\"\n",
      " \"['email', 'phone', 'facebook', 'linkedin']\"\n",
      " \"['email', 'phone', 'google', 'linkedin', 'reviews', 'jumio', 'kba']\"\n",
      " \"['email', 'phone', 'facebook', 'google', 'kba']\" \"['email']\"\n",
      " \"['email', 'phone', 'facebook', 'linkedin', 'kba']\"\n",
      " \"['email', 'phone', 'google', 'reviews', 'weibo', 'jumio']\"\n",
      " \"['email', 'phone', 'google', 'linkedin', 'kba']\"\n",
      " \"['email', 'phone', 'linkedin', 'reviews', 'manual_offline', 'jumio']\"\n",
      " \"['email', 'phone', 'google', 'linkedin', 'jumio']\"\n",
      " \"['phone', 'linkedin', 'reviews']\" \"['email', 'reviews']\"\n",
      " \"['email', 'phone', 'manual_online', 'reviews', 'manual_offline', 'jumio']\"\n",
      " \"['email', 'facebook']\"\n",
      " \"['email', 'phone', 'manual_online', 'reviews', 'kba']\"\n",
      " \"['google', 'jumio']\" \"['phone', 'facebook', 'linkedin', 'reviews']\"\n",
      " \"['email', 'phone', 'reviews', 'manual_offline']\"\n",
      " \"['email', 'phone', 'facebook', 'reviews', 'jumio', 'photographer']\"\n",
      " \"['phone', 'facebook', 'google']\"\n",
      " \"['email', 'phone', 'facebook', 'google', 'jumio']\"\n",
      " \"['email', 'phone', 'manual_online', 'facebook', 'reviews', 'manual_offline', 'sent_id']\"\n",
      " \"['email', 'phone', 'facebook', 'reviews', 'sent_id', 'kba']\"\n",
      " \"['email', 'phone', 'facebook', 'manual_offline', 'jumio']\"\n",
      " \"['email', 'phone', 'google', 'linkedin', 'reviews']\"\n",
      " \"['email', 'phone', 'manual_online', 'facebook', 'reviews', 'manual_offline']\"\n",
      " \"['email', 'facebook', 'reviews', 'kba']\"\n",
      " \"['phone', 'facebook', 'jumio']\"\n",
      " \"['email', 'phone', 'facebook', 'google', 'linkedin', 'reviews']\"\n",
      " \"['email', 'phone', 'manual_online', 'reviews', 'manual_offline']\"\n",
      " \"['reviews']\"]\n",
      "116\n",
      "##### host_has_profile_pic :\n",
      "['t' 'f' nan]\n",
      "3\n",
      "##### host_identity_verified :\n",
      "['t' 'f' nan]\n",
      "3\n",
      "##### street :\n",
      "['Gilman Dr W, Seattle, WA 98119, United States'\n",
      " '7th Avenue West, Seattle, WA 98119, United States'\n",
      " 'West Lee Street, Seattle, WA 98119, United States' ...\n",
      " 'N Bowdoin Pl, Seattle, WA 98103, United States'\n",
      " 'Northwest 39th Street, Seattle, WA 98107, United States'\n",
      " 'South Laurel Street, Seattle, WA 98178, United States']\n",
      "1442\n",
      "##### neighbourhood :\n",
      "['Queen Anne' nan 'Ballard' 'Phinney Ridge' 'Fremont' 'Lower Queen Anne'\n",
      " 'Westlake' 'Wallingford' 'Green Lake' 'Minor' 'Madrona'\n",
      " 'Harrison/Denny-Blaine' 'Leschi' 'University District' 'Roosevelt'\n",
      " 'Madison Park' 'Capitol Hill' 'Atlantic' 'North Beacon Hill'\n",
      " 'Central Business District' 'Pike Place Market' 'Pike Market' 'Eastlake'\n",
      " 'Portage Bay' 'South Lake Union' 'Magnolia' 'Belltown'\n",
      " 'International District' 'Yesler Terrace' 'First Hill' 'Pioneer Square'\n",
      " 'Gatewood' 'The Junction' 'Arbor Heights' 'Alki' 'North Admiral'\n",
      " 'Crown Hill' 'Genesee' 'Fairmount Park' 'Interbay' 'Industrial District'\n",
      " 'Holly Park' 'South Beacon Hill' 'Greenwood' 'Bitter Lake' 'Fauntleroy'\n",
      " 'Mount Baker' 'Columbia City' 'Seward Park' 'Brighton' 'South Delridge'\n",
      " 'Highland Park' 'High Point' 'View Ridge' 'Windermere' 'Dunlap'\n",
      " 'Rainier Beach' 'North Delridge' 'Maple Leaf' 'Bryant' 'Ravenna'\n",
      " 'Wedgewood' 'Riverview' 'Montlake' 'Broadway' 'Stevens' 'Victory Heights'\n",
      " 'Mathews Beach' 'Cedar Park' 'Meadowbrook' 'Olympic Hills'\n",
      " 'North Beach/Blue Ridge' 'Broadview' 'Haller Lake' 'Pinehurst'\n",
      " 'Licton Springs' 'North College Park' 'Laurelhurst' 'Seaview'\n",
      " 'Georgetown' 'South Park' 'Roxhill']\n",
      "82\n",
      "##### neighbourhood_cleansed :\n",
      "['West Queen Anne' 'Adams' 'West Woodland' 'East Queen Anne' 'Wallingford'\n",
      " 'North Queen Anne' 'Green Lake' 'Westlake' 'Mann' 'Madrona'\n",
      " 'University District' 'Harrison/Denny-Blaine' 'Minor' 'Leschi' 'Atlantic'\n",
      " 'Pike-Market' 'Eastlake' 'South Lake Union' 'Lawton Park' 'Briarcliff'\n",
      " 'Belltown' 'International District' 'Central Business District'\n",
      " 'First Hill' 'Yesler Terrace' 'Pioneer Square' 'Gatewood' 'Arbor Heights'\n",
      " 'Alki' 'North Admiral' 'Crown Hill' 'Fairmount Park' 'Genesee' 'Interbay'\n",
      " 'Industrial District' 'Mid-Beacon Hill' 'South Beacon Hill' 'Greenwood'\n",
      " 'Holly Park' 'Fauntleroy' 'North Beacon Hill' 'Mount Baker' 'Brighton'\n",
      " 'South Delridge' 'View Ridge' 'Dunlap' 'Rainier Beach' 'Columbia City'\n",
      " 'Seward Park' 'North Delridge' 'Maple Leaf' 'Ravenna' 'Riverview'\n",
      " 'Portage Bay' 'Bryant' 'Montlake' 'Broadway' 'Loyal Heights'\n",
      " 'Victory Heights' 'Matthews Beach' 'Whittier Heights' 'Meadowbrook'\n",
      " 'Olympic Hills' 'Roosevelt' 'Lower Queen Anne' 'Wedgwood'\n",
      " 'North Beach/Blue Ridge' 'Cedar Park' 'Bitter Lake' 'Sunset Hill'\n",
      " 'Haller Lake' 'Pinehurst' 'North College Park' 'Phinney Ridge'\n",
      " 'Windermere' 'Laurelhurst' 'Southeast Magnolia' 'High Point' 'Seaview'\n",
      " 'Georgetown' 'South Park' 'Roxhill' 'Highland Park' 'Madison Park'\n",
      " 'Stevens' 'Broadview' 'Fremont']\n",
      "87\n",
      "##### neighbourhood_group_cleansed :\n",
      "['Queen Anne' 'Ballard' 'Other neighborhoods' 'Cascade' 'Central Area'\n",
      " 'University District' 'Downtown' 'Magnolia' 'West Seattle' 'Interbay'\n",
      " 'Beacon Hill' 'Rainier Valley' 'Delridge' 'Seward Park' 'Northgate'\n",
      " 'Capitol Hill' 'Lake City']\n",
      "17\n",
      "##### city :\n",
      "['Seattle' 'Ballard, Seattle' 'West Seattle' 'Seattle ' '西雅图'\n",
      " 'Phinney Ridge Seattle' 'seattle']\n",
      "7\n",
      "##### state :\n",
      "['WA' 'wa']\n",
      "2\n",
      "##### zipcode :\n",
      "['98119' '98109' '98107' '98117' nan '98103' '98105' '98115' '98101'\n",
      " '98122' '98112' '98144' '99\\n98122' '98121' '98102' '98199' '98104'\n",
      " '98134' '98136' '98126' '98146' '98116' '98177' '98118' '98108' '98133'\n",
      " '98106' '98178' '98125']\n",
      "29\n",
      "##### market :\n",
      "['Seattle']\n",
      "1\n",
      "##### smart_location :\n",
      "['Seattle, WA' 'Ballard, Seattle, WA' 'West Seattle, WA' 'Seattle , WA'\n",
      " '西雅图, WA' 'Phinney Ridge Seattle, WA' 'seattle, wa']\n",
      "7\n",
      "##### country_code :\n",
      "['US']\n",
      "1\n",
      "##### country :\n",
      "['United States']\n",
      "1\n",
      "##### latitude :\n",
      "[47.63628904 47.63912312 47.62972413 ... 47.50845297 47.63233495\n",
      " 47.6411863 ]\n",
      "3818\n",
      "##### longitude :\n",
      "[-122.3710252  -122.36566646 -122.36948318 ... -122.24060703 -122.27553032\n",
      " -122.34208458]\n",
      "3818\n",
      "##### is_location_exact :\n",
      "['t' 'f']\n",
      "2\n",
      "##### property_type :\n",
      "['Apartment' 'House' 'Cabin' 'Condominium' 'Camper/RV' 'Bungalow'\n",
      " 'Townhouse' 'Loft' 'Boat' 'Bed & Breakfast' 'Other' 'Dorm' 'Treehouse'\n",
      " 'Yurt' 'Chalet' 'Tent' nan]\n",
      "17\n",
      "##### room_type :\n",
      "['Entire home/apt' 'Private room' 'Shared room']\n",
      "3\n",
      "##### accommodates :\n",
      "[ 4 11  3  6  2  5 16 10  1  8  7 12  9 15 14]\n",
      "15\n",
      "##### bathrooms :\n",
      "[1.  4.5 2.  3.5 1.5 2.5 3.  0.5 4.  0.  8.  nan 5. ]\n",
      "13\n",
      "##### bedrooms :\n",
      "[ 1.  5.  0.  3.  2.  6.  4. nan  7.]\n",
      "9\n",
      "##### beds :\n",
      "[ 1.  7.  2.  3. 15.  5.  4.  6.  9.  8. nan 10.]\n",
      "12\n",
      "##### bed_type :\n",
      "['Real Bed' 'Futon' 'Pull-out Sofa' 'Airbed' 'Couch']\n",
      "5\n",
      "##### amenities :\n",
      "['{TV,\"Cable TV\",Internet,\"Wireless Internet\",\"Air Conditioning\",Kitchen,Heating,\"Family/Kid Friendly\",Washer,Dryer}'\n",
      " '{TV,Internet,\"Wireless Internet\",Kitchen,\"Free Parking on Premises\",\"Buzzer/Wireless Intercom\",Heating,\"Family/Kid Friendly\",Washer,Dryer,\"Smoke Detector\",\"Carbon Monoxide Detector\",\"First Aid Kit\",\"Safety Card\",\"Fire Extinguisher\",Essentials}'\n",
      " '{TV,\"Cable TV\",Internet,\"Wireless Internet\",\"Air Conditioning\",Kitchen,\"Free Parking on Premises\",\"Pets Allowed\",\"Pets live on this property\",Dog(s),Cat(s),\"Hot Tub\",\"Indoor Fireplace\",Heating,\"Family/Kid Friendly\",Washer,Dryer,\"Smoke Detector\",\"Carbon Monoxide Detector\",Essentials,Shampoo}'\n",
      " ...\n",
      " '{\"Cable TV\",\"Wireless Internet\",Kitchen,\"Free Parking on Premises\",Breakfast,\"Pets live on this property\",Dog(s),Cat(s),Heating,Washer,Dryer,\"Smoke Detector\",\"First Aid Kit\",\"Safety Card\",\"Fire Extinguisher\",Essentials,Hangers,\"Hair Dryer\",Iron,\"Laptop Friendly Workspace\"}'\n",
      " '{TV,\"Wireless Internet\",Kitchen,\"Free Parking on Premises\",\"Elevator in Building\",Heating,\"Smoke Detector\",Essentials,Hangers,\"Hair Dryer\",\"Laptop Friendly Workspace\"}'\n",
      " '{TV,\"Cable TV\",Internet,\"Wireless Internet\",Kitchen,\"Free Parking on Premises\",\"Pets live on this property\",Dog(s),\"Elevator in Building\",\"Hot Tub\",\"Indoor Fireplace\",\"Buzzer/Wireless Intercom\",Heating,\"Family/Kid Friendly\",Washer,Dryer,\"Smoke Detector\",Essentials,Shampoo,Hangers,Iron,\"Laptop Friendly Workspace\"}']\n",
      "3284\n",
      "##### square_feet :\n",
      "[     nan 4.00e+02 4.85e+02 8.00e+02 4.50e+02 1.00e+00 1.80e+03 3.00e+02\n",
      " 5.00e+02 6.00e+02 2.10e+03 1.00e+03 2.00e+03 1.60e+03 1.20e+03 7.50e+02\n",
      " 3.00e+03 1.40e+02 9.50e+02 9.00e+02 3.00e+00 8.50e+02 1.30e+03 1.15e+03\n",
      " 6.50e+02 2.50e+02 4.20e+02 7.70e+02 7.10e+02 0.00e+00 1.40e+03 2.75e+03\n",
      " 2.00e+00 1.10e+03 1.20e+02 5.50e+02 7.00e+02 7.30e+02 4.35e+02 6.75e+02\n",
      " 1.85e+03 2.60e+03 1.83e+02 2.00e+02 1.70e+02 3.40e+02 3.50e+02 6.60e+02]\n",
      "48\n",
      "##### price :\n",
      "['$85.00' '$150.00' '$975.00' '$100.00' '$450.00' '$120.00' '$80.00'\n",
      " '$60.00' '$90.00' '$95.00' '$99.00' '$245.00' '$165.00' '$461.00'\n",
      " '$109.00' '$66.00' '$200.00' '$700.00' '$110.00' '$75.00' '$600.00'\n",
      " '$45.00' '$300.00' '$175.00' '$325.00' '$222.00' '$159.00' '$125.00'\n",
      " '$348.00' '$148.00' '$350.00' '$349.00' '$160.00' '$130.00' '$137.00'\n",
      " '$20.00' '$145.00' '$400.00' '$70.00' '$170.00' '$465.00' '$50.00'\n",
      " '$59.00' '$47.00' '$55.00' '$65.00' '$25.00' '$40.00' '$149.00' '$129.00'\n",
      " '$105.00' '$218.00' '$126.00' '$115.00' '$225.00' '$89.00' '$134.00'\n",
      " '$375.00' '$97.00' '$197.00' '$135.00' '$180.00' '$69.00' '$195.00'\n",
      " '$224.00' '$338.00' '$79.00' '$49.00' '$57.00' '$96.00' '$295.00'\n",
      " '$53.00' '$35.00' '$133.00' '$61.00' '$52.00' '$275.00' '$199.00'\n",
      " '$435.00' '$250.00' '$116.00' '$39.00' '$98.00' '$73.00' '$190.00'\n",
      " '$68.00' '$196.00' '$209.00' '$749.00' '$285.00' '$235.00' '$103.00'\n",
      " '$143.00' '$142.00' '$335.00' '$499.00' '$156.00' '$94.00' '$219.00'\n",
      " '$91.00' '$74.00' '$140.00' '$104.00' '$122.00' '$158.00' '$42.00'\n",
      " '$185.00' '$680.00' '$119.00' '$575.00' '$139.00' '$259.00' '$166.00'\n",
      " '$215.00' '$249.00' '$210.00' '$439.00' '$155.00' '$54.00' '$254.00'\n",
      " '$310.00' '$490.00' '$255.00' '$144.00' '$46.00' '$445.00' '$395.00'\n",
      " '$88.00' '$425.00' '$114.00' '$117.00' '$107.00' '$76.00' '$179.00'\n",
      " '$84.00' '$265.00' '$92.00' '$550.00' '$111.00' '$141.00' '$775.00'\n",
      " '$78.00' '$48.00' '$82.00' '$169.00' '$58.00' '$240.00' '$189.00'\n",
      " '$500.00' '$41.00' '$43.00' '$44.00' '$30.00' '$112.00' '$63.00' '$28.00'\n",
      " '$93.00' '$306.00' '$29.00' '$83.00' '$118.00' '$128.00' '$168.00'\n",
      " '$62.00' '$380.00' '$157.00' '$203.00' '$56.00' '$330.00' '$67.00'\n",
      " '$72.00' '$81.00' '$124.00' '$108.00' '$220.00' '$37.00' '$270.00'\n",
      " '$87.00' '$287.00' '$279.00' '$257.00' '$163.00' '$64.00' '$38.00'\n",
      " '$557.00' '$299.00' '$311.00' '$357.00' '$138.00' '$183.00' '$229.00'\n",
      " '$333.00' '$147.00' '$280.00' '$178.00' '$480.00' '$172.00' '$999.00'\n",
      " '$320.00' '$127.00' '$405.00' '$899.00' '$239.00' '$131.00' '$113.00'\n",
      " '$106.00' '$475.00' '$205.00' '$181.00' '$399.00' '$193.00' '$444.00'\n",
      " '$187.00' '$186.00' '$171.00' '$230.00' '$167.00' '$151.00' '$132.00'\n",
      " '$365.00' '$121.00' '$188.00' '$276.00' '$290.00' '$237.00' '$77.00'\n",
      " '$174.00' '$153.00' '$269.00' '$495.00' '$101.00' '$370.00' '$136.00'\n",
      " '$51.00' '$34.00' '$26.00' '$86.00' '$177.00' '$260.00' '$36.00'\n",
      " '$244.00' '$525.00' '$750.00' '$415.00' '$162.00' '$256.00' '$182.00'\n",
      " '$212.00' '$360.00' '$198.00' '$673.00' '$204.00' '$152.00' '$420.00'\n",
      " '$71.00' '$252.00' '$1,000.00' '$33.00' '$498.00' '$217.00' '$207.00'\n",
      " '$228.00' '$950.00' '$102.00' '$27.00' '$146.00' '$545.00' '$22.00'\n",
      " '$31.00' '$449.00' '$232.00' '$154.00' '$359.00']\n",
      "273\n",
      "##### weekly_price :\n",
      "[nan '$1,000.00' '$650.00' '$800.00' '$575.00' '$360.00' '$500.00'\n",
      " '$595.00' '$1,575.00' '$4,100.00' '$750.00' '$568.00' '$3,000.00'\n",
      " '$350.00' '$699.00' '$1,325.00' '$2,500.00' '$450.00' '$950.00'\n",
      " '$2,100.00' '$540.00' '$700.00' '$1,140.00' '$815.00' '$1,195.00'\n",
      " '$3,035.00' '$351.00' '$250.00' '$1,300.00' '$900.00' '$903.00' '$599.00'\n",
      " '$1,221.00' '$945.00' '$549.00' '$910.00' '$555.00' '$1,800.00' '$590.00'\n",
      " '$1,172.00' '$1,500.00' '$665.00' '$1,200.00' '$499.00' '$525.00'\n",
      " '$530.00' '$550.00' '$274.00' '$559.00' '$420.00' '$400.00' '$1,100.00'\n",
      " '$390.00' '$244.00' '$300.00' '$1,065.00' '$1,250.00' '$698.00' '$536.00'\n",
      " '$1,260.00' '$490.00' '$488.00' '$600.00' '$1,950.00' '$625.00'\n",
      " '$2,900.00' '$440.00' '$690.00' '$582.00' '$805.00' '$232.00' '$715.00'\n",
      " '$640.00' '$850.00' '$560.00' '$588.00' '$1,600.00' '$895.00' '$925.00'\n",
      " '$1,750.00' '$1,400.00' '$720.00' '$1,015.00' '$6,300.00' '$428.00'\n",
      " '$1,650.00' '$425.00' '$692.00' '$3,150.00' '$541.00' '$1,005.00'\n",
      " '$730.00' '$1,040.00' '$1,380.00' '$915.00' '$725.00' '$990.00'\n",
      " '$1,050.00' '$770.00' '$1,460.00' '$630.00' '$619.00' '$896.00' '$432.00'\n",
      " '$790.00' '$1,470.00' '$275.00' '$393.00' '$395.00' '$325.00' '$3,250.00'\n",
      " '$685.00' '$833.00' '$1,205.00' '$670.00' '$200.00' '$2,399.00'\n",
      " '$1,225.00' '$370.00' '$1,096.00' '$419.00' '$875.00' '$339.00' '$825.00'\n",
      " '$2,950.00' '$678.00' '$2,000.00' '$785.00' '$620.00' '$696.00' '$482.00'\n",
      " '$999.00' '$1,900.00' '$446.00' '$775.00' '$675.00' '$375.00' '$637.00'\n",
      " '$349.00' '$3,950.00' '$760.00' '$1,495.00' '$225.00' '$285.00' '$795.00'\n",
      " '$399.00' '$899.00' '$726.00' '$1,090.00' '$340.00' '$1,485.00' '$749.00'\n",
      " '$405.00' '$1,077.00' '$1,890.00' '$629.00' '$1,150.00' '$460.00'\n",
      " '$510.00' '$585.00' '$2,250.00' '$930.00' '$1,350.00' '$554.00' '$455.00'\n",
      " '$2,700.00' '$480.00' '$385.00' '$475.00' '$695.00' '$175.00' '$680.00'\n",
      " '$150.00' '$259.00' '$262.00' '$755.00' '$580.00' '$430.00' '$165.00'\n",
      " '$445.00' '$780.00' '$762.00' '$827.00' '$643.00' '$292.00' '$333.00'\n",
      " '$1,850.00' '$309.00' '$738.00' '$553.00' '$485.00' '$1,499.00' '$843.00'\n",
      " '$476.00' '$235.00' '$845.00' '$660.00' '$2,037.00' '$628.00' '$1,159.00'\n",
      " '$1,529.00' '$495.00' '$398.00' '$345.00' '$920.00' '$552.00' '$315.00'\n",
      " '$889.00' '$1,160.00' '$381.00' '$863.00' '$659.00' '$280.00' '$3,100.00'\n",
      " '$1,700.00' '$610.00' '$506.00' '$799.00' '$860.00' '$4,000.00' '$980.00'\n",
      " '$4,499.00' '$1,295.00' '$2,200.00' '$298.00' '$255.00' '$320.00'\n",
      " '$1,975.00' '$737.00' '$238.00' '$305.00' '$1,071.00' '$2,398.00'\n",
      " '$260.00' '$960.00' '$1,530.00' '$881.00' '$5,499.00' '$1,045.00'\n",
      " '$672.00' '$452.00' '$1,299.00' '$1,490.00' '$890.00' '$1,524.00'\n",
      " '$1,029.00' '$1,176.00' '$1,089.00' '$240.00' '$1,265.00' '$869.00'\n",
      " '$2,300.00' '$1,008.00' '$1,009.00' '$1,224.00' '$520.00' '$993.00'\n",
      " '$577.00' '$830.00' '$914.00' '$839.00' '$1,365.00' '$1,149.00' '$623.00'\n",
      " '$931.00' '$387.00' '$528.00' '$1,133.00' '$389.00' '$458.00' '$571.00'\n",
      " '$290.00' '$1,999.00' '$635.00' '$1,875.00' '$2,125.00' '$270.00'\n",
      " '$982.00' '$330.00' '$470.00' '$558.00' '$1,375.00' '$100.00' '$299.00'\n",
      " '$268.00' '$411.00' '$1,075.00' '$840.00' '$343.00' '$357.00' '$1,899.00'\n",
      " '$1,550.00' '$1,599.00' '$645.00' '$744.00' '$1,327.00' '$524.00'\n",
      " '$161.00' '$893.00' '$410.00' '$439.00' '$1,110.00' '$256.00' '$226.00'\n",
      " '$732.00' '$230.00' '$745.00' '$905.00' '$607.00' '$615.00' '$214.00'\n",
      " '$512.00' '$220.00' '$565.00' '$740.00' '$329.00' '$327.00' '$457.00'\n",
      " '$964.00' '$1,390.00' '$535.00' '$210.00' '$605.00' '$655.00' '$167.00'\n",
      " '$173.00' '$208.00' '$539.00' '$4,800.00' '$415.00' '$985.00' '$1,590.00'\n",
      " '$548.00' '$3,500.00' '$464.00' '$472.00' '$406.00' '$756.00' '$613.00'\n",
      " '$286.00' '$269.00' '$279.00' '$267.00' '$310.00' '$422.00' '$1,311.00'\n",
      " '$417.00' '$1,261.00' '$940.00' '$363.00' '$855.00' '$710.00' '$3,600.00'\n",
      " '$449.00' '$1,363.00' '$1,148.00' '$679.00' '$995.00' '$567.00'\n",
      " '$1,450.00' '$409.00' '$631.00' '$380.00' '$519.00' '$1,020.00' '$435.00'\n",
      " '$1,239.00' '$1,475.00' '$594.00' '$714.00' '$704.00' '$949.00' '$589.00'\n",
      " '$887.00' '$735.00' '$413.00' '$759.00' '$687.00' '$1,107.00' '$1,830.00'\n",
      " '$773.00' '$1,925.00' '$202.00' '$975.00' '$347.00' '$355.00' '$647.00'\n",
      " '$1,190.00' '$2,800.00' '$1,025.00' '$2,211.00' '$562.00' '$689.00'\n",
      " '$587.00' '$888.00' '$1,120.00']\n",
      "396\n",
      "##### monthly_price :\n",
      "[nan '$3,000.00' '$2,300.00' '$1,700.00' '$2,000.00' '$5,800.00'\n",
      " '$5,000.00' '$2,500.00' '$2,029.00' '$3,200.00' '$2,388.00' '$4,650.00'\n",
      " '$2,700.00' '$1,500.00' '$2,950.00' '$1,911.00' '$7,500.00' '$3,195.00'\n",
      " '$12,140.00' '$800.00' '$3,950.00' '$3,750.00' '$4,200.00' '$3,970.00'\n",
      " '$850.00' '$3,402.00' '$1,850.00' '$1,795.00' '$2,250.00' '$5,500.00'\n",
      " '$1,800.00' '$1,250.00' '$4,950.00' '$7,000.00' '$1,600.00' '$1,900.00'\n",
      " '$1,974.00' '$1,899.00' '$1,300.00' '$1,100.00' '$3,759.00' '$4,500.00'\n",
      " '$2,552.00' '$1,875.00' '$6,900.00' '$1,450.00' '$1,750.00' '$3,450.00'\n",
      " '$2,200.00' '$3,500.00' '$1,950.00' '$3,800.00' '$819.00' '$2,205.00'\n",
      " '$2,195.00' '$2,058.00' '$3,150.00' '$3,625.00' '$3,600.00' '$19,500.00'\n",
      " '$1,512.00' '$1,350.00' '$2,550.00' '$11,700.00' '$3,900.00' '$4,000.00'\n",
      " '$3,850.00' '$3,528.00' '$1,995.00' '$1,000.00' '$4,960.00' '$2,400.00'\n",
      " '$2,184.00' '$3,045.00' '$1,780.00' '$1,990.00' '$2,100.00' '$750.00'\n",
      " '$2,649.00' '$5,964.00' '$1,386.00' '$1,389.00' '$9,500.00' '$2,900.00'\n",
      " '$3,700.00' '$2,940.00' '$4,220.00' '$520.00' '$990.00' '$1,499.00'\n",
      " '$6,300.00' '$950.00' '$4,100.00' '$1,395.00' '$1,197.00' '$2,750.00'\n",
      " '$2,394.00' '$4,410.00' '$2,590.00' '$1,999.00' '$1,225.00' '$1,664.00'\n",
      " '$2,457.00' '$2,999.00' '$6,500.00' '$1,302.00' '$6,000.00' '$4,250.00'\n",
      " '$2,247.00' '$2,877.00' '$1,099.00' '$11,500.00' '$13,500.00' '$1,970.00'\n",
      " '$1,200.00' '$780.00' '$650.00' '$2,725.00' '$8,400.00' '$4,695.00'\n",
      " '$2,600.00' '$1,890.00' '$1,428.00' '$1,799.00' '$3,801.00' '$1,550.00'\n",
      " '$2,199.00' '$3,400.00' '$2,800.00' '$4,995.00' '$1,596.00' '$2,150.00'\n",
      " '$1,975.00' '$8,200.00' '$4,030.00' '$1,848.00' '$2,695.00' '$4,300.00'\n",
      " '$1,295.00' '$880.00' '$1,650.00' '$500.00' '$1,895.00' '$1,495.00'\n",
      " '$1,695.00' '$4,900.00' '$1,595.00' '$2,350.00' '$813.00' '$924.00'\n",
      " '$2,551.00' '$600.00' '$1,390.00' '$1,400.00' '$2,995.00' '$2,895.00'\n",
      " '$2,688.00' '$3,640.00' '$5,200.00' '$2,268.00' '$1,029.00' '$1,176.00'\n",
      " '$1,092.00' '$1,701.00' '$4,800.00' '$2,799.00' '$1,253.00' '$1,743.00'\n",
      " '$2,415.00' '$2,185.00' '$1,260.00' '$2,942.00' '$2,218.00' '$2,990.00'\n",
      " '$3,995.00' '$5,397.00' '$4,750.00' '$1,060.00' '$2,208.00' '$10,000.00'\n",
      " '$2,989.00' '$1,740.00' '$3,360.00' '$900.00' '$4,095.00' '$1,344.00'\n",
      " '$3,498.00' '$2,669.00' '$2,850.00' '$2,315.00' '$8,000.00' '$3,100.00'\n",
      " '$14,559.00' '$1,240.00' '$5,649.00' '$1,050.00' '$1,764.00' '$966.00'\n",
      " '$825.00' '$2,498.00' '$840.00' '$6,400.00' '$1,120.00' '$4,400.00'\n",
      " '$3,300.00' '$7,400.00' '$8,500.00' '$3,380.00' '$5,900.00' '$14,900.00'\n",
      " '$9,000.00' '$4,799.00' '$3,780.00' '$2,425.00' '$5,600.00' '$3,590.00'\n",
      " '$4,572.00' '$5,575.00' '$3,295.00' '$5,292.00' '$2,650.00' '$3,633.00'\n",
      " '$3,999.00' '$3,066.00' '$3,120.00' '$2,245.00' '$3,280.00' '$2,274.00'\n",
      " '$2,961.00' '$3,597.00' '$2,594.00' '$10,500.00' '$2,520.00' '$6,200.00'\n",
      " '$3,250.00' '$1,985.00' '$945.00' '$2,140.00' '$995.00' '$2,240.00'\n",
      " '$1,275.00' '$2,298.00' '$1,491.00' '$882.00' '$1,790.00' '$1,365.00'\n",
      " '$1,372.00' '$4,999.00' '$2,399.00' '$1,670.00' '$550.00' '$1,190.00'\n",
      " '$4,683.00' '$1,075.00' '$3,160.00' '$1,560.00' '$1,175.00' '$2,330.00'\n",
      " '$2,290.00' '$2,010.00' '$1,575.00' '$2,985.00' '$1,228.00' '$885.00'\n",
      " '$756.00' '$975.00' '$2,455.00' '$1,806.00' '$1,480.00' '$777.00'\n",
      " '$798.00' '$1,725.00' '$1,199.00' '$1,280.00' '$3,050.00' '$1,113.00'\n",
      " '$3,618.00' '$2,339.00' '$1,490.00' '$987.00' '$1,590.00' '$690.00'\n",
      " '$1,675.00' '$1,320.00' '$2,050.00' '$1,475.00' '$1,980.00' '$588.00'\n",
      " '$609.00' '$1,510.00' '$2,625.00' '$1,020.00' '$5,950.00' '$5,990.00'\n",
      " '$985.00' '$1,150.00' '$5,300.00' '$735.00' '$1,996.00' '$19,000.00'\n",
      " '$7,200.00' '$7,434.00' '$1,960.00' '$7,750.00' '$2,595.00' '$2,194.00'\n",
      " '$2,310.00' '$1,638.00' '$2,499.00' '$855.00' '$1,095.00' '$895.00'\n",
      " '$4,988.00' '$2,175.00' '$1,680.00' '$3,650.00' '$6,850.00' '$1,005.00'\n",
      " '$845.00' '$1,659.00' '$4,020.00' '$1,439.00' '$1,937.00' '$1,220.00'\n",
      " '$1,925.00' '$5,190.00' '$1,525.00' '$2,299.00' '$875.00' '$3,264.00'\n",
      " '$1,440.00' '$2,495.00' '$2,450.00' '$2,573.00' '$8,979.00' '$1,533.00'\n",
      " '$1,879.00' '$1,637.00' '$1,360.00' '$2,490.00' '$2,163.00' '$1,617.00'\n",
      " '$1,722.00' '$2,748.00' '$2,790.00' '$930.00' '$2,352.00' '$2,970.00'\n",
      " '$2,037.00' '$4,440.00' '$1,315.00' '$5,692.00' '$1,435.00' '$3,350.00'\n",
      " '$7,350.00' '$3,240.00' '$5,400.00']\n",
      "357\n",
      "##### security_deposit :\n",
      "[nan '$100.00' '$1,000.00' '$700.00' '$150.00' '$500.00' '$300.00'\n",
      " '$400.00' '$1,500.00' '$250.00' '$200.00' '$750.00' '$140.00' '$350.00'\n",
      " '$600.00' '$95.00' '$5,000.00' '$125.00' '$800.00' '$499.00' '$399.00'\n",
      " '$450.00' '$995.00' '$2,500.00' '$175.00' '$225.00' '$550.00' '$115.00'\n",
      " '$120.00' '$99.00' '$149.00' '$780.00' '$2,000.00' '$1,200.00' '$360.00'\n",
      " '$375.00' '$199.00' '$109.00' '$449.00' '$195.00' '$295.00' '$185.00'\n",
      " '$134.00' '$650.00' '$180.00' '$1,900.00' '$220.00']\n",
      "47\n",
      "##### cleaning_fee :\n",
      "[nan '$40.00' '$300.00' '$125.00' '$25.00' '$15.00' '$150.00' '$95.00'\n",
      " '$85.00' '$89.00' '$35.00' '$250.00' '$200.00' '$65.00' '$100.00'\n",
      " '$80.00' '$99.00' '$50.00' '$20.00' '$55.00' '$75.00' '$30.00' '$60.00'\n",
      " '$120.00' '$78.00' '$12.00' '$45.00' '$10.00' '$264.00' '$180.00'\n",
      " '$90.00' '$7.00' '$131.00' '$8.00' '$5.00' '$185.00' '$199.00' '$175.00'\n",
      " '$110.00' '$155.00' '$111.00' '$72.00' '$105.00' '$160.00' '$13.00'\n",
      " '$275.00' '$28.00' '$70.00' '$209.00' '$82.00' '$195.00' '$145.00'\n",
      " '$22.00' '$225.00' '$169.00' '$119.00' '$29.00' '$140.00' '$61.00'\n",
      " '$49.00' '$108.00' '$6.00' '$26.00' '$83.00' '$18.00' '$19.00' '$117.00'\n",
      " '$112.00' '$58.00' '$16.00' '$170.00' '$64.00' '$113.00' '$79.00'\n",
      " '$130.00' '$96.00' '$149.00' '$164.00' '$159.00' '$32.00' '$184.00'\n",
      " '$109.00' '$107.00' '$274.00' '$143.00' '$88.00' '$229.00' '$38.00'\n",
      " '$69.00' '$135.00' '$59.00' '$101.00' '$67.00' '$240.00' '$137.00'\n",
      " '$134.00' '$21.00' '$189.00' '$9.00' '$17.00' '$106.00' '$24.00'\n",
      " '$165.00' '$39.00' '$68.00' '$27.00' '$87.00' '$42.00' '$71.00' '$194.00'\n",
      " '$129.00' '$210.00' '$178.00' '$76.00' '$97.00' '$179.00' '$52.00'\n",
      " '$142.00' '$230.00']\n",
      "119\n",
      "##### guests_included :\n",
      "[ 2  1 10  6  4  8  3  7  0  5  9 11 15 13 12]\n",
      "15\n",
      "##### extra_people :\n",
      "['$5.00' '$0.00' '$25.00' '$15.00' '$30.00' '$10.00' '$20.00' '$50.00'\n",
      " '$60.00' '$75.00' '$100.00' '$35.00' '$40.00' '$45.00' '$7.00' '$14.00'\n",
      " '$55.00' '$18.00' '$29.00' '$12.00' '$19.00' '$8.00' '$21.00' '$26.00'\n",
      " '$17.00' '$44.00' '$9.00' '$80.00' '$200.00' '$28.00' '$85.00' '$250.00'\n",
      " '$13.00' '$16.00' '$300.00' '$33.00' '$49.00' '$22.00' '$27.00' '$68.00'\n",
      " '$71.00' '$48.00' '$6.00' '$36.00' '$175.00']\n",
      "45\n",
      "##### minimum_nights :\n",
      "[   1    2    4    3    5   14   30   21   20    7    6   26   15   12\n",
      "   10   13   31    8 1000   28   11   29]\n",
      "22\n",
      "##### maximum_nights :\n",
      "[   365     90     30   1125      6     14      7     29     15     10\n",
      "    120     26    999     60     45     35     28     31    100     16\n",
      "     21     13     99    180      3      5     44      9     32     20\n",
      "      8    730    500     22     27      4    270     24    125    150\n",
      "    360     40      1     70     50     18     25    260     33    234\n",
      "      2     95   1000   1825 100000     23     19    200     93    183\n",
      "    352     12     11     65     91    160    330    400]\n",
      "68\n",
      "##### calendar_updated :\n",
      "['4 weeks ago' 'today' '5 weeks ago' '6 months ago' '7 weeks ago'\n",
      " '2 weeks ago' 'yesterday' '5 months ago' 'a week ago' '5 days ago'\n",
      " '3 days ago' '2 months ago' '3 months ago' '4 days ago' '2 days ago'\n",
      " '3 weeks ago' '1 week ago' '13 months ago' '6 weeks ago' '8 months ago'\n",
      " '12 months ago' '4 months ago' 'never' '6 days ago' '10 months ago'\n",
      " '14 months ago' '9 months ago' '7 months ago' '30 months ago'\n",
      " '11 months ago' '22 months ago' '16 months ago' '15 months ago'\n",
      " '17 months ago']\n",
      "34\n",
      "##### has_availability :\n",
      "['t']\n",
      "1\n",
      "##### availability_30 :\n",
      "[14 13  1  0 30 20 22  6 21 19 29 24 23 11 28 16 12  8 25 18 15  3 10  7\n",
      " 26 27  4 17  5  9  2]\n",
      "31\n",
      "##### availability_60 :\n",
      "[41 13  6  0 60 49 42 36 19 21 40 59 52 54 55  3  1 46 50 38 58 34 51 15\n",
      " 39 32 45 44 48 25 26 43 22 30 17 28 31 47 35  4 57 10  2 53 23  8 14 37\n",
      " 56  7 20 12  5 33 27  9 18 29 11 24 16]\n",
      "61\n",
      "##### availability_90 :\n",
      "[71 16 17  0 90 27 42 66 49 21 63 65 69 89 82 84 85 33 30 62 77  9 68 88\n",
      " 76 40 43 64 11 87 20 81 29 28 50 45 44 48 25 75 46 80 73 52 79 60 13 56\n",
      " 70 78 19 34 54  2 72 59 61 83 10 51  8 58 14 67 86 38  1 31  5 53 23  3\n",
      " 26 32 35 57 55 22 47 15  7 36 12 74 41  6 24 37 18  4 39]\n",
      "91\n",
      "##### availability_365 :\n",
      "[346 291 220 143 365 302 100 341 324 153 229 362 337 327  69 364 171 125\n",
      " 359 360  53 212 293  49 107 356 305 323 162 213   2 309 353 363 351 201\n",
      " 310 308 339 285  87 354  89 295 142  29 303 331 321 247 103 345 102  48\n",
      "  27 347 175  94 355 166  88 343 348  55 215 199 258 335  17  80 275  56\n",
      "  60 340 313 234 266 357  47 114 112 149 176  16 183  54 249 154 334 150\n",
      " 344 240 358 179 352 174   0 168 306 326  30  93 126 232 270 164 124 320\n",
      "  85 342 361 131 205 206 289 300  21   5 287 311  77  20 111 128 157 152\n",
      " 139 294 317 301 336  84 196   3 216  43 332 307  57  82 156 233 160 159\n",
      " 177 155  62  68  44 231 132  46 277 254 262 130 304  86  35 170  61  63\n",
      " 178 146 169 338 251 140   7 121 267 186 116  66 235  33 191 328 333 193\n",
      " 119 259 190  83 198  76  19 349 350 144 283 260 329 165  95 269 141 187\n",
      " 189 113  42 202 286 253 228   1  18  25 318 148 236 245  91 316  13  37\n",
      "  41  10 278  90 244  71 222 145 282 101 219 118  92 255 134 242  67 274\n",
      "  73  98 106 322  26  64  22 207 105  34 209  79 185 163 315 129 204 221\n",
      " 180 192 173  45 214  28  59  75 110 137 135 184 238 120  14   9 256 296\n",
      "  36  99 167 127 319 188 138  24 280 292 330  96 288  72 250 104 161  58\n",
      " 203 194 314 312  70 109 297 211 122 115 279  51 290 225 257 151  11 226\n",
      "  32 172 197 268  50 147 136 158  23   8  81 276 227 265  15 273 133 224\n",
      "  52   4  74 298 263 210 246 200   6  65 117 252 237  38  97 325 123 284\n",
      "  78 264 181 195 217 223 248  31 108  12 299 271 208 182  40 261 241 243\n",
      " 272  39 281]\n",
      "363\n",
      "##### calendar_last_scraped :\n",
      "['2016-01-04']\n",
      "1\n",
      "##### number_of_reviews :\n",
      "[207  43  20   0  38  17  58 173   8  32 181  13   3  18   1  84  45   5\n",
      "  11  80   6   4  68  62  19   7   2  71   9  41  26  44  10  77 109  52\n",
      " 191  65  16  23  75  86 151 165  48  27  88 244  40  46  14  12  25  35\n",
      "  31 113  15  56  39  79  50  28  57  64  85 125 121 131  49 111  24  81\n",
      " 115  72  74 107 155  98 139  34  36  61  55  53  59  63  21 106  30  97\n",
      "  54  29  37  33 203 182  66  70  69 100  47  83  73 118  60 112  42 135\n",
      "  22  92  78 132  93 124 146 158 270 104  96  99  94 136  51 164  95 141\n",
      " 183 188  89 108  76  67 159 123 168 170 466 474 161 265 319 114 102 240\n",
      " 154 122 105 117 133  82 209 238 137 297 144 127 179 138 190  90 206 166\n",
      " 145 148  91 147 287 101 204 134 320 278 189 175 279 294 263 193 255  87\n",
      " 110 119 404 103 219 156 180 120 277 142 353 150 233 210 128]\n",
      "195\n",
      "##### first_review :\n",
      "['2011-11-01' '2013-08-19' '2014-07-30' nan '2012-07-10' '2015-06-11'\n",
      " '2014-01-27' '2013-01-03' '2015-06-22' '2014-04-27' '2011-07-21'\n",
      " '2015-05-06' '2014-11-09' '2015-12-16' '2015-06-15' '2015-11-25'\n",
      " '2014-06-30' '2015-03-16' '2015-07-07' '2016-01-03' '2014-09-27'\n",
      " '2015-12-01' '2015-07-20' '2015-07-04' '2014-07-06' '2015-10-24'\n",
      " '2015-01-04' '2014-05-01' '2013-06-15' '2015-07-06' '2015-08-07'\n",
      " '2013-10-08' '2015-08-27' '2015-08-04' '2015-05-17' '2015-10-25'\n",
      " '2015-07-22' '2014-10-09' '2014-06-02' '2013-07-29' '2015-07-28'\n",
      " '2015-08-22' '2015-04-18' '2015-10-12' '2015-06-29' '2013-05-05'\n",
      " '2015-12-20' '2015-08-18' '2015-05-16' '2015-09-07' '2014-06-23'\n",
      " '2015-11-20' '2015-09-08' '2014-04-21' '2015-05-29' '2012-11-05'\n",
      " '2015-08-10' '2014-08-28' '2015-09-18' '2015-08-12' '2015-05-25'\n",
      " '2013-06-13' '2014-03-26' '2012-10-15' '2014-09-21' '2015-08-30'\n",
      " '2014-04-14' '2014-02-20' '2014-07-07' '2013-07-09' '2014-10-27'\n",
      " '2015-07-18' '2015-07-05' '2010-07-04' '2015-03-29' '2015-03-15'\n",
      " '2015-09-30' '2015-06-18' '2013-09-05' '2014-08-11' '2014-09-23'\n",
      " '2015-02-02' '2014-06-14' '2015-11-28' '2014-08-30' '2015-08-05'\n",
      " '2015-08-14' '2015-09-03' '2016-01-01' '2015-10-26' '2015-12-05'\n",
      " '2015-05-19' '2013-10-14' '2014-10-12' '2015-01-02' '2015-09-17'\n",
      " '2015-06-07' '2014-07-13' '2015-10-04' '2014-07-28' '2015-07-10'\n",
      " '2014-07-22' '2014-05-25' '2014-08-16' '2015-08-13' '2013-08-09'\n",
      " '2014-03-09' '2014-10-25' '2014-04-20' '2014-11-29' '2015-03-01'\n",
      " '2015-02-12' '2014-05-26' '2015-08-17' '2015-11-13' '2015-05-05'\n",
      " '2015-12-07' '2014-11-23' '2014-08-25' '2015-08-11' '2015-06-20'\n",
      " '2015-09-27' '2014-05-19' '2011-04-23' '2014-01-30' '2011-11-09'\n",
      " '2014-08-08' '2015-06-23' '2014-02-23' '2015-02-13' '2015-05-03'\n",
      " '2015-12-11' '2014-06-12' '2015-10-28' '2015-03-12' '2015-09-21'\n",
      " '2014-10-06' '2015-06-19' '2014-06-01' '2014-01-15' '2013-03-31'\n",
      " '2012-06-25' '2015-09-09' '2015-03-30' '2013-02-19' '2015-12-24'\n",
      " '2014-02-16' '2014-03-03' '2013-03-11' '2014-08-14' '2015-06-21'\n",
      " '2014-08-31' '2015-06-09' '2015-08-03' '2015-05-18' '2015-12-12'\n",
      " '2012-11-11' '2015-12-14' '2015-08-16' '2015-07-27' '2013-07-10'\n",
      " '2014-09-22' '2015-10-07' '2013-04-03' '2014-09-02' '2015-08-09'\n",
      " '2015-07-12' '2015-03-09' '2015-11-10' '2013-09-06' '2013-12-31'\n",
      " '2015-08-15' '2015-12-31' '2015-03-23' '2014-08-01' '2015-05-09'\n",
      " '2015-05-14' '2015-03-08' '2013-06-02' '2015-04-26' '2014-01-13'\n",
      " '2015-11-15' '2015-08-23' '2014-03-17' '2015-09-25' '2015-06-14'\n",
      " '2011-07-20' '2014-10-13' '2015-10-13' '2015-10-18' '2015-10-08'\n",
      " '2015-04-27' '2014-08-10' '2014-02-18' '2013-08-26' '2015-04-12'\n",
      " '2015-07-13' '2015-09-01' '2015-11-09' '2014-07-14' '2015-11-23'\n",
      " '2015-06-13' '2015-08-29' '2014-01-07' '2012-03-06' '2015-01-01'\n",
      " '2015-03-07' '2013-09-04' '2015-11-29' '2012-03-25' '2014-12-08'\n",
      " '2014-11-01' '2015-05-26' '2012-03-13' '2015-05-21' '2014-06-22'\n",
      " '2015-05-24' '2014-05-23' '2013-09-16' '2015-09-23' '2015-05-12'\n",
      " '2014-08-05' '2014-08-03' '2012-08-23' '2013-10-22' '2011-06-20'\n",
      " '2015-06-17' '2014-09-26' '2014-09-12' '2014-06-17' '2014-10-26'\n",
      " '2015-09-14' '2015-07-11' '2011-08-05' '2013-06-24' '2014-07-09'\n",
      " '2015-09-19' '2015-09-24' '2014-10-17' '2014-09-01' '2014-05-28'\n",
      " '2015-08-31' '2013-07-18' '2012-05-17' '2012-06-18' '2010-08-13'\n",
      " '2015-10-06' '2015-02-22' '2014-04-09' '2015-06-28' '2014-07-24'\n",
      " '2015-04-24' '2014-08-12' '2015-09-16' '2015-03-11' '2014-08-27'\n",
      " '2014-10-28' '2015-07-19' '2014-10-05' '2015-11-05' '2015-07-30'\n",
      " '2014-08-13' '2009-07-17' '2014-11-22' '2012-12-02' '2015-12-30'\n",
      " '2015-06-27' '2014-09-08' '2015-06-01' '2014-12-26' '2014-08-15'\n",
      " '2015-03-31' '2011-11-28' '2015-10-19' '2014-08-09' '2015-01-03'\n",
      " '2015-01-06' '2012-09-03' '2012-04-23' '2015-08-26' '2015-08-21'\n",
      " '2014-08-20' '2014-01-18' '2012-08-14' '2014-06-26' '2015-01-18'\n",
      " '2012-09-25' '2012-08-01' '2013-08-29' '2015-02-01' '2010-01-31'\n",
      " '2015-04-30' '2013-06-17' '2013-10-13' '2013-06-03' '2015-12-22'\n",
      " '2011-06-15' '2014-06-28' '2015-10-14' '2015-07-03' '2015-08-08'\n",
      " '2014-09-14' '2015-01-19' '2012-06-13' '2013-10-01' '2014-02-22'\n",
      " '2012-01-21' '2015-04-17' '2013-07-02' '2014-05-20' '2013-08-30'\n",
      " '2014-12-09' '2015-04-19' '2015-07-17' '2015-01-11' '2013-11-08'\n",
      " '2013-12-10' '2015-06-26' '2014-10-21' '2015-06-16' '2014-11-17'\n",
      " '2012-12-17' '2014-05-15' '2015-06-03' '2013-05-02' '2011-07-06'\n",
      " '2014-02-17' '2013-07-08' '2013-09-01' '2015-11-08' '2012-10-04'\n",
      " '2015-05-31' '2014-05-18' '2013-03-27' '2015-05-01' '2012-04-30'\n",
      " '2013-10-06' '2015-09-06' '2012-09-24' '2012-04-17' '2012-11-30'\n",
      " '2015-02-09' '2010-08-09' '2013-12-17' '2015-08-24' '2014-07-26'\n",
      " '2014-10-11' '2011-04-04' '2013-05-19' '2014-07-23' '2015-09-13'\n",
      " '2015-05-23' '2015-12-04' '2015-09-15' '2013-07-17' '2011-07-31'\n",
      " '2013-07-07' '2015-07-16' '2015-07-26' '2014-05-13' '2014-12-27'\n",
      " '2015-03-10' '2013-07-15' '2011-06-28' '2013-02-18' '2013-10-09'\n",
      " '2014-08-24' '2015-11-19' '2012-09-21' '2015-12-21' '2015-12-28'\n",
      " '2015-11-16' '2014-04-29' '2015-11-27' '2015-03-18' '2015-11-04'\n",
      " '2014-07-15' '2013-08-08' '2015-09-22' '2015-11-22' '2014-04-28'\n",
      " '2014-08-06' '2015-10-01' '2015-07-29' '2015-12-13' '2014-09-11'\n",
      " '2015-09-28' '2014-11-05' '2014-06-16' '2014-08-29' '2014-03-31'\n",
      " '2015-06-30' '2013-03-24' '2014-08-17' '2015-10-05' '2015-03-02'\n",
      " '2015-10-21' '2015-03-21' '2014-08-18' '2015-06-10' '2014-07-19'\n",
      " '2015-11-21' '2013-09-03' '2015-12-17' '2015-06-25' '2014-06-27'\n",
      " '2015-07-21' '2013-08-23' '2015-07-09' '2015-02-10' '2014-10-18'\n",
      " '2015-03-28' '2015-07-15' '2014-03-30' '2015-09-05' '2013-10-17'\n",
      " '2015-07-25' '2013-07-26' '2015-08-28' '2012-09-14' '2014-06-15'\n",
      " '2015-12-08' '2015-04-22' '2012-02-15' '2015-12-03' '2013-09-07'\n",
      " '2015-12-02' '2011-06-21' '2013-06-04' '2015-02-14' '2015-07-24'\n",
      " '2015-05-27' '2014-07-02' '2014-12-15' '2014-05-27' '2013-06-27'\n",
      " '2013-08-27' '2012-06-30' '2013-04-26' '2014-01-12' '2015-05-04'\n",
      " '2012-06-07' '2014-06-08' '2015-01-10' '2014-09-18' '2015-09-12'\n",
      " '2014-11-30' '2014-03-24' '2014-06-07' '2013-06-16' '2012-05-08'\n",
      " '2013-12-30' '2014-12-16' '2015-08-25' '2013-10-20' '2014-11-03'\n",
      " '2014-12-29' '2015-02-16' '2014-01-02' '2014-08-04' '2014-01-11'\n",
      " '2015-08-02' '2013-06-20' '2015-03-06' '2015-03-03' '2013-11-22'\n",
      " '2014-07-01' '2015-03-24' '2015-01-13' '2015-07-14' '2015-11-02'\n",
      " '2014-03-25' '2012-06-29' '2012-11-03' '2015-11-14' '2015-12-06'\n",
      " '2015-04-20' '2015-12-10' '2013-07-01' '2015-06-08' '2015-09-29'\n",
      " '2014-10-14' '2014-05-11' '2014-08-21' '2015-04-28' '2013-06-08'\n",
      " '2011-05-31' '2014-09-29' '2013-09-17' '2012-04-02' '2015-09-04'\n",
      " '2013-09-10' '2014-07-27' '2015-03-25' '2015-04-09' '2014-12-03'\n",
      " '2014-09-16' '2015-12-27' '2013-07-24' '2014-12-28' '2014-11-15'\n",
      " '2013-07-13' '2015-09-20' '2012-02-19' '2015-08-19' '2014-11-02'\n",
      " '2013-03-28' '2013-07-22' '2011-08-03' '2012-05-21' '2014-12-23'\n",
      " '2014-10-30' '2013-01-20' '2013-08-02' '2015-05-22' '2015-12-23'\n",
      " '2015-11-12' '2015-12-29' '2013-04-02' '2015-09-11' '2012-10-30'\n",
      " '2013-10-29' '2012-12-13' '2014-01-05' '2015-03-22' '2012-08-10'\n",
      " '2015-08-01' '2015-01-26' '2015-08-20' '2014-11-24' '2015-10-30'\n",
      " '2011-06-07' '2015-02-08' '2011-11-13' '2012-04-10' '2015-10-03'\n",
      " '2015-02-18' '2012-06-03' '2014-07-20' '2014-06-11' '2015-12-09'\n",
      " '2014-03-07' '2010-09-04' '2015-10-02' '2013-08-15' '2015-04-13'\n",
      " '2014-12-01' '2010-03-23' '2014-07-16' '2013-03-14' '2014-10-04'\n",
      " '2015-05-10' '2014-10-20' '2014-12-07' '2015-06-02' '2015-05-20'\n",
      " '2013-12-01' '2014-03-02' '2013-10-28' '2015-04-06' '2014-12-13'\n",
      " '2014-10-29' '2015-02-25' '2013-02-22' '2014-09-07' '2012-09-04'\n",
      " '2015-01-05' '2011-10-21' '2014-07-11' '2015-10-20' '2015-06-05'\n",
      " '2010-12-24' '2015-10-27' '2014-09-19' '2013-10-05' '2011-11-06'\n",
      " '2014-09-25' '2013-12-07' '2014-11-10' '2013-11-13' '2012-03-17'\n",
      " '2014-03-10' '2014-07-04' '2015-10-15' '2010-11-02' '2015-05-07'\n",
      " '2014-04-01' '2011-12-12' '2015-04-04' '2015-02-21' '2010-07-08'\n",
      " '2014-05-22' '2015-02-07' '2012-01-30' '2012-01-17' '2015-10-11'\n",
      " '2013-11-04' '2014-12-24' '2013-09-15' '2013-04-01' '2015-02-28'\n",
      " '2011-12-27' '2013-09-23' '2014-12-14' '2013-09-30' '2014-05-24'\n",
      " '2015-06-04' '2010-12-15' '2011-11-23' '2013-08-11' '2015-11-11'\n",
      " '2012-08-13' '2012-03-24' '2011-09-05' '2015-12-19' '2015-09-26'\n",
      " '2015-10-31' '2014-03-08' '2012-04-01' '2013-09-13' '2014-08-26'\n",
      " '2014-10-19' '2015-11-07' '2014-01-06' '2015-01-09' '2012-07-27'\n",
      " '2013-09-09' '2011-05-25' '2014-02-11' '2015-07-02' '2015-03-13'\n",
      " '2015-09-10' '2013-10-18' '2014-04-26' '2015-09-02' '2014-02-02'\n",
      " '2013-11-12' '2014-02-26' '2015-05-15' '2015-01-25' '2012-05-04'\n",
      " '2013-12-02' '2013-06-06' '2014-06-24' '2014-10-10' '2012-06-05'\n",
      " '2013-01-29' '2014-07-08' '2014-07-18' '2015-02-17' '2012-07-03'\n",
      " '2009-08-31' '2013-06-22' '2014-05-16' '2014-11-04' '2013-06-09'\n",
      " '2015-04-05' '2014-09-03' '2013-10-15' '2012-02-28' '2014-06-29'\n",
      " '2014-04-07' '2015-11-01' '2014-07-25' '2015-10-16' '2014-12-22'\n",
      " '2015-04-11' '2014-12-21' '2014-06-21' '2013-04-21' '2014-12-10'\n",
      " '2014-06-06' '2013-06-01' '2011-08-14' '2013-03-16' '2014-07-12'\n",
      " '2015-04-10' '2014-07-31' '2014-06-18' '2014-08-23' '2011-08-16'\n",
      " '2012-06-04' '2015-07-31' '2014-05-05' '2015-02-15' '2012-06-06'\n",
      " '2011-05-09' '2013-06-29' '2011-11-07' '2015-02-05' '2012-04-03'\n",
      " '2014-05-31' '2012-11-12' '2014-03-29' '2012-07-29' '2014-06-09'\n",
      " '2015-03-14' '2012-04-28' '2011-04-29' '2013-08-07' '2015-04-23'\n",
      " '2012-06-19' '2012-01-15' '2012-01-12' '2010-06-10' '2010-09-01'\n",
      " '2015-01-20' '2015-01-28' '2011-07-05' '2012-02-11' '2015-05-08'\n",
      " '2011-07-28' '2014-11-25' '2014-07-29' '2014-06-25' '2013-12-22'\n",
      " '2010-08-26' '2014-09-30' '2011-06-19' '2014-04-17' '2015-07-23'\n",
      " '2015-07-01' '2012-08-20' '2013-03-26' '2015-10-10' '2013-01-06'\n",
      " '2015-02-11' '2014-06-20' '2013-02-08' '2015-12-15' '2012-10-02'\n",
      " '2012-07-20' '2014-06-13' '2015-04-15' '2013-05-13' '2014-12-25'\n",
      " '2012-07-06' '2014-09-28' '2014-03-06' '2015-04-02' '2013-08-10'\n",
      " '2011-04-20' '2013-04-25' '2012-07-30' '2014-09-10' '2014-04-25'\n",
      " '2014-01-14' '2012-07-24' '2012-08-19' '2012-03-20' '2013-12-14'\n",
      " '2015-06-12' '2013-05-26' '2011-06-23' '2013-12-13' '2012-05-06'\n",
      " '2016-01-02' '2012-12-03' '2013-11-23' '2012-02-06' '2015-07-08'\n",
      " '2012-12-23' '2014-10-23' '2015-01-16' '2013-06-10' '2014-08-07'\n",
      " '2010-03-21' '2015-10-22' '2013-04-29' '2011-08-19' '2013-12-28'\n",
      " '2013-12-03' '2014-02-10' '2011-11-05' '2012-07-09' '2014-05-14'\n",
      " '2013-07-23' '2015-12-26' '2014-05-12' '2013-11-28' '2014-07-10'\n",
      " '2012-11-28' '2012-12-11' '2014-01-01' '2013-08-06' '2015-05-28'\n",
      " '2014-10-31' '2014-09-20' '2013-08-05' '2012-12-21' '2014-10-22'\n",
      " '2014-03-16' '2013-10-02' '2015-10-29' '2014-04-13' '2013-03-04'\n",
      " '2011-03-09' '2014-01-20' '2014-04-15' '2012-06-27' '2014-03-01'\n",
      " '2014-10-07' '2015-02-04' '2009-10-02' '2012-12-15' '2010-06-18'\n",
      " '2015-04-03' '2015-02-24' '2010-02-13' '2013-02-01' '2014-02-19'\n",
      " '2010-06-13' '2014-08-19' '2014-12-18' '2013-11-26' '2012-03-30'\n",
      " '2010-10-18' '2011-12-19' '2015-11-24' '2015-11-17' '2014-11-08'\n",
      " '2014-09-09' '2013-09-02' '2015-01-14' '2015-04-21' '2012-06-24'\n",
      " '2014-04-02' '2012-06-08' '2011-08-26' '2014-05-21' '2014-05-07'\n",
      " '2012-10-23' '2015-01-21' '2013-12-23' '2013-05-07' '2014-03-11'\n",
      " '2010-12-16' '2012-07-16' '2011-06-17' '2014-11-11' '2011-08-29'\n",
      " '2011-11-30' '2013-02-11' '2013-02-04' '2013-10-21' '2013-03-30'\n",
      " '2015-02-06' '2012-08-21' '2014-07-05' '2012-12-28' '2014-01-03'\n",
      " '2014-01-21' '2013-05-10' '2013-12-25' '2015-04-07' '2012-01-10'\n",
      " '2013-01-25' '2013-04-06' '2012-04-16' '2012-08-12' '2013-10-27'\n",
      " '2014-11-27' '2013-09-18' '2009-06-07' '2015-11-18' '2014-03-27'\n",
      " '2012-10-03' '2015-11-03' '2015-02-03' '2013-05-12' '2015-03-05'\n",
      " '2012-05-29' '2013-03-02' '2013-04-28' '2015-02-23' '2014-02-03'\n",
      " '2012-10-21' '2014-09-13' '2013-12-20' '2012-06-22' '2012-05-23'\n",
      " '2013-02-26' '2013-10-30' '2013-04-22' '2015-12-25' '2013-07-31'\n",
      " '2014-09-06' '2013-06-07' '2012-06-12' '2012-02-13' '2012-09-26'\n",
      " '2013-09-20' '2015-01-27' '2010-09-21' '2012-08-05' '2013-03-18'\n",
      " '2010-06-22' '2015-01-29' '2014-05-04' '2014-04-16' '2014-07-17'\n",
      " '2013-06-19' '2014-04-22' '2013-08-04' '2011-10-03' '2014-08-22'\n",
      " '2012-06-10' '2015-06-06' '2012-03-02' '2012-05-27' '2014-11-28'\n",
      " '2010-04-23' '2014-04-11' '2013-07-04' '2014-02-09' '2012-10-01'\n",
      " '2012-09-09' '2013-06-25' '2015-01-12' '2013-05-27' '2011-07-25'\n",
      " '2012-07-17' '2014-08-02' '2015-10-17' '2011-01-27' '2011-01-18'\n",
      " '2010-09-13' '2010-09-26' '2013-07-11' '2011-07-30' '2011-08-01'\n",
      " '2013-11-25' '2013-08-12' '2011-06-26' '2013-11-27' '2012-01-31'\n",
      " '2012-04-20' '2015-01-17' '2013-05-20' '2013-06-18' '2012-11-27'\n",
      " '2010-11-05' '2010-08-02' '2015-03-20' '2014-05-29' '2014-03-22'\n",
      " '2014-03-28' '2011-09-06' '2013-04-08' '2013-01-14' '2012-09-18'\n",
      " '2010-07-30' '2012-11-26' '2011-03-28' '2013-05-03' '2011-10-11'\n",
      " '2013-09-19' '2013-04-11' '2010-09-08' '2013-07-14' '2015-04-14'\n",
      " '2013-01-02' '2014-03-23' '2012-05-30' '2015-03-04' '2012-06-28'\n",
      " '2013-01-09' '2012-09-11' '2014-06-03' '2010-10-22' '2010-11-18'\n",
      " '2015-05-02' '2013-05-14' '2015-04-29' '2012-05-19' '2012-05-15'\n",
      " '2015-04-01' '2014-06-04' '2013-09-29' '2011-06-14' '2015-10-09'\n",
      " '2013-03-12' '2012-07-01' '2014-11-21' '2015-12-18']\n",
      "985\n",
      "##### last_review :\n",
      "['2016-01-02' '2015-12-29' '2015-09-03' nan '2015-10-24' '2015-09-28'\n",
      " '2015-12-07' '2016-01-01' '2015-08-17' '2015-12-20' '2015-11-25'\n",
      " '2015-12-16' '2015-10-02' '2015-11-15' '2015-11-06' '2015-08-10'\n",
      " '2016-01-03' '2015-10-18' '2015-12-01' '2015-07-20' '2015-09-02'\n",
      " '2015-07-25' '2015-10-11' '2015-12-21' '2015-12-03' '2015-11-12'\n",
      " '2015-11-29' '2015-12-08' '2015-12-18' '2015-08-19' '2015-10-29'\n",
      " '2015-07-31' '2015-12-31' '2015-09-20' '2015-06-29' '2015-12-28'\n",
      " '2015-12-12' '2015-09-08' '2015-12-14' '2015-10-08' '2015-09-21'\n",
      " '2015-05-29' '2015-12-13' '2015-06-01' '2015-10-14' '2015-07-17'\n",
      " '2015-12-26' '2015-11-13' '2015-08-07' '2015-03-29' '2015-10-04'\n",
      " '2015-12-30' '2015-02-02' '2015-11-02' '2015-11-07' '2015-12-19'\n",
      " '2015-12-05' '2015-10-10' '2015-12-27' '2015-09-30' '2015-12-23'\n",
      " '2015-10-25' '2015-09-26' '2015-11-28' '2015-05-26' '2015-08-11'\n",
      " '2015-10-12' '2015-09-07' '2015-12-04' '2015-10-26' '2015-09-27'\n",
      " '2015-12-02' '2015-10-05' '2014-12-02' '2015-10-06' '2015-07-30'\n",
      " '2015-07-28' '2015-12-15' '2015-09-14' '2015-09-09' '2015-10-20'\n",
      " '2015-11-01' '2015-08-27' '2015-07-27' '2015-12-25' '2015-11-27'\n",
      " '2015-12-22' '2013-04-03' '2015-08-30' '2015-11-21' '2015-11-10'\n",
      " '2015-08-15' '2015-10-03' '2015-11-18' '2015-10-19' '2015-03-08'\n",
      " '2015-12-11' '2015-11-17' '2015-11-23' '2015-12-17' '2015-09-25'\n",
      " '2015-08-08' '2015-08-31' '2015-09-01' '2015-11-09' '2015-09-29'\n",
      " '2015-03-07' '2015-12-06' '2014-02-23' '2014-12-28' '2014-11-17'\n",
      " '2015-08-22' '2015-10-30' '2015-11-22' '2015-04-15' '2015-11-16'\n",
      " '2015-08-29' '2015-09-19' '2015-09-24' '2015-09-05' '2015-12-09'\n",
      " '2015-12-24' '2015-07-14' '2015-04-12' '2015-10-22' '2014-08-29'\n",
      " '2015-09-06' '2015-11-08' '2015-09-16' '2014-12-01' '2015-08-25'\n",
      " '2014-12-31' '2015-09-11' '2015-07-11' '2015-09-17' '2015-04-20'\n",
      " '2015-05-04' '2015-08-26' '2015-08-21' '2015-08-01' '2015-09-22'\n",
      " '2014-11-27' '2015-10-21' '2015-11-20' '2015-10-07' '2015-10-09'\n",
      " '2015-11-04' '2014-07-11' '2015-08-28' '2013-09-16' '2013-11-08'\n",
      " '2015-11-03' '2015-08-02' '2015-06-09' '2015-07-13' '2015-05-28'\n",
      " '2013-09-01' '2012-10-04' '2015-10-31' '2015-10-13' '2015-05-01'\n",
      " '2015-08-24' '2015-10-01' '2015-07-18' '2015-08-09' '2015-09-15'\n",
      " '2014-09-02' '2015-09-13' '2015-08-14' '2015-06-03' '2015-07-26'\n",
      " '2015-11-14' '2015-06-18' '2015-08-23' '2015-11-11' '2015-09-23'\n",
      " '2015-11-19' '2015-06-21' '2015-06-19' '2015-07-12' '2015-07-24'\n",
      " '2015-06-22' '2014-08-30' '2014-11-09' '2015-08-04' '2015-06-25'\n",
      " '2015-09-18' '2014-10-17' '2015-03-28' '2015-08-16' '2015-06-12'\n",
      " '2014-09-03' '2015-10-16' '2014-04-22' '2015-08-18' '2014-08-01'\n",
      " '2015-07-15' '2015-06-28' '2015-09-10' '2015-07-06' '2015-08-20'\n",
      " '2015-03-22' '2015-12-10' '2014-08-25' '2015-10-15' '2014-09-19'\n",
      " '2015-06-20' '2015-09-12' '2014-11-02' '2013-12-28' '2015-10-28'\n",
      " '2015-11-05' '2015-10-27' '2015-07-05' '2015-02-03' '2015-06-23'\n",
      " '2012-08-06' '2015-06-14' '2015-05-02' '2015-06-24' '2015-06-15'\n",
      " '2015-08-13' '2015-02-16' '2015-01-18' '2015-01-04' '2015-10-17'\n",
      " '2014-10-18' '2014-03-04' '2014-08-02' '2015-07-07' '2015-05-31'\n",
      " '2015-07-19' '2014-09-11' '2015-01-09' '2013-10-17' '2015-07-02'\n",
      " '2013-10-18' '2015-07-01' '2014-11-01' '2015-08-05' '2015-07-10'\n",
      " '2015-11-26' '2015-03-01' '2015-01-12' '2015-07-03' '2014-12-16'\n",
      " '2015-05-30' '2014-07-10' '2012-06-06' '2014-05-31' '2015-07-09'\n",
      " '2012-04-02' '2015-01-28' '2011-09-17' '2015-09-04' '2013-04-26'\n",
      " '2015-02-11' '2015-04-13' '2015-07-04' '2015-05-25' '2014-01-14'\n",
      " '2013-12-04' '2014-07-22' '2014-03-01' '2015-03-19' '2014-10-13'\n",
      " '2014-06-19' '2015-05-19' '2015-06-27' '2014-10-12' '2012-11-28'\n",
      " '2014-10-25' '2015-01-01' '2015-06-13' '2014-08-11' '2015-08-03'\n",
      " '2014-08-09' '2014-12-18' '2014-08-14' '2014-08-17' '2014-11-03'\n",
      " '2015-01-03' '2015-06-08' '2014-09-13' '2015-05-16' '2015-03-13'\n",
      " '2015-03-05' '2014-09-24' '2014-09-01' '2015-07-21' '2014-10-26'\n",
      " '2013-09-03' '2012-03-04' '2015-03-23' '2015-08-12' '2014-09-08'\n",
      " '2014-11-18' '2015-04-27' '2015-04-26' '2015-04-10' '2014-09-30'\n",
      " '2015-05-18' '2013-08-19' '2014-12-22' '2015-04-23' '2015-05-27'\n",
      " '2015-05-23' '2015-07-08' '2015-02-12' '2015-02-17' '2015-04-02'\n",
      " '2015-06-30' '2014-06-27' '2015-11-30' '2014-08-21' '2015-01-25'\n",
      " '2014-06-12' '2013-12-30' '2014-04-14' '2014-08-12' '2015-04-29'\n",
      " '2015-05-12']\n",
      "322\n",
      "##### review_scores_rating :\n",
      "[ 95.  96.  97.  nan  92.  99.  98. 100.  80.  85.  84.  88.  75.  90.\n",
      "  91.  94.  93.  77.  89.  71.  82.  87.  73.  83.  86.  76.  78.  66.\n",
      "  74.  60.  64.  70.  68.  72.  40.  79.  55.  20.  67.  57.  65.  53.\n",
      "  81.]\n",
      "43\n",
      "##### review_scores_accuracy :\n",
      "[10. nan  9.  8.  6.  7.  4.  2.]\n",
      "8\n",
      "##### review_scores_cleanliness :\n",
      "[10. nan  9.  8.  7.  6.  5.  4.  3.]\n",
      "9\n",
      "##### review_scores_checkin :\n",
      "[10. nan  9.  8.  7.  4.  6.  5.  2.]\n",
      "9\n",
      "##### review_scores_communication :\n",
      "[10. nan  9.  8.  6.  4.  7.  2.  5.]\n",
      "9\n",
      "##### review_scores_location :\n",
      "[ 9. 10. nan  8.  7.  4.  6.]\n",
      "7\n",
      "##### review_scores_value :\n",
      "[10. nan  9.  8.  7.  6.  4.  2.  5.]\n",
      "9\n",
      "##### requires_license :\n",
      "['f']\n",
      "1\n",
      "##### license :\n",
      "[nan]\n",
      "1\n",
      "##### jurisdiction_names :\n",
      "['WASHINGTON']\n",
      "1\n",
      "##### instant_bookable :\n",
      "['f' 't']\n",
      "2\n",
      "##### cancellation_policy :\n",
      "['moderate' 'strict' 'flexible']\n",
      "3\n",
      "##### require_guest_profile_picture :\n",
      "['f' 't']\n",
      "2\n",
      "##### require_guest_phone_verification :\n",
      "['f' 't']\n",
      "2\n",
      "##### calculated_host_listings_count :\n",
      "[ 2  6  1  5  8  3 31  4  7 37 10 34 21 11 12  9 15 18]\n",
      "18\n",
      "##### reviews_per_month :\n",
      "[ 4.07  1.48  1.15   nan  0.89  2.45  2.46  4.73  1.22  1.55  3.33  0.98\n",
      "  0.92  3.    2.65  0.73  4.55  4.58  0.82  1.    0.71  0.86  0.18  1.3\n",
      "  4.38  2.47  0.33  1.86  2.18  1.31  0.99  2.27  4.35  0.97  0.9   0.83\n",
      "  1.98  4.7   0.46  1.38  3.35  1.99  2.29  1.06  0.16  0.8   2.    0.64\n",
      "  5.64  2.5   4.12  0.25  5.24  7.06  4.96  1.82  3.94  1.01  3.29  3.07\n",
      "  1.44  3.46  4.43  3.85  0.38  3.75  7.84  2.11  0.26  0.3   6.07  1.75\n",
      "  3.64  0.11  4.05  0.62  6.87  0.77  0.09  3.39  1.84  3.95  1.89  1.37\n",
      "  3.87  3.38  0.65  0.96  7.53  5.87  1.91  2.05  6.23  3.11  3.55  2.22\n",
      "  1.68  0.34  0.2   4.67  5.32  5.79  0.68  2.56  2.61  7.2   0.22  1.65\n",
      "  0.61  0.85  3.96  2.82  2.87  3.86  1.21  1.25  4.28  5.15  2.59  2.85\n",
      "  4.29  4.89  4.51  3.4   0.47  5.22  5.02  1.58 12.15  0.95  4.79  2.14\n",
      "  0.28  3.31  3.57  1.24  2.7   3.3   5.63  0.29  9.14  1.04  2.52  5.92\n",
      "  3.15  4.59  0.32  5.    0.03  0.31  0.6   2.88  3.08  7.18  0.54  0.35\n",
      "  0.21  1.41  3.48  0.5   2.92  0.1   1.93  5.91  0.59  2.67  1.71  2.57\n",
      "  2.41  3.82  0.63  4.68  0.53  2.66  5.81  3.45  1.02  2.76  1.7   0.14\n",
      "  1.07  0.37  1.57  1.53  1.67  0.24  6.39  4.19  1.46  4.88  1.42  6.82\n",
      "  4.37  0.51  2.78  3.18  0.81  2.86  2.3   1.88  0.67  2.09  1.97  5.71\n",
      "  3.6   0.87  1.39  0.23  0.69  1.49  1.83  3.16  1.35  0.13  5.38  1.79\n",
      "  1.85  1.17  2.75  0.94  0.39  4.31  2.38  3.01  2.77  1.32  4.06  0.79\n",
      "  1.29  0.27  2.25  4.23  1.73  1.51  0.88  0.41  6.57  0.19  0.66  0.36\n",
      "  0.43  4.56  5.27  3.98  3.72  4.18  1.76  1.69  4.52  2.16  1.12  2.63\n",
      "  0.58  3.43  0.72  5.88  2.74  0.7   1.54  1.61  0.44  2.23  2.64  0.04\n",
      "  3.54  2.89  0.07  3.17  4.26  7.5   2.07  6.1   2.54  5.98  1.92  1.13\n",
      "  2.34  1.36  1.18  3.02  2.48  1.62  5.62  2.51  2.06  7.02  0.12  4.36\n",
      "  4.57  0.45  3.25  1.74  0.4   7.63  0.57  4.39  1.4   1.72  3.91  4.97\n",
      "  2.9   1.94  2.19  6.43  1.64  1.6   1.1   4.11  6.22  1.28  3.58  4.63\n",
      "  0.48  2.6   5.35  2.21  0.15  5.08  2.81  3.24  2.04  4.    1.34  2.24\n",
      "  3.22  6.9   5.53  5.42  5.07  5.26  2.69  2.4   2.94  1.5   3.28  3.56\n",
      "  0.42  4.45  4.74  3.1   3.88  3.44  0.52  5.8   3.63  0.74  1.23  2.35\n",
      "  0.91  1.11  6.92  3.77  8.31  4.27  7.57  3.19  3.62  0.75  2.53  3.7\n",
      "  2.33  3.13  1.14  7.    0.84  3.61  3.83  2.31  4.17  4.92  2.17  8.73\n",
      "  1.8   2.13  4.83  2.62  9.34  4.66  3.21  0.78  2.28  2.39  2.42  2.15\n",
      "  1.05  5.68  1.09  3.37  3.2   1.27  1.56  5.04  3.12  2.83  3.41  1.63\n",
      "  2.36  3.09  5.41  5.34  5.19  3.03  3.74  4.21  4.46  2.95  4.22  2.79\n",
      "  1.26  8.55  0.93  6.35  4.9   7.75  2.99  0.56  6.32  6.    4.4   2.71\n",
      "  7.78  2.73 11.01  7.32  5.43  4.85  4.72  3.81  1.19  1.66  3.52  0.17\n",
      "  4.71  2.01  2.68  5.99  2.37  4.24  1.33  0.49  2.08  2.8   2.93  6.16\n",
      "  4.02  3.79  6.59  0.76  4.15  3.53  6.94  4.82  3.89  0.55  1.96  3.51\n",
      "  9.47  1.81  3.65  7.79  9.08  1.9   4.34  1.77  5.33  3.42  6.09  7.19\n",
      "  5.84  5.82  4.91  8.67 10.12  3.5   8.05  8.98  8.94  6.53 10.    4.44\n",
      "  2.02  0.06  0.08  0.05  4.95  4.16  4.32  6.68  6.47  8.17  5.29  6.7\n",
      "  4.98  7.94  2.2   6.33  2.44  8.95  4.64  2.84  3.68  1.2   7.61  3.69\n",
      "  3.04  2.26  2.43  4.62  1.59  3.78  5.12  3.23  5.28  6.37  4.41  4.3\n",
      "  3.36  3.84  4.04  4.6   0.02  1.52  4.75  3.32  3.27  4.87  5.13  5.61\n",
      "  7.39  1.47  5.83  4.53  2.12  6.98  4.14  4.5   6.93  6.91  2.1   6.21\n",
      "  4.1   3.92  1.87  3.26  1.16  4.94  1.03  5.9   2.03  1.95 10.95  2.91\n",
      "  6.73  4.8   9.72  3.14  9.63  5.52  3.59  3.99  7.01  1.43  5.85 10.27\n",
      "  4.77  6.65  2.55  5.01  4.69  7.74  6.28  5.23  3.05  1.08  4.2   7.6\n",
      "  5.94  6.04  5.45  3.8   2.97  6.14  3.49  4.48  9.7   6.86  6.46  5.49\n",
      "  5.2   7.07  6.15  6.42  6.71  5.57  5.7   7.45  2.98  7.59  6.06  6.02\n",
      "  7.24  4.47  3.66  8.09  2.96  9.38  3.47  5.54  9.    5.25  6.83  3.06\n",
      "  2.72  7.66  8.38  6.96  4.93  4.54  5.56  5.78 10.61  5.55  5.11  3.71\n",
      "  3.34  1.45  5.59  5.1   7.96  8.18  6.12  6.6   5.96  5.36  5.75  5.76\n",
      "  5.31  8.5   4.81  2.58  8.46  4.01  5.74  3.67  4.08  5.73  4.13  7.15\n",
      "  5.44  8.01  3.9   5.3   7.72  6.2   5.95]\n",
      "655\n"
     ]
    }
   ],
   "source": [
    "for col in df.columns:\n",
    "    print(\"#####\",col,\":\")\n",
    "    print(df[col].unique())\n",
    "    print(len(df[col].unique()))"
   ]
  },
  {
   "cell_type": "markdown",
   "id": "0204a67c",
   "metadata": {},
   "source": [
    "### Insights:\n",
    "\n",
    "- From the Non-Null Count, we can see that we will be dealing with a lot of missing data and some columns such as \"license\" and \"square_feet\".\n",
    "\n",
    "\n",
    "- Numerical columns (e.g. \"security_deposit\", \"cleaning_fee\", and \"monthly_price\" ) have Dtype=object, because they contain the values as string with the currency (e.g. \"$125.00\") \n",
    "\n",
    "\n",
    "\n",
    "- Boolean columns (e.g. \"require_guest_profile_picture\") have Dtype=objectm because they contain the values as string of (\"t\" and \"f\")\n",
    "\n",
    "\n",
    "\n",
    "- Some features are not very informative as they have only one unique value, such as \"scrape_id\", \"last_scraped\", and \"experiences_offered\". Also, feature \"state\" containes two unique values that are identical \"WA\" and \"wa\", so it needs pre-processing Capitalization.\n",
    "\n",
    "\n",
    "- The unique values in certain columns (e.g., \"host_location\") are not informative enough such as the value \"We live in the house upstairs from the rental flat\" or not specific enough such as \"US\", \"SG\", and \"FR\".\n",
    "\n",
    "\n",
    "- Some features contains values in language other than English   (e.g., \"smart_location\" and \"city\") "
   ]
  },
  {
   "cell_type": "markdown",
   "id": "7f3e7649",
   "metadata": {},
   "source": [
    "## Data wrangling"
   ]
  },
  {
   "cell_type": "markdown",
   "id": "c42f9bda",
   "metadata": {},
   "source": [
    "Drop features with only one value"
   ]
  },
  {
   "cell_type": "code",
   "execution_count": 5,
   "id": "4f77ab7c",
   "metadata": {},
   "outputs": [
    {
     "name": "stdout",
     "output_type": "stream",
     "text": [
      "Drop features with only one value: ['scrape_id', 'last_scraped', 'experiences_offered', 'state', 'market', 'country_code', 'country', 'has_availability', 'calendar_last_scraped', 'requires_license', 'license', 'jurisdiction_names']\n"
     ]
    }
   ],
   "source": [
    "# Capitilize the values state column\n",
    "df[\"state\"] = df[\"state\"].apply(lambda x : x.upper () )\n",
    "# list of features with only one unique value\n",
    "feat = [col for col in df.columns if len(df[col].unique())==1]\n",
    "print(\"Drop features with only one value:\", feat )\n",
    "df.drop(columns = feat, inplace =True)"
   ]
  },
  {
   "cell_type": "markdown",
   "id": "7aaaa56c",
   "metadata": {},
   "source": [
    "Drop features where the number of null values > 50% of the total dataset size"
   ]
  },
  {
   "cell_type": "code",
   "execution_count": 6,
   "id": "b7996412",
   "metadata": {},
   "outputs": [
    {
     "name": "stdout",
     "output_type": "stream",
     "text": [
      "Drop features with number of null values > 50% : ['square_feet', 'monthly_price', 'security_deposit']\n"
     ]
    }
   ],
   "source": [
    "half = len(df)//2\n",
    "feat = [col for col in df.columns if df[col].isna().sum()>half]\n",
    "print(\"Drop features with number of null values > 50% :\", feat )\n",
    "df.drop(columns = feat, inplace =True)"
   ]
  },
  {
   "cell_type": "markdown",
   "id": "77228147",
   "metadata": {},
   "source": [
    "Keep only the features needed to answer the 3 stated questions."
   ]
  },
  {
   "cell_type": "code",
   "execution_count": 7,
   "id": "61592a21",
   "metadata": {},
   "outputs": [
    {
     "data": {
      "text/html": [
       "<div>\n",
       "<style scoped>\n",
       "    .dataframe tbody tr th:only-of-type {\n",
       "        vertical-align: middle;\n",
       "    }\n",
       "\n",
       "    .dataframe tbody tr th {\n",
       "        vertical-align: top;\n",
       "    }\n",
       "\n",
       "    .dataframe thead th {\n",
       "        text-align: right;\n",
       "    }\n",
       "</style>\n",
       "<table border=\"1\" class=\"dataframe\">\n",
       "  <thead>\n",
       "    <tr style=\"text-align: right;\">\n",
       "      <th></th>\n",
       "      <th>id</th>\n",
       "      <th>name</th>\n",
       "      <th>host_id</th>\n",
       "      <th>neighbourhood_cleansed</th>\n",
       "      <th>neighbourhood_group_cleansed</th>\n",
       "      <th>property_type</th>\n",
       "      <th>price</th>\n",
       "      <th>review_scores_rating</th>\n",
       "      <th>calculated_host_listings_count</th>\n",
       "    </tr>\n",
       "  </thead>\n",
       "  <tbody>\n",
       "    <tr>\n",
       "      <th>0</th>\n",
       "      <td>241032</td>\n",
       "      <td>Stylish Queen Anne Apartment</td>\n",
       "      <td>956883</td>\n",
       "      <td>West Queen Anne</td>\n",
       "      <td>Queen Anne</td>\n",
       "      <td>Apartment</td>\n",
       "      <td>$85.00</td>\n",
       "      <td>95.0</td>\n",
       "      <td>2</td>\n",
       "    </tr>\n",
       "    <tr>\n",
       "      <th>1</th>\n",
       "      <td>953595</td>\n",
       "      <td>Bright &amp; Airy Queen Anne Apartment</td>\n",
       "      <td>5177328</td>\n",
       "      <td>West Queen Anne</td>\n",
       "      <td>Queen Anne</td>\n",
       "      <td>Apartment</td>\n",
       "      <td>$150.00</td>\n",
       "      <td>96.0</td>\n",
       "      <td>6</td>\n",
       "    </tr>\n",
       "    <tr>\n",
       "      <th>2</th>\n",
       "      <td>3308979</td>\n",
       "      <td>New Modern House-Amazing water view</td>\n",
       "      <td>16708587</td>\n",
       "      <td>West Queen Anne</td>\n",
       "      <td>Queen Anne</td>\n",
       "      <td>House</td>\n",
       "      <td>$975.00</td>\n",
       "      <td>97.0</td>\n",
       "      <td>2</td>\n",
       "    </tr>\n",
       "    <tr>\n",
       "      <th>3</th>\n",
       "      <td>7421966</td>\n",
       "      <td>Queen Anne Chateau</td>\n",
       "      <td>9851441</td>\n",
       "      <td>West Queen Anne</td>\n",
       "      <td>Queen Anne</td>\n",
       "      <td>Apartment</td>\n",
       "      <td>$100.00</td>\n",
       "      <td>NaN</td>\n",
       "      <td>1</td>\n",
       "    </tr>\n",
       "    <tr>\n",
       "      <th>4</th>\n",
       "      <td>278830</td>\n",
       "      <td>Charming craftsman 3 bdm house</td>\n",
       "      <td>1452570</td>\n",
       "      <td>West Queen Anne</td>\n",
       "      <td>Queen Anne</td>\n",
       "      <td>House</td>\n",
       "      <td>$450.00</td>\n",
       "      <td>92.0</td>\n",
       "      <td>1</td>\n",
       "    </tr>\n",
       "  </tbody>\n",
       "</table>\n",
       "</div>"
      ],
      "text/plain": [
       "        id                                 name   host_id  \\\n",
       "0   241032         Stylish Queen Anne Apartment    956883   \n",
       "1   953595   Bright & Airy Queen Anne Apartment   5177328   \n",
       "2  3308979  New Modern House-Amazing water view  16708587   \n",
       "3  7421966                   Queen Anne Chateau   9851441   \n",
       "4   278830       Charming craftsman 3 bdm house   1452570   \n",
       "\n",
       "  neighbourhood_cleansed neighbourhood_group_cleansed property_type    price  \\\n",
       "0        West Queen Anne                   Queen Anne     Apartment   $85.00   \n",
       "1        West Queen Anne                   Queen Anne     Apartment  $150.00   \n",
       "2        West Queen Anne                   Queen Anne         House  $975.00   \n",
       "3        West Queen Anne                   Queen Anne     Apartment  $100.00   \n",
       "4        West Queen Anne                   Queen Anne         House  $450.00   \n",
       "\n",
       "   review_scores_rating  calculated_host_listings_count  \n",
       "0                  95.0                               2  \n",
       "1                  96.0                               6  \n",
       "2                  97.0                               2  \n",
       "3                   NaN                               1  \n",
       "4                  92.0                               1  "
      ]
     },
     "execution_count": 7,
     "metadata": {},
     "output_type": "execute_result"
    }
   ],
   "source": [
    "keep = ['id','name', 'host_id', 'calculated_host_listings_count',  'neighbourhood_group_cleansed', 'neighbourhood_cleansed',\"property_type\", \"price\", \"review_scores_rating\"]\n",
    "df.drop(columns = [i for i in df.columns.tolist() if i not in keep] , inplace =True)\n",
    "df.head()"
   ]
  },
  {
   "cell_type": "code",
   "execution_count": 8,
   "id": "3ee7d898",
   "metadata": {},
   "outputs": [
    {
     "name": "stdout",
     "output_type": "stream",
     "text": [
      "<class 'pandas.core.frame.DataFrame'>\n",
      "RangeIndex: 3818 entries, 0 to 3817\n",
      "Data columns (total 9 columns):\n",
      " #   Column                          Non-Null Count  Dtype  \n",
      "---  ------                          --------------  -----  \n",
      " 0   id                              3818 non-null   int64  \n",
      " 1   name                            3818 non-null   object \n",
      " 2   host_id                         3818 non-null   int64  \n",
      " 3   neighbourhood_cleansed          3818 non-null   object \n",
      " 4   neighbourhood_group_cleansed    3818 non-null   object \n",
      " 5   property_type                   3817 non-null   object \n",
      " 6   price                           3818 non-null   object \n",
      " 7   review_scores_rating            3171 non-null   float64\n",
      " 8   calculated_host_listings_count  3818 non-null   int64  \n",
      "dtypes: float64(1), int64(3), object(5)\n",
      "memory usage: 268.6+ KB\n"
     ]
    }
   ],
   "source": [
    "df.info()"
   ]
  },
  {
   "cell_type": "markdown",
   "id": "e24829c6",
   "metadata": {},
   "source": [
    "Convert the data type of price column to float, after ensuring all prices are in the same currency. "
   ]
  },
  {
   "cell_type": "code",
   "execution_count": 9,
   "id": "3054625e",
   "metadata": {},
   "outputs": [
    {
     "data": {
      "text/html": [
       "<div>\n",
       "<style scoped>\n",
       "    .dataframe tbody tr th:only-of-type {\n",
       "        vertical-align: middle;\n",
       "    }\n",
       "\n",
       "    .dataframe tbody tr th {\n",
       "        vertical-align: top;\n",
       "    }\n",
       "\n",
       "    .dataframe thead th {\n",
       "        text-align: right;\n",
       "    }\n",
       "</style>\n",
       "<table border=\"1\" class=\"dataframe\">\n",
       "  <thead>\n",
       "    <tr style=\"text-align: right;\">\n",
       "      <th></th>\n",
       "      <th>id</th>\n",
       "      <th>name</th>\n",
       "      <th>host_id</th>\n",
       "      <th>neighbourhood_cleansed</th>\n",
       "      <th>neighbourhood_group_cleansed</th>\n",
       "      <th>property_type</th>\n",
       "      <th>price</th>\n",
       "      <th>review_scores_rating</th>\n",
       "      <th>calculated_host_listings_count</th>\n",
       "    </tr>\n",
       "  </thead>\n",
       "  <tbody>\n",
       "  </tbody>\n",
       "</table>\n",
       "</div>"
      ],
      "text/plain": [
       "Empty DataFrame\n",
       "Columns: [id, name, host_id, neighbourhood_cleansed, neighbourhood_group_cleansed, property_type, price, review_scores_rating, calculated_host_listings_count]\n",
       "Index: []"
      ]
     },
     "execution_count": 9,
     "metadata": {},
     "output_type": "execute_result"
    }
   ],
   "source": [
    "#  All prices are in the same currency $\n",
    "df[df[\"price\"].str.contains(\"$\") == False]"
   ]
  },
  {
   "cell_type": "code",
   "execution_count": 10,
   "id": "9b3e7438",
   "metadata": {},
   "outputs": [],
   "source": [
    "# Convert the data type of price column to float\n",
    "df[\"price\"]  = df[\"price\"].apply( lambda x : x.replace(\"$\", '').replace(\",\",\"\"))\n",
    "df[\"price\"] = pd.to_numeric(df[\"price\"])"
   ]
  },
  {
   "cell_type": "markdown",
   "id": "94d460b7",
   "metadata": {},
   "source": [
    "## Analysis"
   ]
  },
  {
   "cell_type": "markdown",
   "id": "c6022991",
   "metadata": {},
   "source": [
    "### Question 1: What are the review score ratings based on property type  ? "
   ]
  },
  {
   "cell_type": "markdown",
   "id": "72c3d05a",
   "metadata": {},
   "source": [
    "#### Preprocessing"
   ]
  },
  {
   "cell_type": "code",
   "execution_count": 11,
   "id": "850a8782",
   "metadata": {},
   "outputs": [],
   "source": [
    "q1=df.copy()"
   ]
  },
  {
   "cell_type": "markdown",
   "id": "a7ab5f35",
   "metadata": {},
   "source": [
    "Handling NULL values: Fill the null values in review_scores_rating by the average rating if the host has other listings, otherwise drop the record"
   ]
  },
  {
   "cell_type": "code",
   "execution_count": 12,
   "id": "dc2e202a",
   "metadata": {},
   "outputs": [],
   "source": [
    "# Drop if host doesn't have other listsings\n",
    "q1.drop(q1.loc[(q1[\"review_scores_rating\"].isna()) & (q1[\"calculated_host_listings_count\"] == 1)].index, inplace =True)\n",
    "q1.reset_index(drop=True, inplace=True)\n",
    "\n",
    "#--\n",
    "\n",
    "# hosts that have other listsings \n",
    "hosts= q1.loc[q1[\"review_scores_rating\"].isna()][\"host_id\"].unique().tolist()\n",
    "\n",
    "# dataframe for these hosts and their rating avgerages \n",
    "host_avg_rating = q1.loc[df[\"host_id\"].isin(hosts)].groupby(\"host_id\").mean()[\"review_scores_rating\"].dropna()\n",
    "\n",
    "# fill the values by the rating avgerage\n",
    "sub = q1.loc[(q1[\"review_scores_rating\"].isna()) & (q1[\"host_id\"].isin(host_avg_rating.index))].index\n",
    "q1.loc[sub,\"review_scores_rating\"] =q1.iloc[sub].apply(lambda x : host_avg_rating[x[\"host_id\"]], axis=1)\n",
    "\n",
    "#--\n",
    "\n",
    "# hosts where rating avgerages could not be obtained because all their listings had Null value in review_scores_rating\n",
    "q1.dropna(subset = \"review_scores_rating\", inplace =True)"
   ]
  },
  {
   "cell_type": "markdown",
   "id": "68f7c296",
   "metadata": {},
   "source": [
    "Handling NULL values: Drop the one null value in property_type"
   ]
  },
  {
   "cell_type": "code",
   "execution_count": 13,
   "id": "9f3f0fd8",
   "metadata": {},
   "outputs": [],
   "source": [
    "q1.dropna(subset = \"property_type\", inplace =True)\n",
    "q1.reset_index(drop=True, inplace=True)"
   ]
  },
  {
   "cell_type": "code",
   "execution_count": 14,
   "id": "49b6d4f8",
   "metadata": {},
   "outputs": [
    {
     "name": "stdout",
     "output_type": "stream",
     "text": [
      "<class 'pandas.core.frame.DataFrame'>\n",
      "RangeIndex: 3218 entries, 0 to 3217\n",
      "Data columns (total 9 columns):\n",
      " #   Column                          Non-Null Count  Dtype  \n",
      "---  ------                          --------------  -----  \n",
      " 0   id                              3218 non-null   int64  \n",
      " 1   name                            3218 non-null   object \n",
      " 2   host_id                         3218 non-null   int64  \n",
      " 3   neighbourhood_cleansed          3218 non-null   object \n",
      " 4   neighbourhood_group_cleansed    3218 non-null   object \n",
      " 5   property_type                   3218 non-null   object \n",
      " 6   price                           3218 non-null   float64\n",
      " 7   review_scores_rating            3218 non-null   float64\n",
      " 8   calculated_host_listings_count  3218 non-null   int64  \n",
      "dtypes: float64(2), int64(3), object(4)\n",
      "memory usage: 226.4+ KB\n"
     ]
    }
   ],
   "source": [
    "q1.info()"
   ]
  },
  {
   "cell_type": "code",
   "execution_count": 15,
   "id": "9cc98a04",
   "metadata": {},
   "outputs": [
    {
     "data": {
      "text/plain": [
       "100.000000    782\n",
       "98.000000     292\n",
       "96.000000     280\n",
       "97.000000     268\n",
       "95.000000     266\n",
       "94.000000     198\n",
       "93.000000     184\n",
       "99.000000     147\n",
       "90.000000     139\n",
       "80.000000     119\n",
       "92.000000     106\n",
       "91.000000      97\n",
       "87.000000      55\n",
       "89.000000      53\n",
       "88.000000      47\n",
       "85.000000      24\n",
       "84.000000      23\n",
       "86.000000      17\n",
       "83.000000      13\n",
       "60.000000      12\n",
       "82.000000      10\n",
       "83.500000       9\n",
       "70.000000       8\n",
       "73.000000       7\n",
       "96.500000       7\n",
       "76.000000       5\n",
       "97.090909       5\n",
       "40.000000       4\n",
       "72.000000       4\n",
       "77.000000       4\n",
       "78.000000       4\n",
       "81.000000       3\n",
       "67.000000       3\n",
       "71.000000       3\n",
       "75.000000       3\n",
       "97.600000       2\n",
       "74.000000       2\n",
       "79.000000       2\n",
       "68.000000       2\n",
       "66.000000       2\n",
       "64.000000       1\n",
       "20.000000       1\n",
       "91.500000       1\n",
       "57.000000       1\n",
       "65.000000       1\n",
       "53.000000       1\n",
       "55.000000       1\n",
       "Name: review_scores_rating, dtype: int64"
      ]
     },
     "execution_count": 15,
     "metadata": {},
     "output_type": "execute_result"
    }
   ],
   "source": [
    "q1[\"review_scores_rating\"].value_counts()\n",
    "# There are 782 listings in Seattle rated as 100%"
   ]
  },
  {
   "cell_type": "markdown",
   "id": "6b375ef4",
   "metadata": {},
   "source": [
    "For easier interpretation of data, I will convert Review scores rating scale from 0-100 into:\n",
    "\n",
    "- Poor [0-50]\n",
    "- Fair (50-75]\n",
    "- Good (75-90]\n",
    "- Very Good (90-98]\n",
    "- Excellent (98-100]"
   ]
  },
  {
   "cell_type": "code",
   "execution_count": 16,
   "id": "a8f8a8ac",
   "metadata": {},
   "outputs": [],
   "source": [
    "q1.loc[q1[\"review_scores_rating\"].between(0,50,inclusive='both'), \"rating_category\"] = \"Poor [0-50]\"\n",
    "q1.loc[q1[\"review_scores_rating\"].between(50,75,inclusive='right'), \"rating_category\"] = \"Fair (50-75]\"\n",
    "q1.loc[q1[\"review_scores_rating\"].between(75,90,inclusive='right'), \"rating_category\"] = \"Good (75-90]\"\n",
    "q1.loc[q1[\"review_scores_rating\"].between(90,98,inclusive='right'), \"rating_category\"] = \"Very Good (90-98]\"\n",
    "q1.loc[q1[\"review_scores_rating\"].between(98,100,inclusive='right'), \"rating_category\"] = \"Excellent (98-100]\""
   ]
  },
  {
   "cell_type": "code",
   "execution_count": 17,
   "id": "fc234de6",
   "metadata": {
    "scrolled": true
   },
   "outputs": [
    {
     "data": {
      "text/html": [
       "<div>\n",
       "<style scoped>\n",
       "    .dataframe tbody tr th:only-of-type {\n",
       "        vertical-align: middle;\n",
       "    }\n",
       "\n",
       "    .dataframe tbody tr th {\n",
       "        vertical-align: top;\n",
       "    }\n",
       "\n",
       "    .dataframe thead th {\n",
       "        text-align: right;\n",
       "    }\n",
       "</style>\n",
       "<table border=\"1\" class=\"dataframe\">\n",
       "  <thead>\n",
       "    <tr style=\"text-align: right;\">\n",
       "      <th></th>\n",
       "      <th>property_type</th>\n",
       "      <th>rating_category</th>\n",
       "      <th>id</th>\n",
       "    </tr>\n",
       "  </thead>\n",
       "  <tbody>\n",
       "    <tr>\n",
       "      <th>0</th>\n",
       "      <td>Apartment</td>\n",
       "      <td>Excellent (98-100]</td>\n",
       "      <td>395</td>\n",
       "    </tr>\n",
       "    <tr>\n",
       "      <th>1</th>\n",
       "      <td>Apartment</td>\n",
       "      <td>Fair (50-75]</td>\n",
       "      <td>33</td>\n",
       "    </tr>\n",
       "    <tr>\n",
       "      <th>2</th>\n",
       "      <td>Apartment</td>\n",
       "      <td>Good (75-90]</td>\n",
       "      <td>260</td>\n",
       "    </tr>\n",
       "    <tr>\n",
       "      <th>3</th>\n",
       "      <td>Apartment</td>\n",
       "      <td>Poor [0-50]</td>\n",
       "      <td>4</td>\n",
       "    </tr>\n",
       "    <tr>\n",
       "      <th>4</th>\n",
       "      <td>Apartment</td>\n",
       "      <td>Very Good (90-98]</td>\n",
       "      <td>762</td>\n",
       "    </tr>\n",
       "    <tr>\n",
       "      <th>5</th>\n",
       "      <td>Bed &amp; Breakfast</td>\n",
       "      <td>Excellent (98-100]</td>\n",
       "      <td>6</td>\n",
       "    </tr>\n",
       "    <tr>\n",
       "      <th>6</th>\n",
       "      <td>Bed &amp; Breakfast</td>\n",
       "      <td>Good (75-90]</td>\n",
       "      <td>4</td>\n",
       "    </tr>\n",
       "    <tr>\n",
       "      <th>7</th>\n",
       "      <td>Bed &amp; Breakfast</td>\n",
       "      <td>Very Good (90-98]</td>\n",
       "      <td>17</td>\n",
       "    </tr>\n",
       "    <tr>\n",
       "      <th>8</th>\n",
       "      <td>Boat</td>\n",
       "      <td>Excellent (98-100]</td>\n",
       "      <td>1</td>\n",
       "    </tr>\n",
       "    <tr>\n",
       "      <th>9</th>\n",
       "      <td>Boat</td>\n",
       "      <td>Good (75-90]</td>\n",
       "      <td>1</td>\n",
       "    </tr>\n",
       "    <tr>\n",
       "      <th>10</th>\n",
       "      <td>Boat</td>\n",
       "      <td>Very Good (90-98]</td>\n",
       "      <td>3</td>\n",
       "    </tr>\n",
       "    <tr>\n",
       "      <th>11</th>\n",
       "      <td>Bungalow</td>\n",
       "      <td>Excellent (98-100]</td>\n",
       "      <td>4</td>\n",
       "    </tr>\n",
       "    <tr>\n",
       "      <th>12</th>\n",
       "      <td>Bungalow</td>\n",
       "      <td>Very Good (90-98]</td>\n",
       "      <td>5</td>\n",
       "    </tr>\n",
       "    <tr>\n",
       "      <th>13</th>\n",
       "      <td>Cabin</td>\n",
       "      <td>Excellent (98-100]</td>\n",
       "      <td>4</td>\n",
       "    </tr>\n",
       "    <tr>\n",
       "      <th>14</th>\n",
       "      <td>Cabin</td>\n",
       "      <td>Good (75-90]</td>\n",
       "      <td>2</td>\n",
       "    </tr>\n",
       "    <tr>\n",
       "      <th>15</th>\n",
       "      <td>Cabin</td>\n",
       "      <td>Very Good (90-98]</td>\n",
       "      <td>15</td>\n",
       "    </tr>\n",
       "    <tr>\n",
       "      <th>16</th>\n",
       "      <td>Camper/RV</td>\n",
       "      <td>Excellent (98-100]</td>\n",
       "      <td>2</td>\n",
       "    </tr>\n",
       "    <tr>\n",
       "      <th>17</th>\n",
       "      <td>Camper/RV</td>\n",
       "      <td>Good (75-90]</td>\n",
       "      <td>1</td>\n",
       "    </tr>\n",
       "    <tr>\n",
       "      <th>18</th>\n",
       "      <td>Camper/RV</td>\n",
       "      <td>Very Good (90-98]</td>\n",
       "      <td>7</td>\n",
       "    </tr>\n",
       "    <tr>\n",
       "      <th>19</th>\n",
       "      <td>Chalet</td>\n",
       "      <td>Fair (50-75]</td>\n",
       "      <td>1</td>\n",
       "    </tr>\n",
       "    <tr>\n",
       "      <th>20</th>\n",
       "      <td>Chalet</td>\n",
       "      <td>Very Good (90-98]</td>\n",
       "      <td>1</td>\n",
       "    </tr>\n",
       "    <tr>\n",
       "      <th>21</th>\n",
       "      <td>Condominium</td>\n",
       "      <td>Excellent (98-100]</td>\n",
       "      <td>26</td>\n",
       "    </tr>\n",
       "    <tr>\n",
       "      <th>22</th>\n",
       "      <td>Condominium</td>\n",
       "      <td>Good (75-90]</td>\n",
       "      <td>14</td>\n",
       "    </tr>\n",
       "    <tr>\n",
       "      <th>23</th>\n",
       "      <td>Condominium</td>\n",
       "      <td>Very Good (90-98]</td>\n",
       "      <td>33</td>\n",
       "    </tr>\n",
       "    <tr>\n",
       "      <th>24</th>\n",
       "      <td>Dorm</td>\n",
       "      <td>Good (75-90]</td>\n",
       "      <td>1</td>\n",
       "    </tr>\n",
       "    <tr>\n",
       "      <th>25</th>\n",
       "      <td>Dorm</td>\n",
       "      <td>Very Good (90-98]</td>\n",
       "      <td>1</td>\n",
       "    </tr>\n",
       "    <tr>\n",
       "      <th>26</th>\n",
       "      <td>House</td>\n",
       "      <td>Excellent (98-100]</td>\n",
       "      <td>436</td>\n",
       "    </tr>\n",
       "    <tr>\n",
       "      <th>27</th>\n",
       "      <td>House</td>\n",
       "      <td>Fair (50-75]</td>\n",
       "      <td>17</td>\n",
       "    </tr>\n",
       "    <tr>\n",
       "      <th>28</th>\n",
       "      <td>House</td>\n",
       "      <td>Good (75-90]</td>\n",
       "      <td>227</td>\n",
       "    </tr>\n",
       "    <tr>\n",
       "      <th>29</th>\n",
       "      <td>House</td>\n",
       "      <td>Poor [0-50]</td>\n",
       "      <td>1</td>\n",
       "    </tr>\n",
       "    <tr>\n",
       "      <th>30</th>\n",
       "      <td>House</td>\n",
       "      <td>Very Good (90-98]</td>\n",
       "      <td>794</td>\n",
       "    </tr>\n",
       "    <tr>\n",
       "      <th>31</th>\n",
       "      <td>Loft</td>\n",
       "      <td>Excellent (98-100]</td>\n",
       "      <td>9</td>\n",
       "    </tr>\n",
       "    <tr>\n",
       "      <th>32</th>\n",
       "      <td>Loft</td>\n",
       "      <td>Good (75-90]</td>\n",
       "      <td>5</td>\n",
       "    </tr>\n",
       "    <tr>\n",
       "      <th>33</th>\n",
       "      <td>Loft</td>\n",
       "      <td>Very Good (90-98]</td>\n",
       "      <td>19</td>\n",
       "    </tr>\n",
       "    <tr>\n",
       "      <th>34</th>\n",
       "      <td>Other</td>\n",
       "      <td>Excellent (98-100]</td>\n",
       "      <td>7</td>\n",
       "    </tr>\n",
       "    <tr>\n",
       "      <th>35</th>\n",
       "      <td>Other</td>\n",
       "      <td>Good (75-90]</td>\n",
       "      <td>2</td>\n",
       "    </tr>\n",
       "    <tr>\n",
       "      <th>36</th>\n",
       "      <td>Other</td>\n",
       "      <td>Very Good (90-98]</td>\n",
       "      <td>11</td>\n",
       "    </tr>\n",
       "    <tr>\n",
       "      <th>37</th>\n",
       "      <td>Tent</td>\n",
       "      <td>Excellent (98-100]</td>\n",
       "      <td>1</td>\n",
       "    </tr>\n",
       "    <tr>\n",
       "      <th>38</th>\n",
       "      <td>Tent</td>\n",
       "      <td>Good (75-90]</td>\n",
       "      <td>1</td>\n",
       "    </tr>\n",
       "    <tr>\n",
       "      <th>39</th>\n",
       "      <td>Tent</td>\n",
       "      <td>Very Good (90-98]</td>\n",
       "      <td>2</td>\n",
       "    </tr>\n",
       "    <tr>\n",
       "      <th>40</th>\n",
       "      <td>Townhouse</td>\n",
       "      <td>Excellent (98-100]</td>\n",
       "      <td>36</td>\n",
       "    </tr>\n",
       "    <tr>\n",
       "      <th>41</th>\n",
       "      <td>Townhouse</td>\n",
       "      <td>Good (75-90]</td>\n",
       "      <td>9</td>\n",
       "    </tr>\n",
       "    <tr>\n",
       "      <th>42</th>\n",
       "      <td>Townhouse</td>\n",
       "      <td>Very Good (90-98]</td>\n",
       "      <td>35</td>\n",
       "    </tr>\n",
       "    <tr>\n",
       "      <th>43</th>\n",
       "      <td>Treehouse</td>\n",
       "      <td>Excellent (98-100]</td>\n",
       "      <td>1</td>\n",
       "    </tr>\n",
       "    <tr>\n",
       "      <th>44</th>\n",
       "      <td>Treehouse</td>\n",
       "      <td>Very Good (90-98]</td>\n",
       "      <td>1</td>\n",
       "    </tr>\n",
       "    <tr>\n",
       "      <th>45</th>\n",
       "      <td>Yurt</td>\n",
       "      <td>Excellent (98-100]</td>\n",
       "      <td>1</td>\n",
       "    </tr>\n",
       "  </tbody>\n",
       "</table>\n",
       "</div>"
      ],
      "text/plain": [
       "      property_type     rating_category   id\n",
       "0         Apartment  Excellent (98-100]  395\n",
       "1         Apartment        Fair (50-75]   33\n",
       "2         Apartment        Good (75-90]  260\n",
       "3         Apartment         Poor [0-50]    4\n",
       "4         Apartment   Very Good (90-98]  762\n",
       "5   Bed & Breakfast  Excellent (98-100]    6\n",
       "6   Bed & Breakfast        Good (75-90]    4\n",
       "7   Bed & Breakfast   Very Good (90-98]   17\n",
       "8              Boat  Excellent (98-100]    1\n",
       "9              Boat        Good (75-90]    1\n",
       "10             Boat   Very Good (90-98]    3\n",
       "11         Bungalow  Excellent (98-100]    4\n",
       "12         Bungalow   Very Good (90-98]    5\n",
       "13            Cabin  Excellent (98-100]    4\n",
       "14            Cabin        Good (75-90]    2\n",
       "15            Cabin   Very Good (90-98]   15\n",
       "16        Camper/RV  Excellent (98-100]    2\n",
       "17        Camper/RV        Good (75-90]    1\n",
       "18        Camper/RV   Very Good (90-98]    7\n",
       "19           Chalet        Fair (50-75]    1\n",
       "20           Chalet   Very Good (90-98]    1\n",
       "21      Condominium  Excellent (98-100]   26\n",
       "22      Condominium        Good (75-90]   14\n",
       "23      Condominium   Very Good (90-98]   33\n",
       "24             Dorm        Good (75-90]    1\n",
       "25             Dorm   Very Good (90-98]    1\n",
       "26            House  Excellent (98-100]  436\n",
       "27            House        Fair (50-75]   17\n",
       "28            House        Good (75-90]  227\n",
       "29            House         Poor [0-50]    1\n",
       "30            House   Very Good (90-98]  794\n",
       "31             Loft  Excellent (98-100]    9\n",
       "32             Loft        Good (75-90]    5\n",
       "33             Loft   Very Good (90-98]   19\n",
       "34            Other  Excellent (98-100]    7\n",
       "35            Other        Good (75-90]    2\n",
       "36            Other   Very Good (90-98]   11\n",
       "37             Tent  Excellent (98-100]    1\n",
       "38             Tent        Good (75-90]    1\n",
       "39             Tent   Very Good (90-98]    2\n",
       "40        Townhouse  Excellent (98-100]   36\n",
       "41        Townhouse        Good (75-90]    9\n",
       "42        Townhouse   Very Good (90-98]   35\n",
       "43        Treehouse  Excellent (98-100]    1\n",
       "44        Treehouse   Very Good (90-98]    1\n",
       "45             Yurt  Excellent (98-100]    1"
      ]
     },
     "execution_count": 17,
     "metadata": {},
     "output_type": "execute_result"
    }
   ],
   "source": [
    "# Count the number of listings after grouping by the property_type and rating_category\n",
    "ans1= q1.groupby(['property_type','rating_category'], as_index=False).count()[['property_type','rating_category','id']]\n",
    "ans1"
   ]
  },
  {
   "cell_type": "markdown",
   "id": "8c7e6f61",
   "metadata": {},
   "source": [
    "#### Visualization"
   ]
  },
  {
   "cell_type": "code",
   "execution_count": 18,
   "id": "88b5100e",
   "metadata": {},
   "outputs": [
    {
     "data": {
      "application/vnd.plotly.v1+json": {
       "config": {
        "plotlyServerURL": "https://plot.ly"
       },
       "data": [
        {
         "alignmentgroup": "True",
         "hovertemplate": "Rating Category=Excellent (98-100]<br>Property Type=%{x}<br>Count of listings=%{y}<extra></extra>",
         "legendgroup": "Excellent (98-100]",
         "marker": {
          "color": "#636efa",
          "pattern": {
           "shape": ""
          }
         },
         "name": "Excellent (98-100]",
         "offsetgroup": "Excellent (98-100]",
         "orientation": "v",
         "showlegend": true,
         "textposition": "auto",
         "type": "bar",
         "x": [
          "Apartment",
          "Bed & Breakfast",
          "Boat",
          "Bungalow",
          "Cabin",
          "Camper/RV",
          "Condominium",
          "House",
          "Loft",
          "Other",
          "Tent",
          "Townhouse",
          "Treehouse",
          "Yurt"
         ],
         "xaxis": "x",
         "y": [
          395,
          6,
          1,
          4,
          4,
          2,
          26,
          436,
          9,
          7,
          1,
          36,
          1,
          1
         ],
         "yaxis": "y"
        },
        {
         "alignmentgroup": "True",
         "hovertemplate": "Rating Category=Fair (50-75]<br>Property Type=%{x}<br>Count of listings=%{y}<extra></extra>",
         "legendgroup": "Fair (50-75]",
         "marker": {
          "color": "#EF553B",
          "pattern": {
           "shape": ""
          }
         },
         "name": "Fair (50-75]",
         "offsetgroup": "Fair (50-75]",
         "orientation": "v",
         "showlegend": true,
         "textposition": "auto",
         "type": "bar",
         "x": [
          "Apartment",
          "Chalet",
          "House"
         ],
         "xaxis": "x",
         "y": [
          33,
          1,
          17
         ],
         "yaxis": "y"
        },
        {
         "alignmentgroup": "True",
         "hovertemplate": "Rating Category=Good (75-90]<br>Property Type=%{x}<br>Count of listings=%{y}<extra></extra>",
         "legendgroup": "Good (75-90]",
         "marker": {
          "color": "#00cc96",
          "pattern": {
           "shape": ""
          }
         },
         "name": "Good (75-90]",
         "offsetgroup": "Good (75-90]",
         "orientation": "v",
         "showlegend": true,
         "textposition": "auto",
         "type": "bar",
         "x": [
          "Apartment",
          "Bed & Breakfast",
          "Boat",
          "Cabin",
          "Camper/RV",
          "Condominium",
          "Dorm",
          "House",
          "Loft",
          "Other",
          "Tent",
          "Townhouse"
         ],
         "xaxis": "x",
         "y": [
          260,
          4,
          1,
          2,
          1,
          14,
          1,
          227,
          5,
          2,
          1,
          9
         ],
         "yaxis": "y"
        },
        {
         "alignmentgroup": "True",
         "hovertemplate": "Rating Category=Poor [0-50]<br>Property Type=%{x}<br>Count of listings=%{y}<extra></extra>",
         "legendgroup": "Poor [0-50]",
         "marker": {
          "color": "#ab63fa",
          "pattern": {
           "shape": ""
          }
         },
         "name": "Poor [0-50]",
         "offsetgroup": "Poor [0-50]",
         "orientation": "v",
         "showlegend": true,
         "textposition": "auto",
         "type": "bar",
         "x": [
          "Apartment",
          "House"
         ],
         "xaxis": "x",
         "y": [
          4,
          1
         ],
         "yaxis": "y"
        },
        {
         "alignmentgroup": "True",
         "hovertemplate": "Rating Category=Very Good (90-98]<br>Property Type=%{x}<br>Count of listings=%{y}<extra></extra>",
         "legendgroup": "Very Good (90-98]",
         "marker": {
          "color": "#FFA15A",
          "pattern": {
           "shape": ""
          }
         },
         "name": "Very Good (90-98]",
         "offsetgroup": "Very Good (90-98]",
         "orientation": "v",
         "showlegend": true,
         "textposition": "auto",
         "type": "bar",
         "x": [
          "Apartment",
          "Bed & Breakfast",
          "Boat",
          "Bungalow",
          "Cabin",
          "Camper/RV",
          "Chalet",
          "Condominium",
          "Dorm",
          "House",
          "Loft",
          "Other",
          "Tent",
          "Townhouse",
          "Treehouse"
         ],
         "xaxis": "x",
         "y": [
          762,
          17,
          3,
          5,
          15,
          7,
          1,
          33,
          1,
          794,
          19,
          11,
          2,
          35,
          1
         ],
         "yaxis": "y"
        }
       ],
       "layout": {
        "barmode": "relative",
        "legend": {
         "title": {
          "text": "Rating Category"
         },
         "tracegroupgap": 0
        },
        "template": {
         "data": {
          "bar": [
           {
            "error_x": {
             "color": "#2a3f5f"
            },
            "error_y": {
             "color": "#2a3f5f"
            },
            "marker": {
             "line": {
              "color": "#E5ECF6",
              "width": 0.5
             },
             "pattern": {
              "fillmode": "overlay",
              "size": 10,
              "solidity": 0.2
             }
            },
            "type": "bar"
           }
          ],
          "barpolar": [
           {
            "marker": {
             "line": {
              "color": "#E5ECF6",
              "width": 0.5
             },
             "pattern": {
              "fillmode": "overlay",
              "size": 10,
              "solidity": 0.2
             }
            },
            "type": "barpolar"
           }
          ],
          "carpet": [
           {
            "aaxis": {
             "endlinecolor": "#2a3f5f",
             "gridcolor": "white",
             "linecolor": "white",
             "minorgridcolor": "white",
             "startlinecolor": "#2a3f5f"
            },
            "baxis": {
             "endlinecolor": "#2a3f5f",
             "gridcolor": "white",
             "linecolor": "white",
             "minorgridcolor": "white",
             "startlinecolor": "#2a3f5f"
            },
            "type": "carpet"
           }
          ],
          "choropleth": [
           {
            "colorbar": {
             "outlinewidth": 0,
             "ticks": ""
            },
            "type": "choropleth"
           }
          ],
          "contour": [
           {
            "colorbar": {
             "outlinewidth": 0,
             "ticks": ""
            },
            "colorscale": [
             [
              0,
              "#0d0887"
             ],
             [
              0.1111111111111111,
              "#46039f"
             ],
             [
              0.2222222222222222,
              "#7201a8"
             ],
             [
              0.3333333333333333,
              "#9c179e"
             ],
             [
              0.4444444444444444,
              "#bd3786"
             ],
             [
              0.5555555555555556,
              "#d8576b"
             ],
             [
              0.6666666666666666,
              "#ed7953"
             ],
             [
              0.7777777777777778,
              "#fb9f3a"
             ],
             [
              0.8888888888888888,
              "#fdca26"
             ],
             [
              1,
              "#f0f921"
             ]
            ],
            "type": "contour"
           }
          ],
          "contourcarpet": [
           {
            "colorbar": {
             "outlinewidth": 0,
             "ticks": ""
            },
            "type": "contourcarpet"
           }
          ],
          "heatmap": [
           {
            "colorbar": {
             "outlinewidth": 0,
             "ticks": ""
            },
            "colorscale": [
             [
              0,
              "#0d0887"
             ],
             [
              0.1111111111111111,
              "#46039f"
             ],
             [
              0.2222222222222222,
              "#7201a8"
             ],
             [
              0.3333333333333333,
              "#9c179e"
             ],
             [
              0.4444444444444444,
              "#bd3786"
             ],
             [
              0.5555555555555556,
              "#d8576b"
             ],
             [
              0.6666666666666666,
              "#ed7953"
             ],
             [
              0.7777777777777778,
              "#fb9f3a"
             ],
             [
              0.8888888888888888,
              "#fdca26"
             ],
             [
              1,
              "#f0f921"
             ]
            ],
            "type": "heatmap"
           }
          ],
          "heatmapgl": [
           {
            "colorbar": {
             "outlinewidth": 0,
             "ticks": ""
            },
            "colorscale": [
             [
              0,
              "#0d0887"
             ],
             [
              0.1111111111111111,
              "#46039f"
             ],
             [
              0.2222222222222222,
              "#7201a8"
             ],
             [
              0.3333333333333333,
              "#9c179e"
             ],
             [
              0.4444444444444444,
              "#bd3786"
             ],
             [
              0.5555555555555556,
              "#d8576b"
             ],
             [
              0.6666666666666666,
              "#ed7953"
             ],
             [
              0.7777777777777778,
              "#fb9f3a"
             ],
             [
              0.8888888888888888,
              "#fdca26"
             ],
             [
              1,
              "#f0f921"
             ]
            ],
            "type": "heatmapgl"
           }
          ],
          "histogram": [
           {
            "marker": {
             "pattern": {
              "fillmode": "overlay",
              "size": 10,
              "solidity": 0.2
             }
            },
            "type": "histogram"
           }
          ],
          "histogram2d": [
           {
            "colorbar": {
             "outlinewidth": 0,
             "ticks": ""
            },
            "colorscale": [
             [
              0,
              "#0d0887"
             ],
             [
              0.1111111111111111,
              "#46039f"
             ],
             [
              0.2222222222222222,
              "#7201a8"
             ],
             [
              0.3333333333333333,
              "#9c179e"
             ],
             [
              0.4444444444444444,
              "#bd3786"
             ],
             [
              0.5555555555555556,
              "#d8576b"
             ],
             [
              0.6666666666666666,
              "#ed7953"
             ],
             [
              0.7777777777777778,
              "#fb9f3a"
             ],
             [
              0.8888888888888888,
              "#fdca26"
             ],
             [
              1,
              "#f0f921"
             ]
            ],
            "type": "histogram2d"
           }
          ],
          "histogram2dcontour": [
           {
            "colorbar": {
             "outlinewidth": 0,
             "ticks": ""
            },
            "colorscale": [
             [
              0,
              "#0d0887"
             ],
             [
              0.1111111111111111,
              "#46039f"
             ],
             [
              0.2222222222222222,
              "#7201a8"
             ],
             [
              0.3333333333333333,
              "#9c179e"
             ],
             [
              0.4444444444444444,
              "#bd3786"
             ],
             [
              0.5555555555555556,
              "#d8576b"
             ],
             [
              0.6666666666666666,
              "#ed7953"
             ],
             [
              0.7777777777777778,
              "#fb9f3a"
             ],
             [
              0.8888888888888888,
              "#fdca26"
             ],
             [
              1,
              "#f0f921"
             ]
            ],
            "type": "histogram2dcontour"
           }
          ],
          "mesh3d": [
           {
            "colorbar": {
             "outlinewidth": 0,
             "ticks": ""
            },
            "type": "mesh3d"
           }
          ],
          "parcoords": [
           {
            "line": {
             "colorbar": {
              "outlinewidth": 0,
              "ticks": ""
             }
            },
            "type": "parcoords"
           }
          ],
          "pie": [
           {
            "automargin": true,
            "type": "pie"
           }
          ],
          "scatter": [
           {
            "fillpattern": {
             "fillmode": "overlay",
             "size": 10,
             "solidity": 0.2
            },
            "type": "scatter"
           }
          ],
          "scatter3d": [
           {
            "line": {
             "colorbar": {
              "outlinewidth": 0,
              "ticks": ""
             }
            },
            "marker": {
             "colorbar": {
              "outlinewidth": 0,
              "ticks": ""
             }
            },
            "type": "scatter3d"
           }
          ],
          "scattercarpet": [
           {
            "marker": {
             "colorbar": {
              "outlinewidth": 0,
              "ticks": ""
             }
            },
            "type": "scattercarpet"
           }
          ],
          "scattergeo": [
           {
            "marker": {
             "colorbar": {
              "outlinewidth": 0,
              "ticks": ""
             }
            },
            "type": "scattergeo"
           }
          ],
          "scattergl": [
           {
            "marker": {
             "colorbar": {
              "outlinewidth": 0,
              "ticks": ""
             }
            },
            "type": "scattergl"
           }
          ],
          "scattermapbox": [
           {
            "marker": {
             "colorbar": {
              "outlinewidth": 0,
              "ticks": ""
             }
            },
            "type": "scattermapbox"
           }
          ],
          "scatterpolar": [
           {
            "marker": {
             "colorbar": {
              "outlinewidth": 0,
              "ticks": ""
             }
            },
            "type": "scatterpolar"
           }
          ],
          "scatterpolargl": [
           {
            "marker": {
             "colorbar": {
              "outlinewidth": 0,
              "ticks": ""
             }
            },
            "type": "scatterpolargl"
           }
          ],
          "scatterternary": [
           {
            "marker": {
             "colorbar": {
              "outlinewidth": 0,
              "ticks": ""
             }
            },
            "type": "scatterternary"
           }
          ],
          "surface": [
           {
            "colorbar": {
             "outlinewidth": 0,
             "ticks": ""
            },
            "colorscale": [
             [
              0,
              "#0d0887"
             ],
             [
              0.1111111111111111,
              "#46039f"
             ],
             [
              0.2222222222222222,
              "#7201a8"
             ],
             [
              0.3333333333333333,
              "#9c179e"
             ],
             [
              0.4444444444444444,
              "#bd3786"
             ],
             [
              0.5555555555555556,
              "#d8576b"
             ],
             [
              0.6666666666666666,
              "#ed7953"
             ],
             [
              0.7777777777777778,
              "#fb9f3a"
             ],
             [
              0.8888888888888888,
              "#fdca26"
             ],
             [
              1,
              "#f0f921"
             ]
            ],
            "type": "surface"
           }
          ],
          "table": [
           {
            "cells": {
             "fill": {
              "color": "#EBF0F8"
             },
             "line": {
              "color": "white"
             }
            },
            "header": {
             "fill": {
              "color": "#C8D4E3"
             },
             "line": {
              "color": "white"
             }
            },
            "type": "table"
           }
          ]
         },
         "layout": {
          "annotationdefaults": {
           "arrowcolor": "#2a3f5f",
           "arrowhead": 0,
           "arrowwidth": 1
          },
          "autotypenumbers": "strict",
          "coloraxis": {
           "colorbar": {
            "outlinewidth": 0,
            "ticks": ""
           }
          },
          "colorscale": {
           "diverging": [
            [
             0,
             "#8e0152"
            ],
            [
             0.1,
             "#c51b7d"
            ],
            [
             0.2,
             "#de77ae"
            ],
            [
             0.3,
             "#f1b6da"
            ],
            [
             0.4,
             "#fde0ef"
            ],
            [
             0.5,
             "#f7f7f7"
            ],
            [
             0.6,
             "#e6f5d0"
            ],
            [
             0.7,
             "#b8e186"
            ],
            [
             0.8,
             "#7fbc41"
            ],
            [
             0.9,
             "#4d9221"
            ],
            [
             1,
             "#276419"
            ]
           ],
           "sequential": [
            [
             0,
             "#0d0887"
            ],
            [
             0.1111111111111111,
             "#46039f"
            ],
            [
             0.2222222222222222,
             "#7201a8"
            ],
            [
             0.3333333333333333,
             "#9c179e"
            ],
            [
             0.4444444444444444,
             "#bd3786"
            ],
            [
             0.5555555555555556,
             "#d8576b"
            ],
            [
             0.6666666666666666,
             "#ed7953"
            ],
            [
             0.7777777777777778,
             "#fb9f3a"
            ],
            [
             0.8888888888888888,
             "#fdca26"
            ],
            [
             1,
             "#f0f921"
            ]
           ],
           "sequentialminus": [
            [
             0,
             "#0d0887"
            ],
            [
             0.1111111111111111,
             "#46039f"
            ],
            [
             0.2222222222222222,
             "#7201a8"
            ],
            [
             0.3333333333333333,
             "#9c179e"
            ],
            [
             0.4444444444444444,
             "#bd3786"
            ],
            [
             0.5555555555555556,
             "#d8576b"
            ],
            [
             0.6666666666666666,
             "#ed7953"
            ],
            [
             0.7777777777777778,
             "#fb9f3a"
            ],
            [
             0.8888888888888888,
             "#fdca26"
            ],
            [
             1,
             "#f0f921"
            ]
           ]
          },
          "colorway": [
           "#636efa",
           "#EF553B",
           "#00cc96",
           "#ab63fa",
           "#FFA15A",
           "#19d3f3",
           "#FF6692",
           "#B6E880",
           "#FF97FF",
           "#FECB52"
          ],
          "font": {
           "color": "#2a3f5f"
          },
          "geo": {
           "bgcolor": "white",
           "lakecolor": "white",
           "landcolor": "#E5ECF6",
           "showlakes": true,
           "showland": true,
           "subunitcolor": "white"
          },
          "hoverlabel": {
           "align": "left"
          },
          "hovermode": "closest",
          "mapbox": {
           "style": "light"
          },
          "paper_bgcolor": "white",
          "plot_bgcolor": "#E5ECF6",
          "polar": {
           "angularaxis": {
            "gridcolor": "white",
            "linecolor": "white",
            "ticks": ""
           },
           "bgcolor": "#E5ECF6",
           "radialaxis": {
            "gridcolor": "white",
            "linecolor": "white",
            "ticks": ""
           }
          },
          "scene": {
           "xaxis": {
            "backgroundcolor": "#E5ECF6",
            "gridcolor": "white",
            "gridwidth": 2,
            "linecolor": "white",
            "showbackground": true,
            "ticks": "",
            "zerolinecolor": "white"
           },
           "yaxis": {
            "backgroundcolor": "#E5ECF6",
            "gridcolor": "white",
            "gridwidth": 2,
            "linecolor": "white",
            "showbackground": true,
            "ticks": "",
            "zerolinecolor": "white"
           },
           "zaxis": {
            "backgroundcolor": "#E5ECF6",
            "gridcolor": "white",
            "gridwidth": 2,
            "linecolor": "white",
            "showbackground": true,
            "ticks": "",
            "zerolinecolor": "white"
           }
          },
          "shapedefaults": {
           "line": {
            "color": "#2a3f5f"
           }
          },
          "ternary": {
           "aaxis": {
            "gridcolor": "white",
            "linecolor": "white",
            "ticks": ""
           },
           "baxis": {
            "gridcolor": "white",
            "linecolor": "white",
            "ticks": ""
           },
           "bgcolor": "#E5ECF6",
           "caxis": {
            "gridcolor": "white",
            "linecolor": "white",
            "ticks": ""
           }
          },
          "title": {
           "x": 0.05
          },
          "xaxis": {
           "automargin": true,
           "gridcolor": "white",
           "linecolor": "white",
           "ticks": "",
           "title": {
            "standoff": 15
           },
           "zerolinecolor": "white",
           "zerolinewidth": 2
          },
          "yaxis": {
           "automargin": true,
           "gridcolor": "white",
           "linecolor": "white",
           "ticks": "",
           "title": {
            "standoff": 15
           },
           "zerolinecolor": "white",
           "zerolinewidth": 2
          }
         }
        },
        "title": {
         "text": "Review ratings based on property type"
        },
        "xaxis": {
         "anchor": "y",
         "domain": [
          0,
          1
         ],
         "title": {
          "text": "Property Type"
         }
        },
        "yaxis": {
         "anchor": "x",
         "domain": [
          0,
          1
         ],
         "title": {
          "text": "Count of listings"
         }
        }
       }
      },
      "text/html": [
       "<div>                            <div id=\"15375b48-c8cd-4964-9fa2-587e165e6984\" class=\"plotly-graph-div\" style=\"height:525px; width:100%;\"></div>            <script type=\"text/javascript\">                require([\"plotly\"], function(Plotly) {                    window.PLOTLYENV=window.PLOTLYENV || {};                                    if (document.getElementById(\"15375b48-c8cd-4964-9fa2-587e165e6984\")) {                    Plotly.newPlot(                        \"15375b48-c8cd-4964-9fa2-587e165e6984\",                        [{\"alignmentgroup\":\"True\",\"hovertemplate\":\"Rating Category=Excellent (98-100]<br>Property Type=%{x}<br>Count of listings=%{y}<extra></extra>\",\"legendgroup\":\"Excellent (98-100]\",\"marker\":{\"color\":\"#636efa\",\"pattern\":{\"shape\":\"\"}},\"name\":\"Excellent (98-100]\",\"offsetgroup\":\"Excellent (98-100]\",\"orientation\":\"v\",\"showlegend\":true,\"textposition\":\"auto\",\"x\":[\"Apartment\",\"Bed & Breakfast\",\"Boat\",\"Bungalow\",\"Cabin\",\"Camper/RV\",\"Condominium\",\"House\",\"Loft\",\"Other\",\"Tent\",\"Townhouse\",\"Treehouse\",\"Yurt\"],\"xaxis\":\"x\",\"y\":[395,6,1,4,4,2,26,436,9,7,1,36,1,1],\"yaxis\":\"y\",\"type\":\"bar\"},{\"alignmentgroup\":\"True\",\"hovertemplate\":\"Rating Category=Fair (50-75]<br>Property Type=%{x}<br>Count of listings=%{y}<extra></extra>\",\"legendgroup\":\"Fair (50-75]\",\"marker\":{\"color\":\"#EF553B\",\"pattern\":{\"shape\":\"\"}},\"name\":\"Fair (50-75]\",\"offsetgroup\":\"Fair (50-75]\",\"orientation\":\"v\",\"showlegend\":true,\"textposition\":\"auto\",\"x\":[\"Apartment\",\"Chalet\",\"House\"],\"xaxis\":\"x\",\"y\":[33,1,17],\"yaxis\":\"y\",\"type\":\"bar\"},{\"alignmentgroup\":\"True\",\"hovertemplate\":\"Rating Category=Good (75-90]<br>Property Type=%{x}<br>Count of listings=%{y}<extra></extra>\",\"legendgroup\":\"Good (75-90]\",\"marker\":{\"color\":\"#00cc96\",\"pattern\":{\"shape\":\"\"}},\"name\":\"Good (75-90]\",\"offsetgroup\":\"Good (75-90]\",\"orientation\":\"v\",\"showlegend\":true,\"textposition\":\"auto\",\"x\":[\"Apartment\",\"Bed & Breakfast\",\"Boat\",\"Cabin\",\"Camper/RV\",\"Condominium\",\"Dorm\",\"House\",\"Loft\",\"Other\",\"Tent\",\"Townhouse\"],\"xaxis\":\"x\",\"y\":[260,4,1,2,1,14,1,227,5,2,1,9],\"yaxis\":\"y\",\"type\":\"bar\"},{\"alignmentgroup\":\"True\",\"hovertemplate\":\"Rating Category=Poor [0-50]<br>Property Type=%{x}<br>Count of listings=%{y}<extra></extra>\",\"legendgroup\":\"Poor [0-50]\",\"marker\":{\"color\":\"#ab63fa\",\"pattern\":{\"shape\":\"\"}},\"name\":\"Poor [0-50]\",\"offsetgroup\":\"Poor [0-50]\",\"orientation\":\"v\",\"showlegend\":true,\"textposition\":\"auto\",\"x\":[\"Apartment\",\"House\"],\"xaxis\":\"x\",\"y\":[4,1],\"yaxis\":\"y\",\"type\":\"bar\"},{\"alignmentgroup\":\"True\",\"hovertemplate\":\"Rating Category=Very Good (90-98]<br>Property Type=%{x}<br>Count of listings=%{y}<extra></extra>\",\"legendgroup\":\"Very Good (90-98]\",\"marker\":{\"color\":\"#FFA15A\",\"pattern\":{\"shape\":\"\"}},\"name\":\"Very Good (90-98]\",\"offsetgroup\":\"Very Good (90-98]\",\"orientation\":\"v\",\"showlegend\":true,\"textposition\":\"auto\",\"x\":[\"Apartment\",\"Bed & Breakfast\",\"Boat\",\"Bungalow\",\"Cabin\",\"Camper/RV\",\"Chalet\",\"Condominium\",\"Dorm\",\"House\",\"Loft\",\"Other\",\"Tent\",\"Townhouse\",\"Treehouse\"],\"xaxis\":\"x\",\"y\":[762,17,3,5,15,7,1,33,1,794,19,11,2,35,1],\"yaxis\":\"y\",\"type\":\"bar\"}],                        {\"template\":{\"data\":{\"histogram2dcontour\":[{\"type\":\"histogram2dcontour\",\"colorbar\":{\"outlinewidth\":0,\"ticks\":\"\"},\"colorscale\":[[0.0,\"#0d0887\"],[0.1111111111111111,\"#46039f\"],[0.2222222222222222,\"#7201a8\"],[0.3333333333333333,\"#9c179e\"],[0.4444444444444444,\"#bd3786\"],[0.5555555555555556,\"#d8576b\"],[0.6666666666666666,\"#ed7953\"],[0.7777777777777778,\"#fb9f3a\"],[0.8888888888888888,\"#fdca26\"],[1.0,\"#f0f921\"]]}],\"choropleth\":[{\"type\":\"choropleth\",\"colorbar\":{\"outlinewidth\":0,\"ticks\":\"\"}}],\"histogram2d\":[{\"type\":\"histogram2d\",\"colorbar\":{\"outlinewidth\":0,\"ticks\":\"\"},\"colorscale\":[[0.0,\"#0d0887\"],[0.1111111111111111,\"#46039f\"],[0.2222222222222222,\"#7201a8\"],[0.3333333333333333,\"#9c179e\"],[0.4444444444444444,\"#bd3786\"],[0.5555555555555556,\"#d8576b\"],[0.6666666666666666,\"#ed7953\"],[0.7777777777777778,\"#fb9f3a\"],[0.8888888888888888,\"#fdca26\"],[1.0,\"#f0f921\"]]}],\"heatmap\":[{\"type\":\"heatmap\",\"colorbar\":{\"outlinewidth\":0,\"ticks\":\"\"},\"colorscale\":[[0.0,\"#0d0887\"],[0.1111111111111111,\"#46039f\"],[0.2222222222222222,\"#7201a8\"],[0.3333333333333333,\"#9c179e\"],[0.4444444444444444,\"#bd3786\"],[0.5555555555555556,\"#d8576b\"],[0.6666666666666666,\"#ed7953\"],[0.7777777777777778,\"#fb9f3a\"],[0.8888888888888888,\"#fdca26\"],[1.0,\"#f0f921\"]]}],\"heatmapgl\":[{\"type\":\"heatmapgl\",\"colorbar\":{\"outlinewidth\":0,\"ticks\":\"\"},\"colorscale\":[[0.0,\"#0d0887\"],[0.1111111111111111,\"#46039f\"],[0.2222222222222222,\"#7201a8\"],[0.3333333333333333,\"#9c179e\"],[0.4444444444444444,\"#bd3786\"],[0.5555555555555556,\"#d8576b\"],[0.6666666666666666,\"#ed7953\"],[0.7777777777777778,\"#fb9f3a\"],[0.8888888888888888,\"#fdca26\"],[1.0,\"#f0f921\"]]}],\"contourcarpet\":[{\"type\":\"contourcarpet\",\"colorbar\":{\"outlinewidth\":0,\"ticks\":\"\"}}],\"contour\":[{\"type\":\"contour\",\"colorbar\":{\"outlinewidth\":0,\"ticks\":\"\"},\"colorscale\":[[0.0,\"#0d0887\"],[0.1111111111111111,\"#46039f\"],[0.2222222222222222,\"#7201a8\"],[0.3333333333333333,\"#9c179e\"],[0.4444444444444444,\"#bd3786\"],[0.5555555555555556,\"#d8576b\"],[0.6666666666666666,\"#ed7953\"],[0.7777777777777778,\"#fb9f3a\"],[0.8888888888888888,\"#fdca26\"],[1.0,\"#f0f921\"]]}],\"surface\":[{\"type\":\"surface\",\"colorbar\":{\"outlinewidth\":0,\"ticks\":\"\"},\"colorscale\":[[0.0,\"#0d0887\"],[0.1111111111111111,\"#46039f\"],[0.2222222222222222,\"#7201a8\"],[0.3333333333333333,\"#9c179e\"],[0.4444444444444444,\"#bd3786\"],[0.5555555555555556,\"#d8576b\"],[0.6666666666666666,\"#ed7953\"],[0.7777777777777778,\"#fb9f3a\"],[0.8888888888888888,\"#fdca26\"],[1.0,\"#f0f921\"]]}],\"mesh3d\":[{\"type\":\"mesh3d\",\"colorbar\":{\"outlinewidth\":0,\"ticks\":\"\"}}],\"scatter\":[{\"fillpattern\":{\"fillmode\":\"overlay\",\"size\":10,\"solidity\":0.2},\"type\":\"scatter\"}],\"parcoords\":[{\"type\":\"parcoords\",\"line\":{\"colorbar\":{\"outlinewidth\":0,\"ticks\":\"\"}}}],\"scatterpolargl\":[{\"type\":\"scatterpolargl\",\"marker\":{\"colorbar\":{\"outlinewidth\":0,\"ticks\":\"\"}}}],\"bar\":[{\"error_x\":{\"color\":\"#2a3f5f\"},\"error_y\":{\"color\":\"#2a3f5f\"},\"marker\":{\"line\":{\"color\":\"#E5ECF6\",\"width\":0.5},\"pattern\":{\"fillmode\":\"overlay\",\"size\":10,\"solidity\":0.2}},\"type\":\"bar\"}],\"scattergeo\":[{\"type\":\"scattergeo\",\"marker\":{\"colorbar\":{\"outlinewidth\":0,\"ticks\":\"\"}}}],\"scatterpolar\":[{\"type\":\"scatterpolar\",\"marker\":{\"colorbar\":{\"outlinewidth\":0,\"ticks\":\"\"}}}],\"histogram\":[{\"marker\":{\"pattern\":{\"fillmode\":\"overlay\",\"size\":10,\"solidity\":0.2}},\"type\":\"histogram\"}],\"scattergl\":[{\"type\":\"scattergl\",\"marker\":{\"colorbar\":{\"outlinewidth\":0,\"ticks\":\"\"}}}],\"scatter3d\":[{\"type\":\"scatter3d\",\"line\":{\"colorbar\":{\"outlinewidth\":0,\"ticks\":\"\"}},\"marker\":{\"colorbar\":{\"outlinewidth\":0,\"ticks\":\"\"}}}],\"scattermapbox\":[{\"type\":\"scattermapbox\",\"marker\":{\"colorbar\":{\"outlinewidth\":0,\"ticks\":\"\"}}}],\"scatterternary\":[{\"type\":\"scatterternary\",\"marker\":{\"colorbar\":{\"outlinewidth\":0,\"ticks\":\"\"}}}],\"scattercarpet\":[{\"type\":\"scattercarpet\",\"marker\":{\"colorbar\":{\"outlinewidth\":0,\"ticks\":\"\"}}}],\"carpet\":[{\"aaxis\":{\"endlinecolor\":\"#2a3f5f\",\"gridcolor\":\"white\",\"linecolor\":\"white\",\"minorgridcolor\":\"white\",\"startlinecolor\":\"#2a3f5f\"},\"baxis\":{\"endlinecolor\":\"#2a3f5f\",\"gridcolor\":\"white\",\"linecolor\":\"white\",\"minorgridcolor\":\"white\",\"startlinecolor\":\"#2a3f5f\"},\"type\":\"carpet\"}],\"table\":[{\"cells\":{\"fill\":{\"color\":\"#EBF0F8\"},\"line\":{\"color\":\"white\"}},\"header\":{\"fill\":{\"color\":\"#C8D4E3\"},\"line\":{\"color\":\"white\"}},\"type\":\"table\"}],\"barpolar\":[{\"marker\":{\"line\":{\"color\":\"#E5ECF6\",\"width\":0.5},\"pattern\":{\"fillmode\":\"overlay\",\"size\":10,\"solidity\":0.2}},\"type\":\"barpolar\"}],\"pie\":[{\"automargin\":true,\"type\":\"pie\"}]},\"layout\":{\"autotypenumbers\":\"strict\",\"colorway\":[\"#636efa\",\"#EF553B\",\"#00cc96\",\"#ab63fa\",\"#FFA15A\",\"#19d3f3\",\"#FF6692\",\"#B6E880\",\"#FF97FF\",\"#FECB52\"],\"font\":{\"color\":\"#2a3f5f\"},\"hovermode\":\"closest\",\"hoverlabel\":{\"align\":\"left\"},\"paper_bgcolor\":\"white\",\"plot_bgcolor\":\"#E5ECF6\",\"polar\":{\"bgcolor\":\"#E5ECF6\",\"angularaxis\":{\"gridcolor\":\"white\",\"linecolor\":\"white\",\"ticks\":\"\"},\"radialaxis\":{\"gridcolor\":\"white\",\"linecolor\":\"white\",\"ticks\":\"\"}},\"ternary\":{\"bgcolor\":\"#E5ECF6\",\"aaxis\":{\"gridcolor\":\"white\",\"linecolor\":\"white\",\"ticks\":\"\"},\"baxis\":{\"gridcolor\":\"white\",\"linecolor\":\"white\",\"ticks\":\"\"},\"caxis\":{\"gridcolor\":\"white\",\"linecolor\":\"white\",\"ticks\":\"\"}},\"coloraxis\":{\"colorbar\":{\"outlinewidth\":0,\"ticks\":\"\"}},\"colorscale\":{\"sequential\":[[0.0,\"#0d0887\"],[0.1111111111111111,\"#46039f\"],[0.2222222222222222,\"#7201a8\"],[0.3333333333333333,\"#9c179e\"],[0.4444444444444444,\"#bd3786\"],[0.5555555555555556,\"#d8576b\"],[0.6666666666666666,\"#ed7953\"],[0.7777777777777778,\"#fb9f3a\"],[0.8888888888888888,\"#fdca26\"],[1.0,\"#f0f921\"]],\"sequentialminus\":[[0.0,\"#0d0887\"],[0.1111111111111111,\"#46039f\"],[0.2222222222222222,\"#7201a8\"],[0.3333333333333333,\"#9c179e\"],[0.4444444444444444,\"#bd3786\"],[0.5555555555555556,\"#d8576b\"],[0.6666666666666666,\"#ed7953\"],[0.7777777777777778,\"#fb9f3a\"],[0.8888888888888888,\"#fdca26\"],[1.0,\"#f0f921\"]],\"diverging\":[[0,\"#8e0152\"],[0.1,\"#c51b7d\"],[0.2,\"#de77ae\"],[0.3,\"#f1b6da\"],[0.4,\"#fde0ef\"],[0.5,\"#f7f7f7\"],[0.6,\"#e6f5d0\"],[0.7,\"#b8e186\"],[0.8,\"#7fbc41\"],[0.9,\"#4d9221\"],[1,\"#276419\"]]},\"xaxis\":{\"gridcolor\":\"white\",\"linecolor\":\"white\",\"ticks\":\"\",\"title\":{\"standoff\":15},\"zerolinecolor\":\"white\",\"automargin\":true,\"zerolinewidth\":2},\"yaxis\":{\"gridcolor\":\"white\",\"linecolor\":\"white\",\"ticks\":\"\",\"title\":{\"standoff\":15},\"zerolinecolor\":\"white\",\"automargin\":true,\"zerolinewidth\":2},\"scene\":{\"xaxis\":{\"backgroundcolor\":\"#E5ECF6\",\"gridcolor\":\"white\",\"linecolor\":\"white\",\"showbackground\":true,\"ticks\":\"\",\"zerolinecolor\":\"white\",\"gridwidth\":2},\"yaxis\":{\"backgroundcolor\":\"#E5ECF6\",\"gridcolor\":\"white\",\"linecolor\":\"white\",\"showbackground\":true,\"ticks\":\"\",\"zerolinecolor\":\"white\",\"gridwidth\":2},\"zaxis\":{\"backgroundcolor\":\"#E5ECF6\",\"gridcolor\":\"white\",\"linecolor\":\"white\",\"showbackground\":true,\"ticks\":\"\",\"zerolinecolor\":\"white\",\"gridwidth\":2}},\"shapedefaults\":{\"line\":{\"color\":\"#2a3f5f\"}},\"annotationdefaults\":{\"arrowcolor\":\"#2a3f5f\",\"arrowhead\":0,\"arrowwidth\":1},\"geo\":{\"bgcolor\":\"white\",\"landcolor\":\"#E5ECF6\",\"subunitcolor\":\"white\",\"showland\":true,\"showlakes\":true,\"lakecolor\":\"white\"},\"title\":{\"x\":0.05},\"mapbox\":{\"style\":\"light\"}}},\"xaxis\":{\"anchor\":\"y\",\"domain\":[0.0,1.0],\"title\":{\"text\":\"Property Type\"}},\"yaxis\":{\"anchor\":\"x\",\"domain\":[0.0,1.0],\"title\":{\"text\":\"Count of listings\"}},\"legend\":{\"title\":{\"text\":\"Rating Category\"},\"tracegroupgap\":0},\"title\":{\"text\":\"Review ratings based on property type\"},\"barmode\":\"relative\"},                        {\"responsive\": true}                    ).then(function(){\n",
       "                            \n",
       "var gd = document.getElementById('15375b48-c8cd-4964-9fa2-587e165e6984');\n",
       "var x = new MutationObserver(function (mutations, observer) {{\n",
       "        var display = window.getComputedStyle(gd).display;\n",
       "        if (!display || display === 'none') {{\n",
       "            console.log([gd, 'removed!']);\n",
       "            Plotly.purge(gd);\n",
       "            observer.disconnect();\n",
       "        }}\n",
       "}});\n",
       "\n",
       "// Listen for the removal of the full notebook cells\n",
       "var notebookContainer = gd.closest('#notebook-container');\n",
       "if (notebookContainer) {{\n",
       "    x.observe(notebookContainer, {childList: true});\n",
       "}}\n",
       "\n",
       "// Listen for the clearing of the current output cell\n",
       "var outputEl = gd.closest('.output');\n",
       "if (outputEl) {{\n",
       "    x.observe(outputEl, {childList: true});\n",
       "}}\n",
       "\n",
       "                        })                };                });            </script>        </div>"
      ]
     },
     "metadata": {},
     "output_type": "display_data"
    },
    {
     "data": {
      "image/svg+xml": [
       "<svg class=\"main-svg\" xmlns=\"http://www.w3.org/2000/svg\" xmlns:xlink=\"http://www.w3.org/1999/xlink\" width=\"700\" height=\"500\" style=\"\" viewBox=\"0 0 700 500\"><rect x=\"0\" y=\"0\" width=\"700\" height=\"500\" style=\"fill: rgb(255, 255, 255); fill-opacity: 1;\"/><defs id=\"defs-c96716\"><g class=\"clips\"><clipPath id=\"clipc96716xyplot\" class=\"plotclip\"><rect width=\"452\" height=\"265\"/></clipPath><clipPath class=\"axesclip\" id=\"clipc96716x\"><rect x=\"80\" y=\"0\" width=\"452\" height=\"500\"/></clipPath><clipPath class=\"axesclip\" id=\"clipc96716y\"><rect x=\"0\" y=\"100\" width=\"700\" height=\"265\"/></clipPath><clipPath class=\"axesclip\" id=\"clipc96716xy\"><rect x=\"80\" y=\"100\" width=\"452\" height=\"265\"/></clipPath></g><g class=\"gradients\"/><g class=\"patterns\"/></defs><g class=\"bglayer\"><rect class=\"bg\" x=\"80\" y=\"100\" width=\"452\" height=\"265\" style=\"fill: rgb(229, 236, 246); fill-opacity: 1; stroke-width: 0;\"/></g><g class=\"layer-below\"><g class=\"imagelayer\"/><g class=\"shapelayer\"/></g><g class=\"cartesianlayer\"><g class=\"subplot xy\"><g class=\"layer-subplot\"><g class=\"shapelayer\"/><g class=\"imagelayer\"/></g><g class=\"minor-gridlayer\"><g class=\"x\"/><g class=\"y\"/></g><g class=\"gridlayer\"><g class=\"x\"/><g class=\"y\"><path class=\"ygrid crisp\" transform=\"translate(0,279.65999999999997)\" d=\"M80,0h452\" style=\"stroke: rgb(255, 255, 255); stroke-opacity: 1; stroke-width: 1px;\"/><path class=\"ygrid crisp\" transform=\"translate(0,194.32)\" d=\"M80,0h452\" style=\"stroke: rgb(255, 255, 255); stroke-opacity: 1; stroke-width: 1px;\"/><path class=\"ygrid crisp\" transform=\"translate(0,108.98)\" d=\"M80,0h452\" style=\"stroke: rgb(255, 255, 255); stroke-opacity: 1; stroke-width: 1px;\"/></g></g><g class=\"zerolinelayer\"><path class=\"yzl zl crisp\" transform=\"translate(0,365)\" d=\"M80,0h452\" style=\"stroke: rgb(255, 255, 255); stroke-opacity: 1; stroke-width: 2px;\"/></g><path class=\"xlines-below\"/><path class=\"ylines-below\"/><g class=\"overlines-below\"/><g class=\"xaxislayer-below\"/><g class=\"yaxislayer-below\"/><g class=\"overaxes-below\"/><g class=\"plot\" transform=\"translate(80,100)\" clip-path=\"url(#clipc96716xyplot)\"><g class=\"barlayer mlayer\"><g class=\"trace bars\" style=\"opacity: 1;\"><g class=\"points\"><g class=\"point\"><path d=\"M2.82,265V197.58H25.43V265Z\" style=\"vector-effect: non-scaling-stroke; opacity: 1; stroke-width: 0.5px; fill: rgb(99, 110, 250); fill-opacity: 1; stroke: rgb(229, 236, 246); stroke-opacity: 1;\"/></g><g class=\"point\"><path d=\"M31.08,265V263.98H53.68V265Z\" style=\"vector-effect: non-scaling-stroke; opacity: 1; stroke-width: 0.5px; fill: rgb(99, 110, 250); fill-opacity: 1; stroke: rgb(229, 236, 246); stroke-opacity: 1;\"/></g><g class=\"point\"><path d=\"M59.33,265V264.83H81.93V265Z\" style=\"vector-effect: non-scaling-stroke; opacity: 1; stroke-width: 0.5px; fill: rgb(99, 110, 250); fill-opacity: 1; stroke: rgb(229, 236, 246); stroke-opacity: 1;\"/></g><g class=\"point\"><path d=\"M87.58,265V264.32H110.18V265Z\" style=\"vector-effect: non-scaling-stroke; opacity: 1; stroke-width: 0.5px; fill: rgb(99, 110, 250); fill-opacity: 1; stroke: rgb(229, 236, 246); stroke-opacity: 1;\"/></g><g class=\"point\"><path d=\"M115.83,265V264.32H138.43V265Z\" style=\"vector-effect: non-scaling-stroke; opacity: 1; stroke-width: 0.5px; fill: rgb(99, 110, 250); fill-opacity: 1; stroke: rgb(229, 236, 246); stroke-opacity: 1;\"/></g><g class=\"point\"><path d=\"M144.07,265V264.66H166.68V265Z\" style=\"vector-effect: non-scaling-stroke; opacity: 1; stroke-width: 0.5px; fill: rgb(99, 110, 250); fill-opacity: 1; stroke: rgb(229, 236, 246); stroke-opacity: 1;\"/></g><g class=\"point\"><path d=\"M172.33,265V260.56H194.93V265Z\" style=\"vector-effect: non-scaling-stroke; opacity: 1; stroke-width: 0.5px; fill: rgb(99, 110, 250); fill-opacity: 1; stroke: rgb(229, 236, 246); stroke-opacity: 1;\"/></g><g class=\"point\"><path d=\"M200.58,265V190.58H223.18V265Z\" style=\"vector-effect: non-scaling-stroke; opacity: 1; stroke-width: 0.5px; fill: rgb(99, 110, 250); fill-opacity: 1; stroke: rgb(229, 236, 246); stroke-opacity: 1;\"/></g><g class=\"point\"><path d=\"M228.83,265V263.46H251.43V265Z\" style=\"vector-effect: non-scaling-stroke; opacity: 1; stroke-width: 0.5px; fill: rgb(99, 110, 250); fill-opacity: 1; stroke: rgb(229, 236, 246); stroke-opacity: 1;\"/></g><g class=\"point\"><path d=\"M257.08,265V263.81H279.68V265Z\" style=\"vector-effect: non-scaling-stroke; opacity: 1; stroke-width: 0.5px; fill: rgb(99, 110, 250); fill-opacity: 1; stroke: rgb(229, 236, 246); stroke-opacity: 1;\"/></g><g class=\"point\"><path d=\"M285.33,265V264.83H307.93V265Z\" style=\"vector-effect: non-scaling-stroke; opacity: 1; stroke-width: 0.5px; fill: rgb(99, 110, 250); fill-opacity: 1; stroke: rgb(229, 236, 246); stroke-opacity: 1;\"/></g><g class=\"point\"><path d=\"M313.58,265V258.86H336.18V265Z\" style=\"vector-effect: non-scaling-stroke; opacity: 1; stroke-width: 0.5px; fill: rgb(99, 110, 250); fill-opacity: 1; stroke: rgb(229, 236, 246); stroke-opacity: 1;\"/></g><g class=\"point\"><path d=\"M341.83,265V264.83H364.43V265Z\" style=\"vector-effect: non-scaling-stroke; opacity: 1; stroke-width: 0.5px; fill: rgb(99, 110, 250); fill-opacity: 1; stroke: rgb(229, 236, 246); stroke-opacity: 1;\"/></g><g class=\"point\"><path d=\"M370.08,265V264.83H392.68V265Z\" style=\"vector-effect: non-scaling-stroke; opacity: 1; stroke-width: 0.5px; fill: rgb(99, 110, 250); fill-opacity: 1; stroke: rgb(229, 236, 246); stroke-opacity: 1;\"/></g></g></g><g class=\"trace bars\" style=\"opacity: 1;\"><g class=\"points\"><g class=\"point\"><path d=\"M2.82,197.58V191.95H25.43V197.58Z\" style=\"vector-effect: non-scaling-stroke; opacity: 1; stroke-width: 0.5px; fill: rgb(239, 85, 59); fill-opacity: 1; stroke: rgb(229, 236, 246); stroke-opacity: 1;\"/></g><g class=\"point\"><path d=\"M398.33,265V264.83H420.93V265Z\" style=\"vector-effect: non-scaling-stroke; opacity: 1; stroke-width: 0.5px; fill: rgb(239, 85, 59); fill-opacity: 1; stroke: rgb(229, 236, 246); stroke-opacity: 1;\"/></g><g class=\"point\"><path d=\"M200.58,190.58V187.68H223.18V190.58Z\" style=\"vector-effect: non-scaling-stroke; opacity: 1; stroke-width: 0.5px; fill: rgb(239, 85, 59); fill-opacity: 1; stroke: rgb(229, 236, 246); stroke-opacity: 1;\"/></g></g></g><g class=\"trace bars\" style=\"opacity: 1;\"><g class=\"points\"><g class=\"point\"><path d=\"M2.82,191.95V147.57H25.43V191.95Z\" style=\"vector-effect: non-scaling-stroke; opacity: 1; stroke-width: 0.5px; fill: rgb(0, 204, 150); fill-opacity: 1; stroke: rgb(229, 236, 246); stroke-opacity: 1;\"/></g><g class=\"point\"><path d=\"M31.08,263.98V263.29H53.68V263.98Z\" style=\"vector-effect: non-scaling-stroke; opacity: 1; stroke-width: 0.5px; fill: rgb(0, 204, 150); fill-opacity: 1; stroke: rgb(229, 236, 246); stroke-opacity: 1;\"/></g><g class=\"point\"><path d=\"M59.33,264.83V264.66H81.93V264.83Z\" style=\"vector-effect: non-scaling-stroke; opacity: 1; stroke-width: 0.5px; fill: rgb(0, 204, 150); fill-opacity: 1; stroke: rgb(229, 236, 246); stroke-opacity: 1;\"/></g><g class=\"point\"><path d=\"M115.83,264.32V263.98H138.43V264.32Z\" style=\"vector-effect: non-scaling-stroke; opacity: 1; stroke-width: 0.5px; fill: rgb(0, 204, 150); fill-opacity: 1; stroke: rgb(229, 236, 246); stroke-opacity: 1;\"/></g><g class=\"point\"><path d=\"M144.07,264.66V264.49H166.68V264.66Z\" style=\"vector-effect: non-scaling-stroke; opacity: 1; stroke-width: 0.5px; fill: rgb(0, 204, 150); fill-opacity: 1; stroke: rgb(229, 236, 246); stroke-opacity: 1;\"/></g><g class=\"point\"><path d=\"M172.33,260.56V258.17H194.93V260.56Z\" style=\"vector-effect: non-scaling-stroke; opacity: 1; stroke-width: 0.5px; fill: rgb(0, 204, 150); fill-opacity: 1; stroke: rgb(229, 236, 246); stroke-opacity: 1;\"/></g><g class=\"point\"><path d=\"M426.58,265V264.83H449.18V265Z\" style=\"vector-effect: non-scaling-stroke; opacity: 1; stroke-width: 0.5px; fill: rgb(0, 204, 150); fill-opacity: 1; stroke: rgb(229, 236, 246); stroke-opacity: 1;\"/></g><g class=\"point\"><path d=\"M200.58,187.68V148.94H223.18V187.68Z\" style=\"vector-effect: non-scaling-stroke; opacity: 1; stroke-width: 0.5px; fill: rgb(0, 204, 150); fill-opacity: 1; stroke: rgb(229, 236, 246); stroke-opacity: 1;\"/></g><g class=\"point\"><path d=\"M228.83,263.46V262.61H251.43V263.46Z\" style=\"vector-effect: non-scaling-stroke; opacity: 1; stroke-width: 0.5px; fill: rgb(0, 204, 150); fill-opacity: 1; stroke: rgb(229, 236, 246); stroke-opacity: 1;\"/></g><g class=\"point\"><path d=\"M257.08,263.81V263.46H279.68V263.81Z\" style=\"vector-effect: non-scaling-stroke; opacity: 1; stroke-width: 0.5px; fill: rgb(0, 204, 150); fill-opacity: 1; stroke: rgb(229, 236, 246); stroke-opacity: 1;\"/></g><g class=\"point\"><path d=\"M285.33,264.83V264.66H307.93V264.83Z\" style=\"vector-effect: non-scaling-stroke; opacity: 1; stroke-width: 0.5px; fill: rgb(0, 204, 150); fill-opacity: 1; stroke: rgb(229, 236, 246); stroke-opacity: 1;\"/></g><g class=\"point\"><path d=\"M313.58,258.86V257.32H336.18V258.86Z\" style=\"vector-effect: non-scaling-stroke; opacity: 1; stroke-width: 0.5px; fill: rgb(0, 204, 150); fill-opacity: 1; stroke: rgb(229, 236, 246); stroke-opacity: 1;\"/></g></g></g><g class=\"trace bars\" style=\"opacity: 1;\"><g class=\"points\"><g class=\"point\"><path d=\"M2.82,147.57V146.89H25.43V147.57Z\" style=\"vector-effect: non-scaling-stroke; opacity: 1; stroke-width: 0.5px; fill: rgb(171, 99, 250); fill-opacity: 1; stroke: rgb(229, 236, 246); stroke-opacity: 1;\"/></g><g class=\"point\"><path d=\"M200.58,148.94V148.77H223.18V148.94Z\" style=\"vector-effect: non-scaling-stroke; opacity: 1; stroke-width: 0.5px; fill: rgb(171, 99, 250); fill-opacity: 1; stroke: rgb(229, 236, 246); stroke-opacity: 1;\"/></g></g></g><g class=\"trace bars\" style=\"opacity: 1;\"><g class=\"points\"><g class=\"point\"><path d=\"M2.82,146.89V16.83H25.43V146.89Z\" style=\"vector-effect: non-scaling-stroke; opacity: 1; stroke-width: 0.5px; fill: rgb(255, 161, 90); fill-opacity: 1; stroke: rgb(229, 236, 246); stroke-opacity: 1;\"/></g><g class=\"point\"><path d=\"M31.08,263.29V260.39H53.68V263.29Z\" style=\"vector-effect: non-scaling-stroke; opacity: 1; stroke-width: 0.5px; fill: rgb(255, 161, 90); fill-opacity: 1; stroke: rgb(229, 236, 246); stroke-opacity: 1;\"/></g><g class=\"point\"><path d=\"M59.33,264.66V264.15H81.93V264.66Z\" style=\"vector-effect: non-scaling-stroke; opacity: 1; stroke-width: 0.5px; fill: rgb(255, 161, 90); fill-opacity: 1; stroke: rgb(229, 236, 246); stroke-opacity: 1;\"/></g><g class=\"point\"><path d=\"M87.58,264.32V263.46H110.18V264.32Z\" style=\"vector-effect: non-scaling-stroke; opacity: 1; stroke-width: 0.5px; fill: rgb(255, 161, 90); fill-opacity: 1; stroke: rgb(229, 236, 246); stroke-opacity: 1;\"/></g><g class=\"point\"><path d=\"M115.83,263.98V261.42H138.43V263.98Z\" style=\"vector-effect: non-scaling-stroke; opacity: 1; stroke-width: 0.5px; fill: rgb(255, 161, 90); fill-opacity: 1; stroke: rgb(229, 236, 246); stroke-opacity: 1;\"/></g><g class=\"point\"><path d=\"M144.07,264.49V263.29H166.68V264.49Z\" style=\"vector-effect: non-scaling-stroke; opacity: 1; stroke-width: 0.5px; fill: rgb(255, 161, 90); fill-opacity: 1; stroke: rgb(229, 236, 246); stroke-opacity: 1;\"/></g><g class=\"point\"><path d=\"M398.33,264.83V264.66H420.93V264.83Z\" style=\"vector-effect: non-scaling-stroke; opacity: 1; stroke-width: 0.5px; fill: rgb(255, 161, 90); fill-opacity: 1; stroke: rgb(229, 236, 246); stroke-opacity: 1;\"/></g><g class=\"point\"><path d=\"M172.33,258.17V252.54H194.93V258.17Z\" style=\"vector-effect: non-scaling-stroke; opacity: 1; stroke-width: 0.5px; fill: rgb(255, 161, 90); fill-opacity: 1; stroke: rgb(229, 236, 246); stroke-opacity: 1;\"/></g><g class=\"point\"><path d=\"M426.58,264.83V264.66H449.18V264.83Z\" style=\"vector-effect: non-scaling-stroke; opacity: 1; stroke-width: 0.5px; fill: rgb(255, 161, 90); fill-opacity: 1; stroke: rgb(229, 236, 246); stroke-opacity: 1;\"/></g><g class=\"point\"><path d=\"M200.58,148.77V13.25H223.18V148.77Z\" style=\"vector-effect: non-scaling-stroke; opacity: 1; stroke-width: 0.5px; fill: rgb(255, 161, 90); fill-opacity: 1; stroke: rgb(229, 236, 246); stroke-opacity: 1;\"/></g><g class=\"point\"><path d=\"M228.83,262.61V259.37H251.43V262.61Z\" style=\"vector-effect: non-scaling-stroke; opacity: 1; stroke-width: 0.5px; fill: rgb(255, 161, 90); fill-opacity: 1; stroke: rgb(229, 236, 246); stroke-opacity: 1;\"/></g><g class=\"point\"><path d=\"M257.08,263.46V261.59H279.68V263.46Z\" style=\"vector-effect: non-scaling-stroke; opacity: 1; stroke-width: 0.5px; fill: rgb(255, 161, 90); fill-opacity: 1; stroke: rgb(229, 236, 246); stroke-opacity: 1;\"/></g><g class=\"point\"><path d=\"M285.33,264.66V264.32H307.93V264.66Z\" style=\"vector-effect: non-scaling-stroke; opacity: 1; stroke-width: 0.5px; fill: rgb(255, 161, 90); fill-opacity: 1; stroke: rgb(229, 236, 246); stroke-opacity: 1;\"/></g><g class=\"point\"><path d=\"M313.58,257.32V251.35H336.18V257.32Z\" style=\"vector-effect: non-scaling-stroke; opacity: 1; stroke-width: 0.5px; fill: rgb(255, 161, 90); fill-opacity: 1; stroke: rgb(229, 236, 246); stroke-opacity: 1;\"/></g><g class=\"point\"><path d=\"M341.83,264.83V264.66H364.43V264.83Z\" style=\"vector-effect: non-scaling-stroke; opacity: 1; stroke-width: 0.5px; fill: rgb(255, 161, 90); fill-opacity: 1; stroke: rgb(229, 236, 246); stroke-opacity: 1;\"/></g></g></g></g></g><g class=\"overplot\"/><path class=\"xlines-above crisp\" d=\"M0,0\" style=\"fill: none;\"/><path class=\"ylines-above crisp\" d=\"M0,0\" style=\"fill: none;\"/><g class=\"overlines-above\"/><g class=\"xaxislayer-above\"><g class=\"xtick\"><text text-anchor=\"start\" x=\"0\" y=\"378\" transform=\"translate(94.13,0) rotate(90,0,372)\" style=\"font-family: 'Open Sans', verdana, arial, sans-serif; font-size: 12px; fill: rgb(42, 63, 95); fill-opacity: 1; white-space: pre; opacity: 1;\">Apartment</text></g><g class=\"xtick\"><text text-anchor=\"start\" x=\"0\" y=\"378\" transform=\"translate(122.38,0) rotate(90,0,372)\" style=\"font-family: 'Open Sans', verdana, arial, sans-serif; font-size: 12px; fill: rgb(42, 63, 95); fill-opacity: 1; white-space: pre; opacity: 1;\">Bed &amp; Breakfast</text></g><g class=\"xtick\"><text text-anchor=\"start\" x=\"0\" y=\"378\" transform=\"translate(150.63,0) rotate(90,0,372)\" style=\"font-family: 'Open Sans', verdana, arial, sans-serif; font-size: 12px; fill: rgb(42, 63, 95); fill-opacity: 1; white-space: pre; opacity: 1;\">Boat</text></g><g class=\"xtick\"><text text-anchor=\"start\" x=\"0\" y=\"378\" transform=\"translate(178.88,0) rotate(90,0,372)\" style=\"font-family: 'Open Sans', verdana, arial, sans-serif; font-size: 12px; fill: rgb(42, 63, 95); fill-opacity: 1; white-space: pre; opacity: 1;\">Bungalow</text></g><g class=\"xtick\"><text text-anchor=\"start\" x=\"0\" y=\"378\" transform=\"translate(207.13,0) rotate(90,0,372)\" style=\"font-family: 'Open Sans', verdana, arial, sans-serif; font-size: 12px; fill: rgb(42, 63, 95); fill-opacity: 1; white-space: pre; opacity: 1;\">Cabin</text></g><g class=\"xtick\"><text text-anchor=\"start\" x=\"0\" y=\"378\" transform=\"translate(235.38,0) rotate(90,0,372)\" style=\"font-family: 'Open Sans', verdana, arial, sans-serif; font-size: 12px; fill: rgb(42, 63, 95); fill-opacity: 1; white-space: pre; opacity: 1;\">Camper/RV</text></g><g class=\"xtick\"><text text-anchor=\"start\" x=\"0\" y=\"378\" transform=\"translate(263.63,0) rotate(90,0,372)\" style=\"font-family: 'Open Sans', verdana, arial, sans-serif; font-size: 12px; fill: rgb(42, 63, 95); fill-opacity: 1; white-space: pre; opacity: 1;\">Condominium</text></g><g class=\"xtick\"><text text-anchor=\"start\" x=\"0\" y=\"378\" transform=\"translate(291.88,0) rotate(90,0,372)\" style=\"font-family: 'Open Sans', verdana, arial, sans-serif; font-size: 12px; fill: rgb(42, 63, 95); fill-opacity: 1; white-space: pre; opacity: 1;\">House</text></g><g class=\"xtick\"><text text-anchor=\"start\" x=\"0\" y=\"378\" transform=\"translate(320.13,0) rotate(90,0,372)\" style=\"font-family: 'Open Sans', verdana, arial, sans-serif; font-size: 12px; fill: rgb(42, 63, 95); fill-opacity: 1; white-space: pre; opacity: 1;\">Loft</text></g><g class=\"xtick\"><text text-anchor=\"start\" x=\"0\" y=\"378\" transform=\"translate(348.38,0) rotate(90,0,372)\" style=\"font-family: 'Open Sans', verdana, arial, sans-serif; font-size: 12px; fill: rgb(42, 63, 95); fill-opacity: 1; white-space: pre; opacity: 1;\">Other</text></g><g class=\"xtick\"><text text-anchor=\"start\" x=\"0\" y=\"378\" transform=\"translate(376.63,0) rotate(90,0,372)\" style=\"font-family: 'Open Sans', verdana, arial, sans-serif; font-size: 12px; fill: rgb(42, 63, 95); fill-opacity: 1; white-space: pre; opacity: 1;\">Tent</text></g><g class=\"xtick\"><text text-anchor=\"start\" x=\"0\" y=\"378\" transform=\"translate(404.88,0) rotate(90,0,372)\" style=\"font-family: 'Open Sans', verdana, arial, sans-serif; font-size: 12px; fill: rgb(42, 63, 95); fill-opacity: 1; white-space: pre; opacity: 1;\">Townhouse</text></g><g class=\"xtick\"><text text-anchor=\"start\" x=\"0\" y=\"378\" transform=\"translate(433.13,0) rotate(90,0,372)\" style=\"font-family: 'Open Sans', verdana, arial, sans-serif; font-size: 12px; fill: rgb(42, 63, 95); fill-opacity: 1; white-space: pre; opacity: 1;\">Treehouse</text></g><g class=\"xtick\"><text text-anchor=\"start\" x=\"0\" y=\"378\" transform=\"translate(461.38,0) rotate(90,0,372)\" style=\"font-family: 'Open Sans', verdana, arial, sans-serif; font-size: 12px; fill: rgb(42, 63, 95); fill-opacity: 1; white-space: pre; opacity: 1;\">Yurt</text></g><g class=\"xtick\"><text text-anchor=\"start\" x=\"0\" y=\"378\" transform=\"translate(489.63,0) rotate(90,0,372)\" style=\"font-family: 'Open Sans', verdana, arial, sans-serif; font-size: 12px; fill: rgb(42, 63, 95); fill-opacity: 1; white-space: pre; opacity: 1;\">Chalet</text></g><g class=\"xtick\"><text text-anchor=\"start\" x=\"0\" y=\"378\" transform=\"translate(517.88,0) rotate(90,0,372)\" style=\"font-family: 'Open Sans', verdana, arial, sans-serif; font-size: 12px; fill: rgb(42, 63, 95); fill-opacity: 1; white-space: pre; opacity: 1;\">Dorm</text></g></g><g class=\"yaxislayer-above\"><g class=\"ytick\"><text text-anchor=\"end\" x=\"79\" y=\"4.199999999999999\" transform=\"translate(0,365)\" style=\"font-family: 'Open Sans', verdana, arial, sans-serif; font-size: 12px; fill: rgb(42, 63, 95); fill-opacity: 1; white-space: pre; opacity: 1;\">0</text></g><g class=\"ytick\"><text text-anchor=\"end\" x=\"79\" y=\"4.199999999999999\" style=\"font-family: 'Open Sans', verdana, arial, sans-serif; font-size: 12px; fill: rgb(42, 63, 95); fill-opacity: 1; white-space: pre; opacity: 1;\" transform=\"translate(0,279.65999999999997)\">500</text></g><g class=\"ytick\"><text text-anchor=\"end\" x=\"79\" y=\"4.199999999999999\" style=\"font-family: 'Open Sans', verdana, arial, sans-serif; font-size: 12px; fill: rgb(42, 63, 95); fill-opacity: 1; white-space: pre; opacity: 1;\" transform=\"translate(0,194.32)\">1000</text></g><g class=\"ytick\"><text text-anchor=\"end\" x=\"79\" y=\"4.199999999999999\" style=\"font-family: 'Open Sans', verdana, arial, sans-serif; font-size: 12px; fill: rgb(42, 63, 95); fill-opacity: 1; white-space: pre; opacity: 1;\" transform=\"translate(0,108.98)\">1500</text></g></g><g class=\"overaxes-above\"/></g></g><g class=\"polarlayer\"/><g class=\"smithlayer\"/><g class=\"ternarylayer\"/><g class=\"geolayer\"/><g class=\"funnelarealayer\"/><g class=\"pielayer\"/><g class=\"iciclelayer\"/><g class=\"treemaplayer\"/><g class=\"sunburstlayer\"/><g class=\"glimages\"/><defs id=\"topdefs-c96716\"><g class=\"clips\"/><clipPath id=\"legendc96716\"><rect width=\"147\" height=\"124\" x=\"0\" y=\"0\"/></clipPath></defs><g class=\"layer-above\"><g class=\"imagelayer\"/><g class=\"shapelayer\"/></g><g class=\"infolayer\"><g class=\"legend\" pointer-events=\"all\" transform=\"translate(541.04,100)\"><rect class=\"bg\" shape-rendering=\"crispEdges\" style=\"stroke: rgb(68, 68, 68); stroke-opacity: 1; fill: rgb(255, 255, 255); fill-opacity: 1; stroke-width: 0px;\" width=\"147\" height=\"124\" x=\"0\" y=\"0\"/><g class=\"scrollbox\" transform=\"\" clip-path=\"url(#legendc96716)\"><text class=\"legendtitletext\" text-anchor=\"start\" x=\"2\" y=\"18.2\" style=\"font-family: 'Open Sans', verdana, arial, sans-serif; font-size: 14px; fill: rgb(42, 63, 95); fill-opacity: 1; white-space: pre;\">Rating Category</text><g class=\"groups\" transform=\"\"><g class=\"traces\" transform=\"translate(0,32.7)\" style=\"opacity: 1;\"><text class=\"legendtext\" text-anchor=\"start\" x=\"40\" y=\"4.680000000000001\" style=\"font-family: 'Open Sans', verdana, arial, sans-serif; font-size: 12px; fill: rgb(42, 63, 95); fill-opacity: 1; white-space: pre;\">Excellent (98-100]</text><g class=\"layers\" style=\"opacity: 1;\"><g class=\"legendfill\"/><g class=\"legendlines\"/><g class=\"legendsymbols\"><g class=\"legendpoints\"><path class=\"legendundefined\" d=\"M6,6H-6V-6H6Z\" transform=\"translate(20,0)\" style=\"stroke-width: 0.5px; fill: rgb(99, 110, 250); fill-opacity: 1; stroke: rgb(229, 236, 246); stroke-opacity: 1;\"/></g></g></g><rect class=\"legendtoggle\" x=\"0\" y=\"-9.5\" width=\"141.5\" height=\"19\" style=\"fill: rgb(0, 0, 0); fill-opacity: 0;\"/></g></g><g class=\"groups\" transform=\"\"><g class=\"traces\" transform=\"translate(0,51.7)\" style=\"opacity: 1;\"><text class=\"legendtext\" text-anchor=\"start\" x=\"40\" y=\"4.680000000000001\" style=\"font-family: 'Open Sans', verdana, arial, sans-serif; font-size: 12px; fill: rgb(42, 63, 95); fill-opacity: 1; white-space: pre;\">Fair (50-75]</text><g class=\"layers\" style=\"opacity: 1;\"><g class=\"legendfill\"/><g class=\"legendlines\"/><g class=\"legendsymbols\"><g class=\"legendpoints\"><path class=\"legendundefined\" d=\"M6,6H-6V-6H6Z\" transform=\"translate(20,0)\" style=\"stroke-width: 0.5px; fill: rgb(239, 85, 59); fill-opacity: 1; stroke: rgb(229, 236, 246); stroke-opacity: 1;\"/></g></g></g><rect class=\"legendtoggle\" x=\"0\" y=\"-9.5\" width=\"141.5\" height=\"19\" style=\"fill: rgb(0, 0, 0); fill-opacity: 0;\"/></g></g><g class=\"groups\" transform=\"\"><g class=\"traces\" transform=\"translate(0,70.7)\" style=\"opacity: 1;\"><text class=\"legendtext\" text-anchor=\"start\" x=\"40\" y=\"4.680000000000001\" style=\"font-family: 'Open Sans', verdana, arial, sans-serif; font-size: 12px; fill: rgb(42, 63, 95); fill-opacity: 1; white-space: pre;\">Good (75-90]</text><g class=\"layers\" style=\"opacity: 1;\"><g class=\"legendfill\"/><g class=\"legendlines\"/><g class=\"legendsymbols\"><g class=\"legendpoints\"><path class=\"legendundefined\" d=\"M6,6H-6V-6H6Z\" transform=\"translate(20,0)\" style=\"stroke-width: 0.5px; fill: rgb(0, 204, 150); fill-opacity: 1; stroke: rgb(229, 236, 246); stroke-opacity: 1;\"/></g></g></g><rect class=\"legendtoggle\" x=\"0\" y=\"-9.5\" width=\"141.5\" height=\"19\" style=\"fill: rgb(0, 0, 0); fill-opacity: 0;\"/></g></g><g class=\"groups\" transform=\"\"><g class=\"traces\" transform=\"translate(0,89.7)\" style=\"opacity: 1;\"><text class=\"legendtext\" text-anchor=\"start\" x=\"40\" y=\"4.680000000000001\" style=\"font-family: 'Open Sans', verdana, arial, sans-serif; font-size: 12px; fill: rgb(42, 63, 95); fill-opacity: 1; white-space: pre;\">Poor [0-50]</text><g class=\"layers\" style=\"opacity: 1;\"><g class=\"legendfill\"/><g class=\"legendlines\"/><g class=\"legendsymbols\"><g class=\"legendpoints\"><path class=\"legendundefined\" d=\"M6,6H-6V-6H6Z\" transform=\"translate(20,0)\" style=\"stroke-width: 0.5px; fill: rgb(171, 99, 250); fill-opacity: 1; stroke: rgb(229, 236, 246); stroke-opacity: 1;\"/></g></g></g><rect class=\"legendtoggle\" x=\"0\" y=\"-9.5\" width=\"141.5\" height=\"19\" style=\"fill: rgb(0, 0, 0); fill-opacity: 0;\"/></g></g><g class=\"groups\" transform=\"\"><g class=\"traces\" transform=\"translate(0,108.7)\" style=\"opacity: 1;\"><text class=\"legendtext\" text-anchor=\"start\" x=\"40\" y=\"4.680000000000001\" style=\"font-family: 'Open Sans', verdana, arial, sans-serif; font-size: 12px; fill: rgb(42, 63, 95); fill-opacity: 1; white-space: pre;\">Very Good (90-98]</text><g class=\"layers\" style=\"opacity: 1;\"><g class=\"legendfill\"/><g class=\"legendlines\"/><g class=\"legendsymbols\"><g class=\"legendpoints\"><path class=\"legendundefined\" d=\"M6,6H-6V-6H6Z\" transform=\"translate(20,0)\" style=\"stroke-width: 0.5px; fill: rgb(255, 161, 90); fill-opacity: 1; stroke: rgb(229, 236, 246); stroke-opacity: 1;\"/></g></g></g><rect class=\"legendtoggle\" x=\"0\" y=\"-9.5\" width=\"141.5\" height=\"19\" style=\"fill: rgb(0, 0, 0); fill-opacity: 0;\"/></g></g></g><rect class=\"scrollbar\" rx=\"20\" ry=\"3\" width=\"0\" height=\"0\" style=\"fill: rgb(128, 139, 164); fill-opacity: 1;\" x=\"0\" y=\"0\"/></g><g class=\"g-gtitle\"><text class=\"gtitle\" x=\"35\" y=\"50\" text-anchor=\"start\" dy=\"0em\" style=\"font-family: 'Open Sans', verdana, arial, sans-serif; font-size: 17px; fill: rgb(42, 63, 95); opacity: 1; font-weight: normal; white-space: pre;\">Review ratings based on property type</text></g><g class=\"g-xtitle\"><text class=\"xtitle\" x=\"306\" y=\"487.503125\" text-anchor=\"middle\" style=\"font-family: 'Open Sans', verdana, arial, sans-serif; font-size: 14px; fill: rgb(42, 63, 95); opacity: 1; font-weight: normal; white-space: pre;\">Property Type</text></g><g class=\"g-ytitle\"><text class=\"ytitle\" transform=\"rotate(-90,26.746875000000003,232.5)\" x=\"26.746875000000003\" y=\"232.5\" text-anchor=\"middle\" style=\"font-family: 'Open Sans', verdana, arial, sans-serif; font-size: 14px; fill: rgb(42, 63, 95); opacity: 1; font-weight: normal; white-space: pre;\">Count of listings</text></g></g></svg>"
      ]
     },
     "metadata": {},
     "output_type": "display_data"
    }
   ],
   "source": [
    "fig = px.bar(ans1, x = \"property_type\",  y=\"id\", color=\"rating_category\", \n",
    "             title = \"Review ratings based on property type\",\n",
    "             labels={\"property_type\": \"Property Type\",\n",
    "                     \"id\": \"Count of listings\",\n",
    "                     \"rating_category\": \"Rating Category\"},)\n",
    "fig.show()\n",
    "fig.show('svg')"
   ]
  },
  {
   "cell_type": "markdown",
   "id": "ca854d7f",
   "metadata": {},
   "source": [
    "#### Insight"
   ]
  },
  {
   "cell_type": "markdown",
   "id": "361146c2",
   "metadata": {},
   "source": [
    "- The most common property type are Apartment and Houses\n",
    "- Most listings were rated as Very good (90-98]\n",
    "- From the entire dataset only 4 Apartments and 1 house were rated as Poor"
   ]
  },
  {
   "cell_type": "markdown",
   "id": "a7ec0145",
   "metadata": {},
   "source": [
    "### Question 2:  Which neighbourhoods have the highest average listings prices per night?"
   ]
  },
  {
   "cell_type": "markdown",
   "id": "673300a2",
   "metadata": {},
   "source": [
    "#### Preprocessing"
   ]
  },
  {
   "cell_type": "code",
   "execution_count": 19,
   "id": "f81fb5ad",
   "metadata": {},
   "outputs": [],
   "source": [
    "q2=df.copy()"
   ]
  },
  {
   "cell_type": "code",
   "execution_count": 20,
   "id": "ef931e2c",
   "metadata": {},
   "outputs": [
    {
     "data": {
      "text/html": [
       "<div>\n",
       "<style scoped>\n",
       "    .dataframe tbody tr th:only-of-type {\n",
       "        vertical-align: middle;\n",
       "    }\n",
       "\n",
       "    .dataframe tbody tr th {\n",
       "        vertical-align: top;\n",
       "    }\n",
       "\n",
       "    .dataframe thead th {\n",
       "        text-align: right;\n",
       "    }\n",
       "</style>\n",
       "<table border=\"1\" class=\"dataframe\">\n",
       "  <thead>\n",
       "    <tr style=\"text-align: right;\">\n",
       "      <th></th>\n",
       "      <th>neighbourhood_group_cleansed</th>\n",
       "      <th>neighbourhood_cleansed</th>\n",
       "      <th>price</th>\n",
       "    </tr>\n",
       "  </thead>\n",
       "  <tbody>\n",
       "    <tr>\n",
       "      <th>0</th>\n",
       "      <td>Ballard</td>\n",
       "      <td>Adams</td>\n",
       "      <td>121.671429</td>\n",
       "    </tr>\n",
       "    <tr>\n",
       "      <th>1</th>\n",
       "      <td>Ballard</td>\n",
       "      <td>Loyal Heights</td>\n",
       "      <td>109.384615</td>\n",
       "    </tr>\n",
       "    <tr>\n",
       "      <th>2</th>\n",
       "      <td>Ballard</td>\n",
       "      <td>Sunset Hill</td>\n",
       "      <td>176.055556</td>\n",
       "    </tr>\n",
       "    <tr>\n",
       "      <th>3</th>\n",
       "      <td>Ballard</td>\n",
       "      <td>West Woodland</td>\n",
       "      <td>124.343750</td>\n",
       "    </tr>\n",
       "    <tr>\n",
       "      <th>4</th>\n",
       "      <td>Ballard</td>\n",
       "      <td>Whittier Heights</td>\n",
       "      <td>128.653846</td>\n",
       "    </tr>\n",
       "    <tr>\n",
       "      <th>...</th>\n",
       "      <td>...</td>\n",
       "      <td>...</td>\n",
       "      <td>...</td>\n",
       "    </tr>\n",
       "    <tr>\n",
       "      <th>82</th>\n",
       "      <td>West Seattle</td>\n",
       "      <td>Fauntleroy</td>\n",
       "      <td>164.100000</td>\n",
       "    </tr>\n",
       "    <tr>\n",
       "      <th>83</th>\n",
       "      <td>West Seattle</td>\n",
       "      <td>Gatewood</td>\n",
       "      <td>124.318182</td>\n",
       "    </tr>\n",
       "    <tr>\n",
       "      <th>84</th>\n",
       "      <td>West Seattle</td>\n",
       "      <td>Genesee</td>\n",
       "      <td>121.970588</td>\n",
       "    </tr>\n",
       "    <tr>\n",
       "      <th>85</th>\n",
       "      <td>West Seattle</td>\n",
       "      <td>North Admiral</td>\n",
       "      <td>146.408163</td>\n",
       "    </tr>\n",
       "    <tr>\n",
       "      <th>86</th>\n",
       "      <td>West Seattle</td>\n",
       "      <td>Seaview</td>\n",
       "      <td>118.166667</td>\n",
       "    </tr>\n",
       "  </tbody>\n",
       "</table>\n",
       "<p>87 rows × 3 columns</p>\n",
       "</div>"
      ],
      "text/plain": [
       "   neighbourhood_group_cleansed neighbourhood_cleansed       price\n",
       "0                       Ballard                  Adams  121.671429\n",
       "1                       Ballard          Loyal Heights  109.384615\n",
       "2                       Ballard            Sunset Hill  176.055556\n",
       "3                       Ballard          West Woodland  124.343750\n",
       "4                       Ballard       Whittier Heights  128.653846\n",
       "..                          ...                    ...         ...\n",
       "82                 West Seattle             Fauntleroy  164.100000\n",
       "83                 West Seattle               Gatewood  124.318182\n",
       "84                 West Seattle                Genesee  121.970588\n",
       "85                 West Seattle          North Admiral  146.408163\n",
       "86                 West Seattle                Seaview  118.166667\n",
       "\n",
       "[87 rows x 3 columns]"
      ]
     },
     "execution_count": 20,
     "metadata": {},
     "output_type": "execute_result"
    }
   ],
   "source": [
    "# group by neighbourhood group name and the neighbourhood name, and take the average price\n",
    "ans2 = q2.groupby([\"neighbourhood_group_cleansed\",\"neighbourhood_cleansed\"], as_index=False).mean()[[\"neighbourhood_group_cleansed\",\"neighbourhood_cleansed\",\"price\"]]\n",
    "ans2"
   ]
  },
  {
   "cell_type": "markdown",
   "id": "43eac51f",
   "metadata": {},
   "source": [
    "#### Visualization"
   ]
  },
  {
   "cell_type": "code",
   "execution_count": 34,
   "id": "950aaaf2",
   "metadata": {
    "scrolled": false
   },
   "outputs": [
    {
     "data": {
      "application/vnd.plotly.v1+json": {
       "config": {
        "plotlyServerURL": "https://plot.ly"
       },
       "data": [
        {
         "alignmentgroup": "True",
         "hovertemplate": "neighbourhood_group_cleansed=Ballard<br>Neighbourhoods=%{x}<br>Average prices per night=%{y}<extra></extra>",
         "legendgroup": "Ballard",
         "marker": {
          "color": "#FD3216",
          "pattern": {
           "shape": ""
          }
         },
         "name": "Ballard",
         "offsetgroup": "Ballard",
         "orientation": "v",
         "showlegend": true,
         "textposition": "auto",
         "type": "bar",
         "x": [
          "Adams",
          "Loyal Heights",
          "Sunset Hill",
          "West Woodland",
          "Whittier Heights"
         ],
         "xaxis": "x",
         "y": [
          121.67142857142858,
          109.38461538461539,
          176.05555555555554,
          124.34375,
          128.65384615384616
         ],
         "yaxis": "y"
        },
        {
         "alignmentgroup": "True",
         "hovertemplate": "neighbourhood_group_cleansed=Beacon Hill<br>Neighbourhoods=%{x}<br>Average prices per night=%{y}<extra></extra>",
         "legendgroup": "Beacon Hill",
         "marker": {
          "color": "#00FE35",
          "pattern": {
           "shape": ""
          }
         },
         "name": "Beacon Hill",
         "offsetgroup": "Beacon Hill",
         "orientation": "v",
         "showlegend": true,
         "textposition": "auto",
         "type": "bar",
         "x": [
          "Holly Park",
          "Mid-Beacon Hill",
          "North Beacon Hill",
          "South Beacon Hill"
         ],
         "xaxis": "x",
         "y": [
          147.16666666666666,
          79.93333333333334,
          96.88461538461539,
          83.25
         ],
         "yaxis": "y"
        },
        {
         "alignmentgroup": "True",
         "hovertemplate": "neighbourhood_group_cleansed=Capitol Hill<br>Neighbourhoods=%{x}<br>Average prices per night=%{y}<extra></extra>",
         "legendgroup": "Capitol Hill",
         "marker": {
          "color": "#6A76FC",
          "pattern": {
           "shape": ""
          }
         },
         "name": "Capitol Hill",
         "offsetgroup": "Capitol Hill",
         "orientation": "v",
         "showlegend": true,
         "textposition": "auto",
         "type": "bar",
         "x": [
          "Broadway",
          "Madison Park",
          "Montlake",
          "Portage Bay",
          "Stevens"
         ],
         "xaxis": "x",
         "y": [
          123.88916876574308,
          130.38888888888889,
          182.78947368421052,
          227.85714285714286,
          133.21008403361344
         ],
         "yaxis": "y"
        },
        {
         "alignmentgroup": "True",
         "hovertemplate": "neighbourhood_group_cleansed=Cascade<br>Neighbourhoods=%{x}<br>Average prices per night=%{y}<extra></extra>",
         "legendgroup": "Cascade",
         "marker": {
          "color": "#FED4C4",
          "pattern": {
           "shape": ""
          }
         },
         "name": "Cascade",
         "offsetgroup": "Cascade",
         "orientation": "v",
         "showlegend": true,
         "textposition": "auto",
         "type": "bar",
         "x": [
          "Eastlake",
          "South Lake Union",
          "Westlake"
         ],
         "xaxis": "x",
         "y": [
          122.33333333333333,
          135.4814814814815,
          194.47058823529412
         ],
         "yaxis": "y"
        },
        {
         "alignmentgroup": "True",
         "hovertemplate": "neighbourhood_group_cleansed=Central Area<br>Neighbourhoods=%{x}<br>Average prices per night=%{y}<extra></extra>",
         "legendgroup": "Central Area",
         "marker": {
          "color": "#FE00CE",
          "pattern": {
           "shape": ""
          }
         },
         "name": "Central Area",
         "offsetgroup": "Central Area",
         "orientation": "v",
         "showlegend": true,
         "textposition": "auto",
         "type": "bar",
         "x": [
          "Atlantic",
          "Harrison/Denny-Blaine",
          "Leschi",
          "Madrona",
          "Mann",
          "Minor"
         ],
         "xaxis": "x",
         "y": [
          111.39622641509433,
          114.92857142857143,
          134.35849056603774,
          158.2340425531915,
          131.98507462686567,
          121.8
         ],
         "yaxis": "y"
        },
        {
         "alignmentgroup": "True",
         "hovertemplate": "neighbourhood_group_cleansed=Delridge<br>Neighbourhoods=%{x}<br>Average prices per night=%{y}<extra></extra>",
         "legendgroup": "Delridge",
         "marker": {
          "color": "#0DF9FF",
          "pattern": {
           "shape": ""
          }
         },
         "name": "Delridge",
         "offsetgroup": "Delridge",
         "orientation": "v",
         "showlegend": true,
         "textposition": "auto",
         "type": "bar",
         "x": [
          "High Point",
          "Highland Park",
          "North Delridge",
          "Riverview",
          "Roxhill",
          "South Delridge"
         ],
         "xaxis": "x",
         "y": [
          104.35714285714286,
          86.27272727272727,
          76.375,
          80.5,
          92.5,
          74.66666666666667
         ],
         "yaxis": "y"
        },
        {
         "alignmentgroup": "True",
         "hovertemplate": "neighbourhood_group_cleansed=Downtown<br>Neighbourhoods=%{x}<br>Average prices per night=%{y}<extra></extra>",
         "legendgroup": "Downtown",
         "marker": {
          "color": "#F6F926",
          "pattern": {
           "shape": ""
          }
         },
         "name": "Downtown",
         "offsetgroup": "Downtown",
         "orientation": "v",
         "showlegend": true,
         "textposition": "auto",
         "type": "bar",
         "x": [
          "Belltown",
          "Central Business District",
          "First Hill",
          "International District",
          "Pike-Market",
          "Pioneer Square",
          "Yesler Terrace"
         ],
         "xaxis": "x",
         "y": [
          162.89316239316238,
          164.2135922330097,
          136.42592592592592,
          104.88235294117646,
          157.78571428571428,
          169.2608695652174,
          116.23529411764706
         ],
         "yaxis": "y"
        },
        {
         "alignmentgroup": "True",
         "hovertemplate": "neighbourhood_group_cleansed=Interbay<br>Neighbourhoods=%{x}<br>Average prices per night=%{y}<extra></extra>",
         "legendgroup": "Interbay",
         "marker": {
          "color": "#FF9616",
          "pattern": {
           "shape": ""
          }
         },
         "name": "Interbay",
         "offsetgroup": "Interbay",
         "orientation": "v",
         "showlegend": true,
         "textposition": "auto",
         "type": "bar",
         "x": [
          "Interbay"
         ],
         "xaxis": "x",
         "y": [
          109.72727272727273
         ],
         "yaxis": "y"
        },
        {
         "alignmentgroup": "True",
         "hovertemplate": "neighbourhood_group_cleansed=Lake City<br>Neighbourhoods=%{x}<br>Average prices per night=%{y}<extra></extra>",
         "legendgroup": "Lake City",
         "marker": {
          "color": "#479B55",
          "pattern": {
           "shape": ""
          }
         },
         "name": "Lake City",
         "offsetgroup": "Lake City",
         "orientation": "v",
         "showlegend": true,
         "textposition": "auto",
         "type": "bar",
         "x": [
          "Cedar Park",
          "Matthews Beach",
          "Meadowbrook",
          "Olympic Hills",
          "Victory Heights"
         ],
         "xaxis": "x",
         "y": [
          114.625,
          107.10526315789474,
          98.66666666666667,
          71.6875,
          81.46666666666667
         ],
         "yaxis": "y"
        },
        {
         "alignmentgroup": "True",
         "hovertemplate": "neighbourhood_group_cleansed=Magnolia<br>Neighbourhoods=%{x}<br>Average prices per night=%{y}<extra></extra>",
         "legendgroup": "Magnolia",
         "marker": {
          "color": "#EEA6FB",
          "pattern": {
           "shape": ""
          }
         },
         "name": "Magnolia",
         "offsetgroup": "Magnolia",
         "orientation": "v",
         "showlegend": true,
         "textposition": "auto",
         "type": "bar",
         "x": [
          "Briarcliff",
          "Lawton Park",
          "Southeast Magnolia"
         ],
         "xaxis": "x",
         "y": [
          176.57142857142858,
          147.56666666666666,
          231.7058823529412
         ],
         "yaxis": "y"
        },
        {
         "alignmentgroup": "True",
         "hovertemplate": "neighbourhood_group_cleansed=Northgate<br>Neighbourhoods=%{x}<br>Average prices per night=%{y}<extra></extra>",
         "legendgroup": "Northgate",
         "marker": {
          "color": "#DC587D",
          "pattern": {
           "shape": ""
          }
         },
         "name": "Northgate",
         "offsetgroup": "Northgate",
         "orientation": "v",
         "showlegend": true,
         "textposition": "auto",
         "type": "bar",
         "x": [
          "Haller Lake",
          "Maple Leaf",
          "North College Park",
          "Pinehurst"
         ],
         "xaxis": "x",
         "y": [
          103.4,
          80.26190476190476,
          89.10526315789474,
          117.25
         ],
         "yaxis": "y"
        },
        {
         "alignmentgroup": "True",
         "hovertemplate": "neighbourhood_group_cleansed=Other neighborhoods<br>Neighbourhoods=%{x}<br>Average prices per night=%{y}<extra></extra>",
         "legendgroup": "Other neighborhoods",
         "marker": {
          "color": "#D626FF",
          "pattern": {
           "shape": ""
          }
         },
         "name": "Other neighborhoods",
         "offsetgroup": "Other neighborhoods",
         "orientation": "v",
         "showlegend": true,
         "textposition": "auto",
         "type": "bar",
         "x": [
          "Bitter Lake",
          "Broadview",
          "Bryant",
          "Crown Hill",
          "Fremont",
          "Georgetown",
          "Green Lake",
          "Greenwood",
          "Industrial District",
          "Laurelhurst",
          "North Beach/Blue Ridge",
          "Phinney Ridge",
          "Ravenna",
          "Roosevelt",
          "South Park",
          "View Ridge",
          "Wallingford",
          "Wedgwood",
          "Windermere"
         ],
         "xaxis": "x",
         "y": [
          83,
          94.70588235294117,
          114.89655172413794,
          87.66666666666667,
          129.05696202531647,
          76.125,
          149.0185185185185,
          98.82022471910112,
          173.33333333333334,
          108.4,
          128.28571428571428,
          129.5205479452055,
          88.68656716417911,
          128.53333333333333,
          90,
          139,
          128.4311377245509,
          110.44444444444444,
          169.9
         ],
         "yaxis": "y"
        },
        {
         "alignmentgroup": "True",
         "hovertemplate": "neighbourhood_group_cleansed=Queen Anne<br>Neighbourhoods=%{x}<br>Average prices per night=%{y}<extra></extra>",
         "legendgroup": "Queen Anne",
         "marker": {
          "color": "#6E899C",
          "pattern": {
           "shape": ""
          }
         },
         "name": "Queen Anne",
         "offsetgroup": "Queen Anne",
         "orientation": "v",
         "showlegend": true,
         "textposition": "auto",
         "type": "bar",
         "x": [
          "East Queen Anne",
          "Lower Queen Anne",
          "North Queen Anne",
          "West Queen Anne"
         ],
         "xaxis": "x",
         "y": [
          159.41463414634146,
          138.20212765957447,
          150.24074074074073,
          187.76923076923077
         ],
         "yaxis": "y"
        },
        {
         "alignmentgroup": "True",
         "hovertemplate": "neighbourhood_group_cleansed=Rainier Valley<br>Neighbourhoods=%{x}<br>Average prices per night=%{y}<extra></extra>",
         "legendgroup": "Rainier Valley",
         "marker": {
          "color": "#00B5F7",
          "pattern": {
           "shape": ""
          }
         },
         "name": "Rainier Valley",
         "offsetgroup": "Rainier Valley",
         "orientation": "v",
         "showlegend": true,
         "textposition": "auto",
         "type": "bar",
         "x": [
          "Brighton",
          "Columbia City",
          "Dunlap",
          "Mount Baker",
          "Rainier Beach"
         ],
         "xaxis": "x",
         "y": [
          91.23076923076923,
          95.01724137931035,
          88.3,
          98.3,
          68.55555555555556
         ],
         "yaxis": "y"
        },
        {
         "alignmentgroup": "True",
         "hovertemplate": "neighbourhood_group_cleansed=Seward Park<br>Neighbourhoods=%{x}<br>Average prices per night=%{y}<extra></extra>",
         "legendgroup": "Seward Park",
         "marker": {
          "color": "#B68E00",
          "pattern": {
           "shape": ""
          }
         },
         "name": "Seward Park",
         "offsetgroup": "Seward Park",
         "orientation": "v",
         "showlegend": true,
         "textposition": "auto",
         "type": "bar",
         "x": [
          "Seward Park"
         ],
         "xaxis": "x",
         "y": [
          108.47727272727273
         ],
         "yaxis": "y"
        },
        {
         "alignmentgroup": "True",
         "hovertemplate": "neighbourhood_group_cleansed=University District<br>Neighbourhoods=%{x}<br>Average prices per night=%{y}<extra></extra>",
         "legendgroup": "University District",
         "marker": {
          "color": "#C9FBE5",
          "pattern": {
           "shape": ""
          }
         },
         "name": "University District",
         "offsetgroup": "University District",
         "orientation": "v",
         "showlegend": true,
         "textposition": "auto",
         "type": "bar",
         "x": [
          "University District"
         ],
         "xaxis": "x",
         "y": [
          93.63934426229508
         ],
         "yaxis": "y"
        },
        {
         "alignmentgroup": "True",
         "hovertemplate": "neighbourhood_group_cleansed=West Seattle<br>Neighbourhoods=%{x}<br>Average prices per night=%{y}<extra></extra>",
         "legendgroup": "West Seattle",
         "marker": {
          "color": "#FF0092",
          "pattern": {
           "shape": ""
          }
         },
         "name": "West Seattle",
         "offsetgroup": "West Seattle",
         "orientation": "v",
         "showlegend": true,
         "textposition": "auto",
         "type": "bar",
         "x": [
          "Alki",
          "Arbor Heights",
          "Fairmount Park",
          "Fauntleroy",
          "Gatewood",
          "Genesee",
          "North Admiral",
          "Seaview"
         ],
         "xaxis": "x",
         "y": [
          171.61904761904762,
          126.8,
          128.93103448275863,
          164.1,
          124.31818181818181,
          121.97058823529412,
          146.40816326530611,
          118.16666666666667
         ],
         "yaxis": "y"
        }
       ],
       "layout": {
        "autosize": false,
        "barmode": "relative",
        "height": 700,
        "legend": {
         "title": {
          "text": "neighbourhood_group_cleansed"
         },
         "tracegroupgap": 0
        },
        "template": {
         "data": {
          "bar": [
           {
            "error_x": {
             "color": "#2a3f5f"
            },
            "error_y": {
             "color": "#2a3f5f"
            },
            "marker": {
             "line": {
              "color": "#E5ECF6",
              "width": 0.5
             },
             "pattern": {
              "fillmode": "overlay",
              "size": 10,
              "solidity": 0.2
             }
            },
            "type": "bar"
           }
          ],
          "barpolar": [
           {
            "marker": {
             "line": {
              "color": "#E5ECF6",
              "width": 0.5
             },
             "pattern": {
              "fillmode": "overlay",
              "size": 10,
              "solidity": 0.2
             }
            },
            "type": "barpolar"
           }
          ],
          "carpet": [
           {
            "aaxis": {
             "endlinecolor": "#2a3f5f",
             "gridcolor": "white",
             "linecolor": "white",
             "minorgridcolor": "white",
             "startlinecolor": "#2a3f5f"
            },
            "baxis": {
             "endlinecolor": "#2a3f5f",
             "gridcolor": "white",
             "linecolor": "white",
             "minorgridcolor": "white",
             "startlinecolor": "#2a3f5f"
            },
            "type": "carpet"
           }
          ],
          "choropleth": [
           {
            "colorbar": {
             "outlinewidth": 0,
             "ticks": ""
            },
            "type": "choropleth"
           }
          ],
          "contour": [
           {
            "colorbar": {
             "outlinewidth": 0,
             "ticks": ""
            },
            "colorscale": [
             [
              0,
              "#0d0887"
             ],
             [
              0.1111111111111111,
              "#46039f"
             ],
             [
              0.2222222222222222,
              "#7201a8"
             ],
             [
              0.3333333333333333,
              "#9c179e"
             ],
             [
              0.4444444444444444,
              "#bd3786"
             ],
             [
              0.5555555555555556,
              "#d8576b"
             ],
             [
              0.6666666666666666,
              "#ed7953"
             ],
             [
              0.7777777777777778,
              "#fb9f3a"
             ],
             [
              0.8888888888888888,
              "#fdca26"
             ],
             [
              1,
              "#f0f921"
             ]
            ],
            "type": "contour"
           }
          ],
          "contourcarpet": [
           {
            "colorbar": {
             "outlinewidth": 0,
             "ticks": ""
            },
            "type": "contourcarpet"
           }
          ],
          "heatmap": [
           {
            "colorbar": {
             "outlinewidth": 0,
             "ticks": ""
            },
            "colorscale": [
             [
              0,
              "#0d0887"
             ],
             [
              0.1111111111111111,
              "#46039f"
             ],
             [
              0.2222222222222222,
              "#7201a8"
             ],
             [
              0.3333333333333333,
              "#9c179e"
             ],
             [
              0.4444444444444444,
              "#bd3786"
             ],
             [
              0.5555555555555556,
              "#d8576b"
             ],
             [
              0.6666666666666666,
              "#ed7953"
             ],
             [
              0.7777777777777778,
              "#fb9f3a"
             ],
             [
              0.8888888888888888,
              "#fdca26"
             ],
             [
              1,
              "#f0f921"
             ]
            ],
            "type": "heatmap"
           }
          ],
          "heatmapgl": [
           {
            "colorbar": {
             "outlinewidth": 0,
             "ticks": ""
            },
            "colorscale": [
             [
              0,
              "#0d0887"
             ],
             [
              0.1111111111111111,
              "#46039f"
             ],
             [
              0.2222222222222222,
              "#7201a8"
             ],
             [
              0.3333333333333333,
              "#9c179e"
             ],
             [
              0.4444444444444444,
              "#bd3786"
             ],
             [
              0.5555555555555556,
              "#d8576b"
             ],
             [
              0.6666666666666666,
              "#ed7953"
             ],
             [
              0.7777777777777778,
              "#fb9f3a"
             ],
             [
              0.8888888888888888,
              "#fdca26"
             ],
             [
              1,
              "#f0f921"
             ]
            ],
            "type": "heatmapgl"
           }
          ],
          "histogram": [
           {
            "marker": {
             "pattern": {
              "fillmode": "overlay",
              "size": 10,
              "solidity": 0.2
             }
            },
            "type": "histogram"
           }
          ],
          "histogram2d": [
           {
            "colorbar": {
             "outlinewidth": 0,
             "ticks": ""
            },
            "colorscale": [
             [
              0,
              "#0d0887"
             ],
             [
              0.1111111111111111,
              "#46039f"
             ],
             [
              0.2222222222222222,
              "#7201a8"
             ],
             [
              0.3333333333333333,
              "#9c179e"
             ],
             [
              0.4444444444444444,
              "#bd3786"
             ],
             [
              0.5555555555555556,
              "#d8576b"
             ],
             [
              0.6666666666666666,
              "#ed7953"
             ],
             [
              0.7777777777777778,
              "#fb9f3a"
             ],
             [
              0.8888888888888888,
              "#fdca26"
             ],
             [
              1,
              "#f0f921"
             ]
            ],
            "type": "histogram2d"
           }
          ],
          "histogram2dcontour": [
           {
            "colorbar": {
             "outlinewidth": 0,
             "ticks": ""
            },
            "colorscale": [
             [
              0,
              "#0d0887"
             ],
             [
              0.1111111111111111,
              "#46039f"
             ],
             [
              0.2222222222222222,
              "#7201a8"
             ],
             [
              0.3333333333333333,
              "#9c179e"
             ],
             [
              0.4444444444444444,
              "#bd3786"
             ],
             [
              0.5555555555555556,
              "#d8576b"
             ],
             [
              0.6666666666666666,
              "#ed7953"
             ],
             [
              0.7777777777777778,
              "#fb9f3a"
             ],
             [
              0.8888888888888888,
              "#fdca26"
             ],
             [
              1,
              "#f0f921"
             ]
            ],
            "type": "histogram2dcontour"
           }
          ],
          "mesh3d": [
           {
            "colorbar": {
             "outlinewidth": 0,
             "ticks": ""
            },
            "type": "mesh3d"
           }
          ],
          "parcoords": [
           {
            "line": {
             "colorbar": {
              "outlinewidth": 0,
              "ticks": ""
             }
            },
            "type": "parcoords"
           }
          ],
          "pie": [
           {
            "automargin": true,
            "type": "pie"
           }
          ],
          "scatter": [
           {
            "fillpattern": {
             "fillmode": "overlay",
             "size": 10,
             "solidity": 0.2
            },
            "type": "scatter"
           }
          ],
          "scatter3d": [
           {
            "line": {
             "colorbar": {
              "outlinewidth": 0,
              "ticks": ""
             }
            },
            "marker": {
             "colorbar": {
              "outlinewidth": 0,
              "ticks": ""
             }
            },
            "type": "scatter3d"
           }
          ],
          "scattercarpet": [
           {
            "marker": {
             "colorbar": {
              "outlinewidth": 0,
              "ticks": ""
             }
            },
            "type": "scattercarpet"
           }
          ],
          "scattergeo": [
           {
            "marker": {
             "colorbar": {
              "outlinewidth": 0,
              "ticks": ""
             }
            },
            "type": "scattergeo"
           }
          ],
          "scattergl": [
           {
            "marker": {
             "colorbar": {
              "outlinewidth": 0,
              "ticks": ""
             }
            },
            "type": "scattergl"
           }
          ],
          "scattermapbox": [
           {
            "marker": {
             "colorbar": {
              "outlinewidth": 0,
              "ticks": ""
             }
            },
            "type": "scattermapbox"
           }
          ],
          "scatterpolar": [
           {
            "marker": {
             "colorbar": {
              "outlinewidth": 0,
              "ticks": ""
             }
            },
            "type": "scatterpolar"
           }
          ],
          "scatterpolargl": [
           {
            "marker": {
             "colorbar": {
              "outlinewidth": 0,
              "ticks": ""
             }
            },
            "type": "scatterpolargl"
           }
          ],
          "scatterternary": [
           {
            "marker": {
             "colorbar": {
              "outlinewidth": 0,
              "ticks": ""
             }
            },
            "type": "scatterternary"
           }
          ],
          "surface": [
           {
            "colorbar": {
             "outlinewidth": 0,
             "ticks": ""
            },
            "colorscale": [
             [
              0,
              "#0d0887"
             ],
             [
              0.1111111111111111,
              "#46039f"
             ],
             [
              0.2222222222222222,
              "#7201a8"
             ],
             [
              0.3333333333333333,
              "#9c179e"
             ],
             [
              0.4444444444444444,
              "#bd3786"
             ],
             [
              0.5555555555555556,
              "#d8576b"
             ],
             [
              0.6666666666666666,
              "#ed7953"
             ],
             [
              0.7777777777777778,
              "#fb9f3a"
             ],
             [
              0.8888888888888888,
              "#fdca26"
             ],
             [
              1,
              "#f0f921"
             ]
            ],
            "type": "surface"
           }
          ],
          "table": [
           {
            "cells": {
             "fill": {
              "color": "#EBF0F8"
             },
             "line": {
              "color": "white"
             }
            },
            "header": {
             "fill": {
              "color": "#C8D4E3"
             },
             "line": {
              "color": "white"
             }
            },
            "type": "table"
           }
          ]
         },
         "layout": {
          "annotationdefaults": {
           "arrowcolor": "#2a3f5f",
           "arrowhead": 0,
           "arrowwidth": 1
          },
          "autotypenumbers": "strict",
          "coloraxis": {
           "colorbar": {
            "outlinewidth": 0,
            "ticks": ""
           }
          },
          "colorscale": {
           "diverging": [
            [
             0,
             "#8e0152"
            ],
            [
             0.1,
             "#c51b7d"
            ],
            [
             0.2,
             "#de77ae"
            ],
            [
             0.3,
             "#f1b6da"
            ],
            [
             0.4,
             "#fde0ef"
            ],
            [
             0.5,
             "#f7f7f7"
            ],
            [
             0.6,
             "#e6f5d0"
            ],
            [
             0.7,
             "#b8e186"
            ],
            [
             0.8,
             "#7fbc41"
            ],
            [
             0.9,
             "#4d9221"
            ],
            [
             1,
             "#276419"
            ]
           ],
           "sequential": [
            [
             0,
             "#0d0887"
            ],
            [
             0.1111111111111111,
             "#46039f"
            ],
            [
             0.2222222222222222,
             "#7201a8"
            ],
            [
             0.3333333333333333,
             "#9c179e"
            ],
            [
             0.4444444444444444,
             "#bd3786"
            ],
            [
             0.5555555555555556,
             "#d8576b"
            ],
            [
             0.6666666666666666,
             "#ed7953"
            ],
            [
             0.7777777777777778,
             "#fb9f3a"
            ],
            [
             0.8888888888888888,
             "#fdca26"
            ],
            [
             1,
             "#f0f921"
            ]
           ],
           "sequentialminus": [
            [
             0,
             "#0d0887"
            ],
            [
             0.1111111111111111,
             "#46039f"
            ],
            [
             0.2222222222222222,
             "#7201a8"
            ],
            [
             0.3333333333333333,
             "#9c179e"
            ],
            [
             0.4444444444444444,
             "#bd3786"
            ],
            [
             0.5555555555555556,
             "#d8576b"
            ],
            [
             0.6666666666666666,
             "#ed7953"
            ],
            [
             0.7777777777777778,
             "#fb9f3a"
            ],
            [
             0.8888888888888888,
             "#fdca26"
            ],
            [
             1,
             "#f0f921"
            ]
           ]
          },
          "colorway": [
           "#636efa",
           "#EF553B",
           "#00cc96",
           "#ab63fa",
           "#FFA15A",
           "#19d3f3",
           "#FF6692",
           "#B6E880",
           "#FF97FF",
           "#FECB52"
          ],
          "font": {
           "color": "#2a3f5f"
          },
          "geo": {
           "bgcolor": "white",
           "lakecolor": "white",
           "landcolor": "#E5ECF6",
           "showlakes": true,
           "showland": true,
           "subunitcolor": "white"
          },
          "hoverlabel": {
           "align": "left"
          },
          "hovermode": "closest",
          "mapbox": {
           "style": "light"
          },
          "paper_bgcolor": "white",
          "plot_bgcolor": "#E5ECF6",
          "polar": {
           "angularaxis": {
            "gridcolor": "white",
            "linecolor": "white",
            "ticks": ""
           },
           "bgcolor": "#E5ECF6",
           "radialaxis": {
            "gridcolor": "white",
            "linecolor": "white",
            "ticks": ""
           }
          },
          "scene": {
           "xaxis": {
            "backgroundcolor": "#E5ECF6",
            "gridcolor": "white",
            "gridwidth": 2,
            "linecolor": "white",
            "showbackground": true,
            "ticks": "",
            "zerolinecolor": "white"
           },
           "yaxis": {
            "backgroundcolor": "#E5ECF6",
            "gridcolor": "white",
            "gridwidth": 2,
            "linecolor": "white",
            "showbackground": true,
            "ticks": "",
            "zerolinecolor": "white"
           },
           "zaxis": {
            "backgroundcolor": "#E5ECF6",
            "gridcolor": "white",
            "gridwidth": 2,
            "linecolor": "white",
            "showbackground": true,
            "ticks": "",
            "zerolinecolor": "white"
           }
          },
          "shapedefaults": {
           "line": {
            "color": "#2a3f5f"
           }
          },
          "ternary": {
           "aaxis": {
            "gridcolor": "white",
            "linecolor": "white",
            "ticks": ""
           },
           "baxis": {
            "gridcolor": "white",
            "linecolor": "white",
            "ticks": ""
           },
           "bgcolor": "#E5ECF6",
           "caxis": {
            "gridcolor": "white",
            "linecolor": "white",
            "ticks": ""
           }
          },
          "title": {
           "x": 0.05
          },
          "xaxis": {
           "automargin": true,
           "gridcolor": "white",
           "linecolor": "white",
           "ticks": "",
           "title": {
            "standoff": 15
           },
           "zerolinecolor": "white",
           "zerolinewidth": 2
          },
          "yaxis": {
           "automargin": true,
           "gridcolor": "white",
           "linecolor": "white",
           "ticks": "",
           "title": {
            "standoff": 15
           },
           "zerolinecolor": "white",
           "zerolinewidth": 2
          }
         }
        },
        "title": {
         "text": "Neighbourhoods have the highest average listings prices per night"
        },
        "width": 900,
        "xaxis": {
         "anchor": "y",
         "domain": [
          0,
          1
         ],
         "title": {
          "text": "Neighbourhoods"
         }
        },
        "yaxis": {
         "anchor": "x",
         "domain": [
          0,
          1
         ],
         "title": {
          "text": "Average prices per night"
         }
        }
       }
      },
      "text/html": [
       "<div>                            <div id=\"94cd0e28-d1da-498e-a606-030afe0ee1bd\" class=\"plotly-graph-div\" style=\"height:700px; width:900px;\"></div>            <script type=\"text/javascript\">                require([\"plotly\"], function(Plotly) {                    window.PLOTLYENV=window.PLOTLYENV || {};                                    if (document.getElementById(\"94cd0e28-d1da-498e-a606-030afe0ee1bd\")) {                    Plotly.newPlot(                        \"94cd0e28-d1da-498e-a606-030afe0ee1bd\",                        [{\"alignmentgroup\":\"True\",\"hovertemplate\":\"neighbourhood_group_cleansed=Ballard<br>Neighbourhoods=%{x}<br>Average prices per night=%{y}<extra></extra>\",\"legendgroup\":\"Ballard\",\"marker\":{\"color\":\"#FD3216\",\"pattern\":{\"shape\":\"\"}},\"name\":\"Ballard\",\"offsetgroup\":\"Ballard\",\"orientation\":\"v\",\"showlegend\":true,\"textposition\":\"auto\",\"x\":[\"Adams\",\"Loyal Heights\",\"Sunset Hill\",\"West Woodland\",\"Whittier Heights\"],\"xaxis\":\"x\",\"y\":[121.67142857142858,109.38461538461539,176.05555555555554,124.34375,128.65384615384616],\"yaxis\":\"y\",\"type\":\"bar\"},{\"alignmentgroup\":\"True\",\"hovertemplate\":\"neighbourhood_group_cleansed=Beacon Hill<br>Neighbourhoods=%{x}<br>Average prices per night=%{y}<extra></extra>\",\"legendgroup\":\"Beacon Hill\",\"marker\":{\"color\":\"#00FE35\",\"pattern\":{\"shape\":\"\"}},\"name\":\"Beacon Hill\",\"offsetgroup\":\"Beacon Hill\",\"orientation\":\"v\",\"showlegend\":true,\"textposition\":\"auto\",\"x\":[\"Holly Park\",\"Mid-Beacon Hill\",\"North Beacon Hill\",\"South Beacon Hill\"],\"xaxis\":\"x\",\"y\":[147.16666666666666,79.93333333333334,96.88461538461539,83.25],\"yaxis\":\"y\",\"type\":\"bar\"},{\"alignmentgroup\":\"True\",\"hovertemplate\":\"neighbourhood_group_cleansed=Capitol Hill<br>Neighbourhoods=%{x}<br>Average prices per night=%{y}<extra></extra>\",\"legendgroup\":\"Capitol Hill\",\"marker\":{\"color\":\"#6A76FC\",\"pattern\":{\"shape\":\"\"}},\"name\":\"Capitol Hill\",\"offsetgroup\":\"Capitol Hill\",\"orientation\":\"v\",\"showlegend\":true,\"textposition\":\"auto\",\"x\":[\"Broadway\",\"Madison Park\",\"Montlake\",\"Portage Bay\",\"Stevens\"],\"xaxis\":\"x\",\"y\":[123.88916876574308,130.38888888888889,182.78947368421052,227.85714285714286,133.21008403361344],\"yaxis\":\"y\",\"type\":\"bar\"},{\"alignmentgroup\":\"True\",\"hovertemplate\":\"neighbourhood_group_cleansed=Cascade<br>Neighbourhoods=%{x}<br>Average prices per night=%{y}<extra></extra>\",\"legendgroup\":\"Cascade\",\"marker\":{\"color\":\"#FED4C4\",\"pattern\":{\"shape\":\"\"}},\"name\":\"Cascade\",\"offsetgroup\":\"Cascade\",\"orientation\":\"v\",\"showlegend\":true,\"textposition\":\"auto\",\"x\":[\"Eastlake\",\"South Lake Union\",\"Westlake\"],\"xaxis\":\"x\",\"y\":[122.33333333333333,135.4814814814815,194.47058823529412],\"yaxis\":\"y\",\"type\":\"bar\"},{\"alignmentgroup\":\"True\",\"hovertemplate\":\"neighbourhood_group_cleansed=Central Area<br>Neighbourhoods=%{x}<br>Average prices per night=%{y}<extra></extra>\",\"legendgroup\":\"Central Area\",\"marker\":{\"color\":\"#FE00CE\",\"pattern\":{\"shape\":\"\"}},\"name\":\"Central Area\",\"offsetgroup\":\"Central Area\",\"orientation\":\"v\",\"showlegend\":true,\"textposition\":\"auto\",\"x\":[\"Atlantic\",\"Harrison/Denny-Blaine\",\"Leschi\",\"Madrona\",\"Mann\",\"Minor\"],\"xaxis\":\"x\",\"y\":[111.39622641509433,114.92857142857143,134.35849056603774,158.2340425531915,131.98507462686567,121.8],\"yaxis\":\"y\",\"type\":\"bar\"},{\"alignmentgroup\":\"True\",\"hovertemplate\":\"neighbourhood_group_cleansed=Delridge<br>Neighbourhoods=%{x}<br>Average prices per night=%{y}<extra></extra>\",\"legendgroup\":\"Delridge\",\"marker\":{\"color\":\"#0DF9FF\",\"pattern\":{\"shape\":\"\"}},\"name\":\"Delridge\",\"offsetgroup\":\"Delridge\",\"orientation\":\"v\",\"showlegend\":true,\"textposition\":\"auto\",\"x\":[\"High Point\",\"Highland Park\",\"North Delridge\",\"Riverview\",\"Roxhill\",\"South Delridge\"],\"xaxis\":\"x\",\"y\":[104.35714285714286,86.27272727272727,76.375,80.5,92.5,74.66666666666667],\"yaxis\":\"y\",\"type\":\"bar\"},{\"alignmentgroup\":\"True\",\"hovertemplate\":\"neighbourhood_group_cleansed=Downtown<br>Neighbourhoods=%{x}<br>Average prices per night=%{y}<extra></extra>\",\"legendgroup\":\"Downtown\",\"marker\":{\"color\":\"#F6F926\",\"pattern\":{\"shape\":\"\"}},\"name\":\"Downtown\",\"offsetgroup\":\"Downtown\",\"orientation\":\"v\",\"showlegend\":true,\"textposition\":\"auto\",\"x\":[\"Belltown\",\"Central Business District\",\"First Hill\",\"International District\",\"Pike-Market\",\"Pioneer Square\",\"Yesler Terrace\"],\"xaxis\":\"x\",\"y\":[162.89316239316238,164.2135922330097,136.42592592592592,104.88235294117646,157.78571428571428,169.2608695652174,116.23529411764706],\"yaxis\":\"y\",\"type\":\"bar\"},{\"alignmentgroup\":\"True\",\"hovertemplate\":\"neighbourhood_group_cleansed=Interbay<br>Neighbourhoods=%{x}<br>Average prices per night=%{y}<extra></extra>\",\"legendgroup\":\"Interbay\",\"marker\":{\"color\":\"#FF9616\",\"pattern\":{\"shape\":\"\"}},\"name\":\"Interbay\",\"offsetgroup\":\"Interbay\",\"orientation\":\"v\",\"showlegend\":true,\"textposition\":\"auto\",\"x\":[\"Interbay\"],\"xaxis\":\"x\",\"y\":[109.72727272727273],\"yaxis\":\"y\",\"type\":\"bar\"},{\"alignmentgroup\":\"True\",\"hovertemplate\":\"neighbourhood_group_cleansed=Lake City<br>Neighbourhoods=%{x}<br>Average prices per night=%{y}<extra></extra>\",\"legendgroup\":\"Lake City\",\"marker\":{\"color\":\"#479B55\",\"pattern\":{\"shape\":\"\"}},\"name\":\"Lake City\",\"offsetgroup\":\"Lake City\",\"orientation\":\"v\",\"showlegend\":true,\"textposition\":\"auto\",\"x\":[\"Cedar Park\",\"Matthews Beach\",\"Meadowbrook\",\"Olympic Hills\",\"Victory Heights\"],\"xaxis\":\"x\",\"y\":[114.625,107.10526315789474,98.66666666666667,71.6875,81.46666666666667],\"yaxis\":\"y\",\"type\":\"bar\"},{\"alignmentgroup\":\"True\",\"hovertemplate\":\"neighbourhood_group_cleansed=Magnolia<br>Neighbourhoods=%{x}<br>Average prices per night=%{y}<extra></extra>\",\"legendgroup\":\"Magnolia\",\"marker\":{\"color\":\"#EEA6FB\",\"pattern\":{\"shape\":\"\"}},\"name\":\"Magnolia\",\"offsetgroup\":\"Magnolia\",\"orientation\":\"v\",\"showlegend\":true,\"textposition\":\"auto\",\"x\":[\"Briarcliff\",\"Lawton Park\",\"Southeast Magnolia\"],\"xaxis\":\"x\",\"y\":[176.57142857142858,147.56666666666666,231.7058823529412],\"yaxis\":\"y\",\"type\":\"bar\"},{\"alignmentgroup\":\"True\",\"hovertemplate\":\"neighbourhood_group_cleansed=Northgate<br>Neighbourhoods=%{x}<br>Average prices per night=%{y}<extra></extra>\",\"legendgroup\":\"Northgate\",\"marker\":{\"color\":\"#DC587D\",\"pattern\":{\"shape\":\"\"}},\"name\":\"Northgate\",\"offsetgroup\":\"Northgate\",\"orientation\":\"v\",\"showlegend\":true,\"textposition\":\"auto\",\"x\":[\"Haller Lake\",\"Maple Leaf\",\"North College Park\",\"Pinehurst\"],\"xaxis\":\"x\",\"y\":[103.4,80.26190476190476,89.10526315789474,117.25],\"yaxis\":\"y\",\"type\":\"bar\"},{\"alignmentgroup\":\"True\",\"hovertemplate\":\"neighbourhood_group_cleansed=Other neighborhoods<br>Neighbourhoods=%{x}<br>Average prices per night=%{y}<extra></extra>\",\"legendgroup\":\"Other neighborhoods\",\"marker\":{\"color\":\"#D626FF\",\"pattern\":{\"shape\":\"\"}},\"name\":\"Other neighborhoods\",\"offsetgroup\":\"Other neighborhoods\",\"orientation\":\"v\",\"showlegend\":true,\"textposition\":\"auto\",\"x\":[\"Bitter Lake\",\"Broadview\",\"Bryant\",\"Crown Hill\",\"Fremont\",\"Georgetown\",\"Green Lake\",\"Greenwood\",\"Industrial District\",\"Laurelhurst\",\"North Beach/Blue Ridge\",\"Phinney Ridge\",\"Ravenna\",\"Roosevelt\",\"South Park\",\"View Ridge\",\"Wallingford\",\"Wedgwood\",\"Windermere\"],\"xaxis\":\"x\",\"y\":[83.0,94.70588235294117,114.89655172413794,87.66666666666667,129.05696202531647,76.125,149.0185185185185,98.82022471910112,173.33333333333334,108.4,128.28571428571428,129.5205479452055,88.68656716417911,128.53333333333333,90.0,139.0,128.4311377245509,110.44444444444444,169.9],\"yaxis\":\"y\",\"type\":\"bar\"},{\"alignmentgroup\":\"True\",\"hovertemplate\":\"neighbourhood_group_cleansed=Queen Anne<br>Neighbourhoods=%{x}<br>Average prices per night=%{y}<extra></extra>\",\"legendgroup\":\"Queen Anne\",\"marker\":{\"color\":\"#6E899C\",\"pattern\":{\"shape\":\"\"}},\"name\":\"Queen Anne\",\"offsetgroup\":\"Queen Anne\",\"orientation\":\"v\",\"showlegend\":true,\"textposition\":\"auto\",\"x\":[\"East Queen Anne\",\"Lower Queen Anne\",\"North Queen Anne\",\"West Queen Anne\"],\"xaxis\":\"x\",\"y\":[159.41463414634146,138.20212765957447,150.24074074074073,187.76923076923077],\"yaxis\":\"y\",\"type\":\"bar\"},{\"alignmentgroup\":\"True\",\"hovertemplate\":\"neighbourhood_group_cleansed=Rainier Valley<br>Neighbourhoods=%{x}<br>Average prices per night=%{y}<extra></extra>\",\"legendgroup\":\"Rainier Valley\",\"marker\":{\"color\":\"#00B5F7\",\"pattern\":{\"shape\":\"\"}},\"name\":\"Rainier Valley\",\"offsetgroup\":\"Rainier Valley\",\"orientation\":\"v\",\"showlegend\":true,\"textposition\":\"auto\",\"x\":[\"Brighton\",\"Columbia City\",\"Dunlap\",\"Mount Baker\",\"Rainier Beach\"],\"xaxis\":\"x\",\"y\":[91.23076923076923,95.01724137931035,88.3,98.3,68.55555555555556],\"yaxis\":\"y\",\"type\":\"bar\"},{\"alignmentgroup\":\"True\",\"hovertemplate\":\"neighbourhood_group_cleansed=Seward Park<br>Neighbourhoods=%{x}<br>Average prices per night=%{y}<extra></extra>\",\"legendgroup\":\"Seward Park\",\"marker\":{\"color\":\"#B68E00\",\"pattern\":{\"shape\":\"\"}},\"name\":\"Seward Park\",\"offsetgroup\":\"Seward Park\",\"orientation\":\"v\",\"showlegend\":true,\"textposition\":\"auto\",\"x\":[\"Seward Park\"],\"xaxis\":\"x\",\"y\":[108.47727272727273],\"yaxis\":\"y\",\"type\":\"bar\"},{\"alignmentgroup\":\"True\",\"hovertemplate\":\"neighbourhood_group_cleansed=University District<br>Neighbourhoods=%{x}<br>Average prices per night=%{y}<extra></extra>\",\"legendgroup\":\"University District\",\"marker\":{\"color\":\"#C9FBE5\",\"pattern\":{\"shape\":\"\"}},\"name\":\"University District\",\"offsetgroup\":\"University District\",\"orientation\":\"v\",\"showlegend\":true,\"textposition\":\"auto\",\"x\":[\"University District\"],\"xaxis\":\"x\",\"y\":[93.63934426229508],\"yaxis\":\"y\",\"type\":\"bar\"},{\"alignmentgroup\":\"True\",\"hovertemplate\":\"neighbourhood_group_cleansed=West Seattle<br>Neighbourhoods=%{x}<br>Average prices per night=%{y}<extra></extra>\",\"legendgroup\":\"West Seattle\",\"marker\":{\"color\":\"#FF0092\",\"pattern\":{\"shape\":\"\"}},\"name\":\"West Seattle\",\"offsetgroup\":\"West Seattle\",\"orientation\":\"v\",\"showlegend\":true,\"textposition\":\"auto\",\"x\":[\"Alki\",\"Arbor Heights\",\"Fairmount Park\",\"Fauntleroy\",\"Gatewood\",\"Genesee\",\"North Admiral\",\"Seaview\"],\"xaxis\":\"x\",\"y\":[171.61904761904762,126.8,128.93103448275863,164.1,124.31818181818181,121.97058823529412,146.40816326530611,118.16666666666667],\"yaxis\":\"y\",\"type\":\"bar\"}],                        {\"template\":{\"data\":{\"histogram2dcontour\":[{\"type\":\"histogram2dcontour\",\"colorbar\":{\"outlinewidth\":0,\"ticks\":\"\"},\"colorscale\":[[0.0,\"#0d0887\"],[0.1111111111111111,\"#46039f\"],[0.2222222222222222,\"#7201a8\"],[0.3333333333333333,\"#9c179e\"],[0.4444444444444444,\"#bd3786\"],[0.5555555555555556,\"#d8576b\"],[0.6666666666666666,\"#ed7953\"],[0.7777777777777778,\"#fb9f3a\"],[0.8888888888888888,\"#fdca26\"],[1.0,\"#f0f921\"]]}],\"choropleth\":[{\"type\":\"choropleth\",\"colorbar\":{\"outlinewidth\":0,\"ticks\":\"\"}}],\"histogram2d\":[{\"type\":\"histogram2d\",\"colorbar\":{\"outlinewidth\":0,\"ticks\":\"\"},\"colorscale\":[[0.0,\"#0d0887\"],[0.1111111111111111,\"#46039f\"],[0.2222222222222222,\"#7201a8\"],[0.3333333333333333,\"#9c179e\"],[0.4444444444444444,\"#bd3786\"],[0.5555555555555556,\"#d8576b\"],[0.6666666666666666,\"#ed7953\"],[0.7777777777777778,\"#fb9f3a\"],[0.8888888888888888,\"#fdca26\"],[1.0,\"#f0f921\"]]}],\"heatmap\":[{\"type\":\"heatmap\",\"colorbar\":{\"outlinewidth\":0,\"ticks\":\"\"},\"colorscale\":[[0.0,\"#0d0887\"],[0.1111111111111111,\"#46039f\"],[0.2222222222222222,\"#7201a8\"],[0.3333333333333333,\"#9c179e\"],[0.4444444444444444,\"#bd3786\"],[0.5555555555555556,\"#d8576b\"],[0.6666666666666666,\"#ed7953\"],[0.7777777777777778,\"#fb9f3a\"],[0.8888888888888888,\"#fdca26\"],[1.0,\"#f0f921\"]]}],\"heatmapgl\":[{\"type\":\"heatmapgl\",\"colorbar\":{\"outlinewidth\":0,\"ticks\":\"\"},\"colorscale\":[[0.0,\"#0d0887\"],[0.1111111111111111,\"#46039f\"],[0.2222222222222222,\"#7201a8\"],[0.3333333333333333,\"#9c179e\"],[0.4444444444444444,\"#bd3786\"],[0.5555555555555556,\"#d8576b\"],[0.6666666666666666,\"#ed7953\"],[0.7777777777777778,\"#fb9f3a\"],[0.8888888888888888,\"#fdca26\"],[1.0,\"#f0f921\"]]}],\"contourcarpet\":[{\"type\":\"contourcarpet\",\"colorbar\":{\"outlinewidth\":0,\"ticks\":\"\"}}],\"contour\":[{\"type\":\"contour\",\"colorbar\":{\"outlinewidth\":0,\"ticks\":\"\"},\"colorscale\":[[0.0,\"#0d0887\"],[0.1111111111111111,\"#46039f\"],[0.2222222222222222,\"#7201a8\"],[0.3333333333333333,\"#9c179e\"],[0.4444444444444444,\"#bd3786\"],[0.5555555555555556,\"#d8576b\"],[0.6666666666666666,\"#ed7953\"],[0.7777777777777778,\"#fb9f3a\"],[0.8888888888888888,\"#fdca26\"],[1.0,\"#f0f921\"]]}],\"surface\":[{\"type\":\"surface\",\"colorbar\":{\"outlinewidth\":0,\"ticks\":\"\"},\"colorscale\":[[0.0,\"#0d0887\"],[0.1111111111111111,\"#46039f\"],[0.2222222222222222,\"#7201a8\"],[0.3333333333333333,\"#9c179e\"],[0.4444444444444444,\"#bd3786\"],[0.5555555555555556,\"#d8576b\"],[0.6666666666666666,\"#ed7953\"],[0.7777777777777778,\"#fb9f3a\"],[0.8888888888888888,\"#fdca26\"],[1.0,\"#f0f921\"]]}],\"mesh3d\":[{\"type\":\"mesh3d\",\"colorbar\":{\"outlinewidth\":0,\"ticks\":\"\"}}],\"scatter\":[{\"fillpattern\":{\"fillmode\":\"overlay\",\"size\":10,\"solidity\":0.2},\"type\":\"scatter\"}],\"parcoords\":[{\"type\":\"parcoords\",\"line\":{\"colorbar\":{\"outlinewidth\":0,\"ticks\":\"\"}}}],\"scatterpolargl\":[{\"type\":\"scatterpolargl\",\"marker\":{\"colorbar\":{\"outlinewidth\":0,\"ticks\":\"\"}}}],\"bar\":[{\"error_x\":{\"color\":\"#2a3f5f\"},\"error_y\":{\"color\":\"#2a3f5f\"},\"marker\":{\"line\":{\"color\":\"#E5ECF6\",\"width\":0.5},\"pattern\":{\"fillmode\":\"overlay\",\"size\":10,\"solidity\":0.2}},\"type\":\"bar\"}],\"scattergeo\":[{\"type\":\"scattergeo\",\"marker\":{\"colorbar\":{\"outlinewidth\":0,\"ticks\":\"\"}}}],\"scatterpolar\":[{\"type\":\"scatterpolar\",\"marker\":{\"colorbar\":{\"outlinewidth\":0,\"ticks\":\"\"}}}],\"histogram\":[{\"marker\":{\"pattern\":{\"fillmode\":\"overlay\",\"size\":10,\"solidity\":0.2}},\"type\":\"histogram\"}],\"scattergl\":[{\"type\":\"scattergl\",\"marker\":{\"colorbar\":{\"outlinewidth\":0,\"ticks\":\"\"}}}],\"scatter3d\":[{\"type\":\"scatter3d\",\"line\":{\"colorbar\":{\"outlinewidth\":0,\"ticks\":\"\"}},\"marker\":{\"colorbar\":{\"outlinewidth\":0,\"ticks\":\"\"}}}],\"scattermapbox\":[{\"type\":\"scattermapbox\",\"marker\":{\"colorbar\":{\"outlinewidth\":0,\"ticks\":\"\"}}}],\"scatterternary\":[{\"type\":\"scatterternary\",\"marker\":{\"colorbar\":{\"outlinewidth\":0,\"ticks\":\"\"}}}],\"scattercarpet\":[{\"type\":\"scattercarpet\",\"marker\":{\"colorbar\":{\"outlinewidth\":0,\"ticks\":\"\"}}}],\"carpet\":[{\"aaxis\":{\"endlinecolor\":\"#2a3f5f\",\"gridcolor\":\"white\",\"linecolor\":\"white\",\"minorgridcolor\":\"white\",\"startlinecolor\":\"#2a3f5f\"},\"baxis\":{\"endlinecolor\":\"#2a3f5f\",\"gridcolor\":\"white\",\"linecolor\":\"white\",\"minorgridcolor\":\"white\",\"startlinecolor\":\"#2a3f5f\"},\"type\":\"carpet\"}],\"table\":[{\"cells\":{\"fill\":{\"color\":\"#EBF0F8\"},\"line\":{\"color\":\"white\"}},\"header\":{\"fill\":{\"color\":\"#C8D4E3\"},\"line\":{\"color\":\"white\"}},\"type\":\"table\"}],\"barpolar\":[{\"marker\":{\"line\":{\"color\":\"#E5ECF6\",\"width\":0.5},\"pattern\":{\"fillmode\":\"overlay\",\"size\":10,\"solidity\":0.2}},\"type\":\"barpolar\"}],\"pie\":[{\"automargin\":true,\"type\":\"pie\"}]},\"layout\":{\"autotypenumbers\":\"strict\",\"colorway\":[\"#636efa\",\"#EF553B\",\"#00cc96\",\"#ab63fa\",\"#FFA15A\",\"#19d3f3\",\"#FF6692\",\"#B6E880\",\"#FF97FF\",\"#FECB52\"],\"font\":{\"color\":\"#2a3f5f\"},\"hovermode\":\"closest\",\"hoverlabel\":{\"align\":\"left\"},\"paper_bgcolor\":\"white\",\"plot_bgcolor\":\"#E5ECF6\",\"polar\":{\"bgcolor\":\"#E5ECF6\",\"angularaxis\":{\"gridcolor\":\"white\",\"linecolor\":\"white\",\"ticks\":\"\"},\"radialaxis\":{\"gridcolor\":\"white\",\"linecolor\":\"white\",\"ticks\":\"\"}},\"ternary\":{\"bgcolor\":\"#E5ECF6\",\"aaxis\":{\"gridcolor\":\"white\",\"linecolor\":\"white\",\"ticks\":\"\"},\"baxis\":{\"gridcolor\":\"white\",\"linecolor\":\"white\",\"ticks\":\"\"},\"caxis\":{\"gridcolor\":\"white\",\"linecolor\":\"white\",\"ticks\":\"\"}},\"coloraxis\":{\"colorbar\":{\"outlinewidth\":0,\"ticks\":\"\"}},\"colorscale\":{\"sequential\":[[0.0,\"#0d0887\"],[0.1111111111111111,\"#46039f\"],[0.2222222222222222,\"#7201a8\"],[0.3333333333333333,\"#9c179e\"],[0.4444444444444444,\"#bd3786\"],[0.5555555555555556,\"#d8576b\"],[0.6666666666666666,\"#ed7953\"],[0.7777777777777778,\"#fb9f3a\"],[0.8888888888888888,\"#fdca26\"],[1.0,\"#f0f921\"]],\"sequentialminus\":[[0.0,\"#0d0887\"],[0.1111111111111111,\"#46039f\"],[0.2222222222222222,\"#7201a8\"],[0.3333333333333333,\"#9c179e\"],[0.4444444444444444,\"#bd3786\"],[0.5555555555555556,\"#d8576b\"],[0.6666666666666666,\"#ed7953\"],[0.7777777777777778,\"#fb9f3a\"],[0.8888888888888888,\"#fdca26\"],[1.0,\"#f0f921\"]],\"diverging\":[[0,\"#8e0152\"],[0.1,\"#c51b7d\"],[0.2,\"#de77ae\"],[0.3,\"#f1b6da\"],[0.4,\"#fde0ef\"],[0.5,\"#f7f7f7\"],[0.6,\"#e6f5d0\"],[0.7,\"#b8e186\"],[0.8,\"#7fbc41\"],[0.9,\"#4d9221\"],[1,\"#276419\"]]},\"xaxis\":{\"gridcolor\":\"white\",\"linecolor\":\"white\",\"ticks\":\"\",\"title\":{\"standoff\":15},\"zerolinecolor\":\"white\",\"automargin\":true,\"zerolinewidth\":2},\"yaxis\":{\"gridcolor\":\"white\",\"linecolor\":\"white\",\"ticks\":\"\",\"title\":{\"standoff\":15},\"zerolinecolor\":\"white\",\"automargin\":true,\"zerolinewidth\":2},\"scene\":{\"xaxis\":{\"backgroundcolor\":\"#E5ECF6\",\"gridcolor\":\"white\",\"linecolor\":\"white\",\"showbackground\":true,\"ticks\":\"\",\"zerolinecolor\":\"white\",\"gridwidth\":2},\"yaxis\":{\"backgroundcolor\":\"#E5ECF6\",\"gridcolor\":\"white\",\"linecolor\":\"white\",\"showbackground\":true,\"ticks\":\"\",\"zerolinecolor\":\"white\",\"gridwidth\":2},\"zaxis\":{\"backgroundcolor\":\"#E5ECF6\",\"gridcolor\":\"white\",\"linecolor\":\"white\",\"showbackground\":true,\"ticks\":\"\",\"zerolinecolor\":\"white\",\"gridwidth\":2}},\"shapedefaults\":{\"line\":{\"color\":\"#2a3f5f\"}},\"annotationdefaults\":{\"arrowcolor\":\"#2a3f5f\",\"arrowhead\":0,\"arrowwidth\":1},\"geo\":{\"bgcolor\":\"white\",\"landcolor\":\"#E5ECF6\",\"subunitcolor\":\"white\",\"showland\":true,\"showlakes\":true,\"lakecolor\":\"white\"},\"title\":{\"x\":0.05},\"mapbox\":{\"style\":\"light\"}}},\"xaxis\":{\"anchor\":\"y\",\"domain\":[0.0,1.0],\"title\":{\"text\":\"Neighbourhoods\"}},\"yaxis\":{\"anchor\":\"x\",\"domain\":[0.0,1.0],\"title\":{\"text\":\"Average prices per night\"}},\"legend\":{\"title\":{\"text\":\"neighbourhood_group_cleansed\"},\"tracegroupgap\":0},\"title\":{\"text\":\"Neighbourhoods have the highest average listings prices per night\"},\"barmode\":\"relative\",\"autosize\":false,\"width\":900,\"height\":700},                        {\"responsive\": true}                    ).then(function(){\n",
       "                            \n",
       "var gd = document.getElementById('94cd0e28-d1da-498e-a606-030afe0ee1bd');\n",
       "var x = new MutationObserver(function (mutations, observer) {{\n",
       "        var display = window.getComputedStyle(gd).display;\n",
       "        if (!display || display === 'none') {{\n",
       "            console.log([gd, 'removed!']);\n",
       "            Plotly.purge(gd);\n",
       "            observer.disconnect();\n",
       "        }}\n",
       "}});\n",
       "\n",
       "// Listen for the removal of the full notebook cells\n",
       "var notebookContainer = gd.closest('#notebook-container');\n",
       "if (notebookContainer) {{\n",
       "    x.observe(notebookContainer, {childList: true});\n",
       "}}\n",
       "\n",
       "// Listen for the clearing of the current output cell\n",
       "var outputEl = gd.closest('.output');\n",
       "if (outputEl) {{\n",
       "    x.observe(outputEl, {childList: true});\n",
       "}}\n",
       "\n",
       "                        })                };                });            </script>        </div>"
      ]
     },
     "metadata": {},
     "output_type": "display_data"
    },
    {
     "data": {
      "image/svg+xml": [
       "<svg class=\"main-svg\" xmlns=\"http://www.w3.org/2000/svg\" xmlns:xlink=\"http://www.w3.org/1999/xlink\" width=\"900\" height=\"700\" style=\"\" viewBox=\"0 0 900 700\"><rect x=\"0\" y=\"0\" width=\"900\" height=\"700\" style=\"fill: rgb(255, 255, 255); fill-opacity: 1;\"/><defs id=\"defs-439b11\"><g class=\"clips\"><clipPath id=\"clip439b11xyplot\" class=\"plotclip\"><rect width=\"581\" height=\"420\"/></clipPath><clipPath class=\"axesclip\" id=\"clip439b11x\"><rect x=\"80\" y=\"0\" width=\"581\" height=\"700\"/></clipPath><clipPath class=\"axesclip\" id=\"clip439b11y\"><rect x=\"0\" y=\"100\" width=\"900\" height=\"420\"/></clipPath><clipPath class=\"axesclip\" id=\"clip439b11xy\"><rect x=\"80\" y=\"100\" width=\"581\" height=\"420\"/></clipPath></g><g class=\"gradients\"/><g class=\"patterns\"/></defs><g class=\"bglayer\"><rect class=\"bg\" x=\"80\" y=\"100\" width=\"581\" height=\"420\" style=\"fill: rgb(229, 236, 246); fill-opacity: 1; stroke-width: 0;\"/></g><g class=\"layer-below\"><g class=\"imagelayer\"/><g class=\"shapelayer\"/></g><g class=\"cartesianlayer\"><g class=\"subplot xy\"><g class=\"layer-subplot\"><g class=\"shapelayer\"/><g class=\"imagelayer\"/></g><g class=\"minor-gridlayer\"><g class=\"x\"/><g class=\"y\"/></g><g class=\"gridlayer\"><g class=\"x\"/><g class=\"y\"><path class=\"ygrid crisp\" transform=\"translate(0,433.9)\" d=\"M80,0h581\" style=\"stroke: rgb(255, 255, 255); stroke-opacity: 1; stroke-width: 1px;\"/><path class=\"ygrid crisp\" transform=\"translate(0,347.8)\" d=\"M80,0h581\" style=\"stroke: rgb(255, 255, 255); stroke-opacity: 1; stroke-width: 1px;\"/><path class=\"ygrid crisp\" transform=\"translate(0,261.7)\" d=\"M80,0h581\" style=\"stroke: rgb(255, 255, 255); stroke-opacity: 1; stroke-width: 1px;\"/><path class=\"ygrid crisp\" transform=\"translate(0,175.6)\" d=\"M80,0h581\" style=\"stroke: rgb(255, 255, 255); stroke-opacity: 1; stroke-width: 1px;\"/></g></g><g class=\"zerolinelayer\"><path class=\"yzl zl crisp\" transform=\"translate(0,520)\" d=\"M80,0h581\" style=\"stroke: rgb(255, 255, 255); stroke-opacity: 1; stroke-width: 2px;\"/></g><path class=\"xlines-below\"/><path class=\"ylines-below\"/><g class=\"overlines-below\"/><g class=\"xaxislayer-below\"/><g class=\"yaxislayer-below\"/><g class=\"overaxes-below\"/><g class=\"plot\" transform=\"translate(80,100)\" clip-path=\"url(#clip439b11xyplot)\"><g class=\"barlayer mlayer\"><g class=\"trace bars\" style=\"opacity: 1;\"><g class=\"points\"><g class=\"point\"><path d=\"M0.67,420V210.48H6.01V420Z\" style=\"vector-effect: non-scaling-stroke; opacity: 1; stroke-width: 0.5px; fill: rgb(253, 50, 22); fill-opacity: 1; stroke: rgb(229, 236, 246); stroke-opacity: 1;\"/></g><g class=\"point\"><path d=\"M7.35,420V231.64H12.69V420Z\" style=\"vector-effect: non-scaling-stroke; opacity: 1; stroke-width: 0.5px; fill: rgb(253, 50, 22); fill-opacity: 1; stroke: rgb(229, 236, 246); stroke-opacity: 1;\"/></g><g class=\"point\"><path d=\"M14.02,420V116.83H19.37V420Z\" style=\"vector-effect: non-scaling-stroke; opacity: 1; stroke-width: 0.5px; fill: rgb(253, 50, 22); fill-opacity: 1; stroke: rgb(229, 236, 246); stroke-opacity: 1;\"/></g><g class=\"point\"><path d=\"M20.7,420V205.88H26.04V420Z\" style=\"vector-effect: non-scaling-stroke; opacity: 1; stroke-width: 0.5px; fill: rgb(253, 50, 22); fill-opacity: 1; stroke: rgb(229, 236, 246); stroke-opacity: 1;\"/></g><g class=\"point\"><path d=\"M27.38,420V198.46H32.72V420Z\" style=\"vector-effect: non-scaling-stroke; opacity: 1; stroke-width: 0.5px; fill: rgb(253, 50, 22); fill-opacity: 1; stroke: rgb(229, 236, 246); stroke-opacity: 1;\"/></g></g></g><g class=\"trace bars\" style=\"opacity: 1;\"><g class=\"points\"><g class=\"point\"><path d=\"M34.06,420V166.58H39.4V420Z\" style=\"vector-effect: non-scaling-stroke; opacity: 1; stroke-width: 0.5px; fill: rgb(0, 254, 53); fill-opacity: 1; stroke: rgb(229, 236, 246); stroke-opacity: 1;\"/></g><g class=\"point\"><path d=\"M40.74,420V282.35H46.08V420Z\" style=\"vector-effect: non-scaling-stroke; opacity: 1; stroke-width: 0.5px; fill: rgb(0, 254, 53); fill-opacity: 1; stroke: rgb(229, 236, 246); stroke-opacity: 1;\"/></g><g class=\"point\"><path d=\"M47.41,420V253.16H52.76V420Z\" style=\"vector-effect: non-scaling-stroke; opacity: 1; stroke-width: 0.5px; fill: rgb(0, 254, 53); fill-opacity: 1; stroke: rgb(229, 236, 246); stroke-opacity: 1;\"/></g><g class=\"point\"><path d=\"M54.09,420V276.64H59.44V420Z\" style=\"vector-effect: non-scaling-stroke; opacity: 1; stroke-width: 0.5px; fill: rgb(0, 254, 53); fill-opacity: 1; stroke: rgb(229, 236, 246); stroke-opacity: 1;\"/></g></g></g><g class=\"trace bars\" style=\"opacity: 1;\"><g class=\"points\"><g class=\"point\"><path d=\"M60.77,420V206.66H66.11V420Z\" style=\"vector-effect: non-scaling-stroke; opacity: 1; stroke-width: 0.5px; fill: rgb(106, 118, 252); fill-opacity: 1; stroke: rgb(229, 236, 246); stroke-opacity: 1;\"/></g><g class=\"point\"><path d=\"M67.45,420V195.47H72.79V420Z\" style=\"vector-effect: non-scaling-stroke; opacity: 1; stroke-width: 0.5px; fill: rgb(106, 118, 252); fill-opacity: 1; stroke: rgb(229, 236, 246); stroke-opacity: 1;\"/></g><g class=\"point\"><path d=\"M74.13,420V105.23H79.47V420Z\" style=\"vector-effect: non-scaling-stroke; opacity: 1; stroke-width: 0.5px; fill: rgb(106, 118, 252); fill-opacity: 1; stroke: rgb(229, 236, 246); stroke-opacity: 1;\"/></g><g class=\"point\"><path d=\"M80.81,420V27.63H86.15V420Z\" style=\"vector-effect: non-scaling-stroke; opacity: 1; stroke-width: 0.5px; fill: rgb(106, 118, 252); fill-opacity: 1; stroke: rgb(229, 236, 246); stroke-opacity: 1;\"/></g><g class=\"point\"><path d=\"M87.48,420V190.61H92.83V420Z\" style=\"vector-effect: non-scaling-stroke; opacity: 1; stroke-width: 0.5px; fill: rgb(106, 118, 252); fill-opacity: 1; stroke: rgb(229, 236, 246); stroke-opacity: 1;\"/></g></g></g><g class=\"trace bars\" style=\"opacity: 1;\"><g class=\"points\"><g class=\"point\"><path d=\"M94.16,420V209.34H99.5V420Z\" style=\"vector-effect: non-scaling-stroke; opacity: 1; stroke-width: 0.5px; fill: rgb(254, 212, 196); fill-opacity: 1; stroke: rgb(229, 236, 246); stroke-opacity: 1;\"/></g><g class=\"point\"><path d=\"M100.84,420V186.7H106.18V420Z\" style=\"vector-effect: non-scaling-stroke; opacity: 1; stroke-width: 0.5px; fill: rgb(254, 212, 196); fill-opacity: 1; stroke: rgb(229, 236, 246); stroke-opacity: 1;\"/></g><g class=\"point\"><path d=\"M107.52,420V85.12H112.86V420Z\" style=\"vector-effect: non-scaling-stroke; opacity: 1; stroke-width: 0.5px; fill: rgb(254, 212, 196); fill-opacity: 1; stroke: rgb(229, 236, 246); stroke-opacity: 1;\"/></g></g></g><g class=\"trace bars\" style=\"opacity: 1;\"><g class=\"points\"><g class=\"point\"><path d=\"M114.2,420V228.17H119.54V420Z\" style=\"vector-effect: non-scaling-stroke; opacity: 1; stroke-width: 0.5px; fill: rgb(254, 0, 206); fill-opacity: 1; stroke: rgb(229, 236, 246); stroke-opacity: 1;\"/></g><g class=\"point\"><path d=\"M120.87,420V222.09H126.22V420Z\" style=\"vector-effect: non-scaling-stroke; opacity: 1; stroke-width: 0.5px; fill: rgb(254, 0, 206); fill-opacity: 1; stroke: rgb(229, 236, 246); stroke-opacity: 1;\"/></g><g class=\"point\"><path d=\"M127.55,420V188.63H132.9V420Z\" style=\"vector-effect: non-scaling-stroke; opacity: 1; stroke-width: 0.5px; fill: rgb(254, 0, 206); fill-opacity: 1; stroke: rgb(229, 236, 246); stroke-opacity: 1;\"/></g><g class=\"point\"><path d=\"M134.23,420V147.52H139.57V420Z\" style=\"vector-effect: non-scaling-stroke; opacity: 1; stroke-width: 0.5px; fill: rgb(254, 0, 206); fill-opacity: 1; stroke: rgb(229, 236, 246); stroke-opacity: 1;\"/></g><g class=\"point\"><path d=\"M140.91,420V192.72H146.25V420Z\" style=\"vector-effect: non-scaling-stroke; opacity: 1; stroke-width: 0.5px; fill: rgb(254, 0, 206); fill-opacity: 1; stroke: rgb(229, 236, 246); stroke-opacity: 1;\"/></g><g class=\"point\"><path d=\"M147.59,420V210.26H152.93V420Z\" style=\"vector-effect: non-scaling-stroke; opacity: 1; stroke-width: 0.5px; fill: rgb(254, 0, 206); fill-opacity: 1; stroke: rgb(229, 236, 246); stroke-opacity: 1;\"/></g></g></g><g class=\"trace bars\" style=\"opacity: 1;\"><g class=\"points\"><g class=\"point\"><path d=\"M154.27,420V240.3H159.61V420Z\" style=\"vector-effect: non-scaling-stroke; opacity: 1; stroke-width: 0.5px; fill: rgb(13, 249, 255); fill-opacity: 1; stroke: rgb(229, 236, 246); stroke-opacity: 1;\"/></g><g class=\"point\"><path d=\"M160.94,420V271.44H166.29V420Z\" style=\"vector-effect: non-scaling-stroke; opacity: 1; stroke-width: 0.5px; fill: rgb(13, 249, 255); fill-opacity: 1; stroke: rgb(229, 236, 246); stroke-opacity: 1;\"/></g><g class=\"point\"><path d=\"M167.62,420V288.48H172.96V420Z\" style=\"vector-effect: non-scaling-stroke; opacity: 1; stroke-width: 0.5px; fill: rgb(13, 249, 255); fill-opacity: 1; stroke: rgb(229, 236, 246); stroke-opacity: 1;\"/></g><g class=\"point\"><path d=\"M174.3,420V281.38H179.64V420Z\" style=\"vector-effect: non-scaling-stroke; opacity: 1; stroke-width: 0.5px; fill: rgb(13, 249, 255); fill-opacity: 1; stroke: rgb(229, 236, 246); stroke-opacity: 1;\"/></g><g class=\"point\"><path d=\"M180.98,420V260.71H186.32V420Z\" style=\"vector-effect: non-scaling-stroke; opacity: 1; stroke-width: 0.5px; fill: rgb(13, 249, 255); fill-opacity: 1; stroke: rgb(229, 236, 246); stroke-opacity: 1;\"/></g><g class=\"point\"><path d=\"M187.66,420V291.42H193V420Z\" style=\"vector-effect: non-scaling-stroke; opacity: 1; stroke-width: 0.5px; fill: rgb(13, 249, 255); fill-opacity: 1; stroke: rgb(229, 236, 246); stroke-opacity: 1;\"/></g></g></g><g class=\"trace bars\" style=\"opacity: 1;\"><g class=\"points\"><g class=\"point\"><path d=\"M194.33,420V139.5H199.68V420Z\" style=\"vector-effect: non-scaling-stroke; opacity: 1; stroke-width: 0.5px; fill: rgb(246, 249, 38); fill-opacity: 1; stroke: rgb(229, 236, 246); stroke-opacity: 1;\"/></g><g class=\"point\"><path d=\"M201.01,420V137.22H206.36V420Z\" style=\"vector-effect: non-scaling-stroke; opacity: 1; stroke-width: 0.5px; fill: rgb(246, 249, 38); fill-opacity: 1; stroke: rgb(229, 236, 246); stroke-opacity: 1;\"/></g><g class=\"point\"><path d=\"M207.69,420V185.07H213.03V420Z\" style=\"vector-effect: non-scaling-stroke; opacity: 1; stroke-width: 0.5px; fill: rgb(246, 249, 38); fill-opacity: 1; stroke: rgb(229, 236, 246); stroke-opacity: 1;\"/></g><g class=\"point\"><path d=\"M214.37,420V239.39H219.71V420Z\" style=\"vector-effect: non-scaling-stroke; opacity: 1; stroke-width: 0.5px; fill: rgb(246, 249, 38); fill-opacity: 1; stroke: rgb(229, 236, 246); stroke-opacity: 1;\"/></g><g class=\"point\"><path d=\"M221.05,420V148.29H226.39V420Z\" style=\"vector-effect: non-scaling-stroke; opacity: 1; stroke-width: 0.5px; fill: rgb(246, 249, 38); fill-opacity: 1; stroke: rgb(229, 236, 246); stroke-opacity: 1;\"/></g><g class=\"point\"><path d=\"M227.73,420V128.53H233.07V420Z\" style=\"vector-effect: non-scaling-stroke; opacity: 1; stroke-width: 0.5px; fill: rgb(246, 249, 38); fill-opacity: 1; stroke: rgb(229, 236, 246); stroke-opacity: 1;\"/></g><g class=\"point\"><path d=\"M234.4,420V219.84H239.75V420Z\" style=\"vector-effect: non-scaling-stroke; opacity: 1; stroke-width: 0.5px; fill: rgb(246, 249, 38); fill-opacity: 1; stroke: rgb(229, 236, 246); stroke-opacity: 1;\"/></g></g></g><g class=\"trace bars\" style=\"opacity: 1;\"><g class=\"points\"><g class=\"point\"><path d=\"M241.08,420V231.05H246.42V420Z\" style=\"vector-effect: non-scaling-stroke; opacity: 1; stroke-width: 0.5px; fill: rgb(255, 150, 22); fill-opacity: 1; stroke: rgb(229, 236, 246); stroke-opacity: 1;\"/></g></g></g><g class=\"trace bars\" style=\"opacity: 1;\"><g class=\"points\"><g class=\"point\"><path d=\"M247.76,420V222.61H253.1V420Z\" style=\"vector-effect: non-scaling-stroke; opacity: 1; stroke-width: 0.5px; fill: rgb(71, 155, 85); fill-opacity: 1; stroke: rgb(229, 236, 246); stroke-opacity: 1;\"/></g><g class=\"point\"><path d=\"M254.44,420V235.56H259.78V420Z\" style=\"vector-effect: non-scaling-stroke; opacity: 1; stroke-width: 0.5px; fill: rgb(71, 155, 85); fill-opacity: 1; stroke: rgb(229, 236, 246); stroke-opacity: 1;\"/></g><g class=\"point\"><path d=\"M261.12,420V250.09H266.46V420Z\" style=\"vector-effect: non-scaling-stroke; opacity: 1; stroke-width: 0.5px; fill: rgb(71, 155, 85); fill-opacity: 1; stroke: rgb(229, 236, 246); stroke-opacity: 1;\"/></g><g class=\"point\"><path d=\"M267.79,420V296.55H273.14V420Z\" style=\"vector-effect: non-scaling-stroke; opacity: 1; stroke-width: 0.5px; fill: rgb(71, 155, 85); fill-opacity: 1; stroke: rgb(229, 236, 246); stroke-opacity: 1;\"/></g><g class=\"point\"><path d=\"M274.47,420V279.71H279.81V420Z\" style=\"vector-effect: non-scaling-stroke; opacity: 1; stroke-width: 0.5px; fill: rgb(71, 155, 85); fill-opacity: 1; stroke: rgb(229, 236, 246); stroke-opacity: 1;\"/></g></g></g><g class=\"trace bars\" style=\"opacity: 1;\"><g class=\"points\"><g class=\"point\"><path d=\"M281.15,420V115.94H286.49V420Z\" style=\"vector-effect: non-scaling-stroke; opacity: 1; stroke-width: 0.5px; fill: rgb(238, 166, 251); fill-opacity: 1; stroke: rgb(229, 236, 246); stroke-opacity: 1;\"/></g><g class=\"point\"><path d=\"M287.83,420V165.89H293.17V420Z\" style=\"vector-effect: non-scaling-stroke; opacity: 1; stroke-width: 0.5px; fill: rgb(238, 166, 251); fill-opacity: 1; stroke: rgb(229, 236, 246); stroke-opacity: 1;\"/></g><g class=\"point\"><path d=\"M294.51,420V21H299.85V420Z\" style=\"vector-effect: non-scaling-stroke; opacity: 1; stroke-width: 0.5px; fill: rgb(238, 166, 251); fill-opacity: 1; stroke: rgb(229, 236, 246); stroke-opacity: 1;\"/></g></g></g><g class=\"trace bars\" style=\"opacity: 1;\"><g class=\"points\"><g class=\"point\"><path d=\"M301.19,420V241.94H306.53V420Z\" style=\"vector-effect: non-scaling-stroke; opacity: 1; stroke-width: 0.5px; fill: rgb(220, 88, 125); fill-opacity: 1; stroke: rgb(229, 236, 246); stroke-opacity: 1;\"/></g><g class=\"point\"><path d=\"M307.86,420V281.79H313.21V420Z\" style=\"vector-effect: non-scaling-stroke; opacity: 1; stroke-width: 0.5px; fill: rgb(220, 88, 125); fill-opacity: 1; stroke: rgb(229, 236, 246); stroke-opacity: 1;\"/></g><g class=\"point\"><path d=\"M314.54,420V266.56H319.88V420Z\" style=\"vector-effect: non-scaling-stroke; opacity: 1; stroke-width: 0.5px; fill: rgb(220, 88, 125); fill-opacity: 1; stroke: rgb(229, 236, 246); stroke-opacity: 1;\"/></g><g class=\"point\"><path d=\"M321.22,420V218.09H326.56V420Z\" style=\"vector-effect: non-scaling-stroke; opacity: 1; stroke-width: 0.5px; fill: rgb(220, 88, 125); fill-opacity: 1; stroke: rgb(229, 236, 246); stroke-opacity: 1;\"/></g></g></g><g class=\"trace bars\" style=\"opacity: 1;\"><g class=\"points\"><g class=\"point\"><path d=\"M327.9,420V277.07H333.24V420Z\" style=\"vector-effect: non-scaling-stroke; opacity: 1; stroke-width: 0.5px; fill: rgb(214, 38, 255); fill-opacity: 1; stroke: rgb(229, 236, 246); stroke-opacity: 1;\"/></g><g class=\"point\"><path d=\"M334.58,420V256.92H339.92V420Z\" style=\"vector-effect: non-scaling-stroke; opacity: 1; stroke-width: 0.5px; fill: rgb(214, 38, 255); fill-opacity: 1; stroke: rgb(229, 236, 246); stroke-opacity: 1;\"/></g><g class=\"point\"><path d=\"M341.25,420V222.15H346.6V420Z\" style=\"vector-effect: non-scaling-stroke; opacity: 1; stroke-width: 0.5px; fill: rgb(214, 38, 255); fill-opacity: 1; stroke: rgb(229, 236, 246); stroke-opacity: 1;\"/></g><g class=\"point\"><path d=\"M347.93,420V269.04H353.27V420Z\" style=\"vector-effect: non-scaling-stroke; opacity: 1; stroke-width: 0.5px; fill: rgb(214, 38, 255); fill-opacity: 1; stroke: rgb(229, 236, 246); stroke-opacity: 1;\"/></g><g class=\"point\"><path d=\"M354.61,420V197.76H359.95V420Z\" style=\"vector-effect: non-scaling-stroke; opacity: 1; stroke-width: 0.5px; fill: rgb(214, 38, 255); fill-opacity: 1; stroke: rgb(229, 236, 246); stroke-opacity: 1;\"/></g><g class=\"point\"><path d=\"M361.29,420V288.91H366.63V420Z\" style=\"vector-effect: non-scaling-stroke; opacity: 1; stroke-width: 0.5px; fill: rgb(214, 38, 255); fill-opacity: 1; stroke: rgb(229, 236, 246); stroke-opacity: 1;\"/></g><g class=\"point\"><path d=\"M367.97,420V163.39H373.31V420Z\" style=\"vector-effect: non-scaling-stroke; opacity: 1; stroke-width: 0.5px; fill: rgb(214, 38, 255); fill-opacity: 1; stroke: rgb(229, 236, 246); stroke-opacity: 1;\"/></g><g class=\"point\"><path d=\"M374.64,420V249.83H379.99V420Z\" style=\"vector-effect: non-scaling-stroke; opacity: 1; stroke-width: 0.5px; fill: rgb(214, 38, 255); fill-opacity: 1; stroke: rgb(229, 236, 246); stroke-opacity: 1;\"/></g><g class=\"point\"><path d=\"M381.32,420V121.52H386.67V420Z\" style=\"vector-effect: non-scaling-stroke; opacity: 1; stroke-width: 0.5px; fill: rgb(214, 38, 255); fill-opacity: 1; stroke: rgb(229, 236, 246); stroke-opacity: 1;\"/></g><g class=\"point\"><path d=\"M388,420V233.33H393.34V420Z\" style=\"vector-effect: non-scaling-stroke; opacity: 1; stroke-width: 0.5px; fill: rgb(214, 38, 255); fill-opacity: 1; stroke: rgb(229, 236, 246); stroke-opacity: 1;\"/></g><g class=\"point\"><path d=\"M394.68,420V199.09H400.02V420Z\" style=\"vector-effect: non-scaling-stroke; opacity: 1; stroke-width: 0.5px; fill: rgb(214, 38, 255); fill-opacity: 1; stroke: rgb(229, 236, 246); stroke-opacity: 1;\"/></g><g class=\"point\"><path d=\"M401.36,420V196.96H406.7V420Z\" style=\"vector-effect: non-scaling-stroke; opacity: 1; stroke-width: 0.5px; fill: rgb(214, 38, 255); fill-opacity: 1; stroke: rgb(229, 236, 246); stroke-opacity: 1;\"/></g><g class=\"point\"><path d=\"M408.04,420V267.28H413.38V420Z\" style=\"vector-effect: non-scaling-stroke; opacity: 1; stroke-width: 0.5px; fill: rgb(214, 38, 255); fill-opacity: 1; stroke: rgb(229, 236, 246); stroke-opacity: 1;\"/></g><g class=\"point\"><path d=\"M414.71,420V198.66H420.06V420Z\" style=\"vector-effect: non-scaling-stroke; opacity: 1; stroke-width: 0.5px; fill: rgb(214, 38, 255); fill-opacity: 1; stroke: rgb(229, 236, 246); stroke-opacity: 1;\"/></g><g class=\"point\"><path d=\"M421.39,420V265.02H426.73V420Z\" style=\"vector-effect: non-scaling-stroke; opacity: 1; stroke-width: 0.5px; fill: rgb(214, 38, 255); fill-opacity: 1; stroke: rgb(229, 236, 246); stroke-opacity: 1;\"/></g><g class=\"point\"><path d=\"M428.07,420V180.64H433.41V420Z\" style=\"vector-effect: non-scaling-stroke; opacity: 1; stroke-width: 0.5px; fill: rgb(214, 38, 255); fill-opacity: 1; stroke: rgb(229, 236, 246); stroke-opacity: 1;\"/></g><g class=\"point\"><path d=\"M434.75,420V198.84H440.09V420Z\" style=\"vector-effect: non-scaling-stroke; opacity: 1; stroke-width: 0.5px; fill: rgb(214, 38, 255); fill-opacity: 1; stroke: rgb(229, 236, 246); stroke-opacity: 1;\"/></g><g class=\"point\"><path d=\"M441.43,420V229.81H446.77V420Z\" style=\"vector-effect: non-scaling-stroke; opacity: 1; stroke-width: 0.5px; fill: rgb(214, 38, 255); fill-opacity: 1; stroke: rgb(229, 236, 246); stroke-opacity: 1;\"/></g><g class=\"point\"><path d=\"M448.1,420V127.43H453.45V420Z\" style=\"vector-effect: non-scaling-stroke; opacity: 1; stroke-width: 0.5px; fill: rgb(214, 38, 255); fill-opacity: 1; stroke: rgb(229, 236, 246); stroke-opacity: 1;\"/></g></g></g><g class=\"trace bars\" style=\"opacity: 1;\"><g class=\"points\"><g class=\"point\"><path d=\"M454.78,420V145.49H460.13V420Z\" style=\"vector-effect: non-scaling-stroke; opacity: 1; stroke-width: 0.5px; fill: rgb(110, 137, 156); fill-opacity: 1; stroke: rgb(229, 236, 246); stroke-opacity: 1;\"/></g><g class=\"point\"><path d=\"M461.46,420V182.01H466.8V420Z\" style=\"vector-effect: non-scaling-stroke; opacity: 1; stroke-width: 0.5px; fill: rgb(110, 137, 156); fill-opacity: 1; stroke: rgb(229, 236, 246); stroke-opacity: 1;\"/></g><g class=\"point\"><path d=\"M468.14,420V161.28H473.48V420Z\" style=\"vector-effect: non-scaling-stroke; opacity: 1; stroke-width: 0.5px; fill: rgb(110, 137, 156); fill-opacity: 1; stroke: rgb(229, 236, 246); stroke-opacity: 1;\"/></g><g class=\"point\"><path d=\"M474.82,420V96.66H480.16V420Z\" style=\"vector-effect: non-scaling-stroke; opacity: 1; stroke-width: 0.5px; fill: rgb(110, 137, 156); fill-opacity: 1; stroke: rgb(229, 236, 246); stroke-opacity: 1;\"/></g></g></g><g class=\"trace bars\" style=\"opacity: 1;\"><g class=\"points\"><g class=\"point\"><path d=\"M481.5,420V262.9H486.84V420Z\" style=\"vector-effect: non-scaling-stroke; opacity: 1; stroke-width: 0.5px; fill: rgb(0, 181, 247); fill-opacity: 1; stroke: rgb(229, 236, 246); stroke-opacity: 1;\"/></g><g class=\"point\"><path d=\"M488.17,420V256.38H493.52V420Z\" style=\"vector-effect: non-scaling-stroke; opacity: 1; stroke-width: 0.5px; fill: rgb(0, 181, 247); fill-opacity: 1; stroke: rgb(229, 236, 246); stroke-opacity: 1;\"/></g><g class=\"point\"><path d=\"M494.85,420V267.95H500.19V420Z\" style=\"vector-effect: non-scaling-stroke; opacity: 1; stroke-width: 0.5px; fill: rgb(0, 181, 247); fill-opacity: 1; stroke: rgb(229, 236, 246); stroke-opacity: 1;\"/></g><g class=\"point\"><path d=\"M501.53,420V250.73H506.87V420Z\" style=\"vector-effect: non-scaling-stroke; opacity: 1; stroke-width: 0.5px; fill: rgb(0, 181, 247); fill-opacity: 1; stroke: rgb(229, 236, 246); stroke-opacity: 1;\"/></g><g class=\"point\"><path d=\"M508.21,420V301.95H513.55V420Z\" style=\"vector-effect: non-scaling-stroke; opacity: 1; stroke-width: 0.5px; fill: rgb(0, 181, 247); fill-opacity: 1; stroke: rgb(229, 236, 246); stroke-opacity: 1;\"/></g></g></g><g class=\"trace bars\" style=\"opacity: 1;\"><g class=\"points\"><g class=\"point\"><path d=\"M514.89,420V233.2H520.23V420Z\" style=\"vector-effect: non-scaling-stroke; opacity: 1; stroke-width: 0.5px; fill: rgb(182, 142, 0); fill-opacity: 1; stroke: rgb(229, 236, 246); stroke-opacity: 1;\"/></g></g></g><g class=\"trace bars\" style=\"opacity: 1;\"><g class=\"points\"><g class=\"point\"><path d=\"M521.56,420V258.75H526.91V420Z\" style=\"vector-effect: non-scaling-stroke; opacity: 1; stroke-width: 0.5px; fill: rgb(201, 251, 229); fill-opacity: 1; stroke: rgb(229, 236, 246); stroke-opacity: 1;\"/></g></g></g><g class=\"trace bars\" style=\"opacity: 1;\"><g class=\"points\"><g class=\"point\"><path d=\"M528.24,420V124.47H533.59V420Z\" style=\"vector-effect: non-scaling-stroke; opacity: 1; stroke-width: 0.5px; fill: rgb(255, 0, 146); fill-opacity: 1; stroke: rgb(229, 236, 246); stroke-opacity: 1;\"/></g><g class=\"point\"><path d=\"M534.92,420V201.65H540.26V420Z\" style=\"vector-effect: non-scaling-stroke; opacity: 1; stroke-width: 0.5px; fill: rgb(255, 0, 146); fill-opacity: 1; stroke: rgb(229, 236, 246); stroke-opacity: 1;\"/></g><g class=\"point\"><path d=\"M541.6,420V197.98H546.94V420Z\" style=\"vector-effect: non-scaling-stroke; opacity: 1; stroke-width: 0.5px; fill: rgb(255, 0, 146); fill-opacity: 1; stroke: rgb(229, 236, 246); stroke-opacity: 1;\"/></g><g class=\"point\"><path d=\"M548.28,420V137.42H553.62V420Z\" style=\"vector-effect: non-scaling-stroke; opacity: 1; stroke-width: 0.5px; fill: rgb(255, 0, 146); fill-opacity: 1; stroke: rgb(229, 236, 246); stroke-opacity: 1;\"/></g><g class=\"point\"><path d=\"M554.96,420V205.92H560.3V420Z\" style=\"vector-effect: non-scaling-stroke; opacity: 1; stroke-width: 0.5px; fill: rgb(255, 0, 146); fill-opacity: 1; stroke: rgb(229, 236, 246); stroke-opacity: 1;\"/></g><g class=\"point\"><path d=\"M561.63,420V209.97H566.98V420Z\" style=\"vector-effect: non-scaling-stroke; opacity: 1; stroke-width: 0.5px; fill: rgb(255, 0, 146); fill-opacity: 1; stroke: rgb(229, 236, 246); stroke-opacity: 1;\"/></g><g class=\"point\"><path d=\"M568.31,420V167.88H573.65V420Z\" style=\"vector-effect: non-scaling-stroke; opacity: 1; stroke-width: 0.5px; fill: rgb(255, 0, 146); fill-opacity: 1; stroke: rgb(229, 236, 246); stroke-opacity: 1;\"/></g><g class=\"point\"><path d=\"M574.99,420V216.52H580.33V420Z\" style=\"vector-effect: non-scaling-stroke; opacity: 1; stroke-width: 0.5px; fill: rgb(255, 0, 146); fill-opacity: 1; stroke: rgb(229, 236, 246); stroke-opacity: 1;\"/></g></g></g></g></g><g class=\"overplot\"/><path class=\"xlines-above crisp\" d=\"M0,0\" style=\"fill: none;\"/><path class=\"ylines-above crisp\" d=\"M0,0\" style=\"fill: none;\"/><g class=\"overlines-above\"/><g class=\"xaxislayer-above\"><g class=\"xtick\"><text text-anchor=\"start\" x=\"0\" y=\"533\" transform=\"translate(83.34,0) rotate(90,0,527)\" style=\"font-family: 'Open Sans', verdana, arial, sans-serif; font-size: 12px; fill: rgb(42, 63, 95); fill-opacity: 1; white-space: pre; opacity: 1;\">Adams</text></g><g class=\"xtick\"><text text-anchor=\"start\" x=\"0\" y=\"533\" transform=\"translate(103.37,0) rotate(90,0,527)\" style=\"font-family: 'Open Sans', verdana, arial, sans-serif; font-size: 12px; fill: rgb(42, 63, 95); fill-opacity: 1; white-space: pre; opacity: 1;\">West Woodland</text></g><g class=\"xtick\"><text text-anchor=\"start\" x=\"0\" y=\"533\" transform=\"translate(123.41,0) rotate(90,0,527)\" style=\"font-family: 'Open Sans', verdana, arial, sans-serif; font-size: 12px; fill: rgb(42, 63, 95); fill-opacity: 1; white-space: pre; opacity: 1;\">Mid-Beacon Hill</text></g><g class=\"xtick\"><text text-anchor=\"start\" x=\"0\" y=\"533\" transform=\"translate(143.44,0) rotate(90,0,527)\" style=\"font-family: 'Open Sans', verdana, arial, sans-serif; font-size: 12px; fill: rgb(42, 63, 95); fill-opacity: 1; white-space: pre; opacity: 1;\">Broadway</text></g><g class=\"xtick\"><text text-anchor=\"start\" x=\"0\" y=\"533\" transform=\"translate(163.48000000000002,0) rotate(90,0,527)\" style=\"font-family: 'Open Sans', verdana, arial, sans-serif; font-size: 12px; fill: rgb(42, 63, 95); fill-opacity: 1; white-space: pre; opacity: 1;\">Portage Bay</text></g><g class=\"xtick\"><text text-anchor=\"start\" x=\"0\" y=\"533\" transform=\"translate(183.51,0) rotate(90,0,527)\" style=\"font-family: 'Open Sans', verdana, arial, sans-serif; font-size: 12px; fill: rgb(42, 63, 95); fill-opacity: 1; white-space: pre; opacity: 1;\">South Lake Union</text></g><g class=\"xtick\"><text text-anchor=\"start\" x=\"0\" y=\"533\" transform=\"translate(203.55,0) rotate(90,0,527)\" style=\"font-family: 'Open Sans', verdana, arial, sans-serif; font-size: 12px; fill: rgb(42, 63, 95); fill-opacity: 1; white-space: pre; opacity: 1;\">Harrison/Denny-Blaine</text></g><g class=\"xtick\"><text text-anchor=\"start\" x=\"0\" y=\"533\" transform=\"translate(223.58,0) rotate(90,0,527)\" style=\"font-family: 'Open Sans', verdana, arial, sans-serif; font-size: 12px; fill: rgb(42, 63, 95); fill-opacity: 1; white-space: pre; opacity: 1;\">Mann</text></g><g class=\"xtick\"><text text-anchor=\"start\" x=\"0\" y=\"533\" transform=\"translate(243.61,0) rotate(90,0,527)\" style=\"font-family: 'Open Sans', verdana, arial, sans-serif; font-size: 12px; fill: rgb(42, 63, 95); fill-opacity: 1; white-space: pre; opacity: 1;\">Highland Park</text></g><g class=\"xtick\"><text text-anchor=\"start\" x=\"0\" y=\"533\" transform=\"translate(263.65,0) rotate(90,0,527)\" style=\"font-family: 'Open Sans', verdana, arial, sans-serif; font-size: 12px; fill: rgb(42, 63, 95); fill-opacity: 1; white-space: pre; opacity: 1;\">Roxhill</text></g><g class=\"xtick\"><text text-anchor=\"start\" x=\"0\" y=\"533\" transform=\"translate(283.68,0) rotate(90,0,527)\" style=\"font-family: 'Open Sans', verdana, arial, sans-serif; font-size: 12px; fill: rgb(42, 63, 95); fill-opacity: 1; white-space: pre; opacity: 1;\">Central Business District</text></g><g class=\"xtick\"><text text-anchor=\"start\" x=\"0\" y=\"533\" transform=\"translate(303.72,0) rotate(90,0,527)\" style=\"font-family: 'Open Sans', verdana, arial, sans-serif; font-size: 12px; fill: rgb(42, 63, 95); fill-opacity: 1; white-space: pre; opacity: 1;\">Pike-Market</text></g><g class=\"xtick\"><text text-anchor=\"start\" x=\"0\" y=\"533\" transform=\"translate(323.75,0) rotate(90,0,527)\" style=\"font-family: 'Open Sans', verdana, arial, sans-serif; font-size: 12px; fill: rgb(42, 63, 95); fill-opacity: 1; white-space: pre; opacity: 1;\">Interbay</text></g><g class=\"xtick\"><text text-anchor=\"start\" x=\"0\" y=\"533\" transform=\"translate(343.79,0) rotate(90,0,527)\" style=\"font-family: 'Open Sans', verdana, arial, sans-serif; font-size: 12px; fill: rgb(42, 63, 95); fill-opacity: 1; white-space: pre; opacity: 1;\">Meadowbrook</text></g><g class=\"xtick\"><text text-anchor=\"start\" x=\"0\" y=\"533\" transform=\"translate(363.82,0) rotate(90,0,527)\" style=\"font-family: 'Open Sans', verdana, arial, sans-serif; font-size: 12px; fill: rgb(42, 63, 95); fill-opacity: 1; white-space: pre; opacity: 1;\">Briarcliff</text></g><g class=\"xtick\"><text text-anchor=\"start\" x=\"0\" y=\"533\" transform=\"translate(383.86,0) rotate(90,0,527)\" style=\"font-family: 'Open Sans', verdana, arial, sans-serif; font-size: 12px; fill: rgb(42, 63, 95); fill-opacity: 1; white-space: pre; opacity: 1;\">Haller Lake</text></g><g class=\"xtick\"><text text-anchor=\"start\" x=\"0\" y=\"533\" transform=\"translate(403.89,0) rotate(90,0,527)\" style=\"font-family: 'Open Sans', verdana, arial, sans-serif; font-size: 12px; fill: rgb(42, 63, 95); fill-opacity: 1; white-space: pre; opacity: 1;\">Pinehurst</text></g><g class=\"xtick\"><text text-anchor=\"start\" x=\"0\" y=\"533\" transform=\"translate(423.93,0) rotate(90,0,527)\" style=\"font-family: 'Open Sans', verdana, arial, sans-serif; font-size: 12px; fill: rgb(42, 63, 95); fill-opacity: 1; white-space: pre; opacity: 1;\">Bryant</text></g><g class=\"xtick\"><text text-anchor=\"start\" x=\"0\" y=\"533\" transform=\"translate(443.96,0) rotate(90,0,527)\" style=\"font-family: 'Open Sans', verdana, arial, sans-serif; font-size: 12px; fill: rgb(42, 63, 95); fill-opacity: 1; white-space: pre; opacity: 1;\">Georgetown</text></g><g class=\"xtick\"><text text-anchor=\"start\" x=\"0\" y=\"533\" transform=\"translate(463.99,0) rotate(90,0,527)\" style=\"font-family: 'Open Sans', verdana, arial, sans-serif; font-size: 12px; fill: rgb(42, 63, 95); fill-opacity: 1; white-space: pre; opacity: 1;\">Industrial District</text></g><g class=\"xtick\"><text text-anchor=\"start\" x=\"0\" y=\"533\" transform=\"translate(484.03,0) rotate(90,0,527)\" style=\"font-family: 'Open Sans', verdana, arial, sans-serif; font-size: 12px; fill: rgb(42, 63, 95); fill-opacity: 1; white-space: pre; opacity: 1;\">Phinney Ridge</text></g><g class=\"xtick\"><text text-anchor=\"start\" x=\"0\" y=\"533\" transform=\"translate(504.06,0) rotate(90,0,527)\" style=\"font-family: 'Open Sans', verdana, arial, sans-serif; font-size: 12px; fill: rgb(42, 63, 95); fill-opacity: 1; white-space: pre; opacity: 1;\">South Park</text></g><g class=\"xtick\"><text text-anchor=\"start\" x=\"0\" y=\"533\" transform=\"translate(524.1,0) rotate(90,0,527)\" style=\"font-family: 'Open Sans', verdana, arial, sans-serif; font-size: 12px; fill: rgb(42, 63, 95); fill-opacity: 1; white-space: pre; opacity: 1;\">Wedgwood</text></g><g class=\"xtick\"><text text-anchor=\"start\" x=\"0\" y=\"533\" transform=\"translate(544.13,0) rotate(90,0,527)\" style=\"font-family: 'Open Sans', verdana, arial, sans-serif; font-size: 12px; fill: rgb(42, 63, 95); fill-opacity: 1; white-space: pre; opacity: 1;\">Lower Queen Anne</text></g><g class=\"xtick\"><text text-anchor=\"start\" x=\"0\" y=\"533\" transform=\"translate(564.1700000000001,0) rotate(90,0,527)\" style=\"font-family: 'Open Sans', verdana, arial, sans-serif; font-size: 12px; fill: rgb(42, 63, 95); fill-opacity: 1; white-space: pre; opacity: 1;\">Brighton</text></g><g class=\"xtick\"><text text-anchor=\"start\" x=\"0\" y=\"533\" transform=\"translate(584.2,0) rotate(90,0,527)\" style=\"font-family: 'Open Sans', verdana, arial, sans-serif; font-size: 12px; fill: rgb(42, 63, 95); fill-opacity: 1; white-space: pre; opacity: 1;\">Mount Baker</text></g><g class=\"xtick\"><text text-anchor=\"start\" x=\"0\" y=\"533\" transform=\"translate(604.24,0) rotate(90,0,527)\" style=\"font-family: 'Open Sans', verdana, arial, sans-serif; font-size: 12px; fill: rgb(42, 63, 95); fill-opacity: 1; white-space: pre; opacity: 1;\">University District</text></g><g class=\"xtick\"><text text-anchor=\"start\" x=\"0\" y=\"533\" transform=\"translate(624.27,0) rotate(90,0,527)\" style=\"font-family: 'Open Sans', verdana, arial, sans-serif; font-size: 12px; fill: rgb(42, 63, 95); fill-opacity: 1; white-space: pre; opacity: 1;\">Fairmount Park</text></g><g class=\"xtick\"><text text-anchor=\"start\" x=\"0\" y=\"533\" transform=\"translate(644.3,0) rotate(90,0,527)\" style=\"font-family: 'Open Sans', verdana, arial, sans-serif; font-size: 12px; fill: rgb(42, 63, 95); fill-opacity: 1; white-space: pre; opacity: 1;\">Genesee</text></g></g><g class=\"yaxislayer-above\"><g class=\"ytick\"><text text-anchor=\"end\" x=\"79\" y=\"4.199999999999999\" transform=\"translate(0,520)\" style=\"font-family: 'Open Sans', verdana, arial, sans-serif; font-size: 12px; fill: rgb(42, 63, 95); fill-opacity: 1; white-space: pre; opacity: 1;\">0</text></g><g class=\"ytick\"><text text-anchor=\"end\" x=\"79\" y=\"4.199999999999999\" style=\"font-family: 'Open Sans', verdana, arial, sans-serif; font-size: 12px; fill: rgb(42, 63, 95); fill-opacity: 1; white-space: pre; opacity: 1;\" transform=\"translate(0,433.9)\">50</text></g><g class=\"ytick\"><text text-anchor=\"end\" x=\"79\" y=\"4.199999999999999\" style=\"font-family: 'Open Sans', verdana, arial, sans-serif; font-size: 12px; fill: rgb(42, 63, 95); fill-opacity: 1; white-space: pre; opacity: 1;\" transform=\"translate(0,347.8)\">100</text></g><g class=\"ytick\"><text text-anchor=\"end\" x=\"79\" y=\"4.199999999999999\" style=\"font-family: 'Open Sans', verdana, arial, sans-serif; font-size: 12px; fill: rgb(42, 63, 95); fill-opacity: 1; white-space: pre; opacity: 1;\" transform=\"translate(0,261.7)\">150</text></g><g class=\"ytick\"><text text-anchor=\"end\" x=\"79\" y=\"4.199999999999999\" style=\"font-family: 'Open Sans', verdana, arial, sans-serif; font-size: 12px; fill: rgb(42, 63, 95); fill-opacity: 1; white-space: pre; opacity: 1;\" transform=\"translate(0,175.6)\">200</text></g></g><g class=\"overaxes-above\"/></g></g><g class=\"polarlayer\"/><g class=\"smithlayer\"/><g class=\"ternarylayer\"/><g class=\"geolayer\"/><g class=\"funnelarealayer\"/><g class=\"pielayer\"/><g class=\"iciclelayer\"/><g class=\"treemaplayer\"/><g class=\"sunburstlayer\"/><g class=\"glimages\"/><defs id=\"topdefs-439b11\"><g class=\"clips\"/><clipPath id=\"legend439b11\"><rect width=\"215\" height=\"352\" x=\"0\" y=\"0\"/></clipPath></defs><g class=\"layer-above\"><g class=\"imagelayer\"/><g class=\"shapelayer\"/></g><g class=\"infolayer\"><g class=\"legend\" pointer-events=\"all\" transform=\"translate(672.62,100)\"><rect class=\"bg\" shape-rendering=\"crispEdges\" width=\"215\" height=\"352\" x=\"0\" y=\"0\" style=\"stroke: rgb(68, 68, 68); stroke-opacity: 1; fill: rgb(255, 255, 255); fill-opacity: 1; stroke-width: 0px;\"/><g class=\"scrollbox\" transform=\"\" clip-path=\"url(#legend439b11)\"><text class=\"legendtitletext\" text-anchor=\"start\" x=\"2\" y=\"18.2\" style=\"font-family: 'Open Sans', verdana, arial, sans-serif; font-size: 14px; fill: rgb(42, 63, 95); fill-opacity: 1; white-space: pre;\">neighbourhood_group_cleansed</text><g class=\"groups\" transform=\"\"><g class=\"traces\" transform=\"translate(0,32.7)\" style=\"opacity: 1;\"><text class=\"legendtext\" text-anchor=\"start\" x=\"40\" y=\"4.680000000000001\" style=\"font-family: 'Open Sans', verdana, arial, sans-serif; font-size: 12px; fill: rgb(42, 63, 95); fill-opacity: 1; white-space: pre;\">Ballard</text><g class=\"layers\" style=\"opacity: 1;\"><g class=\"legendfill\"/><g class=\"legendlines\"/><g class=\"legendsymbols\"><g class=\"legendpoints\"><path class=\"legendundefined\" d=\"M6,6H-6V-6H6Z\" transform=\"translate(20,0)\" style=\"stroke-width: 0.5px; fill: rgb(253, 50, 22); fill-opacity: 1; stroke: rgb(229, 236, 246); stroke-opacity: 1;\"/></g></g></g><rect class=\"legendtoggle\" x=\"0\" y=\"-9.5\" width=\"161.484375\" height=\"19\" style=\"fill: rgb(0, 0, 0); fill-opacity: 0;\"/></g></g><g class=\"groups\" transform=\"\"><g class=\"traces\" transform=\"translate(0,51.7)\" style=\"opacity: 1;\"><text class=\"legendtext\" text-anchor=\"start\" x=\"40\" y=\"4.680000000000001\" style=\"font-family: 'Open Sans', verdana, arial, sans-serif; font-size: 12px; fill: rgb(42, 63, 95); fill-opacity: 1; white-space: pre;\">Beacon Hill</text><g class=\"layers\" style=\"opacity: 1;\"><g class=\"legendfill\"/><g class=\"legendlines\"/><g class=\"legendsymbols\"><g class=\"legendpoints\"><path class=\"legendundefined\" d=\"M6,6H-6V-6H6Z\" transform=\"translate(20,0)\" style=\"stroke-width: 0.5px; fill: rgb(0, 254, 53); fill-opacity: 1; stroke: rgb(229, 236, 246); stroke-opacity: 1;\"/></g></g></g><rect class=\"legendtoggle\" x=\"0\" y=\"-9.5\" width=\"161.484375\" height=\"19\" style=\"fill: rgb(0, 0, 0); fill-opacity: 0;\"/></g></g><g class=\"groups\" transform=\"\"><g class=\"traces\" transform=\"translate(0,70.7)\" style=\"opacity: 1;\"><text class=\"legendtext\" text-anchor=\"start\" x=\"40\" y=\"4.680000000000001\" style=\"font-family: 'Open Sans', verdana, arial, sans-serif; font-size: 12px; fill: rgb(42, 63, 95); fill-opacity: 1; white-space: pre;\">Capitol Hill</text><g class=\"layers\" style=\"opacity: 1;\"><g class=\"legendfill\"/><g class=\"legendlines\"/><g class=\"legendsymbols\"><g class=\"legendpoints\"><path class=\"legendundefined\" d=\"M6,6H-6V-6H6Z\" transform=\"translate(20,0)\" style=\"stroke-width: 0.5px; fill: rgb(106, 118, 252); fill-opacity: 1; stroke: rgb(229, 236, 246); stroke-opacity: 1;\"/></g></g></g><rect class=\"legendtoggle\" x=\"0\" y=\"-9.5\" width=\"161.484375\" height=\"19\" style=\"fill: rgb(0, 0, 0); fill-opacity: 0;\"/></g></g><g class=\"groups\" transform=\"\"><g class=\"traces\" transform=\"translate(0,89.7)\" style=\"opacity: 1;\"><text class=\"legendtext\" text-anchor=\"start\" x=\"40\" y=\"4.680000000000001\" style=\"font-family: 'Open Sans', verdana, arial, sans-serif; font-size: 12px; fill: rgb(42, 63, 95); fill-opacity: 1; white-space: pre;\">Cascade</text><g class=\"layers\" style=\"opacity: 1;\"><g class=\"legendfill\"/><g class=\"legendlines\"/><g class=\"legendsymbols\"><g class=\"legendpoints\"><path class=\"legendundefined\" d=\"M6,6H-6V-6H6Z\" transform=\"translate(20,0)\" style=\"stroke-width: 0.5px; fill: rgb(254, 212, 196); fill-opacity: 1; stroke: rgb(229, 236, 246); stroke-opacity: 1;\"/></g></g></g><rect class=\"legendtoggle\" x=\"0\" y=\"-9.5\" width=\"161.484375\" height=\"19\" style=\"fill: rgb(0, 0, 0); fill-opacity: 0;\"/></g></g><g class=\"groups\" transform=\"\"><g class=\"traces\" transform=\"translate(0,108.7)\" style=\"opacity: 1;\"><text class=\"legendtext\" text-anchor=\"start\" x=\"40\" y=\"4.680000000000001\" style=\"font-family: 'Open Sans', verdana, arial, sans-serif; font-size: 12px; fill: rgb(42, 63, 95); fill-opacity: 1; white-space: pre;\">Central Area</text><g class=\"layers\" style=\"opacity: 1;\"><g class=\"legendfill\"/><g class=\"legendlines\"/><g class=\"legendsymbols\"><g class=\"legendpoints\"><path class=\"legendundefined\" d=\"M6,6H-6V-6H6Z\" transform=\"translate(20,0)\" style=\"stroke-width: 0.5px; fill: rgb(254, 0, 206); fill-opacity: 1; stroke: rgb(229, 236, 246); stroke-opacity: 1;\"/></g></g></g><rect class=\"legendtoggle\" x=\"0\" y=\"-9.5\" width=\"161.484375\" height=\"19\" style=\"fill: rgb(0, 0, 0); fill-opacity: 0;\"/></g></g><g class=\"groups\" transform=\"\"><g class=\"traces\" transform=\"translate(0,127.7)\" style=\"opacity: 1;\"><text class=\"legendtext\" text-anchor=\"start\" x=\"40\" y=\"4.680000000000001\" style=\"font-family: 'Open Sans', verdana, arial, sans-serif; font-size: 12px; fill: rgb(42, 63, 95); fill-opacity: 1; white-space: pre;\">Delridge</text><g class=\"layers\" style=\"opacity: 1;\"><g class=\"legendfill\"/><g class=\"legendlines\"/><g class=\"legendsymbols\"><g class=\"legendpoints\"><path class=\"legendundefined\" d=\"M6,6H-6V-6H6Z\" transform=\"translate(20,0)\" style=\"stroke-width: 0.5px; fill: rgb(13, 249, 255); fill-opacity: 1; stroke: rgb(229, 236, 246); stroke-opacity: 1;\"/></g></g></g><rect class=\"legendtoggle\" x=\"0\" y=\"-9.5\" width=\"161.484375\" height=\"19\" style=\"fill: rgb(0, 0, 0); fill-opacity: 0;\"/></g></g><g class=\"groups\" transform=\"\"><g class=\"traces\" transform=\"translate(0,146.7)\" style=\"opacity: 1;\"><text class=\"legendtext\" text-anchor=\"start\" x=\"40\" y=\"4.680000000000001\" style=\"font-family: 'Open Sans', verdana, arial, sans-serif; font-size: 12px; fill: rgb(42, 63, 95); fill-opacity: 1; white-space: pre;\">Downtown</text><g class=\"layers\" style=\"opacity: 1;\"><g class=\"legendfill\"/><g class=\"legendlines\"/><g class=\"legendsymbols\"><g class=\"legendpoints\"><path class=\"legendundefined\" d=\"M6,6H-6V-6H6Z\" transform=\"translate(20,0)\" style=\"stroke-width: 0.5px; fill: rgb(246, 249, 38); fill-opacity: 1; stroke: rgb(229, 236, 246); stroke-opacity: 1;\"/></g></g></g><rect class=\"legendtoggle\" x=\"0\" y=\"-9.5\" width=\"161.484375\" height=\"19\" style=\"fill: rgb(0, 0, 0); fill-opacity: 0;\"/></g></g><g class=\"groups\" transform=\"\"><g class=\"traces\" transform=\"translate(0,165.7)\" style=\"opacity: 1;\"><text class=\"legendtext\" text-anchor=\"start\" x=\"40\" y=\"4.680000000000001\" style=\"font-family: 'Open Sans', verdana, arial, sans-serif; font-size: 12px; fill: rgb(42, 63, 95); fill-opacity: 1; white-space: pre;\">Interbay</text><g class=\"layers\" style=\"opacity: 1;\"><g class=\"legendfill\"/><g class=\"legendlines\"/><g class=\"legendsymbols\"><g class=\"legendpoints\"><path class=\"legendundefined\" d=\"M6,6H-6V-6H6Z\" transform=\"translate(20,0)\" style=\"stroke-width: 0.5px; fill: rgb(255, 150, 22); fill-opacity: 1; stroke: rgb(229, 236, 246); stroke-opacity: 1;\"/></g></g></g><rect class=\"legendtoggle\" x=\"0\" y=\"-9.5\" width=\"161.484375\" height=\"19\" style=\"fill: rgb(0, 0, 0); fill-opacity: 0;\"/></g></g><g class=\"groups\" transform=\"\"><g class=\"traces\" transform=\"translate(0,184.7)\" style=\"opacity: 1;\"><text class=\"legendtext\" text-anchor=\"start\" x=\"40\" y=\"4.680000000000001\" style=\"font-family: 'Open Sans', verdana, arial, sans-serif; font-size: 12px; fill: rgb(42, 63, 95); fill-opacity: 1; white-space: pre;\">Lake City</text><g class=\"layers\" style=\"opacity: 1;\"><g class=\"legendfill\"/><g class=\"legendlines\"/><g class=\"legendsymbols\"><g class=\"legendpoints\"><path class=\"legendundefined\" d=\"M6,6H-6V-6H6Z\" transform=\"translate(20,0)\" style=\"stroke-width: 0.5px; fill: rgb(71, 155, 85); fill-opacity: 1; stroke: rgb(229, 236, 246); stroke-opacity: 1;\"/></g></g></g><rect class=\"legendtoggle\" x=\"0\" y=\"-9.5\" width=\"161.484375\" height=\"19\" style=\"fill: rgb(0, 0, 0); fill-opacity: 0;\"/></g></g><g class=\"groups\" transform=\"\"><g class=\"traces\" transform=\"translate(0,203.7)\" style=\"opacity: 1;\"><text class=\"legendtext\" text-anchor=\"start\" x=\"40\" y=\"4.680000000000001\" style=\"font-family: 'Open Sans', verdana, arial, sans-serif; font-size: 12px; fill: rgb(42, 63, 95); fill-opacity: 1; white-space: pre;\">Magnolia</text><g class=\"layers\" style=\"opacity: 1;\"><g class=\"legendfill\"/><g class=\"legendlines\"/><g class=\"legendsymbols\"><g class=\"legendpoints\"><path class=\"legendundefined\" d=\"M6,6H-6V-6H6Z\" transform=\"translate(20,0)\" style=\"stroke-width: 0.5px; fill: rgb(238, 166, 251); fill-opacity: 1; stroke: rgb(229, 236, 246); stroke-opacity: 1;\"/></g></g></g><rect class=\"legendtoggle\" x=\"0\" y=\"-9.5\" width=\"161.484375\" height=\"19\" style=\"fill: rgb(0, 0, 0); fill-opacity: 0;\"/></g></g><g class=\"groups\" transform=\"\"><g class=\"traces\" transform=\"translate(0,222.7)\" style=\"opacity: 1;\"><text class=\"legendtext\" text-anchor=\"start\" x=\"40\" y=\"4.680000000000001\" style=\"font-family: 'Open Sans', verdana, arial, sans-serif; font-size: 12px; fill: rgb(42, 63, 95); fill-opacity: 1; white-space: pre;\">Northgate</text><g class=\"layers\" style=\"opacity: 1;\"><g class=\"legendfill\"/><g class=\"legendlines\"/><g class=\"legendsymbols\"><g class=\"legendpoints\"><path class=\"legendundefined\" d=\"M6,6H-6V-6H6Z\" transform=\"translate(20,0)\" style=\"stroke-width: 0.5px; fill: rgb(220, 88, 125); fill-opacity: 1; stroke: rgb(229, 236, 246); stroke-opacity: 1;\"/></g></g></g><rect class=\"legendtoggle\" x=\"0\" y=\"-9.5\" width=\"161.484375\" height=\"19\" style=\"fill: rgb(0, 0, 0); fill-opacity: 0;\"/></g></g><g class=\"groups\" transform=\"\"><g class=\"traces\" transform=\"translate(0,241.7)\" style=\"opacity: 1;\"><text class=\"legendtext\" text-anchor=\"start\" x=\"40\" y=\"4.680000000000001\" style=\"font-family: 'Open Sans', verdana, arial, sans-serif; font-size: 12px; fill: rgb(42, 63, 95); fill-opacity: 1; white-space: pre;\">Other neighborhoods</text><g class=\"layers\" style=\"opacity: 1;\"><g class=\"legendfill\"/><g class=\"legendlines\"/><g class=\"legendsymbols\"><g class=\"legendpoints\"><path class=\"legendundefined\" d=\"M6,6H-6V-6H6Z\" transform=\"translate(20,0)\" style=\"stroke-width: 0.5px; fill: rgb(214, 38, 255); fill-opacity: 1; stroke: rgb(229, 236, 246); stroke-opacity: 1;\"/></g></g></g><rect class=\"legendtoggle\" x=\"0\" y=\"-9.5\" width=\"161.484375\" height=\"19\" style=\"fill: rgb(0, 0, 0); fill-opacity: 0;\"/></g></g><g class=\"groups\" transform=\"\"><g class=\"traces\" transform=\"translate(0,260.7)\" style=\"opacity: 1;\"><text class=\"legendtext\" text-anchor=\"start\" x=\"40\" y=\"4.680000000000001\" style=\"font-family: 'Open Sans', verdana, arial, sans-serif; font-size: 12px; fill: rgb(42, 63, 95); fill-opacity: 1; white-space: pre;\">Queen Anne</text><g class=\"layers\" style=\"opacity: 1;\"><g class=\"legendfill\"/><g class=\"legendlines\"/><g class=\"legendsymbols\"><g class=\"legendpoints\"><path class=\"legendundefined\" d=\"M6,6H-6V-6H6Z\" transform=\"translate(20,0)\" style=\"stroke-width: 0.5px; fill: rgb(110, 137, 156); fill-opacity: 1; stroke: rgb(229, 236, 246); stroke-opacity: 1;\"/></g></g></g><rect class=\"legendtoggle\" x=\"0\" y=\"-9.5\" width=\"161.484375\" height=\"19\" style=\"fill: rgb(0, 0, 0); fill-opacity: 0;\"/></g></g><g class=\"groups\" transform=\"\"><g class=\"traces\" transform=\"translate(0,279.7)\" style=\"opacity: 1;\"><text class=\"legendtext\" text-anchor=\"start\" x=\"40\" y=\"4.680000000000001\" style=\"font-family: 'Open Sans', verdana, arial, sans-serif; font-size: 12px; fill: rgb(42, 63, 95); fill-opacity: 1; white-space: pre;\">Rainier Valley</text><g class=\"layers\" style=\"opacity: 1;\"><g class=\"legendfill\"/><g class=\"legendlines\"/><g class=\"legendsymbols\"><g class=\"legendpoints\"><path class=\"legendundefined\" d=\"M6,6H-6V-6H6Z\" transform=\"translate(20,0)\" style=\"stroke-width: 0.5px; fill: rgb(0, 181, 247); fill-opacity: 1; stroke: rgb(229, 236, 246); stroke-opacity: 1;\"/></g></g></g><rect class=\"legendtoggle\" x=\"0\" y=\"-9.5\" width=\"161.484375\" height=\"19\" style=\"fill: rgb(0, 0, 0); fill-opacity: 0;\"/></g></g><g class=\"groups\" transform=\"\"><g class=\"traces\" transform=\"translate(0,298.7)\" style=\"opacity: 1;\"><text class=\"legendtext\" text-anchor=\"start\" x=\"40\" y=\"4.680000000000001\" style=\"font-family: 'Open Sans', verdana, arial, sans-serif; font-size: 12px; fill: rgb(42, 63, 95); fill-opacity: 1; white-space: pre;\">Seward Park</text><g class=\"layers\" style=\"opacity: 1;\"><g class=\"legendfill\"/><g class=\"legendlines\"/><g class=\"legendsymbols\"><g class=\"legendpoints\"><path class=\"legendundefined\" d=\"M6,6H-6V-6H6Z\" transform=\"translate(20,0)\" style=\"stroke-width: 0.5px; fill: rgb(182, 142, 0); fill-opacity: 1; stroke: rgb(229, 236, 246); stroke-opacity: 1;\"/></g></g></g><rect class=\"legendtoggle\" x=\"0\" y=\"-9.5\" width=\"161.484375\" height=\"19\" style=\"fill: rgb(0, 0, 0); fill-opacity: 0;\"/></g></g><g class=\"groups\" transform=\"\"><g class=\"traces\" transform=\"translate(0,317.7)\" style=\"opacity: 1;\"><text class=\"legendtext\" text-anchor=\"start\" x=\"40\" y=\"4.680000000000001\" style=\"font-family: 'Open Sans', verdana, arial, sans-serif; font-size: 12px; fill: rgb(42, 63, 95); fill-opacity: 1; white-space: pre;\">University District</text><g class=\"layers\" style=\"opacity: 1;\"><g class=\"legendfill\"/><g class=\"legendlines\"/><g class=\"legendsymbols\"><g class=\"legendpoints\"><path class=\"legendundefined\" d=\"M6,6H-6V-6H6Z\" transform=\"translate(20,0)\" style=\"stroke-width: 0.5px; fill: rgb(201, 251, 229); fill-opacity: 1; stroke: rgb(229, 236, 246); stroke-opacity: 1;\"/></g></g></g><rect class=\"legendtoggle\" x=\"0\" y=\"-9.5\" width=\"161.484375\" height=\"19\" style=\"fill: rgb(0, 0, 0); fill-opacity: 0;\"/></g></g><g class=\"groups\" transform=\"\"><g class=\"traces\" transform=\"translate(0,336.7)\" style=\"opacity: 1;\"><text class=\"legendtext\" text-anchor=\"start\" x=\"40\" y=\"4.680000000000001\" style=\"font-family: 'Open Sans', verdana, arial, sans-serif; font-size: 12px; fill: rgb(42, 63, 95); fill-opacity: 1; white-space: pre;\">West Seattle</text><g class=\"layers\" style=\"opacity: 1;\"><g class=\"legendfill\"/><g class=\"legendlines\"/><g class=\"legendsymbols\"><g class=\"legendpoints\"><path class=\"legendundefined\" d=\"M6,6H-6V-6H6Z\" transform=\"translate(20,0)\" style=\"stroke-width: 0.5px; fill: rgb(255, 0, 146); fill-opacity: 1; stroke: rgb(229, 236, 246); stroke-opacity: 1;\"/></g></g></g><rect class=\"legendtoggle\" x=\"0\" y=\"-9.5\" width=\"161.484375\" height=\"19\" style=\"fill: rgb(0, 0, 0); fill-opacity: 0;\"/></g></g></g><rect class=\"scrollbar\" rx=\"20\" ry=\"3\" width=\"0\" height=\"0\" x=\"0\" y=\"0\" style=\"fill: rgb(128, 139, 164); fill-opacity: 1;\"/></g><g class=\"g-gtitle\"><text class=\"gtitle\" x=\"45\" y=\"50\" text-anchor=\"start\" dy=\"0em\" style=\"font-family: 'Open Sans', verdana, arial, sans-serif; font-size: 17px; fill: rgb(42, 63, 95); opacity: 1; font-weight: normal; white-space: pre;\">Neighbourhoods have the highest average listings prices per night</text></g><g class=\"g-xtitle\"><text class=\"xtitle\" x=\"370.5\" y=\"688.39375\" text-anchor=\"middle\" style=\"font-family: 'Open Sans', verdana, arial, sans-serif; font-size: 14px; fill: rgb(42, 63, 95); opacity: 1; font-weight: normal; white-space: pre;\">Neighbourhoods</text></g><g class=\"g-ytitle\"><text class=\"ytitle\" transform=\"rotate(-90,33.60625,310)\" x=\"33.60625\" y=\"310\" text-anchor=\"middle\" style=\"font-family: 'Open Sans', verdana, arial, sans-serif; font-size: 14px; fill: rgb(42, 63, 95); opacity: 1; font-weight: normal; white-space: pre;\">Average prices per night</text></g></g></svg>"
      ]
     },
     "metadata": {},
     "output_type": "display_data"
    }
   ],
   "source": [
    "fig = px.bar(ans2, x = ans2[\"neighbourhood_cleansed\"], y = ans2[\"price\"], color= ans2[\"neighbourhood_group_cleansed\"],\n",
    "             color_discrete_sequence = px.colors.qualitative.Light24,\n",
    "             title = \"Neighbourhoods have the highest average listings prices per night\",\n",
    "             labels={\"price\": \"Average prices per night\",\n",
    "                     \"neighbourhood_cleansed\": \"Neighbourhoods\"},)\n",
    "fig.update_layout(\n",
    "autosize=False,\n",
    "width=900,\n",
    "height=700,)\n",
    "fig.show()\n",
    "fig.show('svg')"
   ]
  },
  {
   "cell_type": "markdown",
   "id": "a2375a88",
   "metadata": {},
   "source": [
    "#### Insight"
   ]
  },
  {
   "cell_type": "markdown",
   "id": "0f979caa",
   "metadata": {},
   "source": [
    "- Southeast of Magnolia and Portage Bay have the highest average prices per night\n",
    "- All neighbourhoods at Rainier Valley group have Average prices less than 100"
   ]
  },
  {
   "cell_type": "markdown",
   "id": "f8dac6dd",
   "metadata": {},
   "source": [
    "### Question 3: Who are the top hosts in terms of total listings count ? What types of listings they own?"
   ]
  },
  {
   "cell_type": "markdown",
   "id": "20c0e263",
   "metadata": {},
   "source": [
    "#### Preprocessing"
   ]
  },
  {
   "cell_type": "code",
   "execution_count": 22,
   "id": "5c8256fd",
   "metadata": {},
   "outputs": [],
   "source": [
    "q3=df.copy()"
   ]
  },
  {
   "cell_type": "code",
   "execution_count": 23,
   "id": "233208b3",
   "metadata": {},
   "outputs": [],
   "source": [
    "q3['Host'] = q3['host_id'].astype(str)"
   ]
  },
  {
   "cell_type": "code",
   "execution_count": 24,
   "id": "6a6a3f74",
   "metadata": {},
   "outputs": [
    {
     "data": {
      "text/html": [
       "<div>\n",
       "<style scoped>\n",
       "    .dataframe tbody tr th:only-of-type {\n",
       "        vertical-align: middle;\n",
       "    }\n",
       "\n",
       "    .dataframe tbody tr th {\n",
       "        vertical-align: top;\n",
       "    }\n",
       "\n",
       "    .dataframe thead th {\n",
       "        text-align: right;\n",
       "    }\n",
       "</style>\n",
       "<table border=\"1\" class=\"dataframe\">\n",
       "  <thead>\n",
       "    <tr style=\"text-align: right;\">\n",
       "      <th></th>\n",
       "      <th>Host</th>\n",
       "      <th>calculated_host_listings_count</th>\n",
       "    </tr>\n",
       "  </thead>\n",
       "  <tbody>\n",
       "    <tr>\n",
       "      <th>315</th>\n",
       "      <td>1243056</td>\n",
       "      <td>37</td>\n",
       "    </tr>\n",
       "    <tr>\n",
       "      <th>687</th>\n",
       "      <td>3074414</td>\n",
       "      <td>34</td>\n",
       "    </tr>\n",
       "    <tr>\n",
       "      <th>97</th>\n",
       "      <td>430709</td>\n",
       "      <td>31</td>\n",
       "    </tr>\n",
       "    <tr>\n",
       "      <th>694</th>\n",
       "      <td>26967583</td>\n",
       "      <td>21</td>\n",
       "    </tr>\n",
       "    <tr>\n",
       "      <th>2642</th>\n",
       "      <td>7354306</td>\n",
       "      <td>18</td>\n",
       "    </tr>\n",
       "    <tr>\n",
       "      <th>2611</th>\n",
       "      <td>42537846</td>\n",
       "      <td>15</td>\n",
       "    </tr>\n",
       "    <tr>\n",
       "      <th>1247</th>\n",
       "      <td>1623580</td>\n",
       "      <td>12</td>\n",
       "    </tr>\n",
       "    <tr>\n",
       "      <th>710</th>\n",
       "      <td>2911360</td>\n",
       "      <td>11</td>\n",
       "    </tr>\n",
       "    <tr>\n",
       "      <th>1062</th>\n",
       "      <td>862329</td>\n",
       "      <td>11</td>\n",
       "    </tr>\n",
       "    <tr>\n",
       "      <th>580</th>\n",
       "      <td>754810</td>\n",
       "      <td>10</td>\n",
       "    </tr>\n",
       "  </tbody>\n",
       "</table>\n",
       "</div>"
      ],
      "text/plain": [
       "          Host  calculated_host_listings_count\n",
       "315    1243056                              37\n",
       "687    3074414                              34\n",
       "97      430709                              31\n",
       "694   26967583                              21\n",
       "2642   7354306                              18\n",
       "2611  42537846                              15\n",
       "1247   1623580                              12\n",
       "710    2911360                              11\n",
       "1062    862329                              11\n",
       "580     754810                              10"
      ]
     },
     "execution_count": 24,
     "metadata": {},
     "output_type": "execute_result"
    }
   ],
   "source": [
    "# top 10 hosts based on the total number of the owned listsing counts\n",
    "ans3_a= q3[[\"Host\",\"calculated_host_listings_count\"]].drop_duplicates().nlargest(10,columns=\"calculated_host_listings_count\" )\n",
    "ans3_a"
   ]
  },
  {
   "cell_type": "code",
   "execution_count": 25,
   "id": "bb531d39",
   "metadata": {
    "scrolled": true
   },
   "outputs": [
    {
     "data": {
      "text/html": [
       "<div>\n",
       "<style scoped>\n",
       "    .dataframe tbody tr th:only-of-type {\n",
       "        vertical-align: middle;\n",
       "    }\n",
       "\n",
       "    .dataframe tbody tr th {\n",
       "        vertical-align: top;\n",
       "    }\n",
       "\n",
       "    .dataframe thead th {\n",
       "        text-align: right;\n",
       "    }\n",
       "</style>\n",
       "<table border=\"1\" class=\"dataframe\">\n",
       "  <thead>\n",
       "    <tr style=\"text-align: right;\">\n",
       "      <th></th>\n",
       "      <th>Host</th>\n",
       "      <th>property_type</th>\n",
       "      <th>id</th>\n",
       "    </tr>\n",
       "  </thead>\n",
       "  <tbody>\n",
       "    <tr>\n",
       "      <th>0</th>\n",
       "      <td>1243056</td>\n",
       "      <td>House</td>\n",
       "      <td>37</td>\n",
       "    </tr>\n",
       "    <tr>\n",
       "      <th>1</th>\n",
       "      <td>1623580</td>\n",
       "      <td>Apartment</td>\n",
       "      <td>11</td>\n",
       "    </tr>\n",
       "    <tr>\n",
       "      <th>2</th>\n",
       "      <td>1623580</td>\n",
       "      <td>Loft</td>\n",
       "      <td>1</td>\n",
       "    </tr>\n",
       "    <tr>\n",
       "      <th>3</th>\n",
       "      <td>26967583</td>\n",
       "      <td>House</td>\n",
       "      <td>21</td>\n",
       "    </tr>\n",
       "    <tr>\n",
       "      <th>4</th>\n",
       "      <td>2911360</td>\n",
       "      <td>Apartment</td>\n",
       "      <td>8</td>\n",
       "    </tr>\n",
       "    <tr>\n",
       "      <th>5</th>\n",
       "      <td>2911360</td>\n",
       "      <td>Condominium</td>\n",
       "      <td>1</td>\n",
       "    </tr>\n",
       "    <tr>\n",
       "      <th>6</th>\n",
       "      <td>2911360</td>\n",
       "      <td>House</td>\n",
       "      <td>2</td>\n",
       "    </tr>\n",
       "    <tr>\n",
       "      <th>7</th>\n",
       "      <td>3074414</td>\n",
       "      <td>Apartment</td>\n",
       "      <td>30</td>\n",
       "    </tr>\n",
       "    <tr>\n",
       "      <th>8</th>\n",
       "      <td>3074414</td>\n",
       "      <td>Condominium</td>\n",
       "      <td>1</td>\n",
       "    </tr>\n",
       "    <tr>\n",
       "      <th>9</th>\n",
       "      <td>3074414</td>\n",
       "      <td>House</td>\n",
       "      <td>3</td>\n",
       "    </tr>\n",
       "    <tr>\n",
       "      <th>10</th>\n",
       "      <td>42537846</td>\n",
       "      <td>Apartment</td>\n",
       "      <td>16</td>\n",
       "    </tr>\n",
       "    <tr>\n",
       "      <th>11</th>\n",
       "      <td>430709</td>\n",
       "      <td>Apartment</td>\n",
       "      <td>25</td>\n",
       "    </tr>\n",
       "    <tr>\n",
       "      <th>12</th>\n",
       "      <td>430709</td>\n",
       "      <td>House</td>\n",
       "      <td>11</td>\n",
       "    </tr>\n",
       "    <tr>\n",
       "      <th>13</th>\n",
       "      <td>7354306</td>\n",
       "      <td>Apartment</td>\n",
       "      <td>1</td>\n",
       "    </tr>\n",
       "    <tr>\n",
       "      <th>14</th>\n",
       "      <td>7354306</td>\n",
       "      <td>House</td>\n",
       "      <td>17</td>\n",
       "    </tr>\n",
       "    <tr>\n",
       "      <th>15</th>\n",
       "      <td>754810</td>\n",
       "      <td>Condominium</td>\n",
       "      <td>4</td>\n",
       "    </tr>\n",
       "    <tr>\n",
       "      <th>16</th>\n",
       "      <td>754810</td>\n",
       "      <td>House</td>\n",
       "      <td>1</td>\n",
       "    </tr>\n",
       "    <tr>\n",
       "      <th>17</th>\n",
       "      <td>754810</td>\n",
       "      <td>Townhouse</td>\n",
       "      <td>5</td>\n",
       "    </tr>\n",
       "    <tr>\n",
       "      <th>18</th>\n",
       "      <td>862329</td>\n",
       "      <td>House</td>\n",
       "      <td>11</td>\n",
       "    </tr>\n",
       "  </tbody>\n",
       "</table>\n",
       "</div>"
      ],
      "text/plain": [
       "        Host property_type  id\n",
       "0    1243056         House  37\n",
       "1    1623580     Apartment  11\n",
       "2    1623580          Loft   1\n",
       "3   26967583         House  21\n",
       "4    2911360     Apartment   8\n",
       "5    2911360   Condominium   1\n",
       "6    2911360         House   2\n",
       "7    3074414     Apartment  30\n",
       "8    3074414   Condominium   1\n",
       "9    3074414         House   3\n",
       "10  42537846     Apartment  16\n",
       "11    430709     Apartment  25\n",
       "12    430709         House  11\n",
       "13   7354306     Apartment   1\n",
       "14   7354306         House  17\n",
       "15    754810   Condominium   4\n",
       "16    754810         House   1\n",
       "17    754810     Townhouse   5\n",
       "18    862329         House  11"
      ]
     },
     "execution_count": 25,
     "metadata": {},
     "output_type": "execute_result"
    }
   ],
   "source": [
    "# Types of property owned by top 10 hosts \n",
    "ans3_b = q3.loc[q3[\"Host\"].isin(ans3_a[\"Host\"])].groupby([\"Host\",\"property_type\"],as_index=False).count()[[\"Host\",\"property_type\",\"id\"]]\n",
    "ans3_b"
   ]
  },
  {
   "cell_type": "markdown",
   "id": "14abbca5",
   "metadata": {},
   "source": [
    "#### Visualization"
   ]
  },
  {
   "cell_type": "code",
   "execution_count": 26,
   "id": "ad64e21c",
   "metadata": {},
   "outputs": [
    {
     "data": {
      "application/vnd.plotly.v1+json": {
       "config": {
        "plotlyServerURL": "https://plot.ly"
       },
       "data": [
        {
         "alignmentgroup": "True",
         "hovertemplate": "property_type=House<br>Host=%{x}<br>Count of listings=%{y}<extra></extra>",
         "legendgroup": "House",
         "marker": {
          "color": "#636efa",
          "pattern": {
           "shape": ""
          }
         },
         "name": "House",
         "offsetgroup": "House",
         "orientation": "v",
         "showlegend": true,
         "textposition": "auto",
         "type": "bar",
         "x": [
          "1243056",
          "26967583",
          "2911360",
          "3074414",
          "430709",
          "7354306",
          "754810",
          "862329"
         ],
         "xaxis": "x",
         "y": [
          37,
          21,
          2,
          3,
          11,
          17,
          1,
          11
         ],
         "yaxis": "y"
        },
        {
         "alignmentgroup": "True",
         "hovertemplate": "property_type=Apartment<br>Host=%{x}<br>Count of listings=%{y}<extra></extra>",
         "legendgroup": "Apartment",
         "marker": {
          "color": "#EF553B",
          "pattern": {
           "shape": ""
          }
         },
         "name": "Apartment",
         "offsetgroup": "Apartment",
         "orientation": "v",
         "showlegend": true,
         "textposition": "auto",
         "type": "bar",
         "x": [
          "1623580",
          "2911360",
          "3074414",
          "42537846",
          "430709",
          "7354306"
         ],
         "xaxis": "x",
         "y": [
          11,
          8,
          30,
          16,
          25,
          1
         ],
         "yaxis": "y"
        },
        {
         "alignmentgroup": "True",
         "hovertemplate": "property_type=Loft<br>Host=%{x}<br>Count of listings=%{y}<extra></extra>",
         "legendgroup": "Loft",
         "marker": {
          "color": "#00cc96",
          "pattern": {
           "shape": ""
          }
         },
         "name": "Loft",
         "offsetgroup": "Loft",
         "orientation": "v",
         "showlegend": true,
         "textposition": "auto",
         "type": "bar",
         "x": [
          "1623580"
         ],
         "xaxis": "x",
         "y": [
          1
         ],
         "yaxis": "y"
        },
        {
         "alignmentgroup": "True",
         "hovertemplate": "property_type=Condominium<br>Host=%{x}<br>Count of listings=%{y}<extra></extra>",
         "legendgroup": "Condominium",
         "marker": {
          "color": "#ab63fa",
          "pattern": {
           "shape": ""
          }
         },
         "name": "Condominium",
         "offsetgroup": "Condominium",
         "orientation": "v",
         "showlegend": true,
         "textposition": "auto",
         "type": "bar",
         "x": [
          "2911360",
          "3074414",
          "754810"
         ],
         "xaxis": "x",
         "y": [
          1,
          1,
          4
         ],
         "yaxis": "y"
        },
        {
         "alignmentgroup": "True",
         "hovertemplate": "property_type=Townhouse<br>Host=%{x}<br>Count of listings=%{y}<extra></extra>",
         "legendgroup": "Townhouse",
         "marker": {
          "color": "#FFA15A",
          "pattern": {
           "shape": ""
          }
         },
         "name": "Townhouse",
         "offsetgroup": "Townhouse",
         "orientation": "v",
         "showlegend": true,
         "textposition": "auto",
         "type": "bar",
         "x": [
          "754810"
         ],
         "xaxis": "x",
         "y": [
          5
         ],
         "yaxis": "y"
        }
       ],
       "layout": {
        "barmode": "stack",
        "legend": {
         "title": {
          "text": "property_type"
         },
         "tracegroupgap": 0
        },
        "template": {
         "data": {
          "bar": [
           {
            "error_x": {
             "color": "#2a3f5f"
            },
            "error_y": {
             "color": "#2a3f5f"
            },
            "marker": {
             "line": {
              "color": "#E5ECF6",
              "width": 0.5
             },
             "pattern": {
              "fillmode": "overlay",
              "size": 10,
              "solidity": 0.2
             }
            },
            "type": "bar"
           }
          ],
          "barpolar": [
           {
            "marker": {
             "line": {
              "color": "#E5ECF6",
              "width": 0.5
             },
             "pattern": {
              "fillmode": "overlay",
              "size": 10,
              "solidity": 0.2
             }
            },
            "type": "barpolar"
           }
          ],
          "carpet": [
           {
            "aaxis": {
             "endlinecolor": "#2a3f5f",
             "gridcolor": "white",
             "linecolor": "white",
             "minorgridcolor": "white",
             "startlinecolor": "#2a3f5f"
            },
            "baxis": {
             "endlinecolor": "#2a3f5f",
             "gridcolor": "white",
             "linecolor": "white",
             "minorgridcolor": "white",
             "startlinecolor": "#2a3f5f"
            },
            "type": "carpet"
           }
          ],
          "choropleth": [
           {
            "colorbar": {
             "outlinewidth": 0,
             "ticks": ""
            },
            "type": "choropleth"
           }
          ],
          "contour": [
           {
            "colorbar": {
             "outlinewidth": 0,
             "ticks": ""
            },
            "colorscale": [
             [
              0,
              "#0d0887"
             ],
             [
              0.1111111111111111,
              "#46039f"
             ],
             [
              0.2222222222222222,
              "#7201a8"
             ],
             [
              0.3333333333333333,
              "#9c179e"
             ],
             [
              0.4444444444444444,
              "#bd3786"
             ],
             [
              0.5555555555555556,
              "#d8576b"
             ],
             [
              0.6666666666666666,
              "#ed7953"
             ],
             [
              0.7777777777777778,
              "#fb9f3a"
             ],
             [
              0.8888888888888888,
              "#fdca26"
             ],
             [
              1,
              "#f0f921"
             ]
            ],
            "type": "contour"
           }
          ],
          "contourcarpet": [
           {
            "colorbar": {
             "outlinewidth": 0,
             "ticks": ""
            },
            "type": "contourcarpet"
           }
          ],
          "heatmap": [
           {
            "colorbar": {
             "outlinewidth": 0,
             "ticks": ""
            },
            "colorscale": [
             [
              0,
              "#0d0887"
             ],
             [
              0.1111111111111111,
              "#46039f"
             ],
             [
              0.2222222222222222,
              "#7201a8"
             ],
             [
              0.3333333333333333,
              "#9c179e"
             ],
             [
              0.4444444444444444,
              "#bd3786"
             ],
             [
              0.5555555555555556,
              "#d8576b"
             ],
             [
              0.6666666666666666,
              "#ed7953"
             ],
             [
              0.7777777777777778,
              "#fb9f3a"
             ],
             [
              0.8888888888888888,
              "#fdca26"
             ],
             [
              1,
              "#f0f921"
             ]
            ],
            "type": "heatmap"
           }
          ],
          "heatmapgl": [
           {
            "colorbar": {
             "outlinewidth": 0,
             "ticks": ""
            },
            "colorscale": [
             [
              0,
              "#0d0887"
             ],
             [
              0.1111111111111111,
              "#46039f"
             ],
             [
              0.2222222222222222,
              "#7201a8"
             ],
             [
              0.3333333333333333,
              "#9c179e"
             ],
             [
              0.4444444444444444,
              "#bd3786"
             ],
             [
              0.5555555555555556,
              "#d8576b"
             ],
             [
              0.6666666666666666,
              "#ed7953"
             ],
             [
              0.7777777777777778,
              "#fb9f3a"
             ],
             [
              0.8888888888888888,
              "#fdca26"
             ],
             [
              1,
              "#f0f921"
             ]
            ],
            "type": "heatmapgl"
           }
          ],
          "histogram": [
           {
            "marker": {
             "pattern": {
              "fillmode": "overlay",
              "size": 10,
              "solidity": 0.2
             }
            },
            "type": "histogram"
           }
          ],
          "histogram2d": [
           {
            "colorbar": {
             "outlinewidth": 0,
             "ticks": ""
            },
            "colorscale": [
             [
              0,
              "#0d0887"
             ],
             [
              0.1111111111111111,
              "#46039f"
             ],
             [
              0.2222222222222222,
              "#7201a8"
             ],
             [
              0.3333333333333333,
              "#9c179e"
             ],
             [
              0.4444444444444444,
              "#bd3786"
             ],
             [
              0.5555555555555556,
              "#d8576b"
             ],
             [
              0.6666666666666666,
              "#ed7953"
             ],
             [
              0.7777777777777778,
              "#fb9f3a"
             ],
             [
              0.8888888888888888,
              "#fdca26"
             ],
             [
              1,
              "#f0f921"
             ]
            ],
            "type": "histogram2d"
           }
          ],
          "histogram2dcontour": [
           {
            "colorbar": {
             "outlinewidth": 0,
             "ticks": ""
            },
            "colorscale": [
             [
              0,
              "#0d0887"
             ],
             [
              0.1111111111111111,
              "#46039f"
             ],
             [
              0.2222222222222222,
              "#7201a8"
             ],
             [
              0.3333333333333333,
              "#9c179e"
             ],
             [
              0.4444444444444444,
              "#bd3786"
             ],
             [
              0.5555555555555556,
              "#d8576b"
             ],
             [
              0.6666666666666666,
              "#ed7953"
             ],
             [
              0.7777777777777778,
              "#fb9f3a"
             ],
             [
              0.8888888888888888,
              "#fdca26"
             ],
             [
              1,
              "#f0f921"
             ]
            ],
            "type": "histogram2dcontour"
           }
          ],
          "mesh3d": [
           {
            "colorbar": {
             "outlinewidth": 0,
             "ticks": ""
            },
            "type": "mesh3d"
           }
          ],
          "parcoords": [
           {
            "line": {
             "colorbar": {
              "outlinewidth": 0,
              "ticks": ""
             }
            },
            "type": "parcoords"
           }
          ],
          "pie": [
           {
            "automargin": true,
            "type": "pie"
           }
          ],
          "scatter": [
           {
            "fillpattern": {
             "fillmode": "overlay",
             "size": 10,
             "solidity": 0.2
            },
            "type": "scatter"
           }
          ],
          "scatter3d": [
           {
            "line": {
             "colorbar": {
              "outlinewidth": 0,
              "ticks": ""
             }
            },
            "marker": {
             "colorbar": {
              "outlinewidth": 0,
              "ticks": ""
             }
            },
            "type": "scatter3d"
           }
          ],
          "scattercarpet": [
           {
            "marker": {
             "colorbar": {
              "outlinewidth": 0,
              "ticks": ""
             }
            },
            "type": "scattercarpet"
           }
          ],
          "scattergeo": [
           {
            "marker": {
             "colorbar": {
              "outlinewidth": 0,
              "ticks": ""
             }
            },
            "type": "scattergeo"
           }
          ],
          "scattergl": [
           {
            "marker": {
             "colorbar": {
              "outlinewidth": 0,
              "ticks": ""
             }
            },
            "type": "scattergl"
           }
          ],
          "scattermapbox": [
           {
            "marker": {
             "colorbar": {
              "outlinewidth": 0,
              "ticks": ""
             }
            },
            "type": "scattermapbox"
           }
          ],
          "scatterpolar": [
           {
            "marker": {
             "colorbar": {
              "outlinewidth": 0,
              "ticks": ""
             }
            },
            "type": "scatterpolar"
           }
          ],
          "scatterpolargl": [
           {
            "marker": {
             "colorbar": {
              "outlinewidth": 0,
              "ticks": ""
             }
            },
            "type": "scatterpolargl"
           }
          ],
          "scatterternary": [
           {
            "marker": {
             "colorbar": {
              "outlinewidth": 0,
              "ticks": ""
             }
            },
            "type": "scatterternary"
           }
          ],
          "surface": [
           {
            "colorbar": {
             "outlinewidth": 0,
             "ticks": ""
            },
            "colorscale": [
             [
              0,
              "#0d0887"
             ],
             [
              0.1111111111111111,
              "#46039f"
             ],
             [
              0.2222222222222222,
              "#7201a8"
             ],
             [
              0.3333333333333333,
              "#9c179e"
             ],
             [
              0.4444444444444444,
              "#bd3786"
             ],
             [
              0.5555555555555556,
              "#d8576b"
             ],
             [
              0.6666666666666666,
              "#ed7953"
             ],
             [
              0.7777777777777778,
              "#fb9f3a"
             ],
             [
              0.8888888888888888,
              "#fdca26"
             ],
             [
              1,
              "#f0f921"
             ]
            ],
            "type": "surface"
           }
          ],
          "table": [
           {
            "cells": {
             "fill": {
              "color": "#EBF0F8"
             },
             "line": {
              "color": "white"
             }
            },
            "header": {
             "fill": {
              "color": "#C8D4E3"
             },
             "line": {
              "color": "white"
             }
            },
            "type": "table"
           }
          ]
         },
         "layout": {
          "annotationdefaults": {
           "arrowcolor": "#2a3f5f",
           "arrowhead": 0,
           "arrowwidth": 1
          },
          "autotypenumbers": "strict",
          "coloraxis": {
           "colorbar": {
            "outlinewidth": 0,
            "ticks": ""
           }
          },
          "colorscale": {
           "diverging": [
            [
             0,
             "#8e0152"
            ],
            [
             0.1,
             "#c51b7d"
            ],
            [
             0.2,
             "#de77ae"
            ],
            [
             0.3,
             "#f1b6da"
            ],
            [
             0.4,
             "#fde0ef"
            ],
            [
             0.5,
             "#f7f7f7"
            ],
            [
             0.6,
             "#e6f5d0"
            ],
            [
             0.7,
             "#b8e186"
            ],
            [
             0.8,
             "#7fbc41"
            ],
            [
             0.9,
             "#4d9221"
            ],
            [
             1,
             "#276419"
            ]
           ],
           "sequential": [
            [
             0,
             "#0d0887"
            ],
            [
             0.1111111111111111,
             "#46039f"
            ],
            [
             0.2222222222222222,
             "#7201a8"
            ],
            [
             0.3333333333333333,
             "#9c179e"
            ],
            [
             0.4444444444444444,
             "#bd3786"
            ],
            [
             0.5555555555555556,
             "#d8576b"
            ],
            [
             0.6666666666666666,
             "#ed7953"
            ],
            [
             0.7777777777777778,
             "#fb9f3a"
            ],
            [
             0.8888888888888888,
             "#fdca26"
            ],
            [
             1,
             "#f0f921"
            ]
           ],
           "sequentialminus": [
            [
             0,
             "#0d0887"
            ],
            [
             0.1111111111111111,
             "#46039f"
            ],
            [
             0.2222222222222222,
             "#7201a8"
            ],
            [
             0.3333333333333333,
             "#9c179e"
            ],
            [
             0.4444444444444444,
             "#bd3786"
            ],
            [
             0.5555555555555556,
             "#d8576b"
            ],
            [
             0.6666666666666666,
             "#ed7953"
            ],
            [
             0.7777777777777778,
             "#fb9f3a"
            ],
            [
             0.8888888888888888,
             "#fdca26"
            ],
            [
             1,
             "#f0f921"
            ]
           ]
          },
          "colorway": [
           "#636efa",
           "#EF553B",
           "#00cc96",
           "#ab63fa",
           "#FFA15A",
           "#19d3f3",
           "#FF6692",
           "#B6E880",
           "#FF97FF",
           "#FECB52"
          ],
          "font": {
           "color": "#2a3f5f"
          },
          "geo": {
           "bgcolor": "white",
           "lakecolor": "white",
           "landcolor": "#E5ECF6",
           "showlakes": true,
           "showland": true,
           "subunitcolor": "white"
          },
          "hoverlabel": {
           "align": "left"
          },
          "hovermode": "closest",
          "mapbox": {
           "style": "light"
          },
          "paper_bgcolor": "white",
          "plot_bgcolor": "#E5ECF6",
          "polar": {
           "angularaxis": {
            "gridcolor": "white",
            "linecolor": "white",
            "ticks": ""
           },
           "bgcolor": "#E5ECF6",
           "radialaxis": {
            "gridcolor": "white",
            "linecolor": "white",
            "ticks": ""
           }
          },
          "scene": {
           "xaxis": {
            "backgroundcolor": "#E5ECF6",
            "gridcolor": "white",
            "gridwidth": 2,
            "linecolor": "white",
            "showbackground": true,
            "ticks": "",
            "zerolinecolor": "white"
           },
           "yaxis": {
            "backgroundcolor": "#E5ECF6",
            "gridcolor": "white",
            "gridwidth": 2,
            "linecolor": "white",
            "showbackground": true,
            "ticks": "",
            "zerolinecolor": "white"
           },
           "zaxis": {
            "backgroundcolor": "#E5ECF6",
            "gridcolor": "white",
            "gridwidth": 2,
            "linecolor": "white",
            "showbackground": true,
            "ticks": "",
            "zerolinecolor": "white"
           }
          },
          "shapedefaults": {
           "line": {
            "color": "#2a3f5f"
           }
          },
          "ternary": {
           "aaxis": {
            "gridcolor": "white",
            "linecolor": "white",
            "ticks": ""
           },
           "baxis": {
            "gridcolor": "white",
            "linecolor": "white",
            "ticks": ""
           },
           "bgcolor": "#E5ECF6",
           "caxis": {
            "gridcolor": "white",
            "linecolor": "white",
            "ticks": ""
           }
          },
          "title": {
           "x": 0.05
          },
          "xaxis": {
           "automargin": true,
           "gridcolor": "white",
           "linecolor": "white",
           "ticks": "",
           "title": {
            "standoff": 15
           },
           "zerolinecolor": "white",
           "zerolinewidth": 2
          },
          "yaxis": {
           "automargin": true,
           "gridcolor": "white",
           "linecolor": "white",
           "ticks": "",
           "title": {
            "standoff": 15
           },
           "zerolinecolor": "white",
           "zerolinewidth": 2
          }
         }
        },
        "title": {
         "text": "Top 10 hosts based on the count of listsings they own, and their listing types"
        },
        "xaxis": {
         "anchor": "y",
         "categoryorder": "total descending",
         "domain": [
          0,
          1
         ],
         "title": {
          "text": "Host"
         }
        },
        "yaxis": {
         "anchor": "x",
         "domain": [
          0,
          1
         ],
         "title": {
          "text": "Count of listings"
         }
        }
       }
      },
      "text/html": [
       "<div>                            <div id=\"6301fcef-fd0c-41ca-9ddd-965c4c9d9cdf\" class=\"plotly-graph-div\" style=\"height:525px; width:100%;\"></div>            <script type=\"text/javascript\">                require([\"plotly\"], function(Plotly) {                    window.PLOTLYENV=window.PLOTLYENV || {};                                    if (document.getElementById(\"6301fcef-fd0c-41ca-9ddd-965c4c9d9cdf\")) {                    Plotly.newPlot(                        \"6301fcef-fd0c-41ca-9ddd-965c4c9d9cdf\",                        [{\"alignmentgroup\":\"True\",\"hovertemplate\":\"property_type=House<br>Host=%{x}<br>Count of listings=%{y}<extra></extra>\",\"legendgroup\":\"House\",\"marker\":{\"color\":\"#636efa\",\"pattern\":{\"shape\":\"\"}},\"name\":\"House\",\"offsetgroup\":\"House\",\"orientation\":\"v\",\"showlegend\":true,\"textposition\":\"auto\",\"x\":[\"1243056\",\"26967583\",\"2911360\",\"3074414\",\"430709\",\"7354306\",\"754810\",\"862329\"],\"xaxis\":\"x\",\"y\":[37,21,2,3,11,17,1,11],\"yaxis\":\"y\",\"type\":\"bar\"},{\"alignmentgroup\":\"True\",\"hovertemplate\":\"property_type=Apartment<br>Host=%{x}<br>Count of listings=%{y}<extra></extra>\",\"legendgroup\":\"Apartment\",\"marker\":{\"color\":\"#EF553B\",\"pattern\":{\"shape\":\"\"}},\"name\":\"Apartment\",\"offsetgroup\":\"Apartment\",\"orientation\":\"v\",\"showlegend\":true,\"textposition\":\"auto\",\"x\":[\"1623580\",\"2911360\",\"3074414\",\"42537846\",\"430709\",\"7354306\"],\"xaxis\":\"x\",\"y\":[11,8,30,16,25,1],\"yaxis\":\"y\",\"type\":\"bar\"},{\"alignmentgroup\":\"True\",\"hovertemplate\":\"property_type=Loft<br>Host=%{x}<br>Count of listings=%{y}<extra></extra>\",\"legendgroup\":\"Loft\",\"marker\":{\"color\":\"#00cc96\",\"pattern\":{\"shape\":\"\"}},\"name\":\"Loft\",\"offsetgroup\":\"Loft\",\"orientation\":\"v\",\"showlegend\":true,\"textposition\":\"auto\",\"x\":[\"1623580\"],\"xaxis\":\"x\",\"y\":[1],\"yaxis\":\"y\",\"type\":\"bar\"},{\"alignmentgroup\":\"True\",\"hovertemplate\":\"property_type=Condominium<br>Host=%{x}<br>Count of listings=%{y}<extra></extra>\",\"legendgroup\":\"Condominium\",\"marker\":{\"color\":\"#ab63fa\",\"pattern\":{\"shape\":\"\"}},\"name\":\"Condominium\",\"offsetgroup\":\"Condominium\",\"orientation\":\"v\",\"showlegend\":true,\"textposition\":\"auto\",\"x\":[\"2911360\",\"3074414\",\"754810\"],\"xaxis\":\"x\",\"y\":[1,1,4],\"yaxis\":\"y\",\"type\":\"bar\"},{\"alignmentgroup\":\"True\",\"hovertemplate\":\"property_type=Townhouse<br>Host=%{x}<br>Count of listings=%{y}<extra></extra>\",\"legendgroup\":\"Townhouse\",\"marker\":{\"color\":\"#FFA15A\",\"pattern\":{\"shape\":\"\"}},\"name\":\"Townhouse\",\"offsetgroup\":\"Townhouse\",\"orientation\":\"v\",\"showlegend\":true,\"textposition\":\"auto\",\"x\":[\"754810\"],\"xaxis\":\"x\",\"y\":[5],\"yaxis\":\"y\",\"type\":\"bar\"}],                        {\"template\":{\"data\":{\"histogram2dcontour\":[{\"type\":\"histogram2dcontour\",\"colorbar\":{\"outlinewidth\":0,\"ticks\":\"\"},\"colorscale\":[[0.0,\"#0d0887\"],[0.1111111111111111,\"#46039f\"],[0.2222222222222222,\"#7201a8\"],[0.3333333333333333,\"#9c179e\"],[0.4444444444444444,\"#bd3786\"],[0.5555555555555556,\"#d8576b\"],[0.6666666666666666,\"#ed7953\"],[0.7777777777777778,\"#fb9f3a\"],[0.8888888888888888,\"#fdca26\"],[1.0,\"#f0f921\"]]}],\"choropleth\":[{\"type\":\"choropleth\",\"colorbar\":{\"outlinewidth\":0,\"ticks\":\"\"}}],\"histogram2d\":[{\"type\":\"histogram2d\",\"colorbar\":{\"outlinewidth\":0,\"ticks\":\"\"},\"colorscale\":[[0.0,\"#0d0887\"],[0.1111111111111111,\"#46039f\"],[0.2222222222222222,\"#7201a8\"],[0.3333333333333333,\"#9c179e\"],[0.4444444444444444,\"#bd3786\"],[0.5555555555555556,\"#d8576b\"],[0.6666666666666666,\"#ed7953\"],[0.7777777777777778,\"#fb9f3a\"],[0.8888888888888888,\"#fdca26\"],[1.0,\"#f0f921\"]]}],\"heatmap\":[{\"type\":\"heatmap\",\"colorbar\":{\"outlinewidth\":0,\"ticks\":\"\"},\"colorscale\":[[0.0,\"#0d0887\"],[0.1111111111111111,\"#46039f\"],[0.2222222222222222,\"#7201a8\"],[0.3333333333333333,\"#9c179e\"],[0.4444444444444444,\"#bd3786\"],[0.5555555555555556,\"#d8576b\"],[0.6666666666666666,\"#ed7953\"],[0.7777777777777778,\"#fb9f3a\"],[0.8888888888888888,\"#fdca26\"],[1.0,\"#f0f921\"]]}],\"heatmapgl\":[{\"type\":\"heatmapgl\",\"colorbar\":{\"outlinewidth\":0,\"ticks\":\"\"},\"colorscale\":[[0.0,\"#0d0887\"],[0.1111111111111111,\"#46039f\"],[0.2222222222222222,\"#7201a8\"],[0.3333333333333333,\"#9c179e\"],[0.4444444444444444,\"#bd3786\"],[0.5555555555555556,\"#d8576b\"],[0.6666666666666666,\"#ed7953\"],[0.7777777777777778,\"#fb9f3a\"],[0.8888888888888888,\"#fdca26\"],[1.0,\"#f0f921\"]]}],\"contourcarpet\":[{\"type\":\"contourcarpet\",\"colorbar\":{\"outlinewidth\":0,\"ticks\":\"\"}}],\"contour\":[{\"type\":\"contour\",\"colorbar\":{\"outlinewidth\":0,\"ticks\":\"\"},\"colorscale\":[[0.0,\"#0d0887\"],[0.1111111111111111,\"#46039f\"],[0.2222222222222222,\"#7201a8\"],[0.3333333333333333,\"#9c179e\"],[0.4444444444444444,\"#bd3786\"],[0.5555555555555556,\"#d8576b\"],[0.6666666666666666,\"#ed7953\"],[0.7777777777777778,\"#fb9f3a\"],[0.8888888888888888,\"#fdca26\"],[1.0,\"#f0f921\"]]}],\"surface\":[{\"type\":\"surface\",\"colorbar\":{\"outlinewidth\":0,\"ticks\":\"\"},\"colorscale\":[[0.0,\"#0d0887\"],[0.1111111111111111,\"#46039f\"],[0.2222222222222222,\"#7201a8\"],[0.3333333333333333,\"#9c179e\"],[0.4444444444444444,\"#bd3786\"],[0.5555555555555556,\"#d8576b\"],[0.6666666666666666,\"#ed7953\"],[0.7777777777777778,\"#fb9f3a\"],[0.8888888888888888,\"#fdca26\"],[1.0,\"#f0f921\"]]}],\"mesh3d\":[{\"type\":\"mesh3d\",\"colorbar\":{\"outlinewidth\":0,\"ticks\":\"\"}}],\"scatter\":[{\"fillpattern\":{\"fillmode\":\"overlay\",\"size\":10,\"solidity\":0.2},\"type\":\"scatter\"}],\"parcoords\":[{\"type\":\"parcoords\",\"line\":{\"colorbar\":{\"outlinewidth\":0,\"ticks\":\"\"}}}],\"scatterpolargl\":[{\"type\":\"scatterpolargl\",\"marker\":{\"colorbar\":{\"outlinewidth\":0,\"ticks\":\"\"}}}],\"bar\":[{\"error_x\":{\"color\":\"#2a3f5f\"},\"error_y\":{\"color\":\"#2a3f5f\"},\"marker\":{\"line\":{\"color\":\"#E5ECF6\",\"width\":0.5},\"pattern\":{\"fillmode\":\"overlay\",\"size\":10,\"solidity\":0.2}},\"type\":\"bar\"}],\"scattergeo\":[{\"type\":\"scattergeo\",\"marker\":{\"colorbar\":{\"outlinewidth\":0,\"ticks\":\"\"}}}],\"scatterpolar\":[{\"type\":\"scatterpolar\",\"marker\":{\"colorbar\":{\"outlinewidth\":0,\"ticks\":\"\"}}}],\"histogram\":[{\"marker\":{\"pattern\":{\"fillmode\":\"overlay\",\"size\":10,\"solidity\":0.2}},\"type\":\"histogram\"}],\"scattergl\":[{\"type\":\"scattergl\",\"marker\":{\"colorbar\":{\"outlinewidth\":0,\"ticks\":\"\"}}}],\"scatter3d\":[{\"type\":\"scatter3d\",\"line\":{\"colorbar\":{\"outlinewidth\":0,\"ticks\":\"\"}},\"marker\":{\"colorbar\":{\"outlinewidth\":0,\"ticks\":\"\"}}}],\"scattermapbox\":[{\"type\":\"scattermapbox\",\"marker\":{\"colorbar\":{\"outlinewidth\":0,\"ticks\":\"\"}}}],\"scatterternary\":[{\"type\":\"scatterternary\",\"marker\":{\"colorbar\":{\"outlinewidth\":0,\"ticks\":\"\"}}}],\"scattercarpet\":[{\"type\":\"scattercarpet\",\"marker\":{\"colorbar\":{\"outlinewidth\":0,\"ticks\":\"\"}}}],\"carpet\":[{\"aaxis\":{\"endlinecolor\":\"#2a3f5f\",\"gridcolor\":\"white\",\"linecolor\":\"white\",\"minorgridcolor\":\"white\",\"startlinecolor\":\"#2a3f5f\"},\"baxis\":{\"endlinecolor\":\"#2a3f5f\",\"gridcolor\":\"white\",\"linecolor\":\"white\",\"minorgridcolor\":\"white\",\"startlinecolor\":\"#2a3f5f\"},\"type\":\"carpet\"}],\"table\":[{\"cells\":{\"fill\":{\"color\":\"#EBF0F8\"},\"line\":{\"color\":\"white\"}},\"header\":{\"fill\":{\"color\":\"#C8D4E3\"},\"line\":{\"color\":\"white\"}},\"type\":\"table\"}],\"barpolar\":[{\"marker\":{\"line\":{\"color\":\"#E5ECF6\",\"width\":0.5},\"pattern\":{\"fillmode\":\"overlay\",\"size\":10,\"solidity\":0.2}},\"type\":\"barpolar\"}],\"pie\":[{\"automargin\":true,\"type\":\"pie\"}]},\"layout\":{\"autotypenumbers\":\"strict\",\"colorway\":[\"#636efa\",\"#EF553B\",\"#00cc96\",\"#ab63fa\",\"#FFA15A\",\"#19d3f3\",\"#FF6692\",\"#B6E880\",\"#FF97FF\",\"#FECB52\"],\"font\":{\"color\":\"#2a3f5f\"},\"hovermode\":\"closest\",\"hoverlabel\":{\"align\":\"left\"},\"paper_bgcolor\":\"white\",\"plot_bgcolor\":\"#E5ECF6\",\"polar\":{\"bgcolor\":\"#E5ECF6\",\"angularaxis\":{\"gridcolor\":\"white\",\"linecolor\":\"white\",\"ticks\":\"\"},\"radialaxis\":{\"gridcolor\":\"white\",\"linecolor\":\"white\",\"ticks\":\"\"}},\"ternary\":{\"bgcolor\":\"#E5ECF6\",\"aaxis\":{\"gridcolor\":\"white\",\"linecolor\":\"white\",\"ticks\":\"\"},\"baxis\":{\"gridcolor\":\"white\",\"linecolor\":\"white\",\"ticks\":\"\"},\"caxis\":{\"gridcolor\":\"white\",\"linecolor\":\"white\",\"ticks\":\"\"}},\"coloraxis\":{\"colorbar\":{\"outlinewidth\":0,\"ticks\":\"\"}},\"colorscale\":{\"sequential\":[[0.0,\"#0d0887\"],[0.1111111111111111,\"#46039f\"],[0.2222222222222222,\"#7201a8\"],[0.3333333333333333,\"#9c179e\"],[0.4444444444444444,\"#bd3786\"],[0.5555555555555556,\"#d8576b\"],[0.6666666666666666,\"#ed7953\"],[0.7777777777777778,\"#fb9f3a\"],[0.8888888888888888,\"#fdca26\"],[1.0,\"#f0f921\"]],\"sequentialminus\":[[0.0,\"#0d0887\"],[0.1111111111111111,\"#46039f\"],[0.2222222222222222,\"#7201a8\"],[0.3333333333333333,\"#9c179e\"],[0.4444444444444444,\"#bd3786\"],[0.5555555555555556,\"#d8576b\"],[0.6666666666666666,\"#ed7953\"],[0.7777777777777778,\"#fb9f3a\"],[0.8888888888888888,\"#fdca26\"],[1.0,\"#f0f921\"]],\"diverging\":[[0,\"#8e0152\"],[0.1,\"#c51b7d\"],[0.2,\"#de77ae\"],[0.3,\"#f1b6da\"],[0.4,\"#fde0ef\"],[0.5,\"#f7f7f7\"],[0.6,\"#e6f5d0\"],[0.7,\"#b8e186\"],[0.8,\"#7fbc41\"],[0.9,\"#4d9221\"],[1,\"#276419\"]]},\"xaxis\":{\"gridcolor\":\"white\",\"linecolor\":\"white\",\"ticks\":\"\",\"title\":{\"standoff\":15},\"zerolinecolor\":\"white\",\"automargin\":true,\"zerolinewidth\":2},\"yaxis\":{\"gridcolor\":\"white\",\"linecolor\":\"white\",\"ticks\":\"\",\"title\":{\"standoff\":15},\"zerolinecolor\":\"white\",\"automargin\":true,\"zerolinewidth\":2},\"scene\":{\"xaxis\":{\"backgroundcolor\":\"#E5ECF6\",\"gridcolor\":\"white\",\"linecolor\":\"white\",\"showbackground\":true,\"ticks\":\"\",\"zerolinecolor\":\"white\",\"gridwidth\":2},\"yaxis\":{\"backgroundcolor\":\"#E5ECF6\",\"gridcolor\":\"white\",\"linecolor\":\"white\",\"showbackground\":true,\"ticks\":\"\",\"zerolinecolor\":\"white\",\"gridwidth\":2},\"zaxis\":{\"backgroundcolor\":\"#E5ECF6\",\"gridcolor\":\"white\",\"linecolor\":\"white\",\"showbackground\":true,\"ticks\":\"\",\"zerolinecolor\":\"white\",\"gridwidth\":2}},\"shapedefaults\":{\"line\":{\"color\":\"#2a3f5f\"}},\"annotationdefaults\":{\"arrowcolor\":\"#2a3f5f\",\"arrowhead\":0,\"arrowwidth\":1},\"geo\":{\"bgcolor\":\"white\",\"landcolor\":\"#E5ECF6\",\"subunitcolor\":\"white\",\"showland\":true,\"showlakes\":true,\"lakecolor\":\"white\"},\"title\":{\"x\":0.05},\"mapbox\":{\"style\":\"light\"}}},\"xaxis\":{\"anchor\":\"y\",\"domain\":[0.0,1.0],\"title\":{\"text\":\"Host\"},\"categoryorder\":\"total descending\"},\"yaxis\":{\"anchor\":\"x\",\"domain\":[0.0,1.0],\"title\":{\"text\":\"Count of listings\"}},\"legend\":{\"title\":{\"text\":\"property_type\"},\"tracegroupgap\":0},\"title\":{\"text\":\"Top 10 hosts based on the count of listsings they own, and their listing types\"},\"barmode\":\"stack\"},                        {\"responsive\": true}                    ).then(function(){\n",
       "                            \n",
       "var gd = document.getElementById('6301fcef-fd0c-41ca-9ddd-965c4c9d9cdf');\n",
       "var x = new MutationObserver(function (mutations, observer) {{\n",
       "        var display = window.getComputedStyle(gd).display;\n",
       "        if (!display || display === 'none') {{\n",
       "            console.log([gd, 'removed!']);\n",
       "            Plotly.purge(gd);\n",
       "            observer.disconnect();\n",
       "        }}\n",
       "}});\n",
       "\n",
       "// Listen for the removal of the full notebook cells\n",
       "var notebookContainer = gd.closest('#notebook-container');\n",
       "if (notebookContainer) {{\n",
       "    x.observe(notebookContainer, {childList: true});\n",
       "}}\n",
       "\n",
       "// Listen for the clearing of the current output cell\n",
       "var outputEl = gd.closest('.output');\n",
       "if (outputEl) {{\n",
       "    x.observe(outputEl, {childList: true});\n",
       "}}\n",
       "\n",
       "                        })                };                });            </script>        </div>"
      ]
     },
     "metadata": {},
     "output_type": "display_data"
    },
    {
     "data": {
      "image/svg+xml": [
       "<svg class=\"main-svg\" xmlns=\"http://www.w3.org/2000/svg\" xmlns:xlink=\"http://www.w3.org/1999/xlink\" width=\"700\" height=\"500\" style=\"\" viewBox=\"0 0 700 500\"><rect x=\"0\" y=\"0\" width=\"700\" height=\"500\" style=\"fill: rgb(255, 255, 255); fill-opacity: 1;\"/><defs id=\"defs-01a365\"><g class=\"clips\"><clipPath id=\"clip01a365xyplot\" class=\"plotclip\"><rect width=\"474\" height=\"320\"/></clipPath><clipPath class=\"axesclip\" id=\"clip01a365x\"><rect x=\"80\" y=\"0\" width=\"474\" height=\"500\"/></clipPath><clipPath class=\"axesclip\" id=\"clip01a365y\"><rect x=\"0\" y=\"100\" width=\"700\" height=\"320\"/></clipPath><clipPath class=\"axesclip\" id=\"clip01a365xy\"><rect x=\"80\" y=\"100\" width=\"474\" height=\"320\"/></clipPath></g><g class=\"gradients\"/><g class=\"patterns\"/></defs><g class=\"bglayer\"><rect class=\"bg\" x=\"80\" y=\"100\" width=\"474\" height=\"320\" style=\"fill: rgb(229, 236, 246); fill-opacity: 1; stroke-width: 0;\"/></g><g class=\"layer-below\"><g class=\"imagelayer\"/><g class=\"shapelayer\"/></g><g class=\"cartesianlayer\"><g class=\"subplot xy\"><g class=\"layer-subplot\"><g class=\"shapelayer\"/><g class=\"imagelayer\"/></g><g class=\"minor-gridlayer\"><g class=\"x\"/><g class=\"y\"/></g><g class=\"gridlayer\"><g class=\"x\"/><g class=\"y\"><path class=\"ygrid crisp\" transform=\"translate(0,378.92)\" d=\"M80,0h474\" style=\"stroke: rgb(255, 255, 255); stroke-opacity: 1; stroke-width: 1px;\"/><path class=\"ygrid crisp\" transform=\"translate(0,337.84000000000003)\" d=\"M80,0h474\" style=\"stroke: rgb(255, 255, 255); stroke-opacity: 1; stroke-width: 1px;\"/><path class=\"ygrid crisp\" transform=\"translate(0,296.76)\" d=\"M80,0h474\" style=\"stroke: rgb(255, 255, 255); stroke-opacity: 1; stroke-width: 1px;\"/><path class=\"ygrid crisp\" transform=\"translate(0,255.68)\" d=\"M80,0h474\" style=\"stroke: rgb(255, 255, 255); stroke-opacity: 1; stroke-width: 1px;\"/><path class=\"ygrid crisp\" transform=\"translate(0,214.59)\" d=\"M80,0h474\" style=\"stroke: rgb(255, 255, 255); stroke-opacity: 1; stroke-width: 1px;\"/><path class=\"ygrid crisp\" transform=\"translate(0,173.51)\" d=\"M80,0h474\" style=\"stroke: rgb(255, 255, 255); stroke-opacity: 1; stroke-width: 1px;\"/><path class=\"ygrid crisp\" transform=\"translate(0,132.43)\" d=\"M80,0h474\" style=\"stroke: rgb(255, 255, 255); stroke-opacity: 1; stroke-width: 1px;\"/></g></g><g class=\"zerolinelayer\"><path class=\"yzl zl crisp\" transform=\"translate(0,420)\" d=\"M80,0h474\" style=\"stroke: rgb(255, 255, 255); stroke-opacity: 1; stroke-width: 2px;\"/></g><path class=\"xlines-below\"/><path class=\"ylines-below\"/><g class=\"overlines-below\"/><g class=\"xaxislayer-below\"/><g class=\"yaxislayer-below\"/><g class=\"overaxes-below\"/><g class=\"plot\" transform=\"translate(80,100)\" clip-path=\"url(#clip01a365xyplot)\"><g class=\"barlayer mlayer\"><g class=\"trace bars\" shape-rendering=\"crispEdges\" style=\"opacity: 1;\"><g class=\"points\"><g class=\"point\"><path d=\"M4.74,320V16H42.66V320Z\" style=\"vector-effect: non-scaling-stroke; opacity: 1; stroke-width: 0.5px; fill: rgb(99, 110, 250); fill-opacity: 1; stroke: rgb(229, 236, 246); stroke-opacity: 1;\"/></g><g class=\"point\"><path d=\"M146.94,320V147.46H184.86V320Z\" style=\"vector-effect: non-scaling-stroke; opacity: 1; stroke-width: 0.5px; fill: rgb(99, 110, 250); fill-opacity: 1; stroke: rgb(229, 236, 246); stroke-opacity: 1;\"/></g><g class=\"point\"><path d=\"M383.94,320V303.57H421.86V320Z\" style=\"vector-effect: non-scaling-stroke; opacity: 1; stroke-width: 0.5px; fill: rgb(99, 110, 250); fill-opacity: 1; stroke: rgb(229, 236, 246); stroke-opacity: 1;\"/></g><g class=\"point\"><path d=\"M99.54,320V295.35H137.46V320Z\" style=\"vector-effect: non-scaling-stroke; opacity: 1; stroke-width: 0.5px; fill: rgb(99, 110, 250); fill-opacity: 1; stroke: rgb(229, 236, 246); stroke-opacity: 1;\"/></g><g class=\"point\"><path d=\"M52.14,320V229.62H90.06V320Z\" style=\"vector-effect: non-scaling-stroke; opacity: 1; stroke-width: 0.5px; fill: rgb(99, 110, 250); fill-opacity: 1; stroke: rgb(229, 236, 246); stroke-opacity: 1;\"/></g><g class=\"point\"><path d=\"M194.34,320V180.32H232.26V320Z\" style=\"vector-effect: non-scaling-stroke; opacity: 1; stroke-width: 0.5px; fill: rgb(99, 110, 250); fill-opacity: 1; stroke: rgb(229, 236, 246); stroke-opacity: 1;\"/></g><g class=\"point\"><path d=\"M431.34,320V311.78H469.26V320Z\" style=\"vector-effect: non-scaling-stroke; opacity: 1; stroke-width: 0.5px; fill: rgb(99, 110, 250); fill-opacity: 1; stroke: rgb(229, 236, 246); stroke-opacity: 1;\"/></g><g class=\"point\"><path d=\"M336.54,320V229.62H374.46V320Z\" style=\"vector-effect: non-scaling-stroke; opacity: 1; stroke-width: 0.5px; fill: rgb(99, 110, 250); fill-opacity: 1; stroke: rgb(229, 236, 246); stroke-opacity: 1;\"/></g></g></g><g class=\"trace bars\" shape-rendering=\"crispEdges\" style=\"opacity: 1;\"><g class=\"points\"><g class=\"point\"><path d=\"M289.14,320V229.62H327.06V320Z\" style=\"vector-effect: non-scaling-stroke; opacity: 1; stroke-width: 0.5px; fill: rgb(239, 85, 59); fill-opacity: 1; stroke: rgb(229, 236, 246); stroke-opacity: 1;\"/></g><g class=\"point\"><path d=\"M383.94,303.57V237.84H421.86V303.57Z\" style=\"vector-effect: non-scaling-stroke; opacity: 1; stroke-width: 0.5px; fill: rgb(239, 85, 59); fill-opacity: 1; stroke: rgb(229, 236, 246); stroke-opacity: 1;\"/></g><g class=\"point\"><path d=\"M99.54,295.35V48.86H137.46V295.35Z\" style=\"vector-effect: non-scaling-stroke; opacity: 1; stroke-width: 0.5px; fill: rgb(239, 85, 59); fill-opacity: 1; stroke: rgb(229, 236, 246); stroke-opacity: 1;\"/></g><g class=\"point\"><path d=\"M241.74,320V188.54H279.66V320Z\" style=\"vector-effect: non-scaling-stroke; opacity: 1; stroke-width: 0.5px; fill: rgb(239, 85, 59); fill-opacity: 1; stroke: rgb(229, 236, 246); stroke-opacity: 1;\"/></g><g class=\"point\"><path d=\"M52.14,229.62V24.22H90.06V229.62Z\" style=\"vector-effect: non-scaling-stroke; opacity: 1; stroke-width: 0.5px; fill: rgb(239, 85, 59); fill-opacity: 1; stroke: rgb(229, 236, 246); stroke-opacity: 1;\"/></g><g class=\"point\"><path d=\"M194.34,180.32V172.11H232.26V180.32Z\" style=\"vector-effect: non-scaling-stroke; opacity: 1; stroke-width: 0.5px; fill: rgb(239, 85, 59); fill-opacity: 1; stroke: rgb(229, 236, 246); stroke-opacity: 1;\"/></g></g></g><g class=\"trace bars\" shape-rendering=\"crispEdges\" style=\"opacity: 1;\"><g class=\"points\"><g class=\"point\"><path d=\"M289.14,229.62V221.41H327.06V229.62Z\" style=\"vector-effect: non-scaling-stroke; opacity: 1; stroke-width: 0.5px; fill: rgb(0, 204, 150); fill-opacity: 1; stroke: rgb(229, 236, 246); stroke-opacity: 1;\"/></g></g></g><g class=\"trace bars\" shape-rendering=\"crispEdges\" style=\"opacity: 1;\"><g class=\"points\"><g class=\"point\"><path d=\"M383.94,237.84V229.62H421.86V237.84Z\" style=\"vector-effect: non-scaling-stroke; opacity: 1; stroke-width: 0.5px; fill: rgb(171, 99, 250); fill-opacity: 1; stroke: rgb(229, 236, 246); stroke-opacity: 1;\"/></g><g class=\"point\"><path d=\"M99.54,48.86V40.65H137.46V48.86Z\" style=\"vector-effect: non-scaling-stroke; opacity: 1; stroke-width: 0.5px; fill: rgb(171, 99, 250); fill-opacity: 1; stroke: rgb(229, 236, 246); stroke-opacity: 1;\"/></g><g class=\"point\"><path d=\"M431.34,311.78V278.92H469.26V311.78Z\" style=\"vector-effect: non-scaling-stroke; opacity: 1; stroke-width: 0.5px; fill: rgb(171, 99, 250); fill-opacity: 1; stroke: rgb(229, 236, 246); stroke-opacity: 1;\"/></g></g></g><g class=\"trace bars\" shape-rendering=\"crispEdges\" style=\"opacity: 1;\"><g class=\"points\"><g class=\"point\"><path d=\"M431.34,278.92V237.84H469.26V278.92Z\" style=\"vector-effect: non-scaling-stroke; opacity: 1; stroke-width: 0.5px; fill: rgb(255, 161, 90); fill-opacity: 1; stroke: rgb(229, 236, 246); stroke-opacity: 1;\"/></g></g></g></g></g><g class=\"overplot\"/><path class=\"xlines-above crisp\" d=\"M0,0\" style=\"fill: none;\"/><path class=\"ylines-above crisp\" d=\"M0,0\" style=\"fill: none;\"/><g class=\"overlines-above\"/><g class=\"xaxislayer-above\"><g class=\"xtick\"><text text-anchor=\"start\" x=\"0\" y=\"433\" transform=\"translate(103.7,0) rotate(30,0,427)\" style=\"font-family: 'Open Sans', verdana, arial, sans-serif; font-size: 12px; fill: rgb(42, 63, 95); fill-opacity: 1; white-space: pre; opacity: 1;\">1243056</text></g><g class=\"xtick\"><text text-anchor=\"start\" x=\"0\" y=\"433\" transform=\"translate(151.1,0) rotate(30,0,427)\" style=\"font-family: 'Open Sans', verdana, arial, sans-serif; font-size: 12px; fill: rgb(42, 63, 95); fill-opacity: 1; white-space: pre; opacity: 1;\">430709</text></g><g class=\"xtick\"><text text-anchor=\"start\" x=\"0\" y=\"433\" transform=\"translate(198.5,0) rotate(30,0,427)\" style=\"font-family: 'Open Sans', verdana, arial, sans-serif; font-size: 12px; fill: rgb(42, 63, 95); fill-opacity: 1; white-space: pre; opacity: 1;\">3074414</text></g><g class=\"xtick\"><text text-anchor=\"start\" x=\"0\" y=\"433\" transform=\"translate(245.9,0) rotate(30,0,427)\" style=\"font-family: 'Open Sans', verdana, arial, sans-serif; font-size: 12px; fill: rgb(42, 63, 95); fill-opacity: 1; white-space: pre; opacity: 1;\">26967583</text></g><g class=\"xtick\"><text text-anchor=\"start\" x=\"0\" y=\"433\" transform=\"translate(293.3,0) rotate(30,0,427)\" style=\"font-family: 'Open Sans', verdana, arial, sans-serif; font-size: 12px; fill: rgb(42, 63, 95); fill-opacity: 1; white-space: pre; opacity: 1;\">7354306</text></g><g class=\"xtick\"><text text-anchor=\"start\" x=\"0\" y=\"433\" transform=\"translate(340.7,0) rotate(30,0,427)\" style=\"font-family: 'Open Sans', verdana, arial, sans-serif; font-size: 12px; fill: rgb(42, 63, 95); fill-opacity: 1; white-space: pre; opacity: 1;\">42537846</text></g><g class=\"xtick\"><text text-anchor=\"start\" x=\"0\" y=\"433\" transform=\"translate(388.1,0) rotate(30,0,427)\" style=\"font-family: 'Open Sans', verdana, arial, sans-serif; font-size: 12px; fill: rgb(42, 63, 95); fill-opacity: 1; white-space: pre; opacity: 1;\">1623580</text></g><g class=\"xtick\"><text text-anchor=\"start\" x=\"0\" y=\"433\" transform=\"translate(435.5,0) rotate(30,0,427)\" style=\"font-family: 'Open Sans', verdana, arial, sans-serif; font-size: 12px; fill: rgb(42, 63, 95); fill-opacity: 1; white-space: pre; opacity: 1;\">862329</text></g><g class=\"xtick\"><text text-anchor=\"start\" x=\"0\" y=\"433\" transform=\"translate(482.9,0) rotate(30,0,427)\" style=\"font-family: 'Open Sans', verdana, arial, sans-serif; font-size: 12px; fill: rgb(42, 63, 95); fill-opacity: 1; white-space: pre; opacity: 1;\">2911360</text></g><g class=\"xtick\"><text text-anchor=\"start\" x=\"0\" y=\"433\" transform=\"translate(530.3,0) rotate(30,0,427)\" style=\"font-family: 'Open Sans', verdana, arial, sans-serif; font-size: 12px; fill: rgb(42, 63, 95); fill-opacity: 1; white-space: pre; opacity: 1;\">754810</text></g></g><g class=\"yaxislayer-above\"><g class=\"ytick\"><text text-anchor=\"end\" x=\"79\" y=\"4.199999999999999\" transform=\"translate(0,420)\" style=\"font-family: 'Open Sans', verdana, arial, sans-serif; font-size: 12px; fill: rgb(42, 63, 95); fill-opacity: 1; white-space: pre; opacity: 1;\">0</text></g><g class=\"ytick\"><text text-anchor=\"end\" x=\"79\" y=\"4.199999999999999\" style=\"font-family: 'Open Sans', verdana, arial, sans-serif; font-size: 12px; fill: rgb(42, 63, 95); fill-opacity: 1; white-space: pre; opacity: 1;\" transform=\"translate(0,378.92)\">5</text></g><g class=\"ytick\"><text text-anchor=\"end\" x=\"79\" y=\"4.199999999999999\" style=\"font-family: 'Open Sans', verdana, arial, sans-serif; font-size: 12px; fill: rgb(42, 63, 95); fill-opacity: 1; white-space: pre; opacity: 1;\" transform=\"translate(0,337.84000000000003)\">10</text></g><g class=\"ytick\"><text text-anchor=\"end\" x=\"79\" y=\"4.199999999999999\" style=\"font-family: 'Open Sans', verdana, arial, sans-serif; font-size: 12px; fill: rgb(42, 63, 95); fill-opacity: 1; white-space: pre; opacity: 1;\" transform=\"translate(0,296.76)\">15</text></g><g class=\"ytick\"><text text-anchor=\"end\" x=\"79\" y=\"4.199999999999999\" style=\"font-family: 'Open Sans', verdana, arial, sans-serif; font-size: 12px; fill: rgb(42, 63, 95); fill-opacity: 1; white-space: pre; opacity: 1;\" transform=\"translate(0,255.68)\">20</text></g><g class=\"ytick\"><text text-anchor=\"end\" x=\"79\" y=\"4.199999999999999\" style=\"font-family: 'Open Sans', verdana, arial, sans-serif; font-size: 12px; fill: rgb(42, 63, 95); fill-opacity: 1; white-space: pre; opacity: 1;\" transform=\"translate(0,214.59)\">25</text></g><g class=\"ytick\"><text text-anchor=\"end\" x=\"79\" y=\"4.199999999999999\" style=\"font-family: 'Open Sans', verdana, arial, sans-serif; font-size: 12px; fill: rgb(42, 63, 95); fill-opacity: 1; white-space: pre; opacity: 1;\" transform=\"translate(0,173.51)\">30</text></g><g class=\"ytick\"><text text-anchor=\"end\" x=\"79\" y=\"4.199999999999999\" style=\"font-family: 'Open Sans', verdana, arial, sans-serif; font-size: 12px; fill: rgb(42, 63, 95); fill-opacity: 1; white-space: pre; opacity: 1;\" transform=\"translate(0,132.43)\">35</text></g></g><g class=\"overaxes-above\"/></g></g><g class=\"polarlayer\"/><g class=\"smithlayer\"/><g class=\"ternarylayer\"/><g class=\"geolayer\"/><g class=\"funnelarealayer\"/><g class=\"pielayer\"/><g class=\"iciclelayer\"/><g class=\"treemaplayer\"/><g class=\"sunburstlayer\"/><g class=\"glimages\"/><defs id=\"topdefs-01a365\"><g class=\"clips\"/><clipPath id=\"legend01a365\"><rect width=\"125\" height=\"124\" x=\"0\" y=\"0\"/></clipPath></defs><g class=\"layer-above\"><g class=\"imagelayer\"/><g class=\"shapelayer\"/></g><g class=\"infolayer\"><g class=\"legend\" pointer-events=\"all\" transform=\"translate(563.48,100)\"><rect class=\"bg\" shape-rendering=\"crispEdges\" style=\"stroke: rgb(68, 68, 68); stroke-opacity: 1; fill: rgb(255, 255, 255); fill-opacity: 1; stroke-width: 0px;\" width=\"125\" height=\"124\" x=\"0\" y=\"0\"/><g class=\"scrollbox\" transform=\"\" clip-path=\"url(#legend01a365)\"><text class=\"legendtitletext\" text-anchor=\"start\" x=\"2\" y=\"18.2\" style=\"font-family: 'Open Sans', verdana, arial, sans-serif; font-size: 14px; fill: rgb(42, 63, 95); fill-opacity: 1; white-space: pre;\">property_type</text><g class=\"groups\" transform=\"\"><g class=\"traces\" transform=\"translate(0,32.7)\" style=\"opacity: 1;\"><text class=\"legendtext\" text-anchor=\"start\" x=\"40\" y=\"4.680000000000001\" style=\"font-family: 'Open Sans', verdana, arial, sans-serif; font-size: 12px; fill: rgb(42, 63, 95); fill-opacity: 1; white-space: pre;\">House</text><g class=\"layers\" style=\"opacity: 1;\"><g class=\"legendfill\"/><g class=\"legendlines\"/><g class=\"legendsymbols\"><g class=\"legendpoints\"><path class=\"legendundefined\" d=\"M6,6H-6V-6H6Z\" transform=\"translate(20,0)\" style=\"stroke-width: 0.5px; fill: rgb(99, 110, 250); fill-opacity: 1; stroke: rgb(229, 236, 246); stroke-opacity: 1;\"/></g></g></g><rect class=\"legendtoggle\" x=\"0\" y=\"-9.5\" width=\"119.921875\" height=\"19\" style=\"fill: rgb(0, 0, 0); fill-opacity: 0;\"/></g></g><g class=\"groups\" transform=\"\"><g class=\"traces\" transform=\"translate(0,51.7)\" style=\"opacity: 1;\"><text class=\"legendtext\" text-anchor=\"start\" x=\"40\" y=\"4.680000000000001\" style=\"font-family: 'Open Sans', verdana, arial, sans-serif; font-size: 12px; fill: rgb(42, 63, 95); fill-opacity: 1; white-space: pre;\">Apartment</text><g class=\"layers\" style=\"opacity: 1;\"><g class=\"legendfill\"/><g class=\"legendlines\"/><g class=\"legendsymbols\"><g class=\"legendpoints\"><path class=\"legendundefined\" d=\"M6,6H-6V-6H6Z\" transform=\"translate(20,0)\" style=\"stroke-width: 0.5px; fill: rgb(239, 85, 59); fill-opacity: 1; stroke: rgb(229, 236, 246); stroke-opacity: 1;\"/></g></g></g><rect class=\"legendtoggle\" x=\"0\" y=\"-9.5\" width=\"119.921875\" height=\"19\" style=\"fill: rgb(0, 0, 0); fill-opacity: 0;\"/></g></g><g class=\"groups\" transform=\"\"><g class=\"traces\" transform=\"translate(0,70.7)\" style=\"opacity: 1;\"><text class=\"legendtext\" text-anchor=\"start\" x=\"40\" y=\"4.680000000000001\" style=\"font-family: 'Open Sans', verdana, arial, sans-serif; font-size: 12px; fill: rgb(42, 63, 95); fill-opacity: 1; white-space: pre;\">Loft</text><g class=\"layers\" style=\"opacity: 1;\"><g class=\"legendfill\"/><g class=\"legendlines\"/><g class=\"legendsymbols\"><g class=\"legendpoints\"><path class=\"legendundefined\" d=\"M6,6H-6V-6H6Z\" transform=\"translate(20,0)\" style=\"stroke-width: 0.5px; fill: rgb(0, 204, 150); fill-opacity: 1; stroke: rgb(229, 236, 246); stroke-opacity: 1;\"/></g></g></g><rect class=\"legendtoggle\" x=\"0\" y=\"-9.5\" width=\"119.921875\" height=\"19\" style=\"fill: rgb(0, 0, 0); fill-opacity: 0;\"/></g></g><g class=\"groups\" transform=\"\"><g class=\"traces\" transform=\"translate(0,89.7)\" style=\"opacity: 1;\"><text class=\"legendtext\" text-anchor=\"start\" x=\"40\" y=\"4.680000000000001\" style=\"font-family: 'Open Sans', verdana, arial, sans-serif; font-size: 12px; fill: rgb(42, 63, 95); fill-opacity: 1; white-space: pre;\">Condominium</text><g class=\"layers\" style=\"opacity: 1;\"><g class=\"legendfill\"/><g class=\"legendlines\"/><g class=\"legendsymbols\"><g class=\"legendpoints\"><path class=\"legendundefined\" d=\"M6,6H-6V-6H6Z\" transform=\"translate(20,0)\" style=\"stroke-width: 0.5px; fill: rgb(171, 99, 250); fill-opacity: 1; stroke: rgb(229, 236, 246); stroke-opacity: 1;\"/></g></g></g><rect class=\"legendtoggle\" x=\"0\" y=\"-9.5\" width=\"119.921875\" height=\"19\" style=\"fill: rgb(0, 0, 0); fill-opacity: 0;\"/></g></g><g class=\"groups\" transform=\"\"><g class=\"traces\" transform=\"translate(0,108.7)\" style=\"opacity: 1;\"><text class=\"legendtext\" text-anchor=\"start\" x=\"40\" y=\"4.680000000000001\" style=\"font-family: 'Open Sans', verdana, arial, sans-serif; font-size: 12px; fill: rgb(42, 63, 95); fill-opacity: 1; white-space: pre;\">Townhouse</text><g class=\"layers\" style=\"opacity: 1;\"><g class=\"legendfill\"/><g class=\"legendlines\"/><g class=\"legendsymbols\"><g class=\"legendpoints\"><path class=\"legendundefined\" d=\"M6,6H-6V-6H6Z\" transform=\"translate(20,0)\" style=\"stroke-width: 0.5px; fill: rgb(255, 161, 90); fill-opacity: 1; stroke: rgb(229, 236, 246); stroke-opacity: 1;\"/></g></g></g><rect class=\"legendtoggle\" x=\"0\" y=\"-9.5\" width=\"119.921875\" height=\"19\" style=\"fill: rgb(0, 0, 0); fill-opacity: 0;\"/></g></g></g><rect class=\"scrollbar\" rx=\"20\" ry=\"3\" width=\"0\" height=\"0\" style=\"fill: rgb(128, 139, 164); fill-opacity: 1;\" x=\"0\" y=\"0\"/></g><g class=\"g-gtitle\"><text class=\"gtitle\" x=\"35\" y=\"50\" text-anchor=\"start\" dy=\"0em\" style=\"font-family: 'Open Sans', verdana, arial, sans-serif; font-size: 17px; fill: rgb(42, 63, 95); opacity: 1; font-weight: normal; white-space: pre;\">Top 10 hosts based on the count of listsings they own, and their listing types</text></g><g class=\"g-xtitle\"><text class=\"xtitle\" x=\"317\" y=\"487.97578125\" text-anchor=\"middle\" style=\"font-family: 'Open Sans', verdana, arial, sans-serif; font-size: 14px; fill: rgb(42, 63, 95); opacity: 1; font-weight: normal; white-space: pre;\">Host</text></g><g class=\"g-ytitle\"><text class=\"ytitle\" transform=\"rotate(-90,40.465625,260)\" x=\"40.465625\" y=\"260\" text-anchor=\"middle\" style=\"font-family: 'Open Sans', verdana, arial, sans-serif; font-size: 14px; fill: rgb(42, 63, 95); opacity: 1; font-weight: normal; white-space: pre;\">Count of listings</text></g></g></svg>"
      ]
     },
     "metadata": {},
     "output_type": "display_data"
    }
   ],
   "source": [
    "fig = px.bar(ans3_b, x = ans3_b[\"Host\"], y = ans3_b[\"id\"], color= ans3_b[\"property_type\"],\n",
    "             title = \"Top 10 hosts based on the count of listsings they own, and their listing types\",\n",
    "             labels={\"id\": \"Count of listings\"},)\n",
    "fig.update_layout(barmode='stack', xaxis={'categoryorder':'total descending'})\n",
    "fig.show()\n",
    "fig.show('svg')"
   ]
  },
  {
   "cell_type": "markdown",
   "id": "37ead239",
   "metadata": {},
   "source": [
    "#### Insight"
   ]
  },
  {
   "cell_type": "markdown",
   "id": "7a3298b1",
   "metadata": {},
   "source": [
    "- Top 10 Hosts own between 1 to 3 types of listings."
   ]
  }
 ],
 "metadata": {
  "kernelspec": {
   "display_name": "Python 3",
   "language": "python",
   "name": "python3"
  },
  "language_info": {
   "codemirror_mode": {
    "name": "ipython",
    "version": 3
   },
   "file_extension": ".py",
   "mimetype": "text/x-python",
   "name": "python",
   "nbconvert_exporter": "python",
   "pygments_lexer": "ipython3",
   "version": "3.8.15"
  }
 },
 "nbformat": 4,
 "nbformat_minor": 5
}
